{
  "nbformat": 4,
  "nbformat_minor": 0,
  "metadata": {
    "colab": {
      "provenance": [],
      "authorship_tag": "ABX9TyN/hs0rw6Ez9IhJuaVE1cgX",
      "include_colab_link": true
    },
    "kernelspec": {
      "name": "python3",
      "display_name": "Python 3"
    },
    "language_info": {
      "name": "python"
    }
  },
  "cells": [
    {
      "cell_type": "markdown",
      "metadata": {
        "id": "view-in-github",
        "colab_type": "text"
      },
      "source": [
        "<a href=\"https://colab.research.google.com/github/MuhammadAshiqAmeer/Federated_learning_experiments_with_Intel-openfl/blob/colab/neuroblastoma.ipynb\" target=\"_parent\"><img src=\"https://colab.research.google.com/assets/colab-badge.svg\" alt=\"Open In Colab\"/></a>"
      ]
    },
    {
      "cell_type": "code",
      "execution_count": 1,
      "metadata": {
        "colab": {
          "base_uri": "https://localhost:8080/"
        },
        "id": "NvpbasCgY05K",
        "outputId": "80ba2c25-0ed1-4a4b-f8c0-347d90f8232a"
      },
      "outputs": [
        {
          "output_type": "stream",
          "name": "stdout",
          "text": [
            "Drive already mounted at /content/drive; to attempt to forcibly remount, call drive.mount(\"/content/drive\", force_remount=True).\n"
          ]
        }
      ],
      "source": [
        "from google.colab import drive\n",
        "drive.mount('/content/drive')"
      ]
    },
    {
      "cell_type": "code",
      "source": [
        "cd /content/drive/MyDrive/federated"
      ],
      "metadata": {
        "colab": {
          "base_uri": "https://localhost:8080/"
        },
        "id": "8-LGguvKZY6G",
        "outputId": "8bc407e5-f0db-4149-b857-c5b0e2e2b0bf"
      },
      "execution_count": 2,
      "outputs": [
        {
          "output_type": "stream",
          "name": "stdout",
          "text": [
            "/content/drive/MyDrive/federated\n"
          ]
        }
      ]
    },
    {
      "cell_type": "code",
      "source": [
        "!ls"
      ],
      "metadata": {
        "colab": {
          "base_uri": "https://localhost:8080/"
        },
        "id": "FHRusAh-bNGV",
        "outputId": "d77f9b27-297b-4693-bad8-d0f1eb824b98"
      },
      "execution_count": 3,
      "outputs": [
        {
          "output_type": "stream",
          "name": "stdout",
          "text": [
            "'Federated lemon-melon CNN classifier'\t neuroblastoma.xlsx\n"
          ]
        }
      ]
    },
    {
      "cell_type": "code",
      "source": [
        "import pandas as pd\n",
        "\n",
        "df = pd.read_excel(\"neuroblastoma.xlsx\")"
      ],
      "metadata": {
        "id": "PR3i3gCzam1y"
      },
      "execution_count": 4,
      "outputs": []
    },
    {
      "cell_type": "code",
      "source": [
        "df"
      ],
      "metadata": {
        "colab": {
          "base_uri": "https://localhost:8080/",
          "height": 468
        },
        "id": "zCov07bqcRYq",
        "outputId": "985efa5d-3cd2-4067-a4c9-7c6cf434533d"
      },
      "execution_count": 5,
      "outputs": [
        {
          "output_type": "execute_result",
          "data": {
            "text/plain": [
              "           TARGET USI  Gender  Age at Diagnosis in Days  \\\n",
              "0    TARGET-30-PARPUF    Male                        96   \n",
              "1    TARGET-30-PARSVF    Male                       964   \n",
              "2    TARGET-30-PARSXI  Female                       538   \n",
              "3    TARGET-30-PARSZV    Male                       287   \n",
              "4    TARGET-30-PARTCE    Male                        67   \n",
              "..                ...     ...                       ...   \n",
              "733  TARGET-30-PATILE    Male                       824   \n",
              "734  TARGET-30-PATINJ    Male                      1037   \n",
              "735  TARGET-30-PATNKP    Male                      3446   \n",
              "736  TARGET-30-PATYIL  Female                       328   \n",
              "737  TARGET-30-PAUDDK    Male                       361   \n",
              "\n",
              "     Event Free Survival Time in Days Vital Status  \\\n",
              "0                                3701        Alive   \n",
              "1                                 997         Dead   \n",
              "2                                3928        Alive   \n",
              "3                                2675        Alive   \n",
              "4                                3625        Alive   \n",
              "..                                ...          ...   \n",
              "733                               306         Dead   \n",
              "734                               736         Dead   \n",
              "735                               616         Dead   \n",
              "736                               239         Dead   \n",
              "737                               344        Alive   \n",
              "\n",
              "     Overall Survival Time in Days INSS Stage    MYCN status  Ploidy Value  \\\n",
              "0                             3701    Stage 4  Not Amplified          1.48   \n",
              "1                             1516    Stage 4  Not Amplified          1.00   \n",
              "2                             3928    Stage 4  Not Amplified          1.99   \n",
              "3                             3995   Stage 2a  Not Amplified          1.58   \n",
              "4                             3625    Stage 1  Not Amplified          2.13   \n",
              "..                             ...        ...            ...           ...   \n",
              "733                            306    Stage 4  Not Amplified          1.00   \n",
              "734                            822    Stage 4  Not Amplified          1.00   \n",
              "735                           1549    Stage 4  Not Amplified          1.47   \n",
              "736                            481    Stage 4  Not Amplified          1.00   \n",
              "737                           2569    Stage 3  Not Amplified          1.33   \n",
              "\n",
              "       Histology           MKI     COG Risk Group  \n",
              "0      Favorable           Low  Intermediate Risk  \n",
              "1    Unfavorable          High          High Risk  \n",
              "2      Favorable           Low  Intermediate Risk  \n",
              "3      Favorable           Low           Low Risk  \n",
              "4      Favorable           Low           Low Risk  \n",
              "..           ...           ...                ...  \n",
              "733  Unfavorable  Intermediate          High Risk  \n",
              "734  Unfavorable  Intermediate          High Risk  \n",
              "735  Unfavorable  Intermediate          High Risk  \n",
              "736    Favorable  Intermediate  Intermediate Risk  \n",
              "737    Favorable           Low  Intermediate Risk  \n",
              "\n",
              "[738 rows x 12 columns]"
            ],
            "text/html": [
              "\n",
              "  <div id=\"df-bd7456b4-8790-4e8b-9ac5-ce10013a89eb\">\n",
              "    <div class=\"colab-df-container\">\n",
              "      <div>\n",
              "<style scoped>\n",
              "    .dataframe tbody tr th:only-of-type {\n",
              "        vertical-align: middle;\n",
              "    }\n",
              "\n",
              "    .dataframe tbody tr th {\n",
              "        vertical-align: top;\n",
              "    }\n",
              "\n",
              "    .dataframe thead th {\n",
              "        text-align: right;\n",
              "    }\n",
              "</style>\n",
              "<table border=\"1\" class=\"dataframe\">\n",
              "  <thead>\n",
              "    <tr style=\"text-align: right;\">\n",
              "      <th></th>\n",
              "      <th>TARGET USI</th>\n",
              "      <th>Gender</th>\n",
              "      <th>Age at Diagnosis in Days</th>\n",
              "      <th>Event Free Survival Time in Days</th>\n",
              "      <th>Vital Status</th>\n",
              "      <th>Overall Survival Time in Days</th>\n",
              "      <th>INSS Stage</th>\n",
              "      <th>MYCN status</th>\n",
              "      <th>Ploidy Value</th>\n",
              "      <th>Histology</th>\n",
              "      <th>MKI</th>\n",
              "      <th>COG Risk Group</th>\n",
              "    </tr>\n",
              "  </thead>\n",
              "  <tbody>\n",
              "    <tr>\n",
              "      <th>0</th>\n",
              "      <td>TARGET-30-PARPUF</td>\n",
              "      <td>Male</td>\n",
              "      <td>96</td>\n",
              "      <td>3701</td>\n",
              "      <td>Alive</td>\n",
              "      <td>3701</td>\n",
              "      <td>Stage 4</td>\n",
              "      <td>Not Amplified</td>\n",
              "      <td>1.48</td>\n",
              "      <td>Favorable</td>\n",
              "      <td>Low</td>\n",
              "      <td>Intermediate Risk</td>\n",
              "    </tr>\n",
              "    <tr>\n",
              "      <th>1</th>\n",
              "      <td>TARGET-30-PARSVF</td>\n",
              "      <td>Male</td>\n",
              "      <td>964</td>\n",
              "      <td>997</td>\n",
              "      <td>Dead</td>\n",
              "      <td>1516</td>\n",
              "      <td>Stage 4</td>\n",
              "      <td>Not Amplified</td>\n",
              "      <td>1.00</td>\n",
              "      <td>Unfavorable</td>\n",
              "      <td>High</td>\n",
              "      <td>High Risk</td>\n",
              "    </tr>\n",
              "    <tr>\n",
              "      <th>2</th>\n",
              "      <td>TARGET-30-PARSXI</td>\n",
              "      <td>Female</td>\n",
              "      <td>538</td>\n",
              "      <td>3928</td>\n",
              "      <td>Alive</td>\n",
              "      <td>3928</td>\n",
              "      <td>Stage 4</td>\n",
              "      <td>Not Amplified</td>\n",
              "      <td>1.99</td>\n",
              "      <td>Favorable</td>\n",
              "      <td>Low</td>\n",
              "      <td>Intermediate Risk</td>\n",
              "    </tr>\n",
              "    <tr>\n",
              "      <th>3</th>\n",
              "      <td>TARGET-30-PARSZV</td>\n",
              "      <td>Male</td>\n",
              "      <td>287</td>\n",
              "      <td>2675</td>\n",
              "      <td>Alive</td>\n",
              "      <td>3995</td>\n",
              "      <td>Stage 2a</td>\n",
              "      <td>Not Amplified</td>\n",
              "      <td>1.58</td>\n",
              "      <td>Favorable</td>\n",
              "      <td>Low</td>\n",
              "      <td>Low Risk</td>\n",
              "    </tr>\n",
              "    <tr>\n",
              "      <th>4</th>\n",
              "      <td>TARGET-30-PARTCE</td>\n",
              "      <td>Male</td>\n",
              "      <td>67</td>\n",
              "      <td>3625</td>\n",
              "      <td>Alive</td>\n",
              "      <td>3625</td>\n",
              "      <td>Stage 1</td>\n",
              "      <td>Not Amplified</td>\n",
              "      <td>2.13</td>\n",
              "      <td>Favorable</td>\n",
              "      <td>Low</td>\n",
              "      <td>Low Risk</td>\n",
              "    </tr>\n",
              "    <tr>\n",
              "      <th>...</th>\n",
              "      <td>...</td>\n",
              "      <td>...</td>\n",
              "      <td>...</td>\n",
              "      <td>...</td>\n",
              "      <td>...</td>\n",
              "      <td>...</td>\n",
              "      <td>...</td>\n",
              "      <td>...</td>\n",
              "      <td>...</td>\n",
              "      <td>...</td>\n",
              "      <td>...</td>\n",
              "      <td>...</td>\n",
              "    </tr>\n",
              "    <tr>\n",
              "      <th>733</th>\n",
              "      <td>TARGET-30-PATILE</td>\n",
              "      <td>Male</td>\n",
              "      <td>824</td>\n",
              "      <td>306</td>\n",
              "      <td>Dead</td>\n",
              "      <td>306</td>\n",
              "      <td>Stage 4</td>\n",
              "      <td>Not Amplified</td>\n",
              "      <td>1.00</td>\n",
              "      <td>Unfavorable</td>\n",
              "      <td>Intermediate</td>\n",
              "      <td>High Risk</td>\n",
              "    </tr>\n",
              "    <tr>\n",
              "      <th>734</th>\n",
              "      <td>TARGET-30-PATINJ</td>\n",
              "      <td>Male</td>\n",
              "      <td>1037</td>\n",
              "      <td>736</td>\n",
              "      <td>Dead</td>\n",
              "      <td>822</td>\n",
              "      <td>Stage 4</td>\n",
              "      <td>Not Amplified</td>\n",
              "      <td>1.00</td>\n",
              "      <td>Unfavorable</td>\n",
              "      <td>Intermediate</td>\n",
              "      <td>High Risk</td>\n",
              "    </tr>\n",
              "    <tr>\n",
              "      <th>735</th>\n",
              "      <td>TARGET-30-PATNKP</td>\n",
              "      <td>Male</td>\n",
              "      <td>3446</td>\n",
              "      <td>616</td>\n",
              "      <td>Dead</td>\n",
              "      <td>1549</td>\n",
              "      <td>Stage 4</td>\n",
              "      <td>Not Amplified</td>\n",
              "      <td>1.47</td>\n",
              "      <td>Unfavorable</td>\n",
              "      <td>Intermediate</td>\n",
              "      <td>High Risk</td>\n",
              "    </tr>\n",
              "    <tr>\n",
              "      <th>736</th>\n",
              "      <td>TARGET-30-PATYIL</td>\n",
              "      <td>Female</td>\n",
              "      <td>328</td>\n",
              "      <td>239</td>\n",
              "      <td>Dead</td>\n",
              "      <td>481</td>\n",
              "      <td>Stage 4</td>\n",
              "      <td>Not Amplified</td>\n",
              "      <td>1.00</td>\n",
              "      <td>Favorable</td>\n",
              "      <td>Intermediate</td>\n",
              "      <td>Intermediate Risk</td>\n",
              "    </tr>\n",
              "    <tr>\n",
              "      <th>737</th>\n",
              "      <td>TARGET-30-PAUDDK</td>\n",
              "      <td>Male</td>\n",
              "      <td>361</td>\n",
              "      <td>344</td>\n",
              "      <td>Alive</td>\n",
              "      <td>2569</td>\n",
              "      <td>Stage 3</td>\n",
              "      <td>Not Amplified</td>\n",
              "      <td>1.33</td>\n",
              "      <td>Favorable</td>\n",
              "      <td>Low</td>\n",
              "      <td>Intermediate Risk</td>\n",
              "    </tr>\n",
              "  </tbody>\n",
              "</table>\n",
              "<p>738 rows × 12 columns</p>\n",
              "</div>\n",
              "      <button class=\"colab-df-convert\" onclick=\"convertToInteractive('df-bd7456b4-8790-4e8b-9ac5-ce10013a89eb')\"\n",
              "              title=\"Convert this dataframe to an interactive table.\"\n",
              "              style=\"display:none;\">\n",
              "        \n",
              "  <svg xmlns=\"http://www.w3.org/2000/svg\" height=\"24px\"viewBox=\"0 0 24 24\"\n",
              "       width=\"24px\">\n",
              "    <path d=\"M0 0h24v24H0V0z\" fill=\"none\"/>\n",
              "    <path d=\"M18.56 5.44l.94 2.06.94-2.06 2.06-.94-2.06-.94-.94-2.06-.94 2.06-2.06.94zm-11 1L8.5 8.5l.94-2.06 2.06-.94-2.06-.94L8.5 2.5l-.94 2.06-2.06.94zm10 10l.94 2.06.94-2.06 2.06-.94-2.06-.94-.94-2.06-.94 2.06-2.06.94z\"/><path d=\"M17.41 7.96l-1.37-1.37c-.4-.4-.92-.59-1.43-.59-.52 0-1.04.2-1.43.59L10.3 9.45l-7.72 7.72c-.78.78-.78 2.05 0 2.83L4 21.41c.39.39.9.59 1.41.59.51 0 1.02-.2 1.41-.59l7.78-7.78 2.81-2.81c.8-.78.8-2.07 0-2.86zM5.41 20L4 18.59l7.72-7.72 1.47 1.35L5.41 20z\"/>\n",
              "  </svg>\n",
              "      </button>\n",
              "      \n",
              "  <style>\n",
              "    .colab-df-container {\n",
              "      display:flex;\n",
              "      flex-wrap:wrap;\n",
              "      gap: 12px;\n",
              "    }\n",
              "\n",
              "    .colab-df-convert {\n",
              "      background-color: #E8F0FE;\n",
              "      border: none;\n",
              "      border-radius: 50%;\n",
              "      cursor: pointer;\n",
              "      display: none;\n",
              "      fill: #1967D2;\n",
              "      height: 32px;\n",
              "      padding: 0 0 0 0;\n",
              "      width: 32px;\n",
              "    }\n",
              "\n",
              "    .colab-df-convert:hover {\n",
              "      background-color: #E2EBFA;\n",
              "      box-shadow: 0px 1px 2px rgba(60, 64, 67, 0.3), 0px 1px 3px 1px rgba(60, 64, 67, 0.15);\n",
              "      fill: #174EA6;\n",
              "    }\n",
              "\n",
              "    [theme=dark] .colab-df-convert {\n",
              "      background-color: #3B4455;\n",
              "      fill: #D2E3FC;\n",
              "    }\n",
              "\n",
              "    [theme=dark] .colab-df-convert:hover {\n",
              "      background-color: #434B5C;\n",
              "      box-shadow: 0px 1px 3px 1px rgba(0, 0, 0, 0.15);\n",
              "      filter: drop-shadow(0px 1px 2px rgba(0, 0, 0, 0.3));\n",
              "      fill: #FFFFFF;\n",
              "    }\n",
              "  </style>\n",
              "\n",
              "      <script>\n",
              "        const buttonEl =\n",
              "          document.querySelector('#df-bd7456b4-8790-4e8b-9ac5-ce10013a89eb button.colab-df-convert');\n",
              "        buttonEl.style.display =\n",
              "          google.colab.kernel.accessAllowed ? 'block' : 'none';\n",
              "\n",
              "        async function convertToInteractive(key) {\n",
              "          const element = document.querySelector('#df-bd7456b4-8790-4e8b-9ac5-ce10013a89eb');\n",
              "          const dataTable =\n",
              "            await google.colab.kernel.invokeFunction('convertToInteractive',\n",
              "                                                     [key], {});\n",
              "          if (!dataTable) return;\n",
              "\n",
              "          const docLinkHtml = 'Like what you see? Visit the ' +\n",
              "            '<a target=\"_blank\" href=https://colab.research.google.com/notebooks/data_table.ipynb>data table notebook</a>'\n",
              "            + ' to learn more about interactive tables.';\n",
              "          element.innerHTML = '';\n",
              "          dataTable['output_type'] = 'display_data';\n",
              "          await google.colab.output.renderOutput(dataTable, element);\n",
              "          const docLink = document.createElement('div');\n",
              "          docLink.innerHTML = docLinkHtml;\n",
              "          element.appendChild(docLink);\n",
              "        }\n",
              "      </script>\n",
              "    </div>\n",
              "  </div>\n",
              "  "
            ]
          },
          "metadata": {},
          "execution_count": 5
        }
      ]
    },
    {
      "cell_type": "code",
      "source": [
        "df.describe()"
      ],
      "metadata": {
        "colab": {
          "base_uri": "https://localhost:8080/",
          "height": 300
        },
        "id": "JV_S7wvNbzC3",
        "outputId": "c0ff567f-3495-4fab-8163-4f5859ea1389"
      },
      "execution_count": 6,
      "outputs": [
        {
          "output_type": "execute_result",
          "data": {
            "text/plain": [
              "       Age at Diagnosis in Days  Event Free Survival Time in Days  \\\n",
              "count                738.000000                        738.000000   \n",
              "mean                 942.105691                       1907.228997   \n",
              "std                  928.520081                       1466.809684   \n",
              "min                    1.000000                         10.000000   \n",
              "25%                  315.250000                        491.500000   \n",
              "50%                  740.500000                       1762.500000   \n",
              "75%                 1264.500000                       3198.000000   \n",
              "max                 7613.000000                       6170.000000   \n",
              "\n",
              "       Overall Survival Time in Days  Ploidy Value  \n",
              "count                     738.000000    738.000000  \n",
              "mean                     2261.162602      1.322967  \n",
              "std                      1341.896447      0.353940  \n",
              "min                        10.000000      0.960000  \n",
              "25%                       960.750000      1.000000  \n",
              "50%                      2428.500000      1.220000  \n",
              "75%                      3351.750000      1.530000  \n",
              "max                      6170.000000      3.000000  "
            ],
            "text/html": [
              "\n",
              "  <div id=\"df-c9002e3b-18b6-41d1-970a-eac936ca4d33\">\n",
              "    <div class=\"colab-df-container\">\n",
              "      <div>\n",
              "<style scoped>\n",
              "    .dataframe tbody tr th:only-of-type {\n",
              "        vertical-align: middle;\n",
              "    }\n",
              "\n",
              "    .dataframe tbody tr th {\n",
              "        vertical-align: top;\n",
              "    }\n",
              "\n",
              "    .dataframe thead th {\n",
              "        text-align: right;\n",
              "    }\n",
              "</style>\n",
              "<table border=\"1\" class=\"dataframe\">\n",
              "  <thead>\n",
              "    <tr style=\"text-align: right;\">\n",
              "      <th></th>\n",
              "      <th>Age at Diagnosis in Days</th>\n",
              "      <th>Event Free Survival Time in Days</th>\n",
              "      <th>Overall Survival Time in Days</th>\n",
              "      <th>Ploidy Value</th>\n",
              "    </tr>\n",
              "  </thead>\n",
              "  <tbody>\n",
              "    <tr>\n",
              "      <th>count</th>\n",
              "      <td>738.000000</td>\n",
              "      <td>738.000000</td>\n",
              "      <td>738.000000</td>\n",
              "      <td>738.000000</td>\n",
              "    </tr>\n",
              "    <tr>\n",
              "      <th>mean</th>\n",
              "      <td>942.105691</td>\n",
              "      <td>1907.228997</td>\n",
              "      <td>2261.162602</td>\n",
              "      <td>1.322967</td>\n",
              "    </tr>\n",
              "    <tr>\n",
              "      <th>std</th>\n",
              "      <td>928.520081</td>\n",
              "      <td>1466.809684</td>\n",
              "      <td>1341.896447</td>\n",
              "      <td>0.353940</td>\n",
              "    </tr>\n",
              "    <tr>\n",
              "      <th>min</th>\n",
              "      <td>1.000000</td>\n",
              "      <td>10.000000</td>\n",
              "      <td>10.000000</td>\n",
              "      <td>0.960000</td>\n",
              "    </tr>\n",
              "    <tr>\n",
              "      <th>25%</th>\n",
              "      <td>315.250000</td>\n",
              "      <td>491.500000</td>\n",
              "      <td>960.750000</td>\n",
              "      <td>1.000000</td>\n",
              "    </tr>\n",
              "    <tr>\n",
              "      <th>50%</th>\n",
              "      <td>740.500000</td>\n",
              "      <td>1762.500000</td>\n",
              "      <td>2428.500000</td>\n",
              "      <td>1.220000</td>\n",
              "    </tr>\n",
              "    <tr>\n",
              "      <th>75%</th>\n",
              "      <td>1264.500000</td>\n",
              "      <td>3198.000000</td>\n",
              "      <td>3351.750000</td>\n",
              "      <td>1.530000</td>\n",
              "    </tr>\n",
              "    <tr>\n",
              "      <th>max</th>\n",
              "      <td>7613.000000</td>\n",
              "      <td>6170.000000</td>\n",
              "      <td>6170.000000</td>\n",
              "      <td>3.000000</td>\n",
              "    </tr>\n",
              "  </tbody>\n",
              "</table>\n",
              "</div>\n",
              "      <button class=\"colab-df-convert\" onclick=\"convertToInteractive('df-c9002e3b-18b6-41d1-970a-eac936ca4d33')\"\n",
              "              title=\"Convert this dataframe to an interactive table.\"\n",
              "              style=\"display:none;\">\n",
              "        \n",
              "  <svg xmlns=\"http://www.w3.org/2000/svg\" height=\"24px\"viewBox=\"0 0 24 24\"\n",
              "       width=\"24px\">\n",
              "    <path d=\"M0 0h24v24H0V0z\" fill=\"none\"/>\n",
              "    <path d=\"M18.56 5.44l.94 2.06.94-2.06 2.06-.94-2.06-.94-.94-2.06-.94 2.06-2.06.94zm-11 1L8.5 8.5l.94-2.06 2.06-.94-2.06-.94L8.5 2.5l-.94 2.06-2.06.94zm10 10l.94 2.06.94-2.06 2.06-.94-2.06-.94-.94-2.06-.94 2.06-2.06.94z\"/><path d=\"M17.41 7.96l-1.37-1.37c-.4-.4-.92-.59-1.43-.59-.52 0-1.04.2-1.43.59L10.3 9.45l-7.72 7.72c-.78.78-.78 2.05 0 2.83L4 21.41c.39.39.9.59 1.41.59.51 0 1.02-.2 1.41-.59l7.78-7.78 2.81-2.81c.8-.78.8-2.07 0-2.86zM5.41 20L4 18.59l7.72-7.72 1.47 1.35L5.41 20z\"/>\n",
              "  </svg>\n",
              "      </button>\n",
              "      \n",
              "  <style>\n",
              "    .colab-df-container {\n",
              "      display:flex;\n",
              "      flex-wrap:wrap;\n",
              "      gap: 12px;\n",
              "    }\n",
              "\n",
              "    .colab-df-convert {\n",
              "      background-color: #E8F0FE;\n",
              "      border: none;\n",
              "      border-radius: 50%;\n",
              "      cursor: pointer;\n",
              "      display: none;\n",
              "      fill: #1967D2;\n",
              "      height: 32px;\n",
              "      padding: 0 0 0 0;\n",
              "      width: 32px;\n",
              "    }\n",
              "\n",
              "    .colab-df-convert:hover {\n",
              "      background-color: #E2EBFA;\n",
              "      box-shadow: 0px 1px 2px rgba(60, 64, 67, 0.3), 0px 1px 3px 1px rgba(60, 64, 67, 0.15);\n",
              "      fill: #174EA6;\n",
              "    }\n",
              "\n",
              "    [theme=dark] .colab-df-convert {\n",
              "      background-color: #3B4455;\n",
              "      fill: #D2E3FC;\n",
              "    }\n",
              "\n",
              "    [theme=dark] .colab-df-convert:hover {\n",
              "      background-color: #434B5C;\n",
              "      box-shadow: 0px 1px 3px 1px rgba(0, 0, 0, 0.15);\n",
              "      filter: drop-shadow(0px 1px 2px rgba(0, 0, 0, 0.3));\n",
              "      fill: #FFFFFF;\n",
              "    }\n",
              "  </style>\n",
              "\n",
              "      <script>\n",
              "        const buttonEl =\n",
              "          document.querySelector('#df-c9002e3b-18b6-41d1-970a-eac936ca4d33 button.colab-df-convert');\n",
              "        buttonEl.style.display =\n",
              "          google.colab.kernel.accessAllowed ? 'block' : 'none';\n",
              "\n",
              "        async function convertToInteractive(key) {\n",
              "          const element = document.querySelector('#df-c9002e3b-18b6-41d1-970a-eac936ca4d33');\n",
              "          const dataTable =\n",
              "            await google.colab.kernel.invokeFunction('convertToInteractive',\n",
              "                                                     [key], {});\n",
              "          if (!dataTable) return;\n",
              "\n",
              "          const docLinkHtml = 'Like what you see? Visit the ' +\n",
              "            '<a target=\"_blank\" href=https://colab.research.google.com/notebooks/data_table.ipynb>data table notebook</a>'\n",
              "            + ' to learn more about interactive tables.';\n",
              "          element.innerHTML = '';\n",
              "          dataTable['output_type'] = 'display_data';\n",
              "          await google.colab.output.renderOutput(dataTable, element);\n",
              "          const docLink = document.createElement('div');\n",
              "          docLink.innerHTML = docLinkHtml;\n",
              "          element.appendChild(docLink);\n",
              "        }\n",
              "      </script>\n",
              "    </div>\n",
              "  </div>\n",
              "  "
            ]
          },
          "metadata": {},
          "execution_count": 6
        }
      ]
    },
    {
      "cell_type": "code",
      "source": [
        "df[\"Gender\"]=df[\"Gender\"].replace({\"Male\":1,\"Female\":0})\n",
        "df['Gender']"
      ],
      "metadata": {
        "colab": {
          "base_uri": "https://localhost:8080/"
        },
        "id": "o5oT7TWvcjdC",
        "outputId": "a00d843b-e184-4383-92f9-75d1f0b648ea"
      },
      "execution_count": 7,
      "outputs": [
        {
          "output_type": "execute_result",
          "data": {
            "text/plain": [
              "0      1\n",
              "1      1\n",
              "2      0\n",
              "3      1\n",
              "4      1\n",
              "      ..\n",
              "733    1\n",
              "734    1\n",
              "735    1\n",
              "736    0\n",
              "737    1\n",
              "Name: Gender, Length: 738, dtype: int64"
            ]
          },
          "metadata": {},
          "execution_count": 7
        }
      ]
    },
    {
      "cell_type": "code",
      "source": [
        "df[\"Vital Status\"]=df[\"Vital Status\"].replace({\"Dead\":0,\"Alive\":1})\n",
        "df[\"Vital Status\"]"
      ],
      "metadata": {
        "colab": {
          "base_uri": "https://localhost:8080/"
        },
        "id": "WjtaslexTZar",
        "outputId": "356e7f00-0403-4444-8dee-6c4c419007ce"
      },
      "execution_count": 8,
      "outputs": [
        {
          "output_type": "execute_result",
          "data": {
            "text/plain": [
              "0      1\n",
              "1      0\n",
              "2      1\n",
              "3      1\n",
              "4      1\n",
              "      ..\n",
              "733    0\n",
              "734    0\n",
              "735    0\n",
              "736    0\n",
              "737    1\n",
              "Name: Vital Status, Length: 738, dtype: int64"
            ]
          },
          "metadata": {},
          "execution_count": 8
        }
      ]
    },
    {
      "cell_type": "code",
      "source": [
        "df[\"INSS Stage\"].unique()"
      ],
      "metadata": {
        "colab": {
          "base_uri": "https://localhost:8080/"
        },
        "id": "H-I-7_5rUKrE",
        "outputId": "b7e864b0-9705-4e1a-a6e7-ca812f598f53"
      },
      "execution_count": 9,
      "outputs": [
        {
          "output_type": "execute_result",
          "data": {
            "text/plain": [
              "array(['Stage 4', 'Stage 2a', 'Stage 1', 'Stage 3', 'Stage 4s',\n",
              "       'Stage 2b'], dtype=object)"
            ]
          },
          "metadata": {},
          "execution_count": 9
        }
      ]
    },
    {
      "cell_type": "code",
      "source": [
        "df[\"INSS Stage\"]=df[\"INSS Stage\"].replace({\"Stage 1\":0,\"Stage 2a\":1,\"Stage 2b\":2,\"Stage 3\":3,\"Stage 4\":4,\"Stage 4s\":5,})\n",
        "df[\"INSS Stage\"]"
      ],
      "metadata": {
        "colab": {
          "base_uri": "https://localhost:8080/"
        },
        "id": "ir8hdeh6VfdD",
        "outputId": "93172905-82bd-47d1-f4bb-72bebc107222"
      },
      "execution_count": 10,
      "outputs": [
        {
          "output_type": "execute_result",
          "data": {
            "text/plain": [
              "0      4\n",
              "1      4\n",
              "2      4\n",
              "3      1\n",
              "4      0\n",
              "      ..\n",
              "733    4\n",
              "734    4\n",
              "735    4\n",
              "736    4\n",
              "737    3\n",
              "Name: INSS Stage, Length: 738, dtype: int64"
            ]
          },
          "metadata": {},
          "execution_count": 10
        }
      ]
    },
    {
      "cell_type": "code",
      "source": [
        "df[\"MYCN status\"].unique()"
      ],
      "metadata": {
        "colab": {
          "base_uri": "https://localhost:8080/"
        },
        "id": "ZyWMVHpnWRS5",
        "outputId": "e6d7de07-8d8c-4f3f-df89-09e278fb81ed"
      },
      "execution_count": 11,
      "outputs": [
        {
          "output_type": "execute_result",
          "data": {
            "text/plain": [
              "array(['Not Amplified', 'Amplified'], dtype=object)"
            ]
          },
          "metadata": {},
          "execution_count": 11
        }
      ]
    },
    {
      "cell_type": "code",
      "source": [
        "df[\"MYCN status\"]=df[\"MYCN status\"].replace({\"Not Amplified\":0,\"Amplified\":1})\n",
        "df[\"MYCN status\"]"
      ],
      "metadata": {
        "colab": {
          "base_uri": "https://localhost:8080/"
        },
        "id": "PzgvLGnmWfV7",
        "outputId": "4c4e7d6c-54bd-4ad6-c727-81368b1f8a66"
      },
      "execution_count": 12,
      "outputs": [
        {
          "output_type": "execute_result",
          "data": {
            "text/plain": [
              "0      0\n",
              "1      0\n",
              "2      0\n",
              "3      0\n",
              "4      0\n",
              "      ..\n",
              "733    0\n",
              "734    0\n",
              "735    0\n",
              "736    0\n",
              "737    0\n",
              "Name: MYCN status, Length: 738, dtype: int64"
            ]
          },
          "metadata": {},
          "execution_count": 12
        }
      ]
    },
    {
      "cell_type": "code",
      "source": [
        "df[\"Histology\"].unique()"
      ],
      "metadata": {
        "colab": {
          "base_uri": "https://localhost:8080/"
        },
        "id": "L3E1lPGpWzt1",
        "outputId": "f3ea9ae6-9a3a-45f8-db6e-082d4f8d609c"
      },
      "execution_count": 13,
      "outputs": [
        {
          "output_type": "execute_result",
          "data": {
            "text/plain": [
              "array(['Favorable', 'Unfavorable'], dtype=object)"
            ]
          },
          "metadata": {},
          "execution_count": 13
        }
      ]
    },
    {
      "cell_type": "code",
      "source": [
        "df[\"MKI\"].unique()"
      ],
      "metadata": {
        "colab": {
          "base_uri": "https://localhost:8080/"
        },
        "id": "RWiDujENXCac",
        "outputId": "9023058d-7cb2-44bb-95f2-ba91afa2d742"
      },
      "execution_count": 14,
      "outputs": [
        {
          "output_type": "execute_result",
          "data": {
            "text/plain": [
              "array(['Low', 'High', 'Intermediate'], dtype=object)"
            ]
          },
          "metadata": {},
          "execution_count": 14
        }
      ]
    },
    {
      "cell_type": "code",
      "source": [
        "df[\"COG Risk Group\"].unique()"
      ],
      "metadata": {
        "colab": {
          "base_uri": "https://localhost:8080/"
        },
        "id": "l8lyPu2dXFrl",
        "outputId": "07d0ac13-3140-477a-8378-1452831d8a92"
      },
      "execution_count": 15,
      "outputs": [
        {
          "output_type": "execute_result",
          "data": {
            "text/plain": [
              "array(['Intermediate Risk', 'High Risk', 'Low Risk'], dtype=object)"
            ]
          },
          "metadata": {},
          "execution_count": 15
        }
      ]
    },
    {
      "cell_type": "code",
      "source": [
        "df[\"Histology\"]=df[\"Histology\"].replace({\"Favorable\":0,\"Unfavorable\":1})\n",
        "df[\"MKI\"]=df[\"MKI\"].replace({\"Low\":0,\"High\":1,\"Intermediate\":2})\n",
        "df[\"COG Risk Group\"]=df[\"COG Risk Group\"].replace({\"Low Risk\":0,\"Intermediate Risk\":1,\"High Risk\":2})"
      ],
      "metadata": {
        "id": "5nEIIO2rXOgT"
      },
      "execution_count": 16,
      "outputs": []
    },
    {
      "cell_type": "code",
      "source": [
        "print(df[\"Histology\"])\n",
        "print(df[\"MKI\"])\n",
        "print(df[\"COG Risk Group\"])"
      ],
      "metadata": {
        "colab": {
          "base_uri": "https://localhost:8080/"
        },
        "id": "Ovy2Ld_SYd2I",
        "outputId": "d2a94479-80cd-477c-c404-8251236c02ce"
      },
      "execution_count": 17,
      "outputs": [
        {
          "output_type": "stream",
          "name": "stdout",
          "text": [
            "0      0\n",
            "1      1\n",
            "2      0\n",
            "3      0\n",
            "4      0\n",
            "      ..\n",
            "733    1\n",
            "734    1\n",
            "735    1\n",
            "736    0\n",
            "737    0\n",
            "Name: Histology, Length: 738, dtype: int64\n",
            "0      0\n",
            "1      1\n",
            "2      0\n",
            "3      0\n",
            "4      0\n",
            "      ..\n",
            "733    2\n",
            "734    2\n",
            "735    2\n",
            "736    2\n",
            "737    0\n",
            "Name: MKI, Length: 738, dtype: int64\n",
            "0      1\n",
            "1      2\n",
            "2      1\n",
            "3      0\n",
            "4      0\n",
            "      ..\n",
            "733    2\n",
            "734    2\n",
            "735    2\n",
            "736    1\n",
            "737    1\n",
            "Name: COG Risk Group, Length: 738, dtype: int64\n"
          ]
        }
      ]
    },
    {
      "cell_type": "code",
      "source": [
        "import seaborn as sns\n",
        "import matplotlib.pyplot as plt\n",
        "\n",
        "corr = df.corr()\n",
        "\n",
        "fig, ax = plt.subplots(figsize=(10,10))\n",
        "sns.heatmap(corr, \n",
        "         xticklabels=corr.columns, \n",
        "         yticklabels=corr.columns,\n",
        "         annot=True)"
      ],
      "metadata": {
        "colab": {
          "base_uri": "https://localhost:8080/",
          "height": 767
        },
        "id": "4RTTBm5jfMz2",
        "outputId": "76caba68-1571-465d-af1e-f4f57c6ed2bc"
      },
      "execution_count": 18,
      "outputs": [
        {
          "output_type": "execute_result",
          "data": {
            "text/plain": [
              "<matplotlib.axes._subplots.AxesSubplot at 0x7fae2d7b5310>"
            ]
          },
          "metadata": {},
          "execution_count": 18
        },
        {
          "output_type": "display_data",
          "data": {
            "text/plain": [
              "<Figure size 720x720 with 2 Axes>"
            ],
            "image/png": "[encoded data removed]"
          },
          "metadata": {
            "needs_background": "light"
          }
        }
      ]
    },
    {
      "cell_type": "code",
      "source": [
        "df[\"Overall Survival Time in Years\"] = round(df[\"Overall Survival Time in Days\"]/365,0)\n",
        "df[\"Overall Survival Time in Years\"]\n",
        "df[\"Overall Survival Time in Years\"].unique()"
      ],
      "metadata": {
        "colab": {
          "base_uri": "https://localhost:8080/"
        },
        "id": "eeyZlkZXZ75W",
        "outputId": "f0efa783-a758-4eef-e049-3ac41d6380e9"
      },
      "execution_count": 19,
      "outputs": [
        {
          "output_type": "execute_result",
          "data": {
            "text/plain": [
              "array([10.,  4., 11.,  6.,  0.,  9.,  3.,  5.,  7.,  2.,  8.,  1., 14.,\n",
              "       12., 17., 13., 15.])"
            ]
          },
          "metadata": {},
          "execution_count": 19
        }
      ]
    },
    {
      "cell_type": "code",
      "source": [
        "df"
      ],
      "metadata": {
        "colab": {
          "base_uri": "https://localhost:8080/",
          "height": 641
        },
        "id": "i8l4i7XrY_FN",
        "outputId": "c124853b-cdc4-4a86-8bfa-f9eb8e16b777"
      },
      "execution_count": 20,
      "outputs": [
        {
          "output_type": "execute_result",
          "data": {
            "text/plain": [
              "           TARGET USI  Gender  Age at Diagnosis in Days  \\\n",
              "0    TARGET-30-PARPUF       1                        96   \n",
              "1    TARGET-30-PARSVF       1                       964   \n",
              "2    TARGET-30-PARSXI       0                       538   \n",
              "3    TARGET-30-PARSZV       1                       287   \n",
              "4    TARGET-30-PARTCE       1                        67   \n",
              "..                ...     ...                       ...   \n",
              "733  TARGET-30-PATILE       1                       824   \n",
              "734  TARGET-30-PATINJ       1                      1037   \n",
              "735  TARGET-30-PATNKP       1                      3446   \n",
              "736  TARGET-30-PATYIL       0                       328   \n",
              "737  TARGET-30-PAUDDK       1                       361   \n",
              "\n",
              "     Event Free Survival Time in Days  Vital Status  \\\n",
              "0                                3701             1   \n",
              "1                                 997             0   \n",
              "2                                3928             1   \n",
              "3                                2675             1   \n",
              "4                                3625             1   \n",
              "..                                ...           ...   \n",
              "733                               306             0   \n",
              "734                               736             0   \n",
              "735                               616             0   \n",
              "736                               239             0   \n",
              "737                               344             1   \n",
              "\n",
              "     Overall Survival Time in Days  INSS Stage  MYCN status  Ploidy Value  \\\n",
              "0                             3701           4            0          1.48   \n",
              "1                             1516           4            0          1.00   \n",
              "2                             3928           4            0          1.99   \n",
              "3                             3995           1            0          1.58   \n",
              "4                             3625           0            0          2.13   \n",
              "..                             ...         ...          ...           ...   \n",
              "733                            306           4            0          1.00   \n",
              "734                            822           4            0          1.00   \n",
              "735                           1549           4            0          1.47   \n",
              "736                            481           4            0          1.00   \n",
              "737                           2569           3            0          1.33   \n",
              "\n",
              "     Histology  MKI  COG Risk Group  Overall Survival Time in Years  \n",
              "0            0    0               1                            10.0  \n",
              "1            1    1               2                             4.0  \n",
              "2            0    0               1                            11.0  \n",
              "3            0    0               0                            11.0  \n",
              "4            0    0               0                            10.0  \n",
              "..         ...  ...             ...                             ...  \n",
              "733          1    2               2                             1.0  \n",
              "734          1    2               2                             2.0  \n",
              "735          1    2               2                             4.0  \n",
              "736          0    2               1                             1.0  \n",
              "737          0    0               1                             7.0  \n",
              "\n",
              "[738 rows x 13 columns]"
            ],
            "text/html": [
              "\n",
              "  <div id=\"df-7171828f-226f-4808-aaed-fb5abb19a8cc\">\n",
              "    <div class=\"colab-df-container\">\n",
              "      <div>\n",
              "<style scoped>\n",
              "    .dataframe tbody tr th:only-of-type {\n",
              "        vertical-align: middle;\n",
              "    }\n",
              "\n",
              "    .dataframe tbody tr th {\n",
              "        vertical-align: top;\n",
              "    }\n",
              "\n",
              "    .dataframe thead th {\n",
              "        text-align: right;\n",
              "    }\n",
              "</style>\n",
              "<table border=\"1\" class=\"dataframe\">\n",
              "  <thead>\n",
              "    <tr style=\"text-align: right;\">\n",
              "      <th></th>\n",
              "      <th>TARGET USI</th>\n",
              "      <th>Gender</th>\n",
              "      <th>Age at Diagnosis in Days</th>\n",
              "      <th>Event Free Survival Time in Days</th>\n",
              "      <th>Vital Status</th>\n",
              "      <th>Overall Survival Time in Days</th>\n",
              "      <th>INSS Stage</th>\n",
              "      <th>MYCN status</th>\n",
              "      <th>Ploidy Value</th>\n",
              "      <th>Histology</th>\n",
              "      <th>MKI</th>\n",
              "      <th>COG Risk Group</th>\n",
              "      <th>Overall Survival Time in Years</th>\n",
              "    </tr>\n",
              "  </thead>\n",
              "  <tbody>\n",
              "    <tr>\n",
              "      <th>0</th>\n",
              "      <td>TARGET-30-PARPUF</td>\n",
              "      <td>1</td>\n",
              "      <td>96</td>\n",
              "      <td>3701</td>\n",
              "      <td>1</td>\n",
              "      <td>3701</td>\n",
              "      <td>4</td>\n",
              "      <td>0</td>\n",
              "      <td>1.48</td>\n",
              "      <td>0</td>\n",
              "      <td>0</td>\n",
              "      <td>1</td>\n",
              "      <td>10.0</td>\n",
              "    </tr>\n",
              "    <tr>\n",
              "      <th>1</th>\n",
              "      <td>TARGET-30-PARSVF</td>\n",
              "      <td>1</td>\n",
              "      <td>964</td>\n",
              "      <td>997</td>\n",
              "      <td>0</td>\n",
              "      <td>1516</td>\n",
              "      <td>4</td>\n",
              "      <td>0</td>\n",
              "      <td>1.00</td>\n",
              "      <td>1</td>\n",
              "      <td>1</td>\n",
              "      <td>2</td>\n",
              "      <td>4.0</td>\n",
              "    </tr>\n",
              "    <tr>\n",
              "      <th>2</th>\n",
              "      <td>TARGET-30-PARSXI</td>\n",
              "      <td>0</td>\n",
              "      <td>538</td>\n",
              "      <td>3928</td>\n",
              "      <td>1</td>\n",
              "      <td>3928</td>\n",
              "      <td>4</td>\n",
              "      <td>0</td>\n",
              "      <td>1.99</td>\n",
              "      <td>0</td>\n",
              "      <td>0</td>\n",
              "      <td>1</td>\n",
              "      <td>11.0</td>\n",
              "    </tr>\n",
              "    <tr>\n",
              "      <th>3</th>\n",
              "      <td>TARGET-30-PARSZV</td>\n",
              "      <td>1</td>\n",
              "      <td>287</td>\n",
              "      <td>2675</td>\n",
              "      <td>1</td>\n",
              "      <td>3995</td>\n",
              "      <td>1</td>\n",
              "      <td>0</td>\n",
              "      <td>1.58</td>\n",
              "      <td>0</td>\n",
              "      <td>0</td>\n",
              "      <td>0</td>\n",
              "      <td>11.0</td>\n",
              "    </tr>\n",
              "    <tr>\n",
              "      <th>4</th>\n",
              "      <td>TARGET-30-PARTCE</td>\n",
              "      <td>1</td>\n",
              "      <td>67</td>\n",
              "      <td>3625</td>\n",
              "      <td>1</td>\n",
              "      <td>3625</td>\n",
              "      <td>0</td>\n",
              "      <td>0</td>\n",
              "      <td>2.13</td>\n",
              "      <td>0</td>\n",
              "      <td>0</td>\n",
              "      <td>0</td>\n",
              "      <td>10.0</td>\n",
              "    </tr>\n",
              "    <tr>\n",
              "      <th>...</th>\n",
              "      <td>...</td>\n",
              "      <td>...</td>\n",
              "      <td>...</td>\n",
              "      <td>...</td>\n",
              "      <td>...</td>\n",
              "      <td>...</td>\n",
              "      <td>...</td>\n",
              "      <td>...</td>\n",
              "      <td>...</td>\n",
              "      <td>...</td>\n",
              "      <td>...</td>\n",
              "      <td>...</td>\n",
              "      <td>...</td>\n",
              "    </tr>\n",
              "    <tr>\n",
              "      <th>733</th>\n",
              "      <td>TARGET-30-PATILE</td>\n",
              "      <td>1</td>\n",
              "      <td>824</td>\n",
              "      <td>306</td>\n",
              "      <td>0</td>\n",
              "      <td>306</td>\n",
              "      <td>4</td>\n",
              "      <td>0</td>\n",
              "      <td>1.00</td>\n",
              "      <td>1</td>\n",
              "      <td>2</td>\n",
              "      <td>2</td>\n",
              "      <td>1.0</td>\n",
              "    </tr>\n",
              "    <tr>\n",
              "      <th>734</th>\n",
              "      <td>TARGET-30-PATINJ</td>\n",
              "      <td>1</td>\n",
              "      <td>1037</td>\n",
              "      <td>736</td>\n",
              "      <td>0</td>\n",
              "      <td>822</td>\n",
              "      <td>4</td>\n",
              "      <td>0</td>\n",
              "      <td>1.00</td>\n",
              "      <td>1</td>\n",
              "      <td>2</td>\n",
              "      <td>2</td>\n",
              "      <td>2.0</td>\n",
              "    </tr>\n",
              "    <tr>\n",
              "      <th>735</th>\n",
              "      <td>TARGET-30-PATNKP</td>\n",
              "      <td>1</td>\n",
              "      <td>3446</td>\n",
              "      <td>616</td>\n",
              "      <td>0</td>\n",
              "      <td>1549</td>\n",
              "      <td>4</td>\n",
              "      <td>0</td>\n",
              "      <td>1.47</td>\n",
              "      <td>1</td>\n",
              "      <td>2</td>\n",
              "      <td>2</td>\n",
              "      <td>4.0</td>\n",
              "    </tr>\n",
              "    <tr>\n",
              "      <th>736</th>\n",
              "      <td>TARGET-30-PATYIL</td>\n",
              "      <td>0</td>\n",
              "      <td>328</td>\n",
              "      <td>239</td>\n",
              "      <td>0</td>\n",
              "      <td>481</td>\n",
              "      <td>4</td>\n",
              "      <td>0</td>\n",
              "      <td>1.00</td>\n",
              "      <td>0</td>\n",
              "      <td>2</td>\n",
              "      <td>1</td>\n",
              "      <td>1.0</td>\n",
              "    </tr>\n",
              "    <tr>\n",
              "      <th>737</th>\n",
              "      <td>TARGET-30-PAUDDK</td>\n",
              "      <td>1</td>\n",
              "      <td>361</td>\n",
              "      <td>344</td>\n",
              "      <td>1</td>\n",
              "      <td>2569</td>\n",
              "      <td>3</td>\n",
              "      <td>0</td>\n",
              "      <td>1.33</td>\n",
              "      <td>0</td>\n",
              "      <td>0</td>\n",
              "      <td>1</td>\n",
              "      <td>7.0</td>\n",
              "    </tr>\n",
              "  </tbody>\n",
              "</table>\n",
              "<p>738 rows × 13 columns</p>\n",
              "</div>\n",
              "      <button class=\"colab-df-convert\" onclick=\"convertToInteractive('df-7171828f-226f-4808-aaed-fb5abb19a8cc')\"\n",
              "              title=\"Convert this dataframe to an interactive table.\"\n",
              "              style=\"display:none;\">\n",
              "        \n",
              "  <svg xmlns=\"http://www.w3.org/2000/svg\" height=\"24px\"viewBox=\"0 0 24 24\"\n",
              "       width=\"24px\">\n",
              "    <path d=\"M0 0h24v24H0V0z\" fill=\"none\"/>\n",
              "    <path d=\"M18.56 5.44l.94 2.06.94-2.06 2.06-.94-2.06-.94-.94-2.06-.94 2.06-2.06.94zm-11 1L8.5 8.5l.94-2.06 2.06-.94-2.06-.94L8.5 2.5l-.94 2.06-2.06.94zm10 10l.94 2.06.94-2.06 2.06-.94-2.06-.94-.94-2.06-.94 2.06-2.06.94z\"/><path d=\"M17.41 7.96l-1.37-1.37c-.4-.4-.92-.59-1.43-.59-.52 0-1.04.2-1.43.59L10.3 9.45l-7.72 7.72c-.78.78-.78 2.05 0 2.83L4 21.41c.39.39.9.59 1.41.59.51 0 1.02-.2 1.41-.59l7.78-7.78 2.81-2.81c.8-.78.8-2.07 0-2.86zM5.41 20L4 18.59l7.72-7.72 1.47 1.35L5.41 20z\"/>\n",
              "  </svg>\n",
              "      </button>\n",
              "      \n",
              "  <style>\n",
              "    .colab-df-container {\n",
              "      display:flex;\n",
              "      flex-wrap:wrap;\n",
              "      gap: 12px;\n",
              "    }\n",
              "\n",
              "    .colab-df-convert {\n",
              "      background-color: #E8F0FE;\n",
              "      border: none;\n",
              "      border-radius: 50%;\n",
              "      cursor: pointer;\n",
              "      display: none;\n",
              "      fill: #1967D2;\n",
              "      height: 32px;\n",
              "      padding: 0 0 0 0;\n",
              "      width: 32px;\n",
              "    }\n",
              "\n",
              "    .colab-df-convert:hover {\n",
              "      background-color: #E2EBFA;\n",
              "      box-shadow: 0px 1px 2px rgba(60, 64, 67, 0.3), 0px 1px 3px 1px rgba(60, 64, 67, 0.15);\n",
              "      fill: #174EA6;\n",
              "    }\n",
              "\n",
              "    [theme=dark] .colab-df-convert {\n",
              "      background-color: #3B4455;\n",
              "      fill: #D2E3FC;\n",
              "    }\n",
              "\n",
              "    [theme=dark] .colab-df-convert:hover {\n",
              "      background-color: #434B5C;\n",
              "      box-shadow: 0px 1px 3px 1px rgba(0, 0, 0, 0.15);\n",
              "      filter: drop-shadow(0px 1px 2px rgba(0, 0, 0, 0.3));\n",
              "      fill: #FFFFFF;\n",
              "    }\n",
              "  </style>\n",
              "\n",
              "      <script>\n",
              "        const buttonEl =\n",
              "          document.querySelector('#df-7171828f-226f-4808-aaed-fb5abb19a8cc button.colab-df-convert');\n",
              "        buttonEl.style.display =\n",
              "          google.colab.kernel.accessAllowed ? 'block' : 'none';\n",
              "\n",
              "        async function convertToInteractive(key) {\n",
              "          const element = document.querySelector('#df-7171828f-226f-4808-aaed-fb5abb19a8cc');\n",
              "          const dataTable =\n",
              "            await google.colab.kernel.invokeFunction('convertToInteractive',\n",
              "                                                     [key], {});\n",
              "          if (!dataTable) return;\n",
              "\n",
              "          const docLinkHtml = 'Like what you see? Visit the ' +\n",
              "            '<a target=\"_blank\" href=https://colab.research.google.com/notebooks/data_table.ipynb>data table notebook</a>'\n",
              "            + ' to learn more about interactive tables.';\n",
              "          element.innerHTML = '';\n",
              "          dataTable['output_type'] = 'display_data';\n",
              "          await google.colab.output.renderOutput(dataTable, element);\n",
              "          const docLink = document.createElement('div');\n",
              "          docLink.innerHTML = docLinkHtml;\n",
              "          element.appendChild(docLink);\n",
              "        }\n",
              "      </script>\n",
              "    </div>\n",
              "  </div>\n",
              "  "
            ]
          },
          "metadata": {},
          "execution_count": 20
        }
      ]
    },
    {
      "cell_type": "code",
      "source": [
        "x=df.drop(['Vital Status','TARGET USI','Event Free Survival Time in Days','Overall Survival Time in Days'],axis=1)\n",
        "x"
      ],
      "metadata": {
        "colab": {
          "base_uri": "https://localhost:8080/",
          "height": 424
        },
        "id": "4-w-yIapjp-S",
        "outputId": "e69dfd27-6972-4d76-fa37-141f78ba2c56"
      },
      "execution_count": 21,
      "outputs": [
        {
          "output_type": "execute_result",
          "data": {
            "text/plain": [
              "     Gender  Age at Diagnosis in Days  INSS Stage  MYCN status  Ploidy Value  \\\n",
              "0         1                        96           4            0          1.48   \n",
              "1         1                       964           4            0          1.00   \n",
              "2         0                       538           4            0          1.99   \n",
              "3         1                       287           1            0          1.58   \n",
              "4         1                        67           0            0          2.13   \n",
              "..      ...                       ...         ...          ...           ...   \n",
              "733       1                       824           4            0          1.00   \n",
              "734       1                      1037           4            0          1.00   \n",
              "735       1                      3446           4            0          1.47   \n",
              "736       0                       328           4            0          1.00   \n",
              "737       1                       361           3            0          1.33   \n",
              "\n",
              "     Histology  MKI  COG Risk Group  Overall Survival Time in Years  \n",
              "0            0    0               1                            10.0  \n",
              "1            1    1               2                             4.0  \n",
              "2            0    0               1                            11.0  \n",
              "3            0    0               0                            11.0  \n",
              "4            0    0               0                            10.0  \n",
              "..         ...  ...             ...                             ...  \n",
              "733          1    2               2                             1.0  \n",
              "734          1    2               2                             2.0  \n",
              "735          1    2               2                             4.0  \n",
              "736          0    2               1                             1.0  \n",
              "737          0    0               1                             7.0  \n",
              "\n",
              "[738 rows x 9 columns]"
            ],
            "text/html": [
              "\n",
              "  <div id=\"df-8e8333d4-bd49-48d1-a9b6-11deea18e73c\">\n",
              "    <div class=\"colab-df-container\">\n",
              "      <div>\n",
              "<style scoped>\n",
              "    .dataframe tbody tr th:only-of-type {\n",
              "        vertical-align: middle;\n",
              "    }\n",
              "\n",
              "    .dataframe tbody tr th {\n",
              "        vertical-align: top;\n",
              "    }\n",
              "\n",
              "    .dataframe thead th {\n",
              "        text-align: right;\n",
              "    }\n",
              "</style>\n",
              "<table border=\"1\" class=\"dataframe\">\n",
              "  <thead>\n",
              "    <tr style=\"text-align: right;\">\n",
              "      <th></th>\n",
              "      <th>Gender</th>\n",
              "      <th>Age at Diagnosis in Days</th>\n",
              "      <th>INSS Stage</th>\n",
              "      <th>MYCN status</th>\n",
              "      <th>Ploidy Value</th>\n",
              "      <th>Histology</th>\n",
              "      <th>MKI</th>\n",
              "      <th>COG Risk Group</th>\n",
              "      <th>Overall Survival Time in Years</th>\n",
              "    </tr>\n",
              "  </thead>\n",
              "  <tbody>\n",
              "    <tr>\n",
              "      <th>0</th>\n",
              "      <td>1</td>\n",
              "      <td>96</td>\n",
              "      <td>4</td>\n",
              "      <td>0</td>\n",
              "      <td>1.48</td>\n",
              "      <td>0</td>\n",
              "      <td>0</td>\n",
              "      <td>1</td>\n",
              "      <td>10.0</td>\n",
              "    </tr>\n",
              "    <tr>\n",
              "      <th>1</th>\n",
              "      <td>1</td>\n",
              "      <td>964</td>\n",
              "      <td>4</td>\n",
              "      <td>0</td>\n",
              "      <td>1.00</td>\n",
              "      <td>1</td>\n",
              "      <td>1</td>\n",
              "      <td>2</td>\n",
              "      <td>4.0</td>\n",
              "    </tr>\n",
              "    <tr>\n",
              "      <th>2</th>\n",
              "      <td>0</td>\n",
              "      <td>538</td>\n",
              "      <td>4</td>\n",
              "      <td>0</td>\n",
              "      <td>1.99</td>\n",
              "      <td>0</td>\n",
              "      <td>0</td>\n",
              "      <td>1</td>\n",
              "      <td>11.0</td>\n",
              "    </tr>\n",
              "    <tr>\n",
              "      <th>3</th>\n",
              "      <td>1</td>\n",
              "      <td>287</td>\n",
              "      <td>1</td>\n",
              "      <td>0</td>\n",
              "      <td>1.58</td>\n",
              "      <td>0</td>\n",
              "      <td>0</td>\n",
              "      <td>0</td>\n",
              "      <td>11.0</td>\n",
              "    </tr>\n",
              "    <tr>\n",
              "      <th>4</th>\n",
              "      <td>1</td>\n",
              "      <td>67</td>\n",
              "      <td>0</td>\n",
              "      <td>0</td>\n",
              "      <td>2.13</td>\n",
              "      <td>0</td>\n",
              "      <td>0</td>\n",
              "      <td>0</td>\n",
              "      <td>10.0</td>\n",
              "    </tr>\n",
              "    <tr>\n",
              "      <th>...</th>\n",
              "      <td>...</td>\n",
              "      <td>...</td>\n",
              "      <td>...</td>\n",
              "      <td>...</td>\n",
              "      <td>...</td>\n",
              "      <td>...</td>\n",
              "      <td>...</td>\n",
              "      <td>...</td>\n",
              "      <td>...</td>\n",
              "    </tr>\n",
              "    <tr>\n",
              "      <th>733</th>\n",
              "      <td>1</td>\n",
              "      <td>824</td>\n",
              "      <td>4</td>\n",
              "      <td>0</td>\n",
              "      <td>1.00</td>\n",
              "      <td>1</td>\n",
              "      <td>2</td>\n",
              "      <td>2</td>\n",
              "      <td>1.0</td>\n",
              "    </tr>\n",
              "    <tr>\n",
              "      <th>734</th>\n",
              "      <td>1</td>\n",
              "      <td>1037</td>\n",
              "      <td>4</td>\n",
              "      <td>0</td>\n",
              "      <td>1.00</td>\n",
              "      <td>1</td>\n",
              "      <td>2</td>\n",
              "      <td>2</td>\n",
              "      <td>2.0</td>\n",
              "    </tr>\n",
              "    <tr>\n",
              "      <th>735</th>\n",
              "      <td>1</td>\n",
              "      <td>3446</td>\n",
              "      <td>4</td>\n",
              "      <td>0</td>\n",
              "      <td>1.47</td>\n",
              "      <td>1</td>\n",
              "      <td>2</td>\n",
              "      <td>2</td>\n",
              "      <td>4.0</td>\n",
              "    </tr>\n",
              "    <tr>\n",
              "      <th>736</th>\n",
              "      <td>0</td>\n",
              "      <td>328</td>\n",
              "      <td>4</td>\n",
              "      <td>0</td>\n",
              "      <td>1.00</td>\n",
              "      <td>0</td>\n",
              "      <td>2</td>\n",
              "      <td>1</td>\n",
              "      <td>1.0</td>\n",
              "    </tr>\n",
              "    <tr>\n",
              "      <th>737</th>\n",
              "      <td>1</td>\n",
              "      <td>361</td>\n",
              "      <td>3</td>\n",
              "      <td>0</td>\n",
              "      <td>1.33</td>\n",
              "      <td>0</td>\n",
              "      <td>0</td>\n",
              "      <td>1</td>\n",
              "      <td>7.0</td>\n",
              "    </tr>\n",
              "  </tbody>\n",
              "</table>\n",
              "<p>738 rows × 9 columns</p>\n",
              "</div>\n",
              "      <button class=\"colab-df-convert\" onclick=\"convertToInteractive('df-8e8333d4-bd49-48d1-a9b6-11deea18e73c')\"\n",
              "              title=\"Convert this dataframe to an interactive table.\"\n",
              "              style=\"display:none;\">\n",
              "        \n",
              "  <svg xmlns=\"http://www.w3.org/2000/svg\" height=\"24px\"viewBox=\"0 0 24 24\"\n",
              "       width=\"24px\">\n",
              "    <path d=\"M0 0h24v24H0V0z\" fill=\"none\"/>\n",
              "    <path d=\"M18.56 5.44l.94 2.06.94-2.06 2.06-.94-2.06-.94-.94-2.06-.94 2.06-2.06.94zm-11 1L8.5 8.5l.94-2.06 2.06-.94-2.06-.94L8.5 2.5l-.94 2.06-2.06.94zm10 10l.94 2.06.94-2.06 2.06-.94-2.06-.94-.94-2.06-.94 2.06-2.06.94z\"/><path d=\"M17.41 7.96l-1.37-1.37c-.4-.4-.92-.59-1.43-.59-.52 0-1.04.2-1.43.59L10.3 9.45l-7.72 7.72c-.78.78-.78 2.05 0 2.83L4 21.41c.39.39.9.59 1.41.59.51 0 1.02-.2 1.41-.59l7.78-7.78 2.81-2.81c.8-.78.8-2.07 0-2.86zM5.41 20L4 18.59l7.72-7.72 1.47 1.35L5.41 20z\"/>\n",
              "  </svg>\n",
              "      </button>\n",
              "      \n",
              "  <style>\n",
              "    .colab-df-container {\n",
              "      display:flex;\n",
              "      flex-wrap:wrap;\n",
              "      gap: 12px;\n",
              "    }\n",
              "\n",
              "    .colab-df-convert {\n",
              "      background-color: #E8F0FE;\n",
              "      border: none;\n",
              "      border-radius: 50%;\n",
              "      cursor: pointer;\n",
              "      display: none;\n",
              "      fill: #1967D2;\n",
              "      height: 32px;\n",
              "      padding: 0 0 0 0;\n",
              "      width: 32px;\n",
              "    }\n",
              "\n",
              "    .colab-df-convert:hover {\n",
              "      background-color: #E2EBFA;\n",
              "      box-shadow: 0px 1px 2px rgba(60, 64, 67, 0.3), 0px 1px 3px 1px rgba(60, 64, 67, 0.15);\n",
              "      fill: #174EA6;\n",
              "    }\n",
              "\n",
              "    [theme=dark] .colab-df-convert {\n",
              "      background-color: #3B4455;\n",
              "      fill: #D2E3FC;\n",
              "    }\n",
              "\n",
              "    [theme=dark] .colab-df-convert:hover {\n",
              "      background-color: #434B5C;\n",
              "      box-shadow: 0px 1px 3px 1px rgba(0, 0, 0, 0.15);\n",
              "      filter: drop-shadow(0px 1px 2px rgba(0, 0, 0, 0.3));\n",
              "      fill: #FFFFFF;\n",
              "    }\n",
              "  </style>\n",
              "\n",
              "      <script>\n",
              "        const buttonEl =\n",
              "          document.querySelector('#df-8e8333d4-bd49-48d1-a9b6-11deea18e73c button.colab-df-convert');\n",
              "        buttonEl.style.display =\n",
              "          google.colab.kernel.accessAllowed ? 'block' : 'none';\n",
              "\n",
              "        async function convertToInteractive(key) {\n",
              "          const element = document.querySelector('#df-8e8333d4-bd49-48d1-a9b6-11deea18e73c');\n",
              "          const dataTable =\n",
              "            await google.colab.kernel.invokeFunction('convertToInteractive',\n",
              "                                                     [key], {});\n",
              "          if (!dataTable) return;\n",
              "\n",
              "          const docLinkHtml = 'Like what you see? Visit the ' +\n",
              "            '<a target=\"_blank\" href=https://colab.research.google.com/notebooks/data_table.ipynb>data table notebook</a>'\n",
              "            + ' to learn more about interactive tables.';\n",
              "          element.innerHTML = '';\n",
              "          dataTable['output_type'] = 'display_data';\n",
              "          await google.colab.output.renderOutput(dataTable, element);\n",
              "          const docLink = document.createElement('div');\n",
              "          docLink.innerHTML = docLinkHtml;\n",
              "          element.appendChild(docLink);\n",
              "        }\n",
              "      </script>\n",
              "    </div>\n",
              "  </div>\n",
              "  "
            ]
          },
          "metadata": {},
          "execution_count": 21
        }
      ]
    },
    {
      "cell_type": "code",
      "source": [
        "#x_train=x.iloc[0:590]\n",
        "#x_test=x.iloc[590:738]"
      ],
      "metadata": {
        "id": "8GA9v7tLwo72"
      },
      "execution_count": 22,
      "outputs": []
    },
    {
      "cell_type": "code",
      "source": [
        "#x_train"
      ],
      "metadata": {
        "id": "v_50oA1VwrWS"
      },
      "execution_count": 23,
      "outputs": []
    },
    {
      "cell_type": "code",
      "source": [
        "#x_test"
      ],
      "metadata": {
        "id": "dVQoLCWQwv-4"
      },
      "execution_count": 24,
      "outputs": []
    },
    {
      "cell_type": "code",
      "source": [
        "y=df['Vital Status']\n",
        "y"
      ],
      "metadata": {
        "colab": {
          "base_uri": "https://localhost:8080/"
        },
        "id": "faNr0qPLu_Fg",
        "outputId": "5007b2e0-453e-469e-debe-ad7924e25d6d"
      },
      "execution_count": 25,
      "outputs": [
        {
          "output_type": "execute_result",
          "data": {
            "text/plain": [
              "0      1\n",
              "1      0\n",
              "2      1\n",
              "3      1\n",
              "4      1\n",
              "      ..\n",
              "733    0\n",
              "734    0\n",
              "735    0\n",
              "736    0\n",
              "737    1\n",
              "Name: Vital Status, Length: 738, dtype: int64"
            ]
          },
          "metadata": {},
          "execution_count": 25
        }
      ]
    },
    {
      "cell_type": "code",
      "source": [
        "#y_train=y.iloc[0:590]\n",
        "#y_test=y.iloc[590:738]"
      ],
      "metadata": {
        "id": "2FNFAmRKw2iq"
      },
      "execution_count": 26,
      "outputs": []
    },
    {
      "cell_type": "code",
      "source": [
        "#y_train"
      ],
      "metadata": {
        "id": "ycTLX7ngw-dD"
      },
      "execution_count": 27,
      "outputs": []
    },
    {
      "cell_type": "code",
      "source": [
        "#y_test"
      ],
      "metadata": {
        "id": "vZGpOVcCxAnf"
      },
      "execution_count": 28,
      "outputs": []
    },
    {
      "cell_type": "code",
      "source": [
        "from sklearn.preprocessing import StandardScaler\n",
        "\n",
        "scaler = StandardScaler()\n",
        "\n",
        "train_scaled = scaler.fit_transform(x)\n",
        "#test_scaled = scaler.transform(x_test)"
      ],
      "metadata": {
        "id": "07OPMyRIvJBe"
      },
      "execution_count": 29,
      "outputs": []
    },
    {
      "cell_type": "code",
      "source": [
        "train_scaled"
      ],
      "metadata": {
        "colab": {
          "base_uri": "https://localhost:8080/"
        },
        "id": "3lHKA5E6yUTM",
        "outputId": "4c0dc9f3-a2b4-4bfb-8e06-ea3a3b3120e0"
      },
      "execution_count": 30,
      "outputs": [
        {
          "output_type": "execute_result",
          "data": {
            "text/plain": [
              "array([[ 0.86056147, -0.91185913,  0.45284274, ..., -1.09669375,\n",
              "        -0.6098716 ,  1.0368464 ],\n",
              "       [ 0.86056147,  0.02359578,  0.45284274, ...,  0.11130623,\n",
              "         0.65087137, -0.59353565],\n",
              "       [-1.16203204, -0.43550997,  0.45284274, ..., -1.09669375,\n",
              "        -0.6098716 ,  1.30857674],\n",
              "       ...,\n",
              "       [ 0.86056147,  2.69847954,  0.45284274, ...,  1.31930621,\n",
              "         0.65087137, -0.59353565],\n",
              "       [-1.16203204, -0.66182971,  0.45284274, ...,  1.31930621,\n",
              "        -0.6098716 , -1.40872668],\n",
              "       [ 0.86056147, -0.62626518, -0.27844379, ..., -1.09669375,\n",
              "        -0.6098716 ,  0.22165537]])"
            ]
          },
          "metadata": {},
          "execution_count": 30
        }
      ]
    },
    {
      "cell_type": "markdown",
      "source": [
        "# Vital status"
      ],
      "metadata": {
        "id": "q2HbKlnDZufw"
      }
    },
    {
      "cell_type": "code",
      "source": [
        "import tensorflow as tf\n",
        "from tensorflow.python.keras.models import Sequential\n",
        "from tensorflow.python.keras.layers import Dense, Activation\n",
        "import numpy as np\n",
        "import random\n",
        "\n",
        "random.seed(42)\n",
        "np.random.seed(42)\n",
        "tf.random.set_seed(42)\n",
        "\n",
        "model = Sequential()\n",
        "model.add(Dense(32, input_shape=(9,)))\n",
        "model.add(Activation('relu'))\n",
        "model.add(Dense(16))\n",
        "model.add(Activation('relu'))\n",
        "model.add(Dense(1))\n",
        "model.add(Activation('sigmoid'))\n",
        "\n",
        "model.compile(loss='binary_crossentropy', optimizer='sgd', metrics=['accuracy']) \n",
        "model.summary()"
      ],
      "metadata": {
        "colab": {
          "base_uri": "https://localhost:8080/"
        },
        "id": "mViwu1YZxTj2",
        "outputId": "5c053edf-feb5-4969-bbc7-7ddcecdf77cc"
      },
      "execution_count": 31,
      "outputs": [
        {
          "output_type": "stream",
          "name": "stdout",
          "text": [
            "Model: \"sequential\"\n",
            "_________________________________________________________________\n",
            "Layer (type)                 Output Shape              Param #   \n",
            "=================================================================\n",
            "dense (Dense)                (None, 32)                320       \n",
            "_________________________________________________________________\n",
            "activation (Activation)      (None, 32)                0         \n",
            "_________________________________________________________________\n",
            "dense_1 (Dense)              (None, 16)                528       \n",
            "_________________________________________________________________\n",
            "activation_1 (Activation)    (None, 16)                0         \n",
            "_________________________________________________________________\n",
            "dense_2 (Dense)              (None, 1)                 17        \n",
            "_________________________________________________________________\n",
            "activation_2 (Activation)    (None, 1)                 0         \n",
            "=================================================================\n",
            "Total params: 865\n",
            "Trainable params: 865\n",
            "Non-trainable params: 0\n",
            "_________________________________________________________________\n"
          ]
        }
      ]
    },
    {
      "cell_type": "code",
      "source": [
        "trained_model=model.fit(train_scaled, y,validation_split=0.3,epochs=50,batch_size=20)"
      ],
      "metadata": {
        "colab": {
          "base_uri": "https://localhost:8080/"
        },
        "id": "LrkezKhFxyIE",
        "outputId": "997324e1-1e5e-462a-911a-6d75b334d988"
      },
      "execution_count": 32,
      "outputs": [
        {
          "output_type": "stream",
          "name": "stdout",
          "text": [
            "Epoch 1/50\n",
            "26/26 [==============================] - 2s 20ms/step - loss: 0.7482 - accuracy: 0.4050 - val_loss: 0.7017 - val_accuracy: 0.5405\n",
            "Epoch 2/50\n",
            "26/26 [==============================] - 0s 7ms/step - loss: 0.6363 - accuracy: 0.6822 - val_loss: 0.6646 - val_accuracy: 0.6261\n",
            "Epoch 3/50\n",
            "26/26 [==============================] - 0s 13ms/step - loss: 0.5709 - accuracy: 0.7481 - val_loss: 0.6364 - val_accuracy: 0.6622\n",
            "Epoch 4/50\n",
            "26/26 [==============================] - 0s 13ms/step - loss: 0.5254 - accuracy: 0.7868 - val_loss: 0.6117 - val_accuracy: 0.6982\n",
            "Epoch 5/50\n",
            "26/26 [==============================] - 0s 17ms/step - loss: 0.4907 - accuracy: 0.8178 - val_loss: 0.5878 - val_accuracy: 0.7432\n",
            "Epoch 6/50\n",
            "26/26 [==============================] - 0s 13ms/step - loss: 0.4619 - accuracy: 0.8372 - val_loss: 0.5651 - val_accuracy: 0.7658\n",
            "Epoch 7/50\n",
            "26/26 [==============================] - 0s 13ms/step - loss: 0.4375 - accuracy: 0.8488 - val_loss: 0.5420 - val_accuracy: 0.8108\n",
            "Epoch 8/50\n",
            "26/26 [==============================] - 0s 8ms/step - loss: 0.4159 - accuracy: 0.8857 - val_loss: 0.5194 - val_accuracy: 0.8243\n",
            "Epoch 9/50\n",
            "26/26 [==============================] - 0s 11ms/step - loss: 0.3965 - accuracy: 0.9031 - val_loss: 0.4973 - val_accuracy: 0.8378\n",
            "Epoch 10/50\n",
            "26/26 [==============================] - 0s 11ms/step - loss: 0.3788 - accuracy: 0.9109 - val_loss: 0.4764 - val_accuracy: 0.8423\n",
            "Epoch 11/50\n",
            "26/26 [==============================] - 0s 11ms/step - loss: 0.3629 - accuracy: 0.9205 - val_loss: 0.4559 - val_accuracy: 0.8423\n",
            "Epoch 12/50\n",
            "26/26 [==============================] - 0s 11ms/step - loss: 0.3482 - accuracy: 0.9244 - val_loss: 0.4367 - val_accuracy: 0.8514\n",
            "Epoch 13/50\n",
            "26/26 [==============================] - 0s 10ms/step - loss: 0.3342 - accuracy: 0.9244 - val_loss: 0.4181 - val_accuracy: 0.8559\n",
            "Epoch 14/50\n",
            "26/26 [==============================] - 0s 13ms/step - loss: 0.3214 - accuracy: 0.9225 - val_loss: 0.4011 - val_accuracy: 0.8649\n",
            "Epoch 15/50\n",
            "26/26 [==============================] - 0s 12ms/step - loss: 0.3098 - accuracy: 0.9205 - val_loss: 0.3855 - val_accuracy: 0.8739\n",
            "Epoch 16/50\n",
            "26/26 [==============================] - 0s 17ms/step - loss: 0.2982 - accuracy: 0.9244 - val_loss: 0.3706 - val_accuracy: 0.8874\n",
            "Epoch 17/50\n",
            "26/26 [==============================] - 0s 13ms/step - loss: 0.2877 - accuracy: 0.9244 - val_loss: 0.3569 - val_accuracy: 0.8964\n",
            "Epoch 18/50\n",
            "26/26 [==============================] - 0s 6ms/step - loss: 0.2780 - accuracy: 0.9205 - val_loss: 0.3452 - val_accuracy: 0.9009\n",
            "Epoch 19/50\n",
            "26/26 [==============================] - 0s 8ms/step - loss: 0.2690 - accuracy: 0.9244 - val_loss: 0.3348 - val_accuracy: 0.9054\n",
            "Epoch 20/50\n",
            "26/26 [==============================] - 0s 5ms/step - loss: 0.2609 - accuracy: 0.9322 - val_loss: 0.3237 - val_accuracy: 0.9054\n",
            "Epoch 21/50\n",
            "26/26 [==============================] - 0s 9ms/step - loss: 0.2531 - accuracy: 0.9283 - val_loss: 0.3154 - val_accuracy: 0.9189\n",
            "Epoch 22/50\n",
            "26/26 [==============================] - 0s 8ms/step - loss: 0.2463 - accuracy: 0.9360 - val_loss: 0.3083 - val_accuracy: 0.9189\n",
            "Epoch 23/50\n",
            "26/26 [==============================] - 0s 7ms/step - loss: 0.2401 - accuracy: 0.9360 - val_loss: 0.3003 - val_accuracy: 0.9189\n",
            "Epoch 24/50\n",
            "26/26 [==============================] - 0s 7ms/step - loss: 0.2344 - accuracy: 0.9399 - val_loss: 0.2947 - val_accuracy: 0.9054\n",
            "Epoch 25/50\n",
            "26/26 [==============================] - 0s 16ms/step - loss: 0.2290 - accuracy: 0.9399 - val_loss: 0.2894 - val_accuracy: 0.9009\n",
            "Epoch 26/50\n",
            "26/26 [==============================] - 0s 8ms/step - loss: 0.2244 - accuracy: 0.9399 - val_loss: 0.2851 - val_accuracy: 0.9009\n",
            "Epoch 27/50\n",
            "26/26 [==============================] - 0s 8ms/step - loss: 0.2202 - accuracy: 0.9419 - val_loss: 0.2804 - val_accuracy: 0.9009\n",
            "Epoch 28/50\n",
            "26/26 [==============================] - 0s 7ms/step - loss: 0.2161 - accuracy: 0.9419 - val_loss: 0.2760 - val_accuracy: 0.8964\n",
            "Epoch 29/50\n",
            "26/26 [==============================] - 0s 5ms/step - loss: 0.2126 - accuracy: 0.9438 - val_loss: 0.2733 - val_accuracy: 0.8964\n",
            "Epoch 30/50\n",
            "26/26 [==============================] - 0s 7ms/step - loss: 0.2093 - accuracy: 0.9399 - val_loss: 0.2708 - val_accuracy: 0.8964\n",
            "Epoch 31/50\n",
            "26/26 [==============================] - 0s 9ms/step - loss: 0.2067 - accuracy: 0.9399 - val_loss: 0.2683 - val_accuracy: 0.8964\n",
            "Epoch 32/50\n",
            "26/26 [==============================] - 0s 7ms/step - loss: 0.2038 - accuracy: 0.9399 - val_loss: 0.2664 - val_accuracy: 0.9009\n",
            "Epoch 33/50\n",
            "26/26 [==============================] - 0s 7ms/step - loss: 0.2013 - accuracy: 0.9399 - val_loss: 0.2650 - val_accuracy: 0.9009\n",
            "Epoch 34/50\n",
            "26/26 [==============================] - 0s 9ms/step - loss: 0.1989 - accuracy: 0.9399 - val_loss: 0.2640 - val_accuracy: 0.9009\n",
            "Epoch 35/50\n",
            "26/26 [==============================] - 0s 7ms/step - loss: 0.1968 - accuracy: 0.9399 - val_loss: 0.2645 - val_accuracy: 0.9009\n",
            "Epoch 36/50\n",
            "26/26 [==============================] - 0s 7ms/step - loss: 0.1950 - accuracy: 0.9380 - val_loss: 0.2627 - val_accuracy: 0.9009\n",
            "Epoch 37/50\n",
            "26/26 [==============================] - 0s 10ms/step - loss: 0.1934 - accuracy: 0.9380 - val_loss: 0.2613 - val_accuracy: 0.9009\n",
            "Epoch 38/50\n",
            "26/26 [==============================] - 0s 5ms/step - loss: 0.1916 - accuracy: 0.9380 - val_loss: 0.2620 - val_accuracy: 0.9054\n",
            "Epoch 39/50\n",
            "26/26 [==============================] - 0s 7ms/step - loss: 0.1903 - accuracy: 0.9380 - val_loss: 0.2617 - val_accuracy: 0.9054\n",
            "Epoch 40/50\n",
            "26/26 [==============================] - 0s 7ms/step - loss: 0.1890 - accuracy: 0.9380 - val_loss: 0.2617 - val_accuracy: 0.9054\n",
            "Epoch 41/50\n",
            "26/26 [==============================] - 0s 7ms/step - loss: 0.1877 - accuracy: 0.9380 - val_loss: 0.2612 - val_accuracy: 0.9054\n",
            "Epoch 42/50\n",
            "26/26 [==============================] - 0s 11ms/step - loss: 0.1867 - accuracy: 0.9380 - val_loss: 0.2619 - val_accuracy: 0.9054\n",
            "Epoch 43/50\n",
            "26/26 [==============================] - 0s 11ms/step - loss: 0.1855 - accuracy: 0.9380 - val_loss: 0.2635 - val_accuracy: 0.9009\n",
            "Epoch 44/50\n",
            "26/26 [==============================] - 0s 5ms/step - loss: 0.1847 - accuracy: 0.9360 - val_loss: 0.2629 - val_accuracy: 0.9009\n",
            "Epoch 45/50\n",
            "26/26 [==============================] - 0s 7ms/step - loss: 0.1835 - accuracy: 0.9341 - val_loss: 0.2625 - val_accuracy: 0.9009\n",
            "Epoch 46/50\n",
            "26/26 [==============================] - 0s 5ms/step - loss: 0.1826 - accuracy: 0.9360 - val_loss: 0.2635 - val_accuracy: 0.9009\n",
            "Epoch 47/50\n",
            "26/26 [==============================] - 0s 7ms/step - loss: 0.1817 - accuracy: 0.9360 - val_loss: 0.2613 - val_accuracy: 0.8964\n",
            "Epoch 48/50\n",
            "26/26 [==============================] - 0s 5ms/step - loss: 0.1810 - accuracy: 0.9360 - val_loss: 0.2630 - val_accuracy: 0.8964\n",
            "Epoch 49/50\n",
            "26/26 [==============================] - 0s 8ms/step - loss: 0.1804 - accuracy: 0.9360 - val_loss: 0.2625 - val_accuracy: 0.8964\n",
            "Epoch 50/50\n",
            "26/26 [==============================] - 0s 9ms/step - loss: 0.1793 - accuracy: 0.9360 - val_loss: 0.2626 - val_accuracy: 0.8964\n"
          ]
        }
      ]
    },
    {
      "cell_type": "code",
      "source": [
        "import matplotlib.pyplot as plt\n",
        "# summarize history for accuracy\n",
        "plt.plot(trained_model.history['accuracy'])\n",
        "plt.plot(trained_model.history['val_accuracy'])\n",
        "plt.title('model accuracy')\n",
        "plt.ylabel('accuracy')\n",
        "plt.xlabel('epoch')\n",
        "plt.legend(['train', 'test'], loc='lower right')\n",
        "plt.show()\n",
        "# summarize history for loss\n",
        "plt.plot(trained_model.history['loss'])\n",
        "plt.plot(trained_model.history['val_loss'])\n",
        "plt.title('model loss')\n",
        "plt.ylabel('loss')\n",
        "plt.xlabel('epoch')\n",
        "plt.legend(['train', 'test'], loc='upper right')\n",
        "plt.show()"
      ],
      "metadata": {
        "colab": {
          "base_uri": "https://localhost:8080/",
          "height": 573
        },
        "id": "ReuR8AmPyBZl",
        "outputId": "b12ae430-5111-4cde-d854-07495020c528"
      },
      "execution_count": 33,
      "outputs": [
        {
          "output_type": "display_data",
          "data": {
            "text/plain": [
              "<Figure size 432x288 with 1 Axes>"
            ],
            "image/png": "[encoded data removed]"
          },
          "metadata": {
            "needs_background": "light"
          }
        },
        {
          "output_type": "display_data",
          "data": {
            "text/plain": [
              "<Figure size 432x288 with 1 Axes>"
            ],
            "image/png": "[encoded data removed]"
          },
          "metadata": {
            "needs_background": "light"
          }
        }
      ]
    },
    {
      "cell_type": "markdown",
      "source": [
        "# Split data into 3\n"
      ],
      "metadata": {
        "id": "JxF7eHohZfaI"
      }
    },
    {
      "cell_type": "code",
      "source": [],
      "metadata": {
        "id": "xPPeMkS8ZpgM"
      },
      "execution_count": 33,
      "outputs": []
    }
  ]
}