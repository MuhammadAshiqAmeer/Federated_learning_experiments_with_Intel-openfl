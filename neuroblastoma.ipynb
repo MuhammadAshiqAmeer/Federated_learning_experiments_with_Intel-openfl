{
  "nbformat": 4,
  "nbformat_minor": 0,
  "metadata": {
    "colab": {
      "provenance": [],
      "authorship_tag": "ABX9TyOf8nEPh6cLPa6guq2ovDmM",
      "include_colab_link": true
    },
    "kernelspec": {
      "name": "python3",
      "display_name": "Python 3"
    },
    "language_info": {
      "name": "python"
    }
  },
  "cells": [
    {
      "cell_type": "markdown",
      "metadata": {
        "id": "view-in-github",
        "colab_type": "text"
      },
      "source": [
        "<a href=\"https://colab.research.google.com/github/MuhammadAshiqAmeer/Federated_learning_experiments_with_Intel-openfl/blob/colab/neuroblastoma.ipynb\" target=\"_parent\"><img src=\"https://colab.research.google.com/assets/colab-badge.svg\" alt=\"Open In Colab\"/></a>"
      ]
    },
    {
      "cell_type": "code",
      "execution_count": 1,
      "metadata": {
        "colab": {
          "base_uri": "https://localhost:8080/"
        },
        "id": "NvpbasCgY05K",
        "outputId": "204d85ac-4e3b-4709-ccd5-1b495483e16f"
      },
      "outputs": [
        {
          "output_type": "stream",
          "name": "stdout",
          "text": [
            "Drive already mounted at /content/drive; to attempt to forcibly remount, call drive.mount(\"/content/drive\", force_remount=True).\n"
          ]
        }
      ],
      "source": [
        "from google.colab import drive\n",
        "drive.mount('/content/drive')"
      ]
    },
    {
      "cell_type": "code",
      "source": [
        "cd /content/drive/MyDrive/federated"
      ],
      "metadata": {
        "colab": {
          "base_uri": "https://localhost:8080/"
        },
        "id": "8-LGguvKZY6G",
        "outputId": "732df327-dbb7-4821-f8bf-094f10248873"
      },
      "execution_count": 2,
      "outputs": [
        {
          "output_type": "stream",
          "name": "stdout",
          "text": [
            "/content/drive/MyDrive/federated\n"
          ]
        }
      ]
    },
    {
      "cell_type": "code",
      "source": [
        "!ls"
      ],
      "metadata": {
        "colab": {
          "base_uri": "https://localhost:8080/"
        },
        "id": "FHRusAh-bNGV",
        "outputId": "f0598779-4e3f-45bd-8a75-ece06c4eaf76"
      },
      "execution_count": 3,
      "outputs": [
        {
          "output_type": "stream",
          "name": "stdout",
          "text": [
            "'Federated lemon-melon CNN classifier'\t neuroblastoma.xlsx\n"
          ]
        }
      ]
    },
    {
      "cell_type": "code",
      "source": [
        "import pandas as pd\n",
        "\n",
        "df = pd.read_excel(\"neuroblastoma.xlsx\")\n",
        "df = df.sample(frac=1).reset_index(drop=True)\n"
      ],
      "metadata": {
        "id": "PR3i3gCzam1y"
      },
      "execution_count": 4,
      "outputs": []
    },
    {
      "cell_type": "code",
      "source": [
        "df"
      ],
      "metadata": {
        "colab": {
          "base_uri": "https://localhost:8080/",
          "height": 468
        },
        "id": "zCov07bqcRYq",
        "outputId": "3d369332-b4e8-4323-f0d7-7e5ef9ee2f24"
      },
      "execution_count": 5,
      "outputs": [
        {
          "output_type": "execute_result",
          "data": {
            "text/plain": [
              "           TARGET USI  Gender  Age at Diagnosis in Days  \\\n",
              "0    TARGET-30-PAVDBS  Female                      1212   \n",
              "1    TARGET-30-PAUGGK  Female                       884   \n",
              "2    TARGET-30-PALRFJ  Female                       709   \n",
              "3    TARGET-30-PAMNAL  Female                      1235   \n",
              "4    TARGET-30-PANYUG    Male                       614   \n",
              "..                ...     ...                       ...   \n",
              "733  TARGET-30-PAUXFZ    Male                       159   \n",
              "734  TARGET-30-PATCEM    Male                      1257   \n",
              "735  TARGET-30-PAUGRP    Male                       199   \n",
              "736  TARGET-30-PATZRF    Male                       189   \n",
              "737  TARGET-30-PASVRU    Male                       631   \n",
              "\n",
              "     Event Free Survival Time in Days Vital Status  \\\n",
              "0                                 475         Dead   \n",
              "1                                2317        Alive   \n",
              "2                                2536        Alive   \n",
              "3                                4499        Alive   \n",
              "4                                1417        Alive   \n",
              "..                                ...          ...   \n",
              "733                              2215        Alive   \n",
              "734                              2291        Alive   \n",
              "735                              2386        Alive   \n",
              "736                               481         Dead   \n",
              "737                               254         Dead   \n",
              "\n",
              "     Overall Survival Time in Days INSS Stage    MYCN status  Ploidy Value  \\\n",
              "0                              863    Stage 4      Amplified          1.24   \n",
              "1                             2317    Stage 4      Amplified          1.00   \n",
              "2                             2536    Stage 4  Not Amplified          1.48   \n",
              "3                             4499    Stage 4  Not Amplified          1.55   \n",
              "4                             1417    Stage 4  Not Amplified          1.49   \n",
              "..                             ...        ...            ...           ...   \n",
              "733                           2215   Stage 2b  Not Amplified          1.33   \n",
              "734                           2291    Stage 4      Amplified          1.47   \n",
              "735                           2386    Stage 4      Amplified          1.00   \n",
              "736                            885   Stage 4s      Amplified          1.76   \n",
              "737                            440    Stage 4      Amplified          1.00   \n",
              "\n",
              "       Histology           MKI COG Risk Group  \n",
              "0    Unfavorable          High      High Risk  \n",
              "1    Unfavorable          High      High Risk  \n",
              "2    Unfavorable          High      High Risk  \n",
              "3    Unfavorable  Intermediate      High Risk  \n",
              "4    Unfavorable  Intermediate      High Risk  \n",
              "..           ...           ...            ...  \n",
              "733    Favorable           Low       Low Risk  \n",
              "734  Unfavorable  Intermediate      High Risk  \n",
              "735    Favorable  Intermediate      High Risk  \n",
              "736  Unfavorable          High      High Risk  \n",
              "737  Unfavorable          High      High Risk  \n",
              "\n",
              "[738 rows x 12 columns]"
            ],
            "text/html": [
              "\n",
              "  <div id=\"df-1ab285ba-b8e0-4f2e-93ea-316aedf827e4\">\n",
              "    <div class=\"colab-df-container\">\n",
              "      <div>\n",
              "<style scoped>\n",
              "    .dataframe tbody tr th:only-of-type {\n",
              "        vertical-align: middle;\n",
              "    }\n",
              "\n",
              "    .dataframe tbody tr th {\n",
              "        vertical-align: top;\n",
              "    }\n",
              "\n",
              "    .dataframe thead th {\n",
              "        text-align: right;\n",
              "    }\n",
              "</style>\n",
              "<table border=\"1\" class=\"dataframe\">\n",
              "  <thead>\n",
              "    <tr style=\"text-align: right;\">\n",
              "      <th></th>\n",
              "      <th>TARGET USI</th>\n",
              "      <th>Gender</th>\n",
              "      <th>Age at Diagnosis in Days</th>\n",
              "      <th>Event Free Survival Time in Days</th>\n",
              "      <th>Vital Status</th>\n",
              "      <th>Overall Survival Time in Days</th>\n",
              "      <th>INSS Stage</th>\n",
              "      <th>MYCN status</th>\n",
              "      <th>Ploidy Value</th>\n",
              "      <th>Histology</th>\n",
              "      <th>MKI</th>\n",
              "      <th>COG Risk Group</th>\n",
              "    </tr>\n",
              "  </thead>\n",
              "  <tbody>\n",
              "    <tr>\n",
              "      <th>0</th>\n",
              "      <td>TARGET-30-PAVDBS</td>\n",
              "      <td>Female</td>\n",
              "      <td>1212</td>\n",
              "      <td>475</td>\n",
              "      <td>Dead</td>\n",
              "      <td>863</td>\n",
              "      <td>Stage 4</td>\n",
              "      <td>Amplified</td>\n",
              "      <td>1.24</td>\n",
              "      <td>Unfavorable</td>\n",
              "      <td>High</td>\n",
              "      <td>High Risk</td>\n",
              "    </tr>\n",
              "    <tr>\n",
              "      <th>1</th>\n",
              "      <td>TARGET-30-PAUGGK</td>\n",
              "      <td>Female</td>\n",
              "      <td>884</td>\n",
              "      <td>2317</td>\n",
              "      <td>Alive</td>\n",
              "      <td>2317</td>\n",
              "      <td>Stage 4</td>\n",
              "      <td>Amplified</td>\n",
              "      <td>1.00</td>\n",
              "      <td>Unfavorable</td>\n",
              "      <td>High</td>\n",
              "      <td>High Risk</td>\n",
              "    </tr>\n",
              "    <tr>\n",
              "      <th>2</th>\n",
              "      <td>TARGET-30-PALRFJ</td>\n",
              "      <td>Female</td>\n",
              "      <td>709</td>\n",
              "      <td>2536</td>\n",
              "      <td>Alive</td>\n",
              "      <td>2536</td>\n",
              "      <td>Stage 4</td>\n",
              "      <td>Not Amplified</td>\n",
              "      <td>1.48</td>\n",
              "      <td>Unfavorable</td>\n",
              "      <td>High</td>\n",
              "      <td>High Risk</td>\n",
              "    </tr>\n",
              "    <tr>\n",
              "      <th>3</th>\n",
              "      <td>TARGET-30-PAMNAL</td>\n",
              "      <td>Female</td>\n",
              "      <td>1235</td>\n",
              "      <td>4499</td>\n",
              "      <td>Alive</td>\n",
              "      <td>4499</td>\n",
              "      <td>Stage 4</td>\n",
              "      <td>Not Amplified</td>\n",
              "      <td>1.55</td>\n",
              "      <td>Unfavorable</td>\n",
              "      <td>Intermediate</td>\n",
              "      <td>High Risk</td>\n",
              "    </tr>\n",
              "    <tr>\n",
              "      <th>4</th>\n",
              "      <td>TARGET-30-PANYUG</td>\n",
              "      <td>Male</td>\n",
              "      <td>614</td>\n",
              "      <td>1417</td>\n",
              "      <td>Alive</td>\n",
              "      <td>1417</td>\n",
              "      <td>Stage 4</td>\n",
              "      <td>Not Amplified</td>\n",
              "      <td>1.49</td>\n",
              "      <td>Unfavorable</td>\n",
              "      <td>Intermediate</td>\n",
              "      <td>High Risk</td>\n",
              "    </tr>\n",
              "    <tr>\n",
              "      <th>...</th>\n",
              "      <td>...</td>\n",
              "      <td>...</td>\n",
              "      <td>...</td>\n",
              "      <td>...</td>\n",
              "      <td>...</td>\n",
              "      <td>...</td>\n",
              "      <td>...</td>\n",
              "      <td>...</td>\n",
              "      <td>...</td>\n",
              "      <td>...</td>\n",
              "      <td>...</td>\n",
              "      <td>...</td>\n",
              "    </tr>\n",
              "    <tr>\n",
              "      <th>733</th>\n",
              "      <td>TARGET-30-PAUXFZ</td>\n",
              "      <td>Male</td>\n",
              "      <td>159</td>\n",
              "      <td>2215</td>\n",
              "      <td>Alive</td>\n",
              "      <td>2215</td>\n",
              "      <td>Stage 2b</td>\n",
              "      <td>Not Amplified</td>\n",
              "      <td>1.33</td>\n",
              "      <td>Favorable</td>\n",
              "      <td>Low</td>\n",
              "      <td>Low Risk</td>\n",
              "    </tr>\n",
              "    <tr>\n",
              "      <th>734</th>\n",
              "      <td>TARGET-30-PATCEM</td>\n",
              "      <td>Male</td>\n",
              "      <td>1257</td>\n",
              "      <td>2291</td>\n",
              "      <td>Alive</td>\n",
              "      <td>2291</td>\n",
              "      <td>Stage 4</td>\n",
              "      <td>Amplified</td>\n",
              "      <td>1.47</td>\n",
              "      <td>Unfavorable</td>\n",
              "      <td>Intermediate</td>\n",
              "      <td>High Risk</td>\n",
              "    </tr>\n",
              "    <tr>\n",
              "      <th>735</th>\n",
              "      <td>TARGET-30-PAUGRP</td>\n",
              "      <td>Male</td>\n",
              "      <td>199</td>\n",
              "      <td>2386</td>\n",
              "      <td>Alive</td>\n",
              "      <td>2386</td>\n",
              "      <td>Stage 4</td>\n",
              "      <td>Amplified</td>\n",
              "      <td>1.00</td>\n",
              "      <td>Favorable</td>\n",
              "      <td>Intermediate</td>\n",
              "      <td>High Risk</td>\n",
              "    </tr>\n",
              "    <tr>\n",
              "      <th>736</th>\n",
              "      <td>TARGET-30-PATZRF</td>\n",
              "      <td>Male</td>\n",
              "      <td>189</td>\n",
              "      <td>481</td>\n",
              "      <td>Dead</td>\n",
              "      <td>885</td>\n",
              "      <td>Stage 4s</td>\n",
              "      <td>Amplified</td>\n",
              "      <td>1.76</td>\n",
              "      <td>Unfavorable</td>\n",
              "      <td>High</td>\n",
              "      <td>High Risk</td>\n",
              "    </tr>\n",
              "    <tr>\n",
              "      <th>737</th>\n",
              "      <td>TARGET-30-PASVRU</td>\n",
              "      <td>Male</td>\n",
              "      <td>631</td>\n",
              "      <td>254</td>\n",
              "      <td>Dead</td>\n",
              "      <td>440</td>\n",
              "      <td>Stage 4</td>\n",
              "      <td>Amplified</td>\n",
              "      <td>1.00</td>\n",
              "      <td>Unfavorable</td>\n",
              "      <td>High</td>\n",
              "      <td>High Risk</td>\n",
              "    </tr>\n",
              "  </tbody>\n",
              "</table>\n",
              "<p>738 rows × 12 columns</p>\n",
              "</div>\n",
              "      <button class=\"colab-df-convert\" onclick=\"convertToInteractive('df-1ab285ba-b8e0-4f2e-93ea-316aedf827e4')\"\n",
              "              title=\"Convert this dataframe to an interactive table.\"\n",
              "              style=\"display:none;\">\n",
              "        \n",
              "  <svg xmlns=\"http://www.w3.org/2000/svg\" height=\"24px\"viewBox=\"0 0 24 24\"\n",
              "       width=\"24px\">\n",
              "    <path d=\"M0 0h24v24H0V0z\" fill=\"none\"/>\n",
              "    <path d=\"M18.56 5.44l.94 2.06.94-2.06 2.06-.94-2.06-.94-.94-2.06-.94 2.06-2.06.94zm-11 1L8.5 8.5l.94-2.06 2.06-.94-2.06-.94L8.5 2.5l-.94 2.06-2.06.94zm10 10l.94 2.06.94-2.06 2.06-.94-2.06-.94-.94-2.06-.94 2.06-2.06.94z\"/><path d=\"M17.41 7.96l-1.37-1.37c-.4-.4-.92-.59-1.43-.59-.52 0-1.04.2-1.43.59L10.3 9.45l-7.72 7.72c-.78.78-.78 2.05 0 2.83L4 21.41c.39.39.9.59 1.41.59.51 0 1.02-.2 1.41-.59l7.78-7.78 2.81-2.81c.8-.78.8-2.07 0-2.86zM5.41 20L4 18.59l7.72-7.72 1.47 1.35L5.41 20z\"/>\n",
              "  </svg>\n",
              "      </button>\n",
              "      \n",
              "  <style>\n",
              "    .colab-df-container {\n",
              "      display:flex;\n",
              "      flex-wrap:wrap;\n",
              "      gap: 12px;\n",
              "    }\n",
              "\n",
              "    .colab-df-convert {\n",
              "      background-color: #E8F0FE;\n",
              "      border: none;\n",
              "      border-radius: 50%;\n",
              "      cursor: pointer;\n",
              "      display: none;\n",
              "      fill: #1967D2;\n",
              "      height: 32px;\n",
              "      padding: 0 0 0 0;\n",
              "      width: 32px;\n",
              "    }\n",
              "\n",
              "    .colab-df-convert:hover {\n",
              "      background-color: #E2EBFA;\n",
              "      box-shadow: 0px 1px 2px rgba(60, 64, 67, 0.3), 0px 1px 3px 1px rgba(60, 64, 67, 0.15);\n",
              "      fill: #174EA6;\n",
              "    }\n",
              "\n",
              "    [theme=dark] .colab-df-convert {\n",
              "      background-color: #3B4455;\n",
              "      fill: #D2E3FC;\n",
              "    }\n",
              "\n",
              "    [theme=dark] .colab-df-convert:hover {\n",
              "      background-color: #434B5C;\n",
              "      box-shadow: 0px 1px 3px 1px rgba(0, 0, 0, 0.15);\n",
              "      filter: drop-shadow(0px 1px 2px rgba(0, 0, 0, 0.3));\n",
              "      fill: #FFFFFF;\n",
              "    }\n",
              "  </style>\n",
              "\n",
              "      <script>\n",
              "        const buttonEl =\n",
              "          document.querySelector('#df-1ab285ba-b8e0-4f2e-93ea-316aedf827e4 button.colab-df-convert');\n",
              "        buttonEl.style.display =\n",
              "          google.colab.kernel.accessAllowed ? 'block' : 'none';\n",
              "\n",
              "        async function convertToInteractive(key) {\n",
              "          const element = document.querySelector('#df-1ab285ba-b8e0-4f2e-93ea-316aedf827e4');\n",
              "          const dataTable =\n",
              "            await google.colab.kernel.invokeFunction('convertToInteractive',\n",
              "                                                     [key], {});\n",
              "          if (!dataTable) return;\n",
              "\n",
              "          const docLinkHtml = 'Like what you see? Visit the ' +\n",
              "            '<a target=\"_blank\" href=https://colab.research.google.com/notebooks/data_table.ipynb>data table notebook</a>'\n",
              "            + ' to learn more about interactive tables.';\n",
              "          element.innerHTML = '';\n",
              "          dataTable['output_type'] = 'display_data';\n",
              "          await google.colab.output.renderOutput(dataTable, element);\n",
              "          const docLink = document.createElement('div');\n",
              "          docLink.innerHTML = docLinkHtml;\n",
              "          element.appendChild(docLink);\n",
              "        }\n",
              "      </script>\n",
              "    </div>\n",
              "  </div>\n",
              "  "
            ]
          },
          "metadata": {},
          "execution_count": 5
        }
      ]
    },
    {
      "cell_type": "code",
      "source": [
        "df.describe()"
      ],
      "metadata": {
        "colab": {
          "base_uri": "https://localhost:8080/",
          "height": 300
        },
        "id": "JV_S7wvNbzC3",
        "outputId": "19bf5b64-96f3-4835-8812-e8ebc4e3547d"
      },
      "execution_count": 6,
      "outputs": [
        {
          "output_type": "execute_result",
          "data": {
            "text/plain": [
              "       Age at Diagnosis in Days  Event Free Survival Time in Days  \\\n",
              "count                738.000000                        738.000000   \n",
              "mean                 942.105691                       1907.228997   \n",
              "std                  928.520081                       1466.809684   \n",
              "min                    1.000000                         10.000000   \n",
              "25%                  315.250000                        491.500000   \n",
              "50%                  740.500000                       1762.500000   \n",
              "75%                 1264.500000                       3198.000000   \n",
              "max                 7613.000000                       6170.000000   \n",
              "\n",
              "       Overall Survival Time in Days  Ploidy Value  \n",
              "count                     738.000000    738.000000  \n",
              "mean                     2261.162602      1.322967  \n",
              "std                      1341.896447      0.353940  \n",
              "min                        10.000000      0.960000  \n",
              "25%                       960.750000      1.000000  \n",
              "50%                      2428.500000      1.220000  \n",
              "75%                      3351.750000      1.530000  \n",
              "max                      6170.000000      3.000000  "
            ],
            "text/html": [
              "\n",
              "  <div id=\"df-9ae638ef-c539-4fb9-99a7-4960b9593ee2\">\n",
              "    <div class=\"colab-df-container\">\n",
              "      <div>\n",
              "<style scoped>\n",
              "    .dataframe tbody tr th:only-of-type {\n",
              "        vertical-align: middle;\n",
              "    }\n",
              "\n",
              "    .dataframe tbody tr th {\n",
              "        vertical-align: top;\n",
              "    }\n",
              "\n",
              "    .dataframe thead th {\n",
              "        text-align: right;\n",
              "    }\n",
              "</style>\n",
              "<table border=\"1\" class=\"dataframe\">\n",
              "  <thead>\n",
              "    <tr style=\"text-align: right;\">\n",
              "      <th></th>\n",
              "      <th>Age at Diagnosis in Days</th>\n",
              "      <th>Event Free Survival Time in Days</th>\n",
              "      <th>Overall Survival Time in Days</th>\n",
              "      <th>Ploidy Value</th>\n",
              "    </tr>\n",
              "  </thead>\n",
              "  <tbody>\n",
              "    <tr>\n",
              "      <th>count</th>\n",
              "      <td>738.000000</td>\n",
              "      <td>738.000000</td>\n",
              "      <td>738.000000</td>\n",
              "      <td>738.000000</td>\n",
              "    </tr>\n",
              "    <tr>\n",
              "      <th>mean</th>\n",
              "      <td>942.105691</td>\n",
              "      <td>1907.228997</td>\n",
              "      <td>2261.162602</td>\n",
              "      <td>1.322967</td>\n",
              "    </tr>\n",
              "    <tr>\n",
              "      <th>std</th>\n",
              "      <td>928.520081</td>\n",
              "      <td>1466.809684</td>\n",
              "      <td>1341.896447</td>\n",
              "      <td>0.353940</td>\n",
              "    </tr>\n",
              "    <tr>\n",
              "      <th>min</th>\n",
              "      <td>1.000000</td>\n",
              "      <td>10.000000</td>\n",
              "      <td>10.000000</td>\n",
              "      <td>0.960000</td>\n",
              "    </tr>\n",
              "    <tr>\n",
              "      <th>25%</th>\n",
              "      <td>315.250000</td>\n",
              "      <td>491.500000</td>\n",
              "      <td>960.750000</td>\n",
              "      <td>1.000000</td>\n",
              "    </tr>\n",
              "    <tr>\n",
              "      <th>50%</th>\n",
              "      <td>740.500000</td>\n",
              "      <td>1762.500000</td>\n",
              "      <td>2428.500000</td>\n",
              "      <td>1.220000</td>\n",
              "    </tr>\n",
              "    <tr>\n",
              "      <th>75%</th>\n",
              "      <td>1264.500000</td>\n",
              "      <td>3198.000000</td>\n",
              "      <td>3351.750000</td>\n",
              "      <td>1.530000</td>\n",
              "    </tr>\n",
              "    <tr>\n",
              "      <th>max</th>\n",
              "      <td>7613.000000</td>\n",
              "      <td>6170.000000</td>\n",
              "      <td>6170.000000</td>\n",
              "      <td>3.000000</td>\n",
              "    </tr>\n",
              "  </tbody>\n",
              "</table>\n",
              "</div>\n",
              "      <button class=\"colab-df-convert\" onclick=\"convertToInteractive('df-9ae638ef-c539-4fb9-99a7-4960b9593ee2')\"\n",
              "              title=\"Convert this dataframe to an interactive table.\"\n",
              "              style=\"display:none;\">\n",
              "        \n",
              "  <svg xmlns=\"http://www.w3.org/2000/svg\" height=\"24px\"viewBox=\"0 0 24 24\"\n",
              "       width=\"24px\">\n",
              "    <path d=\"M0 0h24v24H0V0z\" fill=\"none\"/>\n",
              "    <path d=\"M18.56 5.44l.94 2.06.94-2.06 2.06-.94-2.06-.94-.94-2.06-.94 2.06-2.06.94zm-11 1L8.5 8.5l.94-2.06 2.06-.94-2.06-.94L8.5 2.5l-.94 2.06-2.06.94zm10 10l.94 2.06.94-2.06 2.06-.94-2.06-.94-.94-2.06-.94 2.06-2.06.94z\"/><path d=\"M17.41 7.96l-1.37-1.37c-.4-.4-.92-.59-1.43-.59-.52 0-1.04.2-1.43.59L10.3 9.45l-7.72 7.72c-.78.78-.78 2.05 0 2.83L4 21.41c.39.39.9.59 1.41.59.51 0 1.02-.2 1.41-.59l7.78-7.78 2.81-2.81c.8-.78.8-2.07 0-2.86zM5.41 20L4 18.59l7.72-7.72 1.47 1.35L5.41 20z\"/>\n",
              "  </svg>\n",
              "      </button>\n",
              "      \n",
              "  <style>\n",
              "    .colab-df-container {\n",
              "      display:flex;\n",
              "      flex-wrap:wrap;\n",
              "      gap: 12px;\n",
              "    }\n",
              "\n",
              "    .colab-df-convert {\n",
              "      background-color: #E8F0FE;\n",
              "      border: none;\n",
              "      border-radius: 50%;\n",
              "      cursor: pointer;\n",
              "      display: none;\n",
              "      fill: #1967D2;\n",
              "      height: 32px;\n",
              "      padding: 0 0 0 0;\n",
              "      width: 32px;\n",
              "    }\n",
              "\n",
              "    .colab-df-convert:hover {\n",
              "      background-color: #E2EBFA;\n",
              "      box-shadow: 0px 1px 2px rgba(60, 64, 67, 0.3), 0px 1px 3px 1px rgba(60, 64, 67, 0.15);\n",
              "      fill: #174EA6;\n",
              "    }\n",
              "\n",
              "    [theme=dark] .colab-df-convert {\n",
              "      background-color: #3B4455;\n",
              "      fill: #D2E3FC;\n",
              "    }\n",
              "\n",
              "    [theme=dark] .colab-df-convert:hover {\n",
              "      background-color: #434B5C;\n",
              "      box-shadow: 0px 1px 3px 1px rgba(0, 0, 0, 0.15);\n",
              "      filter: drop-shadow(0px 1px 2px rgba(0, 0, 0, 0.3));\n",
              "      fill: #FFFFFF;\n",
              "    }\n",
              "  </style>\n",
              "\n",
              "      <script>\n",
              "        const buttonEl =\n",
              "          document.querySelector('#df-9ae638ef-c539-4fb9-99a7-4960b9593ee2 button.colab-df-convert');\n",
              "        buttonEl.style.display =\n",
              "          google.colab.kernel.accessAllowed ? 'block' : 'none';\n",
              "\n",
              "        async function convertToInteractive(key) {\n",
              "          const element = document.querySelector('#df-9ae638ef-c539-4fb9-99a7-4960b9593ee2');\n",
              "          const dataTable =\n",
              "            await google.colab.kernel.invokeFunction('convertToInteractive',\n",
              "                                                     [key], {});\n",
              "          if (!dataTable) return;\n",
              "\n",
              "          const docLinkHtml = 'Like what you see? Visit the ' +\n",
              "            '<a target=\"_blank\" href=https://colab.research.google.com/notebooks/data_table.ipynb>data table notebook</a>'\n",
              "            + ' to learn more about interactive tables.';\n",
              "          element.innerHTML = '';\n",
              "          dataTable['output_type'] = 'display_data';\n",
              "          await google.colab.output.renderOutput(dataTable, element);\n",
              "          const docLink = document.createElement('div');\n",
              "          docLink.innerHTML = docLinkHtml;\n",
              "          element.appendChild(docLink);\n",
              "        }\n",
              "      </script>\n",
              "    </div>\n",
              "  </div>\n",
              "  "
            ]
          },
          "metadata": {},
          "execution_count": 6
        }
      ]
    },
    {
      "cell_type": "code",
      "source": [
        "df[\"Gender\"]=df[\"Gender\"].replace({\"Male\":1,\"Female\":0})\n",
        "df['Gender']"
      ],
      "metadata": {
        "colab": {
          "base_uri": "https://localhost:8080/"
        },
        "id": "o5oT7TWvcjdC",
        "outputId": "38f611a8-77b3-4a67-8845-9caf3377b6bc"
      },
      "execution_count": 7,
      "outputs": [
        {
          "output_type": "execute_result",
          "data": {
            "text/plain": [
              "0      0\n",
              "1      0\n",
              "2      0\n",
              "3      0\n",
              "4      1\n",
              "      ..\n",
              "733    1\n",
              "734    1\n",
              "735    1\n",
              "736    1\n",
              "737    1\n",
              "Name: Gender, Length: 738, dtype: int64"
            ]
          },
          "metadata": {},
          "execution_count": 7
        }
      ]
    },
    {
      "cell_type": "code",
      "source": [
        "df[\"Vital Status\"]=df[\"Vital Status\"].replace({\"Dead\":0,\"Alive\":1})\n",
        "df[\"Vital Status\"]"
      ],
      "metadata": {
        "colab": {
          "base_uri": "https://localhost:8080/"
        },
        "id": "WjtaslexTZar",
        "outputId": "95060a69-8d75-4925-ab2b-31d8210e9c00"
      },
      "execution_count": 8,
      "outputs": [
        {
          "output_type": "execute_result",
          "data": {
            "text/plain": [
              "0      0\n",
              "1      1\n",
              "2      1\n",
              "3      1\n",
              "4      1\n",
              "      ..\n",
              "733    1\n",
              "734    1\n",
              "735    1\n",
              "736    0\n",
              "737    0\n",
              "Name: Vital Status, Length: 738, dtype: int64"
            ]
          },
          "metadata": {},
          "execution_count": 8
        }
      ]
    },
    {
      "cell_type": "code",
      "source": [
        "df[\"INSS Stage\"].unique()"
      ],
      "metadata": {
        "colab": {
          "base_uri": "https://localhost:8080/"
        },
        "id": "H-I-7_5rUKrE",
        "outputId": "0b282ed9-c8a2-47d0-9384-cad494606c23"
      },
      "execution_count": 9,
      "outputs": [
        {
          "output_type": "execute_result",
          "data": {
            "text/plain": [
              "array(['Stage 4', 'Stage 2b', 'Stage 3', 'Stage 1', 'Stage 4s',\n",
              "       'Stage 2a'], dtype=object)"
            ]
          },
          "metadata": {},
          "execution_count": 9
        }
      ]
    },
    {
      "cell_type": "code",
      "source": [
        "df[\"INSS Stage\"]=df[\"INSS Stage\"].replace({\"Stage 1\":0,\"Stage 2a\":1,\"Stage 2b\":2,\"Stage 3\":3,\"Stage 4\":4,\"Stage 4s\":5,})\n",
        "df[\"INSS Stage\"]"
      ],
      "metadata": {
        "colab": {
          "base_uri": "https://localhost:8080/"
        },
        "id": "ir8hdeh6VfdD",
        "outputId": "df392596-a5ed-4d16-cd0c-f5362dbd4af7"
      },
      "execution_count": 10,
      "outputs": [
        {
          "output_type": "execute_result",
          "data": {
            "text/plain": [
              "0      4\n",
              "1      4\n",
              "2      4\n",
              "3      4\n",
              "4      4\n",
              "      ..\n",
              "733    2\n",
              "734    4\n",
              "735    4\n",
              "736    5\n",
              "737    4\n",
              "Name: INSS Stage, Length: 738, dtype: int64"
            ]
          },
          "metadata": {},
          "execution_count": 10
        }
      ]
    },
    {
      "cell_type": "code",
      "source": [
        "df[\"MYCN status\"].unique()"
      ],
      "metadata": {
        "colab": {
          "base_uri": "https://localhost:8080/"
        },
        "id": "ZyWMVHpnWRS5",
        "outputId": "70137021-7763-4514-8aca-eeedb74573af"
      },
      "execution_count": 11,
      "outputs": [
        {
          "output_type": "execute_result",
          "data": {
            "text/plain": [
              "array(['Amplified', 'Not Amplified'], dtype=object)"
            ]
          },
          "metadata": {},
          "execution_count": 11
        }
      ]
    },
    {
      "cell_type": "code",
      "source": [
        "df[\"MYCN status\"]=df[\"MYCN status\"].replace({\"Not Amplified\":0,\"Amplified\":1})\n",
        "df[\"MYCN status\"]"
      ],
      "metadata": {
        "colab": {
          "base_uri": "https://localhost:8080/"
        },
        "id": "PzgvLGnmWfV7",
        "outputId": "eef2ad71-2059-4736-a86f-9caec1b22a56"
      },
      "execution_count": 12,
      "outputs": [
        {
          "output_type": "execute_result",
          "data": {
            "text/plain": [
              "0      1\n",
              "1      1\n",
              "2      0\n",
              "3      0\n",
              "4      0\n",
              "      ..\n",
              "733    0\n",
              "734    1\n",
              "735    1\n",
              "736    1\n",
              "737    1\n",
              "Name: MYCN status, Length: 738, dtype: int64"
            ]
          },
          "metadata": {},
          "execution_count": 12
        }
      ]
    },
    {
      "cell_type": "code",
      "source": [
        "df[\"Histology\"].unique()"
      ],
      "metadata": {
        "colab": {
          "base_uri": "https://localhost:8080/"
        },
        "id": "L3E1lPGpWzt1",
        "outputId": "d1cbe7dc-c0c5-4c08-90da-ada6545a266d"
      },
      "execution_count": 13,
      "outputs": [
        {
          "output_type": "execute_result",
          "data": {
            "text/plain": [
              "array(['Unfavorable', 'Favorable'], dtype=object)"
            ]
          },
          "metadata": {},
          "execution_count": 13
        }
      ]
    },
    {
      "cell_type": "code",
      "source": [
        "df[\"MKI\"].unique()"
      ],
      "metadata": {
        "colab": {
          "base_uri": "https://localhost:8080/"
        },
        "id": "RWiDujENXCac",
        "outputId": "b7d506e6-5442-437f-dadc-f70c73a54546"
      },
      "execution_count": 14,
      "outputs": [
        {
          "output_type": "execute_result",
          "data": {
            "text/plain": [
              "array(['High', 'Intermediate', 'Low'], dtype=object)"
            ]
          },
          "metadata": {},
          "execution_count": 14
        }
      ]
    },
    {
      "cell_type": "code",
      "source": [
        "df[\"COG Risk Group\"].unique()"
      ],
      "metadata": {
        "colab": {
          "base_uri": "https://localhost:8080/"
        },
        "id": "l8lyPu2dXFrl",
        "outputId": "264ee7bb-848d-45e8-9ef8-911ae2b34cee"
      },
      "execution_count": 15,
      "outputs": [
        {
          "output_type": "execute_result",
          "data": {
            "text/plain": [
              "array(['High Risk', 'Low Risk', 'Intermediate Risk'], dtype=object)"
            ]
          },
          "metadata": {},
          "execution_count": 15
        }
      ]
    },
    {
      "cell_type": "code",
      "source": [
        "df[\"Histology\"]=df[\"Histology\"].replace({\"Favorable\":0,\"Unfavorable\":1})\n",
        "df[\"MKI\"]=df[\"MKI\"].replace({\"Low\":0,\"High\":1,\"Intermediate\":2})\n",
        "df[\"COG Risk Group\"]=df[\"COG Risk Group\"].replace({\"Low Risk\":0,\"Intermediate Risk\":1,\"High Risk\":2})"
      ],
      "metadata": {
        "id": "5nEIIO2rXOgT"
      },
      "execution_count": 16,
      "outputs": []
    },
    {
      "cell_type": "code",
      "source": [
        "print(df[\"Histology\"])\n",
        "print(df[\"MKI\"])\n",
        "print(df[\"COG Risk Group\"])"
      ],
      "metadata": {
        "colab": {
          "base_uri": "https://localhost:8080/"
        },
        "id": "Ovy2Ld_SYd2I",
        "outputId": "84e1b48c-46ce-4962-bcb8-4b1e6905eb1e"
      },
      "execution_count": 17,
      "outputs": [
        {
          "output_type": "stream",
          "name": "stdout",
          "text": [
            "0      1\n",
            "1      1\n",
            "2      1\n",
            "3      1\n",
            "4      1\n",
            "      ..\n",
            "733    0\n",
            "734    1\n",
            "735    0\n",
            "736    1\n",
            "737    1\n",
            "Name: Histology, Length: 738, dtype: int64\n",
            "0      1\n",
            "1      1\n",
            "2      1\n",
            "3      2\n",
            "4      2\n",
            "      ..\n",
            "733    0\n",
            "734    2\n",
            "735    2\n",
            "736    1\n",
            "737    1\n",
            "Name: MKI, Length: 738, dtype: int64\n",
            "0      2\n",
            "1      2\n",
            "2      2\n",
            "3      2\n",
            "4      2\n",
            "      ..\n",
            "733    0\n",
            "734    2\n",
            "735    2\n",
            "736    2\n",
            "737    2\n",
            "Name: COG Risk Group, Length: 738, dtype: int64\n"
          ]
        }
      ]
    },
    {
      "cell_type": "code",
      "source": [
        "import seaborn as sns\n",
        "import matplotlib.pyplot as plt\n",
        "\n",
        "corr = df.corr()\n",
        "\n",
        "fig, ax = plt.subplots(figsize=(10,10))\n",
        "sns.heatmap(corr, \n",
        "         xticklabels=corr.columns, \n",
        "         yticklabels=corr.columns,\n",
        "         annot=True)"
      ],
      "metadata": {
        "colab": {
          "base_uri": "https://localhost:8080/",
          "height": 767
        },
        "id": "4RTTBm5jfMz2",
        "outputId": "d8386eb1-5e55-42e3-e6b1-d41965c3f3cd"
      },
      "execution_count": 18,
      "outputs": [
        {
          "output_type": "execute_result",
          "data": {
            "text/plain": [
              "<matplotlib.axes._subplots.AxesSubplot at 0x7ff8398e3d30>"
            ]
          },
          "metadata": {},
          "execution_count": 18
        },
        {
          "output_type": "display_data",
          "data": {
            "text/plain": [
              "<Figure size 720x720 with 2 Axes>"
            ],
            "image/png": "[encoded data removed]"
          },
          "metadata": {
            "needs_background": "light"
          }
        }
      ]
    },
    {
      "cell_type": "code",
      "source": [],
      "metadata": {
        "id": "FCDKuU94B8fI"
      },
      "execution_count": 18,
      "outputs": []
    },
    {
      "cell_type": "code",
      "source": [
        "df[\"Overall Survival Time in Years\"] = round(df[\"Overall Survival Time in Days\"]/365,0)\n",
        "df[\"Overall Survival Time in Years\"]\n",
        "df[\"Overall Survival Time in Years\"].unique()"
      ],
      "metadata": {
        "colab": {
          "base_uri": "https://localhost:8080/"
        },
        "id": "eeyZlkZXZ75W",
        "outputId": "1990bcf6-644e-484c-911d-f778512143c2"
      },
      "execution_count": 19,
      "outputs": [
        {
          "output_type": "execute_result",
          "data": {
            "text/plain": [
              "array([ 2.,  6.,  7., 12.,  4.,  9., 11.,  1.,  5.,  0.,  3.,  8., 10.,\n",
              "       13., 14., 15., 17.])"
            ]
          },
          "metadata": {},
          "execution_count": 19
        }
      ]
    },
    {
      "cell_type": "code",
      "source": [
        "df"
      ],
      "metadata": {
        "colab": {
          "base_uri": "https://localhost:8080/",
          "height": 659
        },
        "id": "i8l4i7XrY_FN",
        "outputId": "00e4ccfa-6512-4a35-b703-fb67dc0b7d5a"
      },
      "execution_count": 20,
      "outputs": [
        {
          "output_type": "execute_result",
          "data": {
            "text/plain": [
              "           TARGET USI  Gender  Age at Diagnosis in Days  \\\n",
              "0    TARGET-30-PAVDBS       0                      1212   \n",
              "1    TARGET-30-PAUGGK       0                       884   \n",
              "2    TARGET-30-PALRFJ       0                       709   \n",
              "3    TARGET-30-PAMNAL       0                      1235   \n",
              "4    TARGET-30-PANYUG       1                       614   \n",
              "..                ...     ...                       ...   \n",
              "733  TARGET-30-PAUXFZ       1                       159   \n",
              "734  TARGET-30-PATCEM       1                      1257   \n",
              "735  TARGET-30-PAUGRP       1                       199   \n",
              "736  TARGET-30-PATZRF       1                       189   \n",
              "737  TARGET-30-PASVRU       1                       631   \n",
              "\n",
              "     Event Free Survival Time in Days  Vital Status  \\\n",
              "0                                 475             0   \n",
              "1                                2317             1   \n",
              "2                                2536             1   \n",
              "3                                4499             1   \n",
              "4                                1417             1   \n",
              "..                                ...           ...   \n",
              "733                              2215             1   \n",
              "734                              2291             1   \n",
              "735                              2386             1   \n",
              "736                               481             0   \n",
              "737                               254             0   \n",
              "\n",
              "     Overall Survival Time in Days  INSS Stage  MYCN status  Ploidy Value  \\\n",
              "0                              863           4            1          1.24   \n",
              "1                             2317           4            1          1.00   \n",
              "2                             2536           4            0          1.48   \n",
              "3                             4499           4            0          1.55   \n",
              "4                             1417           4            0          1.49   \n",
              "..                             ...         ...          ...           ...   \n",
              "733                           2215           2            0          1.33   \n",
              "734                           2291           4            1          1.47   \n",
              "735                           2386           4            1          1.00   \n",
              "736                            885           5            1          1.76   \n",
              "737                            440           4            1          1.00   \n",
              "\n",
              "     Histology  MKI  COG Risk Group  Overall Survival Time in Years  \n",
              "0            1    1               2                             2.0  \n",
              "1            1    1               2                             6.0  \n",
              "2            1    1               2                             7.0  \n",
              "3            1    2               2                            12.0  \n",
              "4            1    2               2                             4.0  \n",
              "..         ...  ...             ...                             ...  \n",
              "733          0    0               0                             6.0  \n",
              "734          1    2               2                             6.0  \n",
              "735          0    2               2                             7.0  \n",
              "736          1    1               2                             2.0  \n",
              "737          1    1               2                             1.0  \n",
              "\n",
              "[738 rows x 13 columns]"
            ],
            "text/html": [
              "\n",
              "  <div id=\"df-b98ec734-4b42-486e-b885-644837c404f3\">\n",
              "    <div class=\"colab-df-container\">\n",
              "      <div>\n",
              "<style scoped>\n",
              "    .dataframe tbody tr th:only-of-type {\n",
              "        vertical-align: middle;\n",
              "    }\n",
              "\n",
              "    .dataframe tbody tr th {\n",
              "        vertical-align: top;\n",
              "    }\n",
              "\n",
              "    .dataframe thead th {\n",
              "        text-align: right;\n",
              "    }\n",
              "</style>\n",
              "<table border=\"1\" class=\"dataframe\">\n",
              "  <thead>\n",
              "    <tr style=\"text-align: right;\">\n",
              "      <th></th>\n",
              "      <th>TARGET USI</th>\n",
              "      <th>Gender</th>\n",
              "      <th>Age at Diagnosis in Days</th>\n",
              "      <th>Event Free Survival Time in Days</th>\n",
              "      <th>Vital Status</th>\n",
              "      <th>Overall Survival Time in Days</th>\n",
              "      <th>INSS Stage</th>\n",
              "      <th>MYCN status</th>\n",
              "      <th>Ploidy Value</th>\n",
              "      <th>Histology</th>\n",
              "      <th>MKI</th>\n",
              "      <th>COG Risk Group</th>\n",
              "      <th>Overall Survival Time in Years</th>\n",
              "    </tr>\n",
              "  </thead>\n",
              "  <tbody>\n",
              "    <tr>\n",
              "      <th>0</th>\n",
              "      <td>TARGET-30-PAVDBS</td>\n",
              "      <td>0</td>\n",
              "      <td>1212</td>\n",
              "      <td>475</td>\n",
              "      <td>0</td>\n",
              "      <td>863</td>\n",
              "      <td>4</td>\n",
              "      <td>1</td>\n",
              "      <td>1.24</td>\n",
              "      <td>1</td>\n",
              "      <td>1</td>\n",
              "      <td>2</td>\n",
              "      <td>2.0</td>\n",
              "    </tr>\n",
              "    <tr>\n",
              "      <th>1</th>\n",
              "      <td>TARGET-30-PAUGGK</td>\n",
              "      <td>0</td>\n",
              "      <td>884</td>\n",
              "      <td>2317</td>\n",
              "      <td>1</td>\n",
              "      <td>2317</td>\n",
              "      <td>4</td>\n",
              "      <td>1</td>\n",
              "      <td>1.00</td>\n",
              "      <td>1</td>\n",
              "      <td>1</td>\n",
              "      <td>2</td>\n",
              "      <td>6.0</td>\n",
              "    </tr>\n",
              "    <tr>\n",
              "      <th>2</th>\n",
              "      <td>TARGET-30-PALRFJ</td>\n",
              "      <td>0</td>\n",
              "      <td>709</td>\n",
              "      <td>2536</td>\n",
              "      <td>1</td>\n",
              "      <td>2536</td>\n",
              "      <td>4</td>\n",
              "      <td>0</td>\n",
              "      <td>1.48</td>\n",
              "      <td>1</td>\n",
              "      <td>1</td>\n",
              "      <td>2</td>\n",
              "      <td>7.0</td>\n",
              "    </tr>\n",
              "    <tr>\n",
              "      <th>3</th>\n",
              "      <td>TARGET-30-PAMNAL</td>\n",
              "      <td>0</td>\n",
              "      <td>1235</td>\n",
              "      <td>4499</td>\n",
              "      <td>1</td>\n",
              "      <td>4499</td>\n",
              "      <td>4</td>\n",
              "      <td>0</td>\n",
              "      <td>1.55</td>\n",
              "      <td>1</td>\n",
              "      <td>2</td>\n",
              "      <td>2</td>\n",
              "      <td>12.0</td>\n",
              "    </tr>\n",
              "    <tr>\n",
              "      <th>4</th>\n",
              "      <td>TARGET-30-PANYUG</td>\n",
              "      <td>1</td>\n",
              "      <td>614</td>\n",
              "      <td>1417</td>\n",
              "      <td>1</td>\n",
              "      <td>1417</td>\n",
              "      <td>4</td>\n",
              "      <td>0</td>\n",
              "      <td>1.49</td>\n",
              "      <td>1</td>\n",
              "      <td>2</td>\n",
              "      <td>2</td>\n",
              "      <td>4.0</td>\n",
              "    </tr>\n",
              "    <tr>\n",
              "      <th>...</th>\n",
              "      <td>...</td>\n",
              "      <td>...</td>\n",
              "      <td>...</td>\n",
              "      <td>...</td>\n",
              "      <td>...</td>\n",
              "      <td>...</td>\n",
              "      <td>...</td>\n",
              "      <td>...</td>\n",
              "      <td>...</td>\n",
              "      <td>...</td>\n",
              "      <td>...</td>\n",
              "      <td>...</td>\n",
              "      <td>...</td>\n",
              "    </tr>\n",
              "    <tr>\n",
              "      <th>733</th>\n",
              "      <td>TARGET-30-PAUXFZ</td>\n",
              "      <td>1</td>\n",
              "      <td>159</td>\n",
              "      <td>2215</td>\n",
              "      <td>1</td>\n",
              "      <td>2215</td>\n",
              "      <td>2</td>\n",
              "      <td>0</td>\n",
              "      <td>1.33</td>\n",
              "      <td>0</td>\n",
              "      <td>0</td>\n",
              "      <td>0</td>\n",
              "      <td>6.0</td>\n",
              "    </tr>\n",
              "    <tr>\n",
              "      <th>734</th>\n",
              "      <td>TARGET-30-PATCEM</td>\n",
              "      <td>1</td>\n",
              "      <td>1257</td>\n",
              "      <td>2291</td>\n",
              "      <td>1</td>\n",
              "      <td>2291</td>\n",
              "      <td>4</td>\n",
              "      <td>1</td>\n",
              "      <td>1.47</td>\n",
              "      <td>1</td>\n",
              "      <td>2</td>\n",
              "      <td>2</td>\n",
              "      <td>6.0</td>\n",
              "    </tr>\n",
              "    <tr>\n",
              "      <th>735</th>\n",
              "      <td>TARGET-30-PAUGRP</td>\n",
              "      <td>1</td>\n",
              "      <td>199</td>\n",
              "      <td>2386</td>\n",
              "      <td>1</td>\n",
              "      <td>2386</td>\n",
              "      <td>4</td>\n",
              "      <td>1</td>\n",
              "      <td>1.00</td>\n",
              "      <td>0</td>\n",
              "      <td>2</td>\n",
              "      <td>2</td>\n",
              "      <td>7.0</td>\n",
              "    </tr>\n",
              "    <tr>\n",
              "      <th>736</th>\n",
              "      <td>TARGET-30-PATZRF</td>\n",
              "      <td>1</td>\n",
              "      <td>189</td>\n",
              "      <td>481</td>\n",
              "      <td>0</td>\n",
              "      <td>885</td>\n",
              "      <td>5</td>\n",
              "      <td>1</td>\n",
              "      <td>1.76</td>\n",
              "      <td>1</td>\n",
              "      <td>1</td>\n",
              "      <td>2</td>\n",
              "      <td>2.0</td>\n",
              "    </tr>\n",
              "    <tr>\n",
              "      <th>737</th>\n",
              "      <td>TARGET-30-PASVRU</td>\n",
              "      <td>1</td>\n",
              "      <td>631</td>\n",
              "      <td>254</td>\n",
              "      <td>0</td>\n",
              "      <td>440</td>\n",
              "      <td>4</td>\n",
              "      <td>1</td>\n",
              "      <td>1.00</td>\n",
              "      <td>1</td>\n",
              "      <td>1</td>\n",
              "      <td>2</td>\n",
              "      <td>1.0</td>\n",
              "    </tr>\n",
              "  </tbody>\n",
              "</table>\n",
              "<p>738 rows × 13 columns</p>\n",
              "</div>\n",
              "      <button class=\"colab-df-convert\" onclick=\"convertToInteractive('df-b98ec734-4b42-486e-b885-644837c404f3')\"\n",
              "              title=\"Convert this dataframe to an interactive table.\"\n",
              "              style=\"display:none;\">\n",
              "        \n",
              "  <svg xmlns=\"http://www.w3.org/2000/svg\" height=\"24px\"viewBox=\"0 0 24 24\"\n",
              "       width=\"24px\">\n",
              "    <path d=\"M0 0h24v24H0V0z\" fill=\"none\"/>\n",
              "    <path d=\"M18.56 5.44l.94 2.06.94-2.06 2.06-.94-2.06-.94-.94-2.06-.94 2.06-2.06.94zm-11 1L8.5 8.5l.94-2.06 2.06-.94-2.06-.94L8.5 2.5l-.94 2.06-2.06.94zm10 10l.94 2.06.94-2.06 2.06-.94-2.06-.94-.94-2.06-.94 2.06-2.06.94z\"/><path d=\"M17.41 7.96l-1.37-1.37c-.4-.4-.92-.59-1.43-.59-.52 0-1.04.2-1.43.59L10.3 9.45l-7.72 7.72c-.78.78-.78 2.05 0 2.83L4 21.41c.39.39.9.59 1.41.59.51 0 1.02-.2 1.41-.59l7.78-7.78 2.81-2.81c.8-.78.8-2.07 0-2.86zM5.41 20L4 18.59l7.72-7.72 1.47 1.35L5.41 20z\"/>\n",
              "  </svg>\n",
              "      </button>\n",
              "      \n",
              "  <style>\n",
              "    .colab-df-container {\n",
              "      display:flex;\n",
              "      flex-wrap:wrap;\n",
              "      gap: 12px;\n",
              "    }\n",
              "\n",
              "    .colab-df-convert {\n",
              "      background-color: #E8F0FE;\n",
              "      border: none;\n",
              "      border-radius: 50%;\n",
              "      cursor: pointer;\n",
              "      display: none;\n",
              "      fill: #1967D2;\n",
              "      height: 32px;\n",
              "      padding: 0 0 0 0;\n",
              "      width: 32px;\n",
              "    }\n",
              "\n",
              "    .colab-df-convert:hover {\n",
              "      background-color: #E2EBFA;\n",
              "      box-shadow: 0px 1px 2px rgba(60, 64, 67, 0.3), 0px 1px 3px 1px rgba(60, 64, 67, 0.15);\n",
              "      fill: #174EA6;\n",
              "    }\n",
              "\n",
              "    [theme=dark] .colab-df-convert {\n",
              "      background-color: #3B4455;\n",
              "      fill: #D2E3FC;\n",
              "    }\n",
              "\n",
              "    [theme=dark] .colab-df-convert:hover {\n",
              "      background-color: #434B5C;\n",
              "      box-shadow: 0px 1px 3px 1px rgba(0, 0, 0, 0.15);\n",
              "      filter: drop-shadow(0px 1px 2px rgba(0, 0, 0, 0.3));\n",
              "      fill: #FFFFFF;\n",
              "    }\n",
              "  </style>\n",
              "\n",
              "      <script>\n",
              "        const buttonEl =\n",
              "          document.querySelector('#df-b98ec734-4b42-486e-b885-644837c404f3 button.colab-df-convert');\n",
              "        buttonEl.style.display =\n",
              "          google.colab.kernel.accessAllowed ? 'block' : 'none';\n",
              "\n",
              "        async function convertToInteractive(key) {\n",
              "          const element = document.querySelector('#df-b98ec734-4b42-486e-b885-644837c404f3');\n",
              "          const dataTable =\n",
              "            await google.colab.kernel.invokeFunction('convertToInteractive',\n",
              "                                                     [key], {});\n",
              "          if (!dataTable) return;\n",
              "\n",
              "          const docLinkHtml = 'Like what you see? Visit the ' +\n",
              "            '<a target=\"_blank\" href=https://colab.research.google.com/notebooks/data_table.ipynb>data table notebook</a>'\n",
              "            + ' to learn more about interactive tables.';\n",
              "          element.innerHTML = '';\n",
              "          dataTable['output_type'] = 'display_data';\n",
              "          await google.colab.output.renderOutput(dataTable, element);\n",
              "          const docLink = document.createElement('div');\n",
              "          docLink.innerHTML = docLinkHtml;\n",
              "          element.appendChild(docLink);\n",
              "        }\n",
              "      </script>\n",
              "    </div>\n",
              "  </div>\n",
              "  "
            ]
          },
          "metadata": {},
          "execution_count": 20
        }
      ]
    },
    {
      "cell_type": "code",
      "source": [
        "x=df.drop(['Vital Status','TARGET USI','Overall Survival Time in Days','Gender'],axis=1)\n",
        "x"
      ],
      "metadata": {
        "colab": {
          "base_uri": "https://localhost:8080/",
          "height": 424
        },
        "id": "4-w-yIapjp-S",
        "outputId": "0b084c24-dc34-45e0-bee5-b66825a754c3"
      },
      "execution_count": 21,
      "outputs": [
        {
          "output_type": "execute_result",
          "data": {
            "text/plain": [
              "     Age at Diagnosis in Days  Event Free Survival Time in Days  INSS Stage  \\\n",
              "0                        1212                               475           4   \n",
              "1                         884                              2317           4   \n",
              "2                         709                              2536           4   \n",
              "3                        1235                              4499           4   \n",
              "4                         614                              1417           4   \n",
              "..                        ...                               ...         ...   \n",
              "733                       159                              2215           2   \n",
              "734                      1257                              2291           4   \n",
              "735                       199                              2386           4   \n",
              "736                       189                               481           5   \n",
              "737                       631                               254           4   \n",
              "\n",
              "     MYCN status  Ploidy Value  Histology  MKI  COG Risk Group  \\\n",
              "0              1          1.24          1    1               2   \n",
              "1              1          1.00          1    1               2   \n",
              "2              0          1.48          1    1               2   \n",
              "3              0          1.55          1    2               2   \n",
              "4              0          1.49          1    2               2   \n",
              "..           ...           ...        ...  ...             ...   \n",
              "733            0          1.33          0    0               0   \n",
              "734            1          1.47          1    2               2   \n",
              "735            1          1.00          0    2               2   \n",
              "736            1          1.76          1    1               2   \n",
              "737            1          1.00          1    1               2   \n",
              "\n",
              "     Overall Survival Time in Years  \n",
              "0                               2.0  \n",
              "1                               6.0  \n",
              "2                               7.0  \n",
              "3                              12.0  \n",
              "4                               4.0  \n",
              "..                              ...  \n",
              "733                             6.0  \n",
              "734                             6.0  \n",
              "735                             7.0  \n",
              "736                             2.0  \n",
              "737                             1.0  \n",
              "\n",
              "[738 rows x 9 columns]"
            ],
            "text/html": [
              "\n",
              "  <div id=\"df-ef4cf9a5-6d71-4b0a-bf60-b39d384e38ee\">\n",
              "    <div class=\"colab-df-container\">\n",
              "      <div>\n",
              "<style scoped>\n",
              "    .dataframe tbody tr th:only-of-type {\n",
              "        vertical-align: middle;\n",
              "    }\n",
              "\n",
              "    .dataframe tbody tr th {\n",
              "        vertical-align: top;\n",
              "    }\n",
              "\n",
              "    .dataframe thead th {\n",
              "        text-align: right;\n",
              "    }\n",
              "</style>\n",
              "<table border=\"1\" class=\"dataframe\">\n",
              "  <thead>\n",
              "    <tr style=\"text-align: right;\">\n",
              "      <th></th>\n",
              "      <th>Age at Diagnosis in Days</th>\n",
              "      <th>Event Free Survival Time in Days</th>\n",
              "      <th>INSS Stage</th>\n",
              "      <th>MYCN status</th>\n",
              "      <th>Ploidy Value</th>\n",
              "      <th>Histology</th>\n",
              "      <th>MKI</th>\n",
              "      <th>COG Risk Group</th>\n",
              "      <th>Overall Survival Time in Years</th>\n",
              "    </tr>\n",
              "  </thead>\n",
              "  <tbody>\n",
              "    <tr>\n",
              "      <th>0</th>\n",
              "      <td>1212</td>\n",
              "      <td>475</td>\n",
              "      <td>4</td>\n",
              "      <td>1</td>\n",
              "      <td>1.24</td>\n",
              "      <td>1</td>\n",
              "      <td>1</td>\n",
              "      <td>2</td>\n",
              "      <td>2.0</td>\n",
              "    </tr>\n",
              "    <tr>\n",
              "      <th>1</th>\n",
              "      <td>884</td>\n",
              "      <td>2317</td>\n",
              "      <td>4</td>\n",
              "      <td>1</td>\n",
              "      <td>1.00</td>\n",
              "      <td>1</td>\n",
              "      <td>1</td>\n",
              "      <td>2</td>\n",
              "      <td>6.0</td>\n",
              "    </tr>\n",
              "    <tr>\n",
              "      <th>2</th>\n",
              "      <td>709</td>\n",
              "      <td>2536</td>\n",
              "      <td>4</td>\n",
              "      <td>0</td>\n",
              "      <td>1.48</td>\n",
              "      <td>1</td>\n",
              "      <td>1</td>\n",
              "      <td>2</td>\n",
              "      <td>7.0</td>\n",
              "    </tr>\n",
              "    <tr>\n",
              "      <th>3</th>\n",
              "      <td>1235</td>\n",
              "      <td>4499</td>\n",
              "      <td>4</td>\n",
              "      <td>0</td>\n",
              "      <td>1.55</td>\n",
              "      <td>1</td>\n",
              "      <td>2</td>\n",
              "      <td>2</td>\n",
              "      <td>12.0</td>\n",
              "    </tr>\n",
              "    <tr>\n",
              "      <th>4</th>\n",
              "      <td>614</td>\n",
              "      <td>1417</td>\n",
              "      <td>4</td>\n",
              "      <td>0</td>\n",
              "      <td>1.49</td>\n",
              "      <td>1</td>\n",
              "      <td>2</td>\n",
              "      <td>2</td>\n",
              "      <td>4.0</td>\n",
              "    </tr>\n",
              "    <tr>\n",
              "      <th>...</th>\n",
              "      <td>...</td>\n",
              "      <td>...</td>\n",
              "      <td>...</td>\n",
              "      <td>...</td>\n",
              "      <td>...</td>\n",
              "      <td>...</td>\n",
              "      <td>...</td>\n",
              "      <td>...</td>\n",
              "      <td>...</td>\n",
              "    </tr>\n",
              "    <tr>\n",
              "      <th>733</th>\n",
              "      <td>159</td>\n",
              "      <td>2215</td>\n",
              "      <td>2</td>\n",
              "      <td>0</td>\n",
              "      <td>1.33</td>\n",
              "      <td>0</td>\n",
              "      <td>0</td>\n",
              "      <td>0</td>\n",
              "      <td>6.0</td>\n",
              "    </tr>\n",
              "    <tr>\n",
              "      <th>734</th>\n",
              "      <td>1257</td>\n",
              "      <td>2291</td>\n",
              "      <td>4</td>\n",
              "      <td>1</td>\n",
              "      <td>1.47</td>\n",
              "      <td>1</td>\n",
              "      <td>2</td>\n",
              "      <td>2</td>\n",
              "      <td>6.0</td>\n",
              "    </tr>\n",
              "    <tr>\n",
              "      <th>735</th>\n",
              "      <td>199</td>\n",
              "      <td>2386</td>\n",
              "      <td>4</td>\n",
              "      <td>1</td>\n",
              "      <td>1.00</td>\n",
              "      <td>0</td>\n",
              "      <td>2</td>\n",
              "      <td>2</td>\n",
              "      <td>7.0</td>\n",
              "    </tr>\n",
              "    <tr>\n",
              "      <th>736</th>\n",
              "      <td>189</td>\n",
              "      <td>481</td>\n",
              "      <td>5</td>\n",
              "      <td>1</td>\n",
              "      <td>1.76</td>\n",
              "      <td>1</td>\n",
              "      <td>1</td>\n",
              "      <td>2</td>\n",
              "      <td>2.0</td>\n",
              "    </tr>\n",
              "    <tr>\n",
              "      <th>737</th>\n",
              "      <td>631</td>\n",
              "      <td>254</td>\n",
              "      <td>4</td>\n",
              "      <td>1</td>\n",
              "      <td>1.00</td>\n",
              "      <td>1</td>\n",
              "      <td>1</td>\n",
              "      <td>2</td>\n",
              "      <td>1.0</td>\n",
              "    </tr>\n",
              "  </tbody>\n",
              "</table>\n",
              "<p>738 rows × 9 columns</p>\n",
              "</div>\n",
              "      <button class=\"colab-df-convert\" onclick=\"convertToInteractive('df-ef4cf9a5-6d71-4b0a-bf60-b39d384e38ee')\"\n",
              "              title=\"Convert this dataframe to an interactive table.\"\n",
              "              style=\"display:none;\">\n",
              "        \n",
              "  <svg xmlns=\"http://www.w3.org/2000/svg\" height=\"24px\"viewBox=\"0 0 24 24\"\n",
              "       width=\"24px\">\n",
              "    <path d=\"M0 0h24v24H0V0z\" fill=\"none\"/>\n",
              "    <path d=\"M18.56 5.44l.94 2.06.94-2.06 2.06-.94-2.06-.94-.94-2.06-.94 2.06-2.06.94zm-11 1L8.5 8.5l.94-2.06 2.06-.94-2.06-.94L8.5 2.5l-.94 2.06-2.06.94zm10 10l.94 2.06.94-2.06 2.06-.94-2.06-.94-.94-2.06-.94 2.06-2.06.94z\"/><path d=\"M17.41 7.96l-1.37-1.37c-.4-.4-.92-.59-1.43-.59-.52 0-1.04.2-1.43.59L10.3 9.45l-7.72 7.72c-.78.78-.78 2.05 0 2.83L4 21.41c.39.39.9.59 1.41.59.51 0 1.02-.2 1.41-.59l7.78-7.78 2.81-2.81c.8-.78.8-2.07 0-2.86zM5.41 20L4 18.59l7.72-7.72 1.47 1.35L5.41 20z\"/>\n",
              "  </svg>\n",
              "      </button>\n",
              "      \n",
              "  <style>\n",
              "    .colab-df-container {\n",
              "      display:flex;\n",
              "      flex-wrap:wrap;\n",
              "      gap: 12px;\n",
              "    }\n",
              "\n",
              "    .colab-df-convert {\n",
              "      background-color: #E8F0FE;\n",
              "      border: none;\n",
              "      border-radius: 50%;\n",
              "      cursor: pointer;\n",
              "      display: none;\n",
              "      fill: #1967D2;\n",
              "      height: 32px;\n",
              "      padding: 0 0 0 0;\n",
              "      width: 32px;\n",
              "    }\n",
              "\n",
              "    .colab-df-convert:hover {\n",
              "      background-color: #E2EBFA;\n",
              "      box-shadow: 0px 1px 2px rgba(60, 64, 67, 0.3), 0px 1px 3px 1px rgba(60, 64, 67, 0.15);\n",
              "      fill: #174EA6;\n",
              "    }\n",
              "\n",
              "    [theme=dark] .colab-df-convert {\n",
              "      background-color: #3B4455;\n",
              "      fill: #D2E3FC;\n",
              "    }\n",
              "\n",
              "    [theme=dark] .colab-df-convert:hover {\n",
              "      background-color: #434B5C;\n",
              "      box-shadow: 0px 1px 3px 1px rgba(0, 0, 0, 0.15);\n",
              "      filter: drop-shadow(0px 1px 2px rgba(0, 0, 0, 0.3));\n",
              "      fill: #FFFFFF;\n",
              "    }\n",
              "  </style>\n",
              "\n",
              "      <script>\n",
              "        const buttonEl =\n",
              "          document.querySelector('#df-ef4cf9a5-6d71-4b0a-bf60-b39d384e38ee button.colab-df-convert');\n",
              "        buttonEl.style.display =\n",
              "          google.colab.kernel.accessAllowed ? 'block' : 'none';\n",
              "\n",
              "        async function convertToInteractive(key) {\n",
              "          const element = document.querySelector('#df-ef4cf9a5-6d71-4b0a-bf60-b39d384e38ee');\n",
              "          const dataTable =\n",
              "            await google.colab.kernel.invokeFunction('convertToInteractive',\n",
              "                                                     [key], {});\n",
              "          if (!dataTable) return;\n",
              "\n",
              "          const docLinkHtml = 'Like what you see? Visit the ' +\n",
              "            '<a target=\"_blank\" href=https://colab.research.google.com/notebooks/data_table.ipynb>data table notebook</a>'\n",
              "            + ' to learn more about interactive tables.';\n",
              "          element.innerHTML = '';\n",
              "          dataTable['output_type'] = 'display_data';\n",
              "          await google.colab.output.renderOutput(dataTable, element);\n",
              "          const docLink = document.createElement('div');\n",
              "          docLink.innerHTML = docLinkHtml;\n",
              "          element.appendChild(docLink);\n",
              "        }\n",
              "      </script>\n",
              "    </div>\n",
              "  </div>\n",
              "  "
            ]
          },
          "metadata": {},
          "execution_count": 21
        }
      ]
    },
    {
      "cell_type": "code",
      "source": [
        "#x_train=x.iloc[0:590]\n",
        "#x_test=x.iloc[590:738]"
      ],
      "metadata": {
        "id": "8GA9v7tLwo72"
      },
      "execution_count": 22,
      "outputs": []
    },
    {
      "cell_type": "code",
      "source": [
        "#x_train"
      ],
      "metadata": {
        "id": "v_50oA1VwrWS"
      },
      "execution_count": 23,
      "outputs": []
    },
    {
      "cell_type": "code",
      "source": [
        "#x_test"
      ],
      "metadata": {
        "id": "dVQoLCWQwv-4"
      },
      "execution_count": 24,
      "outputs": []
    },
    {
      "cell_type": "code",
      "source": [
        "y=df['Vital Status']\n",
        "y"
      ],
      "metadata": {
        "colab": {
          "base_uri": "https://localhost:8080/"
        },
        "id": "faNr0qPLu_Fg",
        "outputId": "c0bc971e-1d96-4cd5-f6a1-d19cf79499ca"
      },
      "execution_count": 25,
      "outputs": [
        {
          "output_type": "execute_result",
          "data": {
            "text/plain": [
              "0      0\n",
              "1      1\n",
              "2      1\n",
              "3      1\n",
              "4      1\n",
              "      ..\n",
              "733    1\n",
              "734    1\n",
              "735    1\n",
              "736    0\n",
              "737    0\n",
              "Name: Vital Status, Length: 738, dtype: int64"
            ]
          },
          "metadata": {},
          "execution_count": 25
        }
      ]
    },
    {
      "cell_type": "code",
      "source": [
        "#y_train=y.iloc[0:590]\n",
        "#y_test=y.iloc[590:738]"
      ],
      "metadata": {
        "id": "2FNFAmRKw2iq"
      },
      "execution_count": 26,
      "outputs": []
    },
    {
      "cell_type": "code",
      "source": [
        "#y_train"
      ],
      "metadata": {
        "id": "ycTLX7ngw-dD"
      },
      "execution_count": 27,
      "outputs": []
    },
    {
      "cell_type": "code",
      "source": [
        "#y_test"
      ],
      "metadata": {
        "id": "vZGpOVcCxAnf"
      },
      "execution_count": 28,
      "outputs": []
    },
    {
      "cell_type": "code",
      "source": [
        "from sklearn.preprocessing import StandardScaler\n",
        "\n",
        "scaler = StandardScaler()\n",
        "\n",
        "train_scaled = scaler.fit_transform(x)\n",
        "#test_scaled = scaler.transform(x_test)"
      ],
      "metadata": {
        "id": "07OPMyRIvJBe"
      },
      "execution_count": 29,
      "outputs": []
    },
    {
      "cell_type": "code",
      "source": [
        "train_scaled"
      ],
      "metadata": {
        "colab": {
          "base_uri": "https://localhost:8080/"
        },
        "id": "3lHKA5E6yUTM",
        "outputId": "468e86b9-ba03-4824-df72-995eb9d71ebf"
      },
      "execution_count": 30,
      "outputs": [
        {
          "output_type": "execute_result",
          "data": {
            "text/plain": [
              "array([[ 0.29086862, -0.97708677,  0.45284274, ...,  0.11130623,\n",
              "         0.65087137, -1.13699634],\n",
              "       [-0.06262126,  0.27955154,  0.45284274, ...,  0.11130623,\n",
              "         0.65087137, -0.05007497],\n",
              "       [-0.25122104,  0.42895642,  0.45284274, ...,  0.11130623,\n",
              "         0.65087137,  0.22165537],\n",
              "       ...,\n",
              "       [-0.80085469,  0.32662431,  0.45284274, ...,  1.31930621,\n",
              "         0.65087137,  0.22165537],\n",
              "       [-0.81163182, -0.97299348,  1.18412927, ...,  0.11130623,\n",
              "         0.65087137, -1.13699634],\n",
              "       [-0.33528266, -1.12785607,  0.45284274, ...,  0.11130623,\n",
              "         0.65087137, -1.40872668]])"
            ]
          },
          "metadata": {},
          "execution_count": 30
        }
      ]
    },
    {
      "cell_type": "markdown",
      "source": [
        "# Vital status"
      ],
      "metadata": {
        "id": "q2HbKlnDZufw"
      }
    },
    {
      "cell_type": "code",
      "source": [
        "import tensorflow as tf\n",
        "from tensorflow.python.keras.models import Sequential\n",
        "from tensorflow.python.keras.layers import Dense, Activation\n",
        "import numpy as np\n",
        "import random\n",
        "\n",
        "random.seed(42)\n",
        "np.random.seed(42)\n",
        "tf.random.set_seed(42)\n",
        "\n",
        "model = Sequential()\n",
        "model.add(Dense(32, input_shape=(9,)))\n",
        "model.add(Activation('relu'))\n",
        "model.add(Dense(16))\n",
        "model.add(Activation('relu'))\n",
        "model.add(Dense(1))\n",
        "model.add(Activation('sigmoid'))\n",
        "\n",
        "model.compile(loss='binary_crossentropy', optimizer='sgd', metrics=['accuracy']) \n",
        "model.summary()"
      ],
      "metadata": {
        "colab": {
          "base_uri": "https://localhost:8080/"
        },
        "id": "mViwu1YZxTj2",
        "outputId": "249ce6c5-850f-4556-95ea-b80a260df7d1"
      },
      "execution_count": 31,
      "outputs": [
        {
          "output_type": "stream",
          "name": "stdout",
          "text": [
            "Model: \"sequential\"\n",
            "_________________________________________________________________\n",
            "Layer (type)                 Output Shape              Param #   \n",
            "=================================================================\n",
            "dense (Dense)                (None, 32)                320       \n",
            "_________________________________________________________________\n",
            "activation (Activation)      (None, 32)                0         \n",
            "_________________________________________________________________\n",
            "dense_1 (Dense)              (None, 16)                528       \n",
            "_________________________________________________________________\n",
            "activation_1 (Activation)    (None, 16)                0         \n",
            "_________________________________________________________________\n",
            "dense_2 (Dense)              (None, 1)                 17        \n",
            "_________________________________________________________________\n",
            "activation_2 (Activation)    (None, 1)                 0         \n",
            "=================================================================\n",
            "Total params: 865\n",
            "Trainable params: 865\n",
            "Non-trainable params: 0\n",
            "_________________________________________________________________\n"
          ]
        }
      ]
    },
    {
      "cell_type": "code",
      "source": [
        "trained_model=model.fit(train_scaled, y,validation_split=0.3,epochs=50,batch_size=20)"
      ],
      "metadata": {
        "colab": {
          "base_uri": "https://localhost:8080/"
        },
        "id": "LrkezKhFxyIE",
        "outputId": "2539b835-8ac3-4cce-c0f4-879c7ce82479"
      },
      "execution_count": 32,
      "outputs": [
        {
          "output_type": "stream",
          "name": "stdout",
          "text": [
            "Epoch 1/50\n",
            "26/26 [==============================] - 2s 24ms/step - loss: 0.7205 - accuracy: 0.4709 - val_loss: 0.6347 - val_accuracy: 0.7027\n",
            "Epoch 2/50\n",
            "26/26 [==============================] - 0s 6ms/step - loss: 0.6078 - accuracy: 0.7267 - val_loss: 0.5652 - val_accuracy: 0.8694\n",
            "Epoch 3/50\n",
            "26/26 [==============================] - 0s 8ms/step - loss: 0.5401 - accuracy: 0.8217 - val_loss: 0.5172 - val_accuracy: 0.8784\n",
            "Epoch 4/50\n",
            "26/26 [==============================] - 0s 8ms/step - loss: 0.4920 - accuracy: 0.8430 - val_loss: 0.4793 - val_accuracy: 0.8784\n",
            "Epoch 5/50\n",
            "26/26 [==============================] - 0s 6ms/step - loss: 0.4542 - accuracy: 0.8643 - val_loss: 0.4477 - val_accuracy: 0.8784\n",
            "Epoch 6/50\n",
            "26/26 [==============================] - 0s 5ms/step - loss: 0.4231 - accuracy: 0.8721 - val_loss: 0.4198 - val_accuracy: 0.8874\n",
            "Epoch 7/50\n",
            "26/26 [==============================] - 0s 5ms/step - loss: 0.3966 - accuracy: 0.8818 - val_loss: 0.3949 - val_accuracy: 0.8964\n",
            "Epoch 8/50\n",
            "26/26 [==============================] - 0s 5ms/step - loss: 0.3738 - accuracy: 0.8895 - val_loss: 0.3719 - val_accuracy: 0.9099\n",
            "Epoch 9/50\n",
            "26/26 [==============================] - 0s 7ms/step - loss: 0.3537 - accuracy: 0.8876 - val_loss: 0.3508 - val_accuracy: 0.9099\n",
            "Epoch 10/50\n",
            "26/26 [==============================] - 0s 13ms/step - loss: 0.3355 - accuracy: 0.8973 - val_loss: 0.3312 - val_accuracy: 0.9189\n",
            "Epoch 11/50\n",
            "26/26 [==============================] - 0s 12ms/step - loss: 0.3195 - accuracy: 0.8973 - val_loss: 0.3134 - val_accuracy: 0.9189\n",
            "Epoch 12/50\n",
            "26/26 [==============================] - 0s 13ms/step - loss: 0.3054 - accuracy: 0.8992 - val_loss: 0.2976 - val_accuracy: 0.9234\n",
            "Epoch 13/50\n",
            "26/26 [==============================] - 0s 12ms/step - loss: 0.2930 - accuracy: 0.9050 - val_loss: 0.2833 - val_accuracy: 0.9234\n",
            "Epoch 14/50\n",
            "26/26 [==============================] - 0s 12ms/step - loss: 0.2821 - accuracy: 0.9031 - val_loss: 0.2705 - val_accuracy: 0.9324\n",
            "Epoch 15/50\n",
            "26/26 [==============================] - 0s 11ms/step - loss: 0.2725 - accuracy: 0.9070 - val_loss: 0.2591 - val_accuracy: 0.9324\n",
            "Epoch 16/50\n",
            "26/26 [==============================] - 0s 10ms/step - loss: 0.2641 - accuracy: 0.9070 - val_loss: 0.2494 - val_accuracy: 0.9324\n",
            "Epoch 17/50\n",
            "26/26 [==============================] - 0s 10ms/step - loss: 0.2566 - accuracy: 0.9109 - val_loss: 0.2406 - val_accuracy: 0.9324\n",
            "Epoch 18/50\n",
            "26/26 [==============================] - 0s 7ms/step - loss: 0.2500 - accuracy: 0.9089 - val_loss: 0.2326 - val_accuracy: 0.9324\n",
            "Epoch 19/50\n",
            "26/26 [==============================] - 0s 9ms/step - loss: 0.2440 - accuracy: 0.9089 - val_loss: 0.2252 - val_accuracy: 0.9369\n",
            "Epoch 20/50\n",
            "26/26 [==============================] - 0s 11ms/step - loss: 0.2387 - accuracy: 0.9089 - val_loss: 0.2190 - val_accuracy: 0.9414\n",
            "Epoch 21/50\n",
            "26/26 [==============================] - 0s 13ms/step - loss: 0.2337 - accuracy: 0.9147 - val_loss: 0.2135 - val_accuracy: 0.9414\n",
            "Epoch 22/50\n",
            "26/26 [==============================] - 0s 12ms/step - loss: 0.2294 - accuracy: 0.9205 - val_loss: 0.2081 - val_accuracy: 0.9459\n",
            "Epoch 23/50\n",
            "26/26 [==============================] - 0s 17ms/step - loss: 0.2254 - accuracy: 0.9205 - val_loss: 0.2032 - val_accuracy: 0.9595\n",
            "Epoch 24/50\n",
            "26/26 [==============================] - 0s 11ms/step - loss: 0.2219 - accuracy: 0.9186 - val_loss: 0.1995 - val_accuracy: 0.9595\n",
            "Epoch 25/50\n",
            "26/26 [==============================] - 0s 15ms/step - loss: 0.2188 - accuracy: 0.9205 - val_loss: 0.1962 - val_accuracy: 0.9595\n",
            "Epoch 26/50\n",
            "26/26 [==============================] - 0s 6ms/step - loss: 0.2160 - accuracy: 0.9244 - val_loss: 0.1931 - val_accuracy: 0.9640\n",
            "Epoch 27/50\n",
            "26/26 [==============================] - 0s 11ms/step - loss: 0.2135 - accuracy: 0.9264 - val_loss: 0.1911 - val_accuracy: 0.9595\n",
            "Epoch 28/50\n",
            "26/26 [==============================] - 0s 10ms/step - loss: 0.2111 - accuracy: 0.9302 - val_loss: 0.1882 - val_accuracy: 0.9595\n",
            "Epoch 29/50\n",
            "26/26 [==============================] - 0s 10ms/step - loss: 0.2090 - accuracy: 0.9302 - val_loss: 0.1862 - val_accuracy: 0.9595\n",
            "Epoch 30/50\n",
            "26/26 [==============================] - 0s 16ms/step - loss: 0.2072 - accuracy: 0.9322 - val_loss: 0.1841 - val_accuracy: 0.9595\n",
            "Epoch 31/50\n",
            "26/26 [==============================] - 0s 7ms/step - loss: 0.2054 - accuracy: 0.9302 - val_loss: 0.1818 - val_accuracy: 0.9595\n",
            "Epoch 32/50\n",
            "26/26 [==============================] - 0s 7ms/step - loss: 0.2039 - accuracy: 0.9302 - val_loss: 0.1796 - val_accuracy: 0.9595\n",
            "Epoch 33/50\n",
            "26/26 [==============================] - 0s 6ms/step - loss: 0.2026 - accuracy: 0.9302 - val_loss: 0.1782 - val_accuracy: 0.9595\n",
            "Epoch 34/50\n",
            "26/26 [==============================] - 0s 5ms/step - loss: 0.2014 - accuracy: 0.9302 - val_loss: 0.1768 - val_accuracy: 0.9595\n",
            "Epoch 35/50\n",
            "26/26 [==============================] - 0s 6ms/step - loss: 0.2000 - accuracy: 0.9302 - val_loss: 0.1755 - val_accuracy: 0.9595\n",
            "Epoch 36/50\n",
            "26/26 [==============================] - 0s 6ms/step - loss: 0.1989 - accuracy: 0.9302 - val_loss: 0.1740 - val_accuracy: 0.9595\n",
            "Epoch 37/50\n",
            "26/26 [==============================] - 0s 7ms/step - loss: 0.1979 - accuracy: 0.9302 - val_loss: 0.1737 - val_accuracy: 0.9595\n",
            "Epoch 38/50\n",
            "26/26 [==============================] - 0s 7ms/step - loss: 0.1972 - accuracy: 0.9302 - val_loss: 0.1729 - val_accuracy: 0.9595\n",
            "Epoch 39/50\n",
            "26/26 [==============================] - 0s 8ms/step - loss: 0.1962 - accuracy: 0.9302 - val_loss: 0.1717 - val_accuracy: 0.9595\n",
            "Epoch 40/50\n",
            "26/26 [==============================] - 0s 10ms/step - loss: 0.1956 - accuracy: 0.9302 - val_loss: 0.1719 - val_accuracy: 0.9595\n",
            "Epoch 41/50\n",
            "26/26 [==============================] - 0s 7ms/step - loss: 0.1948 - accuracy: 0.9302 - val_loss: 0.1699 - val_accuracy: 0.9595\n",
            "Epoch 42/50\n",
            "26/26 [==============================] - 0s 9ms/step - loss: 0.1942 - accuracy: 0.9302 - val_loss: 0.1697 - val_accuracy: 0.9595\n",
            "Epoch 43/50\n",
            "26/26 [==============================] - 0s 13ms/step - loss: 0.1936 - accuracy: 0.9302 - val_loss: 0.1696 - val_accuracy: 0.9595\n",
            "Epoch 44/50\n",
            "26/26 [==============================] - 0s 10ms/step - loss: 0.1927 - accuracy: 0.9302 - val_loss: 0.1683 - val_accuracy: 0.9595\n",
            "Epoch 45/50\n",
            "26/26 [==============================] - 0s 5ms/step - loss: 0.1923 - accuracy: 0.9302 - val_loss: 0.1684 - val_accuracy: 0.9595\n",
            "Epoch 46/50\n",
            "26/26 [==============================] - 0s 12ms/step - loss: 0.1915 - accuracy: 0.9322 - val_loss: 0.1677 - val_accuracy: 0.9595\n",
            "Epoch 47/50\n",
            "26/26 [==============================] - 0s 6ms/step - loss: 0.1912 - accuracy: 0.9302 - val_loss: 0.1668 - val_accuracy: 0.9595\n",
            "Epoch 48/50\n",
            "26/26 [==============================] - 0s 10ms/step - loss: 0.1906 - accuracy: 0.9302 - val_loss: 0.1672 - val_accuracy: 0.9595\n",
            "Epoch 49/50\n",
            "26/26 [==============================] - 0s 6ms/step - loss: 0.1900 - accuracy: 0.9302 - val_loss: 0.1673 - val_accuracy: 0.9595\n",
            "Epoch 50/50\n",
            "26/26 [==============================] - 0s 8ms/step - loss: 0.1898 - accuracy: 0.9302 - val_loss: 0.1664 - val_accuracy: 0.9595\n"
          ]
        }
      ]
    },
    {
      "cell_type": "code",
      "source": [
        "import matplotlib.pyplot as plt\n",
        "# summarize history for accuracy\n",
        "plt.plot(trained_model.history['accuracy'])\n",
        "plt.plot(trained_model.history['val_accuracy'])\n",
        "plt.title('model accuracy')\n",
        "plt.ylabel('accuracy')\n",
        "plt.xlabel('epoch')\n",
        "plt.legend(['train', 'test'], loc='lower right')\n",
        "plt.show()\n",
        "# summarize history for loss\n",
        "plt.plot(trained_model.history['loss'])\n",
        "plt.plot(trained_model.history['val_loss'])\n",
        "plt.title('model loss')\n",
        "plt.ylabel('loss')\n",
        "plt.xlabel('epoch')\n",
        "plt.legend(['train', 'test'], loc='upper right')\n",
        "plt.show()"
      ],
      "metadata": {
        "colab": {
          "base_uri": "https://localhost:8080/",
          "height": 573
        },
        "id": "ReuR8AmPyBZl",
        "outputId": "b097ddaa-0e68-488f-a468-ba24c3fbfb28"
      },
      "execution_count": 33,
      "outputs": [
        {
          "output_type": "display_data",
          "data": {
            "text/plain": [
              "<Figure size 432x288 with 1 Axes>"
            ],
            "image/png": "[encoded data removed]"
          },
          "metadata": {
            "needs_background": "light"
          }
        },
        {
          "output_type": "display_data",
          "data": {
            "text/plain": [
              "<Figure size 432x288 with 1 Axes>"
            ],
            "image/png": "[encoded data removed]"
          },
          "metadata": {
            "needs_background": "light"
          }
        }
      ]
    },
    {
      "cell_type": "markdown",
      "source": [
        "# Split data into 3\n"
      ],
      "metadata": {
        "id": "JxF7eHohZfaI"
      }
    },
    {
      "cell_type": "code",
      "source": [
        "x_split1 = x.iloc[0:246]\n",
        "x_split2 = x.iloc[246:492]\n",
        "x_split3 = x.iloc[492:738]"
      ],
      "metadata": {
        "id": "xPPeMkS8ZpgM"
      },
      "execution_count": 34,
      "outputs": []
    },
    {
      "cell_type": "code",
      "source": [
        "y_split1 = y.iloc[0:246]\n",
        "y_split2 = y.iloc[246:492]\n",
        "y_split3 = y.iloc[492:738]"
      ],
      "metadata": {
        "id": "Z4NuxO027X5R"
      },
      "execution_count": 35,
      "outputs": []
    },
    {
      "cell_type": "code",
      "source": [
        "from sklearn.preprocessing import StandardScaler\n",
        "\n",
        "scaler = StandardScaler()\n",
        "train_scaled_s1 = scaler.fit_transform(x_split1)\n",
        "train_scaled_s2 = scaler.fit_transform(x_split2)\n",
        "train_scaled_s3 = scaler.fit_transform(x_split3)"
      ],
      "metadata": {
        "id": "B3L-S_xS8CC-"
      },
      "execution_count": 36,
      "outputs": []
    },
    {
      "cell_type": "code",
      "source": [
        "import tensorflow as tf\n",
        "from tensorflow.python.keras.models import Sequential\n",
        "from tensorflow.python.keras.layers import Dense, Activation\n",
        "import numpy as np\n",
        "import random\n",
        "\n",
        "random.seed(42)\n",
        "np.random.seed(42)\n",
        "tf.random.set_seed(42)\n",
        "\n",
        "model_s = Sequential()\n",
        "model_s.add(Dense(32, input_shape=(9,)))\n",
        "model_s.add(Activation('relu'))\n",
        "model_s.add(Dense(16))\n",
        "model_s.add(Activation('relu'))\n",
        "model_s.add(Dense(1))\n",
        "model_s.add(Activation('sigmoid'))\n",
        "\n",
        "model_s.compile(loss='binary_crossentropy', optimizer='sgd', metrics=['accuracy']) \n",
        "model_s.summary()"
      ],
      "metadata": {
        "colab": {
          "base_uri": "https://localhost:8080/"
        },
        "id": "I-aJXLwn7kjc",
        "outputId": "1ee5aa55-5b29-41ef-e16b-98eb5cdf5b3c"
      },
      "execution_count": 46,
      "outputs": [
        {
          "output_type": "stream",
          "name": "stdout",
          "text": [
            "Model: \"sequential_4\"\n",
            "_________________________________________________________________\n",
            "Layer (type)                 Output Shape              Param #   \n",
            "=================================================================\n",
            "dense_12 (Dense)             (None, 32)                320       \n",
            "_________________________________________________________________\n",
            "activation_12 (Activation)   (None, 32)                0         \n",
            "_________________________________________________________________\n",
            "dense_13 (Dense)             (None, 16)                528       \n",
            "_________________________________________________________________\n",
            "activation_13 (Activation)   (None, 16)                0         \n",
            "_________________________________________________________________\n",
            "dense_14 (Dense)             (None, 1)                 17        \n",
            "_________________________________________________________________\n",
            "activation_14 (Activation)   (None, 1)                 0         \n",
            "=================================================================\n",
            "Total params: 865\n",
            "Trainable params: 865\n",
            "Non-trainable params: 0\n",
            "_________________________________________________________________\n"
          ]
        }
      ]
    },
    {
      "cell_type": "code",
      "source": [
        "trained_model_s=model_s.fit(train_scaled_s1, y_split1,validation_split=0.3,epochs=50,batch_size=10)"
      ],
      "metadata": {
        "colab": {
          "base_uri": "https://localhost:8080/"
        },
        "id": "6me5xrzZ73Jr",
        "outputId": "d6fedded-c699-4de0-8d2b-f6b4598b1d75"
      },
      "execution_count": 47,
      "outputs": [
        {
          "output_type": "stream",
          "name": "stdout",
          "text": [
            "Epoch 1/50\n",
            "18/18 [==============================] - 1s 19ms/step - loss: 0.7369 - accuracy: 0.4709 - val_loss: 0.6979 - val_accuracy: 0.5676\n",
            "Epoch 2/50\n",
            "18/18 [==============================] - 0s 5ms/step - loss: 0.6492 - accuracy: 0.6512 - val_loss: 0.6217 - val_accuracy: 0.6757\n",
            "Epoch 3/50\n",
            "18/18 [==============================] - 0s 5ms/step - loss: 0.5865 - accuracy: 0.7965 - val_loss: 0.5703 - val_accuracy: 0.7838\n",
            "Epoch 4/50\n",
            "18/18 [==============================] - 0s 5ms/step - loss: 0.5419 - accuracy: 0.8488 - val_loss: 0.5315 - val_accuracy: 0.7973\n",
            "Epoch 5/50\n",
            "18/18 [==============================] - 0s 6ms/step - loss: 0.5065 - accuracy: 0.8721 - val_loss: 0.5009 - val_accuracy: 0.8108\n",
            "Epoch 6/50\n",
            "18/18 [==============================] - 0s 5ms/step - loss: 0.4779 - accuracy: 0.8779 - val_loss: 0.4721 - val_accuracy: 0.8108\n",
            "Epoch 7/50\n",
            "18/18 [==============================] - 0s 5ms/step - loss: 0.4508 - accuracy: 0.8721 - val_loss: 0.4473 - val_accuracy: 0.8108\n",
            "Epoch 8/50\n",
            "18/18 [==============================] - 0s 5ms/step - loss: 0.4269 - accuracy: 0.8895 - val_loss: 0.4261 - val_accuracy: 0.8378\n",
            "Epoch 9/50\n",
            "18/18 [==============================] - 0s 4ms/step - loss: 0.4061 - accuracy: 0.8895 - val_loss: 0.4072 - val_accuracy: 0.8378\n",
            "Epoch 10/50\n",
            "18/18 [==============================] - 0s 5ms/step - loss: 0.3872 - accuracy: 0.8953 - val_loss: 0.3907 - val_accuracy: 0.8514\n",
            "Epoch 11/50\n",
            "18/18 [==============================] - 0s 5ms/step - loss: 0.3706 - accuracy: 0.8953 - val_loss: 0.3754 - val_accuracy: 0.8514\n",
            "Epoch 12/50\n",
            "18/18 [==============================] - 0s 5ms/step - loss: 0.3551 - accuracy: 0.8953 - val_loss: 0.3616 - val_accuracy: 0.8514\n",
            "Epoch 13/50\n",
            "18/18 [==============================] - 0s 6ms/step - loss: 0.3411 - accuracy: 0.8953 - val_loss: 0.3495 - val_accuracy: 0.8514\n",
            "Epoch 14/50\n",
            "18/18 [==============================] - 0s 5ms/step - loss: 0.3284 - accuracy: 0.9012 - val_loss: 0.3390 - val_accuracy: 0.8514\n",
            "Epoch 15/50\n",
            "18/18 [==============================] - 0s 5ms/step - loss: 0.3175 - accuracy: 0.9186 - val_loss: 0.3295 - val_accuracy: 0.8514\n",
            "Epoch 16/50\n",
            "18/18 [==============================] - 0s 6ms/step - loss: 0.3070 - accuracy: 0.9128 - val_loss: 0.3216 - val_accuracy: 0.8514\n",
            "Epoch 17/50\n",
            "18/18 [==============================] - 0s 5ms/step - loss: 0.2983 - accuracy: 0.9186 - val_loss: 0.3139 - val_accuracy: 0.8514\n",
            "Epoch 18/50\n",
            "18/18 [==============================] - 0s 5ms/step - loss: 0.2900 - accuracy: 0.9186 - val_loss: 0.3058 - val_accuracy: 0.8649\n",
            "Epoch 19/50\n",
            "18/18 [==============================] - 0s 5ms/step - loss: 0.2818 - accuracy: 0.9070 - val_loss: 0.2997 - val_accuracy: 0.8649\n",
            "Epoch 20/50\n",
            "18/18 [==============================] - 0s 5ms/step - loss: 0.2746 - accuracy: 0.9070 - val_loss: 0.2942 - val_accuracy: 0.8649\n",
            "Epoch 21/50\n",
            "18/18 [==============================] - 0s 5ms/step - loss: 0.2680 - accuracy: 0.9128 - val_loss: 0.2895 - val_accuracy: 0.8649\n",
            "Epoch 22/50\n",
            "18/18 [==============================] - 0s 5ms/step - loss: 0.2620 - accuracy: 0.9128 - val_loss: 0.2839 - val_accuracy: 0.8514\n",
            "Epoch 23/50\n",
            "18/18 [==============================] - 0s 5ms/step - loss: 0.2566 - accuracy: 0.9128 - val_loss: 0.2799 - val_accuracy: 0.8514\n",
            "Epoch 24/50\n",
            "18/18 [==============================] - 0s 5ms/step - loss: 0.2508 - accuracy: 0.9128 - val_loss: 0.2767 - val_accuracy: 0.8514\n",
            "Epoch 25/50\n",
            "18/18 [==============================] - 0s 6ms/step - loss: 0.2462 - accuracy: 0.9128 - val_loss: 0.2736 - val_accuracy: 0.8649\n",
            "Epoch 26/50\n",
            "18/18 [==============================] - 0s 5ms/step - loss: 0.2421 - accuracy: 0.9128 - val_loss: 0.2710 - val_accuracy: 0.8649\n",
            "Epoch 27/50\n",
            "18/18 [==============================] - 0s 5ms/step - loss: 0.2377 - accuracy: 0.9128 - val_loss: 0.2687 - val_accuracy: 0.8649\n",
            "Epoch 28/50\n",
            "18/18 [==============================] - 0s 5ms/step - loss: 0.2340 - accuracy: 0.9128 - val_loss: 0.2666 - val_accuracy: 0.8784\n",
            "Epoch 29/50\n",
            "18/18 [==============================] - 0s 5ms/step - loss: 0.2305 - accuracy: 0.9128 - val_loss: 0.2647 - val_accuracy: 0.8784\n",
            "Epoch 30/50\n",
            "18/18 [==============================] - 0s 5ms/step - loss: 0.2271 - accuracy: 0.9128 - val_loss: 0.2628 - val_accuracy: 0.8784\n",
            "Epoch 31/50\n",
            "18/18 [==============================] - 0s 5ms/step - loss: 0.2242 - accuracy: 0.9128 - val_loss: 0.2614 - val_accuracy: 0.8784\n",
            "Epoch 32/50\n",
            "18/18 [==============================] - 0s 6ms/step - loss: 0.2214 - accuracy: 0.9128 - val_loss: 0.2600 - val_accuracy: 0.8784\n",
            "Epoch 33/50\n",
            "18/18 [==============================] - 0s 5ms/step - loss: 0.2187 - accuracy: 0.9128 - val_loss: 0.2589 - val_accuracy: 0.8784\n",
            "Epoch 34/50\n",
            "18/18 [==============================] - 0s 6ms/step - loss: 0.2165 - accuracy: 0.9128 - val_loss: 0.2575 - val_accuracy: 0.8784\n",
            "Epoch 35/50\n",
            "18/18 [==============================] - 0s 7ms/step - loss: 0.2146 - accuracy: 0.9128 - val_loss: 0.2567 - val_accuracy: 0.8784\n",
            "Epoch 36/50\n",
            "18/18 [==============================] - 0s 5ms/step - loss: 0.2123 - accuracy: 0.9128 - val_loss: 0.2560 - val_accuracy: 0.8784\n",
            "Epoch 37/50\n",
            "18/18 [==============================] - 0s 5ms/step - loss: 0.2104 - accuracy: 0.9128 - val_loss: 0.2551 - val_accuracy: 0.8784\n",
            "Epoch 38/50\n",
            "18/18 [==============================] - 0s 5ms/step - loss: 0.2096 - accuracy: 0.9128 - val_loss: 0.2542 - val_accuracy: 0.8784\n",
            "Epoch 39/50\n",
            "18/18 [==============================] - 0s 5ms/step - loss: 0.2079 - accuracy: 0.9128 - val_loss: 0.2541 - val_accuracy: 0.8784\n",
            "Epoch 40/50\n",
            "18/18 [==============================] - 0s 4ms/step - loss: 0.2060 - accuracy: 0.9128 - val_loss: 0.2527 - val_accuracy: 0.8784\n",
            "Epoch 41/50\n",
            "18/18 [==============================] - 0s 3ms/step - loss: 0.2041 - accuracy: 0.9128 - val_loss: 0.2532 - val_accuracy: 0.8649\n",
            "Epoch 42/50\n",
            "18/18 [==============================] - 0s 3ms/step - loss: 0.2022 - accuracy: 0.9128 - val_loss: 0.2539 - val_accuracy: 0.8649\n",
            "Epoch 43/50\n",
            "18/18 [==============================] - 0s 3ms/step - loss: 0.2003 - accuracy: 0.9128 - val_loss: 0.2525 - val_accuracy: 0.8649\n",
            "Epoch 44/50\n",
            "18/18 [==============================] - 0s 4ms/step - loss: 0.1993 - accuracy: 0.9070 - val_loss: 0.2525 - val_accuracy: 0.8649\n",
            "Epoch 45/50\n",
            "18/18 [==============================] - 0s 4ms/step - loss: 0.1976 - accuracy: 0.9128 - val_loss: 0.2527 - val_accuracy: 0.8649\n",
            "Epoch 46/50\n",
            "18/18 [==============================] - 0s 4ms/step - loss: 0.1959 - accuracy: 0.9128 - val_loss: 0.2526 - val_accuracy: 0.8649\n",
            "Epoch 47/50\n",
            "18/18 [==============================] - 0s 4ms/step - loss: 0.1945 - accuracy: 0.9128 - val_loss: 0.2526 - val_accuracy: 0.8649\n",
            "Epoch 48/50\n",
            "18/18 [==============================] - 0s 4ms/step - loss: 0.1938 - accuracy: 0.9128 - val_loss: 0.2526 - val_accuracy: 0.8649\n",
            "Epoch 49/50\n",
            "18/18 [==============================] - 0s 3ms/step - loss: 0.1918 - accuracy: 0.9128 - val_loss: 0.2527 - val_accuracy: 0.8649\n",
            "Epoch 50/50\n",
            "18/18 [==============================] - 0s 4ms/step - loss: 0.1906 - accuracy: 0.9128 - val_loss: 0.2531 - val_accuracy: 0.8649\n"
          ]
        }
      ]
    },
    {
      "cell_type": "code",
      "source": [
        "import matplotlib.pyplot as plt\n",
        "# summarize history for accuracy\n",
        "plt.plot(trained_model_s.history['accuracy'])\n",
        "plt.plot(trained_model_s.history['val_accuracy'])\n",
        "plt.title('model accuracy')\n",
        "plt.ylabel('accuracy')\n",
        "plt.xlabel('epoch')\n",
        "plt.legend(['train', 'test'], loc='lower right')\n",
        "plt.show()\n",
        "# summarize history for loss\n",
        "plt.plot(trained_model_s.history['loss'])\n",
        "plt.plot(trained_model_s.history['val_loss'])\n",
        "plt.title('model loss')\n",
        "plt.ylabel('loss')\n",
        "plt.xlabel('epoch')\n",
        "plt.legend(['train', 'test'], loc='upper right')\n",
        "plt.show()"
      ],
      "metadata": {
        "colab": {
          "base_uri": "https://localhost:8080/",
          "height": 573
        },
        "id": "eARGge7l8vYb",
        "outputId": "12cdc0f1-8026-4e41-dea9-b0d8be224d3e"
      },
      "execution_count": 48,
      "outputs": [
        {
          "output_type": "display_data",
          "data": {
            "text/plain": [
              "<Figure size 432x288 with 1 Axes>"
            ],
            "image/png": "[encoded data removed]"
          },
          "metadata": {
            "needs_background": "light"
          }
        },
        {
          "output_type": "display_data",
          "data": {
            "text/plain": [
              "<Figure size 432x288 with 1 Axes>"
            ],
            "image/png": "[encoded data removed]"
          },
          "metadata": {
            "needs_background": "light"
          }
        }
      ]
    }
  ]
}