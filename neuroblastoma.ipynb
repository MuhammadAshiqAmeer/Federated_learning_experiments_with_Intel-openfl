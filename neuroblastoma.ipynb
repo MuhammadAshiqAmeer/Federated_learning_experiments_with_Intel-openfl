{
  "nbformat": 4,
  "nbformat_minor": 0,
  "metadata": {
    "colab": {
      "provenance": [],
      "authorship_tag": "ABX9TyM9O4+7tMBOlP6l8P/ctfEf",
      "include_colab_link": true
    },
    "kernelspec": {
      "name": "python3",
      "display_name": "Python 3"
    },
    "language_info": {
      "name": "python"
    }
  },
  "cells": [
    {
      "cell_type": "markdown",
      "metadata": {
        "id": "view-in-github",
        "colab_type": "text"
      },
      "source": [
        "<a href=\"https://colab.research.google.com/github/MuhammadAshiqAmeer/Federated_learning_experiments_with_Intel-openfl/blob/colab/neuroblastoma.ipynb\" target=\"_parent\"><img src=\"https://colab.research.google.com/assets/colab-badge.svg\" alt=\"Open In Colab\"/></a>"
      ]
    },
    {
      "cell_type": "code",
      "execution_count": 1,
      "metadata": {
        "colab": {
          "base_uri": "https://localhost:8080/"
        },
        "id": "NvpbasCgY05K",
        "outputId": "cd54134e-5e27-4280-9bfc-d49895e4ead3"
      },
      "outputs": [
        {
          "output_type": "stream",
          "name": "stdout",
          "text": [
            "Drive already mounted at /content/drive; to attempt to forcibly remount, call drive.mount(\"/content/drive\", force_remount=True).\n"
          ]
        }
      ],
      "source": [
        "from google.colab import drive\n",
        "drive.mount('/content/drive')"
      ]
    },
    {
      "cell_type": "code",
      "source": [
        "cd /content/drive/MyDrive/federated"
      ],
      "metadata": {
        "colab": {
          "base_uri": "https://localhost:8080/"
        },
        "id": "8-LGguvKZY6G",
        "outputId": "f678ea5f-f0ab-4283-9c1f-685d76dfe89e"
      },
      "execution_count": 2,
      "outputs": [
        {
          "output_type": "stream",
          "name": "stdout",
          "text": [
            "/content/drive/MyDrive/federated\n"
          ]
        }
      ]
    },
    {
      "cell_type": "code",
      "source": [
        "!ls"
      ],
      "metadata": {
        "colab": {
          "base_uri": "https://localhost:8080/"
        },
        "id": "FHRusAh-bNGV",
        "outputId": "be646096-18bd-42bc-b8fe-2e8ae9120a66"
      },
      "execution_count": 3,
      "outputs": [
        {
          "output_type": "stream",
          "name": "stdout",
          "text": [
            "'Federated lemon-melon CNN classifier'\t neuroblastoma.xlsx\n"
          ]
        }
      ]
    },
    {
      "cell_type": "code",
      "source": [
        "import pandas as pd\n",
        "\n",
        "df = pd.read_excel(\"neuroblastoma.xlsx\")"
      ],
      "metadata": {
        "id": "PR3i3gCzam1y"
      },
      "execution_count": 4,
      "outputs": []
    },
    {
      "cell_type": "code",
      "source": [
        "df"
      ],
      "metadata": {
        "colab": {
          "base_uri": "https://localhost:8080/",
          "height": 468
        },
        "id": "zCov07bqcRYq",
        "outputId": "9f6669e6-a7d5-489b-f6f8-a156d2e2dfcb"
      },
      "execution_count": 5,
      "outputs": [
        {
          "output_type": "execute_result",
          "data": {
            "text/plain": [
              "           TARGET USI  Gender  Age at Diagnosis in Days  \\\n",
              "0    TARGET-30-PARPUF    Male                        96   \n",
              "1    TARGET-30-PARSVF    Male                       964   \n",
              "2    TARGET-30-PARSXI  Female                       538   \n",
              "3    TARGET-30-PARSZV    Male                       287   \n",
              "4    TARGET-30-PARTCE    Male                        67   \n",
              "..                ...     ...                       ...   \n",
              "733  TARGET-30-PATILE    Male                       824   \n",
              "734  TARGET-30-PATINJ    Male                      1037   \n",
              "735  TARGET-30-PATNKP    Male                      3446   \n",
              "736  TARGET-30-PATYIL  Female                       328   \n",
              "737  TARGET-30-PAUDDK    Male                       361   \n",
              "\n",
              "     Event Free Survival Time in Days Vital Status  \\\n",
              "0                                3701        Alive   \n",
              "1                                 997         Dead   \n",
              "2                                3928        Alive   \n",
              "3                                2675        Alive   \n",
              "4                                3625        Alive   \n",
              "..                                ...          ...   \n",
              "733                               306         Dead   \n",
              "734                               736         Dead   \n",
              "735                               616         Dead   \n",
              "736                               239         Dead   \n",
              "737                               344        Alive   \n",
              "\n",
              "     Overall Survival Time in Days INSS Stage    MYCN status  Ploidy Value  \\\n",
              "0                             3701    Stage 4  Not Amplified          1.48   \n",
              "1                             1516    Stage 4  Not Amplified          1.00   \n",
              "2                             3928    Stage 4  Not Amplified          1.99   \n",
              "3                             3995   Stage 2a  Not Amplified          1.58   \n",
              "4                             3625    Stage 1  Not Amplified          2.13   \n",
              "..                             ...        ...            ...           ...   \n",
              "733                            306    Stage 4  Not Amplified          1.00   \n",
              "734                            822    Stage 4  Not Amplified          1.00   \n",
              "735                           1549    Stage 4  Not Amplified          1.47   \n",
              "736                            481    Stage 4  Not Amplified          1.00   \n",
              "737                           2569    Stage 3  Not Amplified          1.33   \n",
              "\n",
              "       Histology           MKI     COG Risk Group  \n",
              "0      Favorable           Low  Intermediate Risk  \n",
              "1    Unfavorable          High          High Risk  \n",
              "2      Favorable           Low  Intermediate Risk  \n",
              "3      Favorable           Low           Low Risk  \n",
              "4      Favorable           Low           Low Risk  \n",
              "..           ...           ...                ...  \n",
              "733  Unfavorable  Intermediate          High Risk  \n",
              "734  Unfavorable  Intermediate          High Risk  \n",
              "735  Unfavorable  Intermediate          High Risk  \n",
              "736    Favorable  Intermediate  Intermediate Risk  \n",
              "737    Favorable           Low  Intermediate Risk  \n",
              "\n",
              "[738 rows x 12 columns]"
            ],
            "text/html": [
              "\n",
              "  <div id=\"df-1d1e0ddc-0b33-48d9-93fa-eb7fa1f96c3e\">\n",
              "    <div class=\"colab-df-container\">\n",
              "      <div>\n",
              "<style scoped>\n",
              "    .dataframe tbody tr th:only-of-type {\n",
              "        vertical-align: middle;\n",
              "    }\n",
              "\n",
              "    .dataframe tbody tr th {\n",
              "        vertical-align: top;\n",
              "    }\n",
              "\n",
              "    .dataframe thead th {\n",
              "        text-align: right;\n",
              "    }\n",
              "</style>\n",
              "<table border=\"1\" class=\"dataframe\">\n",
              "  <thead>\n",
              "    <tr style=\"text-align: right;\">\n",
              "      <th></th>\n",
              "      <th>TARGET USI</th>\n",
              "      <th>Gender</th>\n",
              "      <th>Age at Diagnosis in Days</th>\n",
              "      <th>Event Free Survival Time in Days</th>\n",
              "      <th>Vital Status</th>\n",
              "      <th>Overall Survival Time in Days</th>\n",
              "      <th>INSS Stage</th>\n",
              "      <th>MYCN status</th>\n",
              "      <th>Ploidy Value</th>\n",
              "      <th>Histology</th>\n",
              "      <th>MKI</th>\n",
              "      <th>COG Risk Group</th>\n",
              "    </tr>\n",
              "  </thead>\n",
              "  <tbody>\n",
              "    <tr>\n",
              "      <th>0</th>\n",
              "      <td>TARGET-30-PARPUF</td>\n",
              "      <td>Male</td>\n",
              "      <td>96</td>\n",
              "      <td>3701</td>\n",
              "      <td>Alive</td>\n",
              "      <td>3701</td>\n",
              "      <td>Stage 4</td>\n",
              "      <td>Not Amplified</td>\n",
              "      <td>1.48</td>\n",
              "      <td>Favorable</td>\n",
              "      <td>Low</td>\n",
              "      <td>Intermediate Risk</td>\n",
              "    </tr>\n",
              "    <tr>\n",
              "      <th>1</th>\n",
              "      <td>TARGET-30-PARSVF</td>\n",
              "      <td>Male</td>\n",
              "      <td>964</td>\n",
              "      <td>997</td>\n",
              "      <td>Dead</td>\n",
              "      <td>1516</td>\n",
              "      <td>Stage 4</td>\n",
              "      <td>Not Amplified</td>\n",
              "      <td>1.00</td>\n",
              "      <td>Unfavorable</td>\n",
              "      <td>High</td>\n",
              "      <td>High Risk</td>\n",
              "    </tr>\n",
              "    <tr>\n",
              "      <th>2</th>\n",
              "      <td>TARGET-30-PARSXI</td>\n",
              "      <td>Female</td>\n",
              "      <td>538</td>\n",
              "      <td>3928</td>\n",
              "      <td>Alive</td>\n",
              "      <td>3928</td>\n",
              "      <td>Stage 4</td>\n",
              "      <td>Not Amplified</td>\n",
              "      <td>1.99</td>\n",
              "      <td>Favorable</td>\n",
              "      <td>Low</td>\n",
              "      <td>Intermediate Risk</td>\n",
              "    </tr>\n",
              "    <tr>\n",
              "      <th>3</th>\n",
              "      <td>TARGET-30-PARSZV</td>\n",
              "      <td>Male</td>\n",
              "      <td>287</td>\n",
              "      <td>2675</td>\n",
              "      <td>Alive</td>\n",
              "      <td>3995</td>\n",
              "      <td>Stage 2a</td>\n",
              "      <td>Not Amplified</td>\n",
              "      <td>1.58</td>\n",
              "      <td>Favorable</td>\n",
              "      <td>Low</td>\n",
              "      <td>Low Risk</td>\n",
              "    </tr>\n",
              "    <tr>\n",
              "      <th>4</th>\n",
              "      <td>TARGET-30-PARTCE</td>\n",
              "      <td>Male</td>\n",
              "      <td>67</td>\n",
              "      <td>3625</td>\n",
              "      <td>Alive</td>\n",
              "      <td>3625</td>\n",
              "      <td>Stage 1</td>\n",
              "      <td>Not Amplified</td>\n",
              "      <td>2.13</td>\n",
              "      <td>Favorable</td>\n",
              "      <td>Low</td>\n",
              "      <td>Low Risk</td>\n",
              "    </tr>\n",
              "    <tr>\n",
              "      <th>...</th>\n",
              "      <td>...</td>\n",
              "      <td>...</td>\n",
              "      <td>...</td>\n",
              "      <td>...</td>\n",
              "      <td>...</td>\n",
              "      <td>...</td>\n",
              "      <td>...</td>\n",
              "      <td>...</td>\n",
              "      <td>...</td>\n",
              "      <td>...</td>\n",
              "      <td>...</td>\n",
              "      <td>...</td>\n",
              "    </tr>\n",
              "    <tr>\n",
              "      <th>733</th>\n",
              "      <td>TARGET-30-PATILE</td>\n",
              "      <td>Male</td>\n",
              "      <td>824</td>\n",
              "      <td>306</td>\n",
              "      <td>Dead</td>\n",
              "      <td>306</td>\n",
              "      <td>Stage 4</td>\n",
              "      <td>Not Amplified</td>\n",
              "      <td>1.00</td>\n",
              "      <td>Unfavorable</td>\n",
              "      <td>Intermediate</td>\n",
              "      <td>High Risk</td>\n",
              "    </tr>\n",
              "    <tr>\n",
              "      <th>734</th>\n",
              "      <td>TARGET-30-PATINJ</td>\n",
              "      <td>Male</td>\n",
              "      <td>1037</td>\n",
              "      <td>736</td>\n",
              "      <td>Dead</td>\n",
              "      <td>822</td>\n",
              "      <td>Stage 4</td>\n",
              "      <td>Not Amplified</td>\n",
              "      <td>1.00</td>\n",
              "      <td>Unfavorable</td>\n",
              "      <td>Intermediate</td>\n",
              "      <td>High Risk</td>\n",
              "    </tr>\n",
              "    <tr>\n",
              "      <th>735</th>\n",
              "      <td>TARGET-30-PATNKP</td>\n",
              "      <td>Male</td>\n",
              "      <td>3446</td>\n",
              "      <td>616</td>\n",
              "      <td>Dead</td>\n",
              "      <td>1549</td>\n",
              "      <td>Stage 4</td>\n",
              "      <td>Not Amplified</td>\n",
              "      <td>1.47</td>\n",
              "      <td>Unfavorable</td>\n",
              "      <td>Intermediate</td>\n",
              "      <td>High Risk</td>\n",
              "    </tr>\n",
              "    <tr>\n",
              "      <th>736</th>\n",
              "      <td>TARGET-30-PATYIL</td>\n",
              "      <td>Female</td>\n",
              "      <td>328</td>\n",
              "      <td>239</td>\n",
              "      <td>Dead</td>\n",
              "      <td>481</td>\n",
              "      <td>Stage 4</td>\n",
              "      <td>Not Amplified</td>\n",
              "      <td>1.00</td>\n",
              "      <td>Favorable</td>\n",
              "      <td>Intermediate</td>\n",
              "      <td>Intermediate Risk</td>\n",
              "    </tr>\n",
              "    <tr>\n",
              "      <th>737</th>\n",
              "      <td>TARGET-30-PAUDDK</td>\n",
              "      <td>Male</td>\n",
              "      <td>361</td>\n",
              "      <td>344</td>\n",
              "      <td>Alive</td>\n",
              "      <td>2569</td>\n",
              "      <td>Stage 3</td>\n",
              "      <td>Not Amplified</td>\n",
              "      <td>1.33</td>\n",
              "      <td>Favorable</td>\n",
              "      <td>Low</td>\n",
              "      <td>Intermediate Risk</td>\n",
              "    </tr>\n",
              "  </tbody>\n",
              "</table>\n",
              "<p>738 rows × 12 columns</p>\n",
              "</div>\n",
              "      <button class=\"colab-df-convert\" onclick=\"convertToInteractive('df-1d1e0ddc-0b33-48d9-93fa-eb7fa1f96c3e')\"\n",
              "              title=\"Convert this dataframe to an interactive table.\"\n",
              "              style=\"display:none;\">\n",
              "        \n",
              "  <svg xmlns=\"http://www.w3.org/2000/svg\" height=\"24px\"viewBox=\"0 0 24 24\"\n",
              "       width=\"24px\">\n",
              "    <path d=\"M0 0h24v24H0V0z\" fill=\"none\"/>\n",
              "    <path d=\"M18.56 5.44l.94 2.06.94-2.06 2.06-.94-2.06-.94-.94-2.06-.94 2.06-2.06.94zm-11 1L8.5 8.5l.94-2.06 2.06-.94-2.06-.94L8.5 2.5l-.94 2.06-2.06.94zm10 10l.94 2.06.94-2.06 2.06-.94-2.06-.94-.94-2.06-.94 2.06-2.06.94z\"/><path d=\"M17.41 7.96l-1.37-1.37c-.4-.4-.92-.59-1.43-.59-.52 0-1.04.2-1.43.59L10.3 9.45l-7.72 7.72c-.78.78-.78 2.05 0 2.83L4 21.41c.39.39.9.59 1.41.59.51 0 1.02-.2 1.41-.59l7.78-7.78 2.81-2.81c.8-.78.8-2.07 0-2.86zM5.41 20L4 18.59l7.72-7.72 1.47 1.35L5.41 20z\"/>\n",
              "  </svg>\n",
              "      </button>\n",
              "      \n",
              "  <style>\n",
              "    .colab-df-container {\n",
              "      display:flex;\n",
              "      flex-wrap:wrap;\n",
              "      gap: 12px;\n",
              "    }\n",
              "\n",
              "    .colab-df-convert {\n",
              "      background-color: #E8F0FE;\n",
              "      border: none;\n",
              "      border-radius: 50%;\n",
              "      cursor: pointer;\n",
              "      display: none;\n",
              "      fill: #1967D2;\n",
              "      height: 32px;\n",
              "      padding: 0 0 0 0;\n",
              "      width: 32px;\n",
              "    }\n",
              "\n",
              "    .colab-df-convert:hover {\n",
              "      background-color: #E2EBFA;\n",
              "      box-shadow: 0px 1px 2px rgba(60, 64, 67, 0.3), 0px 1px 3px 1px rgba(60, 64, 67, 0.15);\n",
              "      fill: #174EA6;\n",
              "    }\n",
              "\n",
              "    [theme=dark] .colab-df-convert {\n",
              "      background-color: #3B4455;\n",
              "      fill: #D2E3FC;\n",
              "    }\n",
              "\n",
              "    [theme=dark] .colab-df-convert:hover {\n",
              "      background-color: #434B5C;\n",
              "      box-shadow: 0px 1px 3px 1px rgba(0, 0, 0, 0.15);\n",
              "      filter: drop-shadow(0px 1px 2px rgba(0, 0, 0, 0.3));\n",
              "      fill: #FFFFFF;\n",
              "    }\n",
              "  </style>\n",
              "\n",
              "      <script>\n",
              "        const buttonEl =\n",
              "          document.querySelector('#df-1d1e0ddc-0b33-48d9-93fa-eb7fa1f96c3e button.colab-df-convert');\n",
              "        buttonEl.style.display =\n",
              "          google.colab.kernel.accessAllowed ? 'block' : 'none';\n",
              "\n",
              "        async function convertToInteractive(key) {\n",
              "          const element = document.querySelector('#df-1d1e0ddc-0b33-48d9-93fa-eb7fa1f96c3e');\n",
              "          const dataTable =\n",
              "            await google.colab.kernel.invokeFunction('convertToInteractive',\n",
              "                                                     [key], {});\n",
              "          if (!dataTable) return;\n",
              "\n",
              "          const docLinkHtml = 'Like what you see? Visit the ' +\n",
              "            '<a target=\"_blank\" href=https://colab.research.google.com/notebooks/data_table.ipynb>data table notebook</a>'\n",
              "            + ' to learn more about interactive tables.';\n",
              "          element.innerHTML = '';\n",
              "          dataTable['output_type'] = 'display_data';\n",
              "          await google.colab.output.renderOutput(dataTable, element);\n",
              "          const docLink = document.createElement('div');\n",
              "          docLink.innerHTML = docLinkHtml;\n",
              "          element.appendChild(docLink);\n",
              "        }\n",
              "      </script>\n",
              "    </div>\n",
              "  </div>\n",
              "  "
            ]
          },
          "metadata": {},
          "execution_count": 5
        }
      ]
    },
    {
      "cell_type": "code",
      "source": [
        "df.describe()"
      ],
      "metadata": {
        "colab": {
          "base_uri": "https://localhost:8080/",
          "height": 300
        },
        "id": "JV_S7wvNbzC3",
        "outputId": "6dd61599-e8e8-4c67-f0a9-18cf5c2b1060"
      },
      "execution_count": 6,
      "outputs": [
        {
          "output_type": "execute_result",
          "data": {
            "text/plain": [
              "       Age at Diagnosis in Days  Event Free Survival Time in Days  \\\n",
              "count                738.000000                        738.000000   \n",
              "mean                 942.105691                       1907.228997   \n",
              "std                  928.520081                       1466.809684   \n",
              "min                    1.000000                         10.000000   \n",
              "25%                  315.250000                        491.500000   \n",
              "50%                  740.500000                       1762.500000   \n",
              "75%                 1264.500000                       3198.000000   \n",
              "max                 7613.000000                       6170.000000   \n",
              "\n",
              "       Overall Survival Time in Days  Ploidy Value  \n",
              "count                     738.000000    738.000000  \n",
              "mean                     2261.162602      1.322967  \n",
              "std                      1341.896447      0.353940  \n",
              "min                        10.000000      0.960000  \n",
              "25%                       960.750000      1.000000  \n",
              "50%                      2428.500000      1.220000  \n",
              "75%                      3351.750000      1.530000  \n",
              "max                      6170.000000      3.000000  "
            ],
            "text/html": [
              "\n",
              "  <div id=\"df-725b8890-64b7-47ee-a8bb-b47ff266af40\">\n",
              "    <div class=\"colab-df-container\">\n",
              "      <div>\n",
              "<style scoped>\n",
              "    .dataframe tbody tr th:only-of-type {\n",
              "        vertical-align: middle;\n",
              "    }\n",
              "\n",
              "    .dataframe tbody tr th {\n",
              "        vertical-align: top;\n",
              "    }\n",
              "\n",
              "    .dataframe thead th {\n",
              "        text-align: right;\n",
              "    }\n",
              "</style>\n",
              "<table border=\"1\" class=\"dataframe\">\n",
              "  <thead>\n",
              "    <tr style=\"text-align: right;\">\n",
              "      <th></th>\n",
              "      <th>Age at Diagnosis in Days</th>\n",
              "      <th>Event Free Survival Time in Days</th>\n",
              "      <th>Overall Survival Time in Days</th>\n",
              "      <th>Ploidy Value</th>\n",
              "    </tr>\n",
              "  </thead>\n",
              "  <tbody>\n",
              "    <tr>\n",
              "      <th>count</th>\n",
              "      <td>738.000000</td>\n",
              "      <td>738.000000</td>\n",
              "      <td>738.000000</td>\n",
              "      <td>738.000000</td>\n",
              "    </tr>\n",
              "    <tr>\n",
              "      <th>mean</th>\n",
              "      <td>942.105691</td>\n",
              "      <td>1907.228997</td>\n",
              "      <td>2261.162602</td>\n",
              "      <td>1.322967</td>\n",
              "    </tr>\n",
              "    <tr>\n",
              "      <th>std</th>\n",
              "      <td>928.520081</td>\n",
              "      <td>1466.809684</td>\n",
              "      <td>1341.896447</td>\n",
              "      <td>0.353940</td>\n",
              "    </tr>\n",
              "    <tr>\n",
              "      <th>min</th>\n",
              "      <td>1.000000</td>\n",
              "      <td>10.000000</td>\n",
              "      <td>10.000000</td>\n",
              "      <td>0.960000</td>\n",
              "    </tr>\n",
              "    <tr>\n",
              "      <th>25%</th>\n",
              "      <td>315.250000</td>\n",
              "      <td>491.500000</td>\n",
              "      <td>960.750000</td>\n",
              "      <td>1.000000</td>\n",
              "    </tr>\n",
              "    <tr>\n",
              "      <th>50%</th>\n",
              "      <td>740.500000</td>\n",
              "      <td>1762.500000</td>\n",
              "      <td>2428.500000</td>\n",
              "      <td>1.220000</td>\n",
              "    </tr>\n",
              "    <tr>\n",
              "      <th>75%</th>\n",
              "      <td>1264.500000</td>\n",
              "      <td>3198.000000</td>\n",
              "      <td>3351.750000</td>\n",
              "      <td>1.530000</td>\n",
              "    </tr>\n",
              "    <tr>\n",
              "      <th>max</th>\n",
              "      <td>7613.000000</td>\n",
              "      <td>6170.000000</td>\n",
              "      <td>6170.000000</td>\n",
              "      <td>3.000000</td>\n",
              "    </tr>\n",
              "  </tbody>\n",
              "</table>\n",
              "</div>\n",
              "      <button class=\"colab-df-convert\" onclick=\"convertToInteractive('df-725b8890-64b7-47ee-a8bb-b47ff266af40')\"\n",
              "              title=\"Convert this dataframe to an interactive table.\"\n",
              "              style=\"display:none;\">\n",
              "        \n",
              "  <svg xmlns=\"http://www.w3.org/2000/svg\" height=\"24px\"viewBox=\"0 0 24 24\"\n",
              "       width=\"24px\">\n",
              "    <path d=\"M0 0h24v24H0V0z\" fill=\"none\"/>\n",
              "    <path d=\"M18.56 5.44l.94 2.06.94-2.06 2.06-.94-2.06-.94-.94-2.06-.94 2.06-2.06.94zm-11 1L8.5 8.5l.94-2.06 2.06-.94-2.06-.94L8.5 2.5l-.94 2.06-2.06.94zm10 10l.94 2.06.94-2.06 2.06-.94-2.06-.94-.94-2.06-.94 2.06-2.06.94z\"/><path d=\"M17.41 7.96l-1.37-1.37c-.4-.4-.92-.59-1.43-.59-.52 0-1.04.2-1.43.59L10.3 9.45l-7.72 7.72c-.78.78-.78 2.05 0 2.83L4 21.41c.39.39.9.59 1.41.59.51 0 1.02-.2 1.41-.59l7.78-7.78 2.81-2.81c.8-.78.8-2.07 0-2.86zM5.41 20L4 18.59l7.72-7.72 1.47 1.35L5.41 20z\"/>\n",
              "  </svg>\n",
              "      </button>\n",
              "      \n",
              "  <style>\n",
              "    .colab-df-container {\n",
              "      display:flex;\n",
              "      flex-wrap:wrap;\n",
              "      gap: 12px;\n",
              "    }\n",
              "\n",
              "    .colab-df-convert {\n",
              "      background-color: #E8F0FE;\n",
              "      border: none;\n",
              "      border-radius: 50%;\n",
              "      cursor: pointer;\n",
              "      display: none;\n",
              "      fill: #1967D2;\n",
              "      height: 32px;\n",
              "      padding: 0 0 0 0;\n",
              "      width: 32px;\n",
              "    }\n",
              "\n",
              "    .colab-df-convert:hover {\n",
              "      background-color: #E2EBFA;\n",
              "      box-shadow: 0px 1px 2px rgba(60, 64, 67, 0.3), 0px 1px 3px 1px rgba(60, 64, 67, 0.15);\n",
              "      fill: #174EA6;\n",
              "    }\n",
              "\n",
              "    [theme=dark] .colab-df-convert {\n",
              "      background-color: #3B4455;\n",
              "      fill: #D2E3FC;\n",
              "    }\n",
              "\n",
              "    [theme=dark] .colab-df-convert:hover {\n",
              "      background-color: #434B5C;\n",
              "      box-shadow: 0px 1px 3px 1px rgba(0, 0, 0, 0.15);\n",
              "      filter: drop-shadow(0px 1px 2px rgba(0, 0, 0, 0.3));\n",
              "      fill: #FFFFFF;\n",
              "    }\n",
              "  </style>\n",
              "\n",
              "      <script>\n",
              "        const buttonEl =\n",
              "          document.querySelector('#df-725b8890-64b7-47ee-a8bb-b47ff266af40 button.colab-df-convert');\n",
              "        buttonEl.style.display =\n",
              "          google.colab.kernel.accessAllowed ? 'block' : 'none';\n",
              "\n",
              "        async function convertToInteractive(key) {\n",
              "          const element = document.querySelector('#df-725b8890-64b7-47ee-a8bb-b47ff266af40');\n",
              "          const dataTable =\n",
              "            await google.colab.kernel.invokeFunction('convertToInteractive',\n",
              "                                                     [key], {});\n",
              "          if (!dataTable) return;\n",
              "\n",
              "          const docLinkHtml = 'Like what you see? Visit the ' +\n",
              "            '<a target=\"_blank\" href=https://colab.research.google.com/notebooks/data_table.ipynb>data table notebook</a>'\n",
              "            + ' to learn more about interactive tables.';\n",
              "          element.innerHTML = '';\n",
              "          dataTable['output_type'] = 'display_data';\n",
              "          await google.colab.output.renderOutput(dataTable, element);\n",
              "          const docLink = document.createElement('div');\n",
              "          docLink.innerHTML = docLinkHtml;\n",
              "          element.appendChild(docLink);\n",
              "        }\n",
              "      </script>\n",
              "    </div>\n",
              "  </div>\n",
              "  "
            ]
          },
          "metadata": {},
          "execution_count": 6
        }
      ]
    },
    {
      "cell_type": "code",
      "source": [
        "df[\"Gender\"]=df[\"Gender\"].replace({\"Male\":1,\"Female\":0})\n",
        "df['Gender']"
      ],
      "metadata": {
        "colab": {
          "base_uri": "https://localhost:8080/"
        },
        "id": "o5oT7TWvcjdC",
        "outputId": "76694ea1-c86b-4b51-cb4c-804d7f23ea0a"
      },
      "execution_count": 7,
      "outputs": [
        {
          "output_type": "execute_result",
          "data": {
            "text/plain": [
              "0      1\n",
              "1      1\n",
              "2      0\n",
              "3      1\n",
              "4      1\n",
              "      ..\n",
              "733    1\n",
              "734    1\n",
              "735    1\n",
              "736    0\n",
              "737    1\n",
              "Name: Gender, Length: 738, dtype: int64"
            ]
          },
          "metadata": {},
          "execution_count": 7
        }
      ]
    },
    {
      "cell_type": "code",
      "source": [
        "df[\"Vital Status\"]=df[\"Vital Status\"].replace({\"Dead\":0,\"Alive\":1})\n",
        "df[\"Vital Status\"]"
      ],
      "metadata": {
        "colab": {
          "base_uri": "https://localhost:8080/"
        },
        "id": "WjtaslexTZar",
        "outputId": "896e913d-8b61-4cd3-9598-0c722504d3ba"
      },
      "execution_count": 8,
      "outputs": [
        {
          "output_type": "execute_result",
          "data": {
            "text/plain": [
              "0      1\n",
              "1      0\n",
              "2      1\n",
              "3      1\n",
              "4      1\n",
              "      ..\n",
              "733    0\n",
              "734    0\n",
              "735    0\n",
              "736    0\n",
              "737    1\n",
              "Name: Vital Status, Length: 738, dtype: int64"
            ]
          },
          "metadata": {},
          "execution_count": 8
        }
      ]
    },
    {
      "cell_type": "code",
      "source": [
        "df[\"INSS Stage\"].unique()"
      ],
      "metadata": {
        "colab": {
          "base_uri": "https://localhost:8080/"
        },
        "id": "H-I-7_5rUKrE",
        "outputId": "c15be763-5414-4b8c-e81c-1f826646b5fc"
      },
      "execution_count": 9,
      "outputs": [
        {
          "output_type": "execute_result",
          "data": {
            "text/plain": [
              "array(['Stage 4', 'Stage 2a', 'Stage 1', 'Stage 3', 'Stage 4s',\n",
              "       'Stage 2b'], dtype=object)"
            ]
          },
          "metadata": {},
          "execution_count": 9
        }
      ]
    },
    {
      "cell_type": "code",
      "source": [
        "df[\"INSS Stage\"]=df[\"INSS Stage\"].replace({\"Stage 1\":0,\"Stage 2a\":1,\"Stage 2b\":2,\"Stage 3\":3,\"Stage 4\":4,\"Stage 4s\":5,})\n",
        "df[\"INSS Stage\"]"
      ],
      "metadata": {
        "colab": {
          "base_uri": "https://localhost:8080/"
        },
        "id": "ir8hdeh6VfdD",
        "outputId": "9031540e-b215-4b84-9d8e-abe2136bd9f1"
      },
      "execution_count": 10,
      "outputs": [
        {
          "output_type": "execute_result",
          "data": {
            "text/plain": [
              "0      4\n",
              "1      4\n",
              "2      4\n",
              "3      1\n",
              "4      0\n",
              "      ..\n",
              "733    4\n",
              "734    4\n",
              "735    4\n",
              "736    4\n",
              "737    3\n",
              "Name: INSS Stage, Length: 738, dtype: int64"
            ]
          },
          "metadata": {},
          "execution_count": 10
        }
      ]
    },
    {
      "cell_type": "code",
      "source": [
        "df[\"MYCN status\"].unique()"
      ],
      "metadata": {
        "colab": {
          "base_uri": "https://localhost:8080/"
        },
        "id": "ZyWMVHpnWRS5",
        "outputId": "f8f5bc77-f798-4c4e-a481-fc074ced4e9c"
      },
      "execution_count": 11,
      "outputs": [
        {
          "output_type": "execute_result",
          "data": {
            "text/plain": [
              "array(['Not Amplified', 'Amplified'], dtype=object)"
            ]
          },
          "metadata": {},
          "execution_count": 11
        }
      ]
    },
    {
      "cell_type": "code",
      "source": [
        "df[\"MYCN status\"]=df[\"MYCN status\"].replace({\"Not Amplified\":0,\"Amplified\":1})\n",
        "df[\"MYCN status\"]"
      ],
      "metadata": {
        "colab": {
          "base_uri": "https://localhost:8080/"
        },
        "id": "PzgvLGnmWfV7",
        "outputId": "6c316721-f04d-4f8b-b122-4e3f6833a92c"
      },
      "execution_count": 12,
      "outputs": [
        {
          "output_type": "execute_result",
          "data": {
            "text/plain": [
              "0      0\n",
              "1      0\n",
              "2      0\n",
              "3      0\n",
              "4      0\n",
              "      ..\n",
              "733    0\n",
              "734    0\n",
              "735    0\n",
              "736    0\n",
              "737    0\n",
              "Name: MYCN status, Length: 738, dtype: int64"
            ]
          },
          "metadata": {},
          "execution_count": 12
        }
      ]
    },
    {
      "cell_type": "code",
      "source": [
        "df[\"Histology\"].unique()"
      ],
      "metadata": {
        "colab": {
          "base_uri": "https://localhost:8080/"
        },
        "id": "L3E1lPGpWzt1",
        "outputId": "8c221936-8da8-4d52-cf9a-5a377817eb4f"
      },
      "execution_count": 13,
      "outputs": [
        {
          "output_type": "execute_result",
          "data": {
            "text/plain": [
              "array(['Favorable', 'Unfavorable'], dtype=object)"
            ]
          },
          "metadata": {},
          "execution_count": 13
        }
      ]
    },
    {
      "cell_type": "code",
      "source": [
        "df[\"MKI\"].unique()"
      ],
      "metadata": {
        "colab": {
          "base_uri": "https://localhost:8080/"
        },
        "id": "RWiDujENXCac",
        "outputId": "63d6c3dc-e7b0-4e86-9c90-ad666fb27a22"
      },
      "execution_count": 14,
      "outputs": [
        {
          "output_type": "execute_result",
          "data": {
            "text/plain": [
              "array(['Low', 'High', 'Intermediate'], dtype=object)"
            ]
          },
          "metadata": {},
          "execution_count": 14
        }
      ]
    },
    {
      "cell_type": "code",
      "source": [
        "df[\"COG Risk Group\"].unique()"
      ],
      "metadata": {
        "colab": {
          "base_uri": "https://localhost:8080/"
        },
        "id": "l8lyPu2dXFrl",
        "outputId": "8b1a76be-e2ed-46ef-e621-1ac743cc6167"
      },
      "execution_count": 15,
      "outputs": [
        {
          "output_type": "execute_result",
          "data": {
            "text/plain": [
              "array(['Intermediate Risk', 'High Risk', 'Low Risk'], dtype=object)"
            ]
          },
          "metadata": {},
          "execution_count": 15
        }
      ]
    },
    {
      "cell_type": "code",
      "source": [
        "df[\"Histology\"]=df[\"Histology\"].replace({\"Favorable\":0,\"Unfavorable\":1})\n",
        "df[\"MKI\"]=df[\"MKI\"].replace({\"Low\":0,\"High\":1,\"Intermediate\":2})\n",
        "df[\"COG Risk Group\"]=df[\"COG Risk Group\"].replace({\"Low Risk\":0,\"Intermediate Risk\":1,\"High Risk\":2})"
      ],
      "metadata": {
        "id": "5nEIIO2rXOgT"
      },
      "execution_count": 16,
      "outputs": []
    },
    {
      "cell_type": "code",
      "source": [
        "print(df[\"Histology\"])\n",
        "print(df[\"MKI\"])\n",
        "print(df[\"COG Risk Group\"])"
      ],
      "metadata": {
        "colab": {
          "base_uri": "https://localhost:8080/"
        },
        "id": "Ovy2Ld_SYd2I",
        "outputId": "e0cfe377-d128-4fed-e0f2-4bdc4385b2c1"
      },
      "execution_count": 17,
      "outputs": [
        {
          "output_type": "stream",
          "name": "stdout",
          "text": [
            "0      0\n",
            "1      1\n",
            "2      0\n",
            "3      0\n",
            "4      0\n",
            "      ..\n",
            "733    1\n",
            "734    1\n",
            "735    1\n",
            "736    0\n",
            "737    0\n",
            "Name: Histology, Length: 738, dtype: int64\n",
            "0      0\n",
            "1      1\n",
            "2      0\n",
            "3      0\n",
            "4      0\n",
            "      ..\n",
            "733    2\n",
            "734    2\n",
            "735    2\n",
            "736    2\n",
            "737    0\n",
            "Name: MKI, Length: 738, dtype: int64\n",
            "0      1\n",
            "1      2\n",
            "2      1\n",
            "3      0\n",
            "4      0\n",
            "      ..\n",
            "733    2\n",
            "734    2\n",
            "735    2\n",
            "736    1\n",
            "737    1\n",
            "Name: COG Risk Group, Length: 738, dtype: int64\n"
          ]
        }
      ]
    },
    {
      "cell_type": "code",
      "source": [
        "df"
      ],
      "metadata": {
        "colab": {
          "base_uri": "https://localhost:8080/",
          "height": 424
        },
        "id": "i8l4i7XrY_FN",
        "outputId": "79c11d83-aa03-4bf2-e3d0-f057bda64c85"
      },
      "execution_count": 18,
      "outputs": [
        {
          "output_type": "execute_result",
          "data": {
            "text/plain": [
              "           TARGET USI  Gender  Age at Diagnosis in Days  \\\n",
              "0    TARGET-30-PARPUF       1                        96   \n",
              "1    TARGET-30-PARSVF       1                       964   \n",
              "2    TARGET-30-PARSXI       0                       538   \n",
              "3    TARGET-30-PARSZV       1                       287   \n",
              "4    TARGET-30-PARTCE       1                        67   \n",
              "..                ...     ...                       ...   \n",
              "733  TARGET-30-PATILE       1                       824   \n",
              "734  TARGET-30-PATINJ       1                      1037   \n",
              "735  TARGET-30-PATNKP       1                      3446   \n",
              "736  TARGET-30-PATYIL       0                       328   \n",
              "737  TARGET-30-PAUDDK       1                       361   \n",
              "\n",
              "     Event Free Survival Time in Days  Vital Status  \\\n",
              "0                                3701             1   \n",
              "1                                 997             0   \n",
              "2                                3928             1   \n",
              "3                                2675             1   \n",
              "4                                3625             1   \n",
              "..                                ...           ...   \n",
              "733                               306             0   \n",
              "734                               736             0   \n",
              "735                               616             0   \n",
              "736                               239             0   \n",
              "737                               344             1   \n",
              "\n",
              "     Overall Survival Time in Days  INSS Stage  MYCN status  Ploidy Value  \\\n",
              "0                             3701           4            0          1.48   \n",
              "1                             1516           4            0          1.00   \n",
              "2                             3928           4            0          1.99   \n",
              "3                             3995           1            0          1.58   \n",
              "4                             3625           0            0          2.13   \n",
              "..                             ...         ...          ...           ...   \n",
              "733                            306           4            0          1.00   \n",
              "734                            822           4            0          1.00   \n",
              "735                           1549           4            0          1.47   \n",
              "736                            481           4            0          1.00   \n",
              "737                           2569           3            0          1.33   \n",
              "\n",
              "     Histology  MKI  COG Risk Group  \n",
              "0            0    0               1  \n",
              "1            1    1               2  \n",
              "2            0    0               1  \n",
              "3            0    0               0  \n",
              "4            0    0               0  \n",
              "..         ...  ...             ...  \n",
              "733          1    2               2  \n",
              "734          1    2               2  \n",
              "735          1    2               2  \n",
              "736          0    2               1  \n",
              "737          0    0               1  \n",
              "\n",
              "[738 rows x 12 columns]"
            ],
            "text/html": [
              "\n",
              "  <div id=\"df-3308156a-2f8a-4ebe-b229-6c119e9e214f\">\n",
              "    <div class=\"colab-df-container\">\n",
              "      <div>\n",
              "<style scoped>\n",
              "    .dataframe tbody tr th:only-of-type {\n",
              "        vertical-align: middle;\n",
              "    }\n",
              "\n",
              "    .dataframe tbody tr th {\n",
              "        vertical-align: top;\n",
              "    }\n",
              "\n",
              "    .dataframe thead th {\n",
              "        text-align: right;\n",
              "    }\n",
              "</style>\n",
              "<table border=\"1\" class=\"dataframe\">\n",
              "  <thead>\n",
              "    <tr style=\"text-align: right;\">\n",
              "      <th></th>\n",
              "      <th>TARGET USI</th>\n",
              "      <th>Gender</th>\n",
              "      <th>Age at Diagnosis in Days</th>\n",
              "      <th>Event Free Survival Time in Days</th>\n",
              "      <th>Vital Status</th>\n",
              "      <th>Overall Survival Time in Days</th>\n",
              "      <th>INSS Stage</th>\n",
              "      <th>MYCN status</th>\n",
              "      <th>Ploidy Value</th>\n",
              "      <th>Histology</th>\n",
              "      <th>MKI</th>\n",
              "      <th>COG Risk Group</th>\n",
              "    </tr>\n",
              "  </thead>\n",
              "  <tbody>\n",
              "    <tr>\n",
              "      <th>0</th>\n",
              "      <td>TARGET-30-PARPUF</td>\n",
              "      <td>1</td>\n",
              "      <td>96</td>\n",
              "      <td>3701</td>\n",
              "      <td>1</td>\n",
              "      <td>3701</td>\n",
              "      <td>4</td>\n",
              "      <td>0</td>\n",
              "      <td>1.48</td>\n",
              "      <td>0</td>\n",
              "      <td>0</td>\n",
              "      <td>1</td>\n",
              "    </tr>\n",
              "    <tr>\n",
              "      <th>1</th>\n",
              "      <td>TARGET-30-PARSVF</td>\n",
              "      <td>1</td>\n",
              "      <td>964</td>\n",
              "      <td>997</td>\n",
              "      <td>0</td>\n",
              "      <td>1516</td>\n",
              "      <td>4</td>\n",
              "      <td>0</td>\n",
              "      <td>1.00</td>\n",
              "      <td>1</td>\n",
              "      <td>1</td>\n",
              "      <td>2</td>\n",
              "    </tr>\n",
              "    <tr>\n",
              "      <th>2</th>\n",
              "      <td>TARGET-30-PARSXI</td>\n",
              "      <td>0</td>\n",
              "      <td>538</td>\n",
              "      <td>3928</td>\n",
              "      <td>1</td>\n",
              "      <td>3928</td>\n",
              "      <td>4</td>\n",
              "      <td>0</td>\n",
              "      <td>1.99</td>\n",
              "      <td>0</td>\n",
              "      <td>0</td>\n",
              "      <td>1</td>\n",
              "    </tr>\n",
              "    <tr>\n",
              "      <th>3</th>\n",
              "      <td>TARGET-30-PARSZV</td>\n",
              "      <td>1</td>\n",
              "      <td>287</td>\n",
              "      <td>2675</td>\n",
              "      <td>1</td>\n",
              "      <td>3995</td>\n",
              "      <td>1</td>\n",
              "      <td>0</td>\n",
              "      <td>1.58</td>\n",
              "      <td>0</td>\n",
              "      <td>0</td>\n",
              "      <td>0</td>\n",
              "    </tr>\n",
              "    <tr>\n",
              "      <th>4</th>\n",
              "      <td>TARGET-30-PARTCE</td>\n",
              "      <td>1</td>\n",
              "      <td>67</td>\n",
              "      <td>3625</td>\n",
              "      <td>1</td>\n",
              "      <td>3625</td>\n",
              "      <td>0</td>\n",
              "      <td>0</td>\n",
              "      <td>2.13</td>\n",
              "      <td>0</td>\n",
              "      <td>0</td>\n",
              "      <td>0</td>\n",
              "    </tr>\n",
              "    <tr>\n",
              "      <th>...</th>\n",
              "      <td>...</td>\n",
              "      <td>...</td>\n",
              "      <td>...</td>\n",
              "      <td>...</td>\n",
              "      <td>...</td>\n",
              "      <td>...</td>\n",
              "      <td>...</td>\n",
              "      <td>...</td>\n",
              "      <td>...</td>\n",
              "      <td>...</td>\n",
              "      <td>...</td>\n",
              "      <td>...</td>\n",
              "    </tr>\n",
              "    <tr>\n",
              "      <th>733</th>\n",
              "      <td>TARGET-30-PATILE</td>\n",
              "      <td>1</td>\n",
              "      <td>824</td>\n",
              "      <td>306</td>\n",
              "      <td>0</td>\n",
              "      <td>306</td>\n",
              "      <td>4</td>\n",
              "      <td>0</td>\n",
              "      <td>1.00</td>\n",
              "      <td>1</td>\n",
              "      <td>2</td>\n",
              "      <td>2</td>\n",
              "    </tr>\n",
              "    <tr>\n",
              "      <th>734</th>\n",
              "      <td>TARGET-30-PATINJ</td>\n",
              "      <td>1</td>\n",
              "      <td>1037</td>\n",
              "      <td>736</td>\n",
              "      <td>0</td>\n",
              "      <td>822</td>\n",
              "      <td>4</td>\n",
              "      <td>0</td>\n",
              "      <td>1.00</td>\n",
              "      <td>1</td>\n",
              "      <td>2</td>\n",
              "      <td>2</td>\n",
              "    </tr>\n",
              "    <tr>\n",
              "      <th>735</th>\n",
              "      <td>TARGET-30-PATNKP</td>\n",
              "      <td>1</td>\n",
              "      <td>3446</td>\n",
              "      <td>616</td>\n",
              "      <td>0</td>\n",
              "      <td>1549</td>\n",
              "      <td>4</td>\n",
              "      <td>0</td>\n",
              "      <td>1.47</td>\n",
              "      <td>1</td>\n",
              "      <td>2</td>\n",
              "      <td>2</td>\n",
              "    </tr>\n",
              "    <tr>\n",
              "      <th>736</th>\n",
              "      <td>TARGET-30-PATYIL</td>\n",
              "      <td>0</td>\n",
              "      <td>328</td>\n",
              "      <td>239</td>\n",
              "      <td>0</td>\n",
              "      <td>481</td>\n",
              "      <td>4</td>\n",
              "      <td>0</td>\n",
              "      <td>1.00</td>\n",
              "      <td>0</td>\n",
              "      <td>2</td>\n",
              "      <td>1</td>\n",
              "    </tr>\n",
              "    <tr>\n",
              "      <th>737</th>\n",
              "      <td>TARGET-30-PAUDDK</td>\n",
              "      <td>1</td>\n",
              "      <td>361</td>\n",
              "      <td>344</td>\n",
              "      <td>1</td>\n",
              "      <td>2569</td>\n",
              "      <td>3</td>\n",
              "      <td>0</td>\n",
              "      <td>1.33</td>\n",
              "      <td>0</td>\n",
              "      <td>0</td>\n",
              "      <td>1</td>\n",
              "    </tr>\n",
              "  </tbody>\n",
              "</table>\n",
              "<p>738 rows × 12 columns</p>\n",
              "</div>\n",
              "      <button class=\"colab-df-convert\" onclick=\"convertToInteractive('df-3308156a-2f8a-4ebe-b229-6c119e9e214f')\"\n",
              "              title=\"Convert this dataframe to an interactive table.\"\n",
              "              style=\"display:none;\">\n",
              "        \n",
              "  <svg xmlns=\"http://www.w3.org/2000/svg\" height=\"24px\"viewBox=\"0 0 24 24\"\n",
              "       width=\"24px\">\n",
              "    <path d=\"M0 0h24v24H0V0z\" fill=\"none\"/>\n",
              "    <path d=\"M18.56 5.44l.94 2.06.94-2.06 2.06-.94-2.06-.94-.94-2.06-.94 2.06-2.06.94zm-11 1L8.5 8.5l.94-2.06 2.06-.94-2.06-.94L8.5 2.5l-.94 2.06-2.06.94zm10 10l.94 2.06.94-2.06 2.06-.94-2.06-.94-.94-2.06-.94 2.06-2.06.94z\"/><path d=\"M17.41 7.96l-1.37-1.37c-.4-.4-.92-.59-1.43-.59-.52 0-1.04.2-1.43.59L10.3 9.45l-7.72 7.72c-.78.78-.78 2.05 0 2.83L4 21.41c.39.39.9.59 1.41.59.51 0 1.02-.2 1.41-.59l7.78-7.78 2.81-2.81c.8-.78.8-2.07 0-2.86zM5.41 20L4 18.59l7.72-7.72 1.47 1.35L5.41 20z\"/>\n",
              "  </svg>\n",
              "      </button>\n",
              "      \n",
              "  <style>\n",
              "    .colab-df-container {\n",
              "      display:flex;\n",
              "      flex-wrap:wrap;\n",
              "      gap: 12px;\n",
              "    }\n",
              "\n",
              "    .colab-df-convert {\n",
              "      background-color: #E8F0FE;\n",
              "      border: none;\n",
              "      border-radius: 50%;\n",
              "      cursor: pointer;\n",
              "      display: none;\n",
              "      fill: #1967D2;\n",
              "      height: 32px;\n",
              "      padding: 0 0 0 0;\n",
              "      width: 32px;\n",
              "    }\n",
              "\n",
              "    .colab-df-convert:hover {\n",
              "      background-color: #E2EBFA;\n",
              "      box-shadow: 0px 1px 2px rgba(60, 64, 67, 0.3), 0px 1px 3px 1px rgba(60, 64, 67, 0.15);\n",
              "      fill: #174EA6;\n",
              "    }\n",
              "\n",
              "    [theme=dark] .colab-df-convert {\n",
              "      background-color: #3B4455;\n",
              "      fill: #D2E3FC;\n",
              "    }\n",
              "\n",
              "    [theme=dark] .colab-df-convert:hover {\n",
              "      background-color: #434B5C;\n",
              "      box-shadow: 0px 1px 3px 1px rgba(0, 0, 0, 0.15);\n",
              "      filter: drop-shadow(0px 1px 2px rgba(0, 0, 0, 0.3));\n",
              "      fill: #FFFFFF;\n",
              "    }\n",
              "  </style>\n",
              "\n",
              "      <script>\n",
              "        const buttonEl =\n",
              "          document.querySelector('#df-3308156a-2f8a-4ebe-b229-6c119e9e214f button.colab-df-convert');\n",
              "        buttonEl.style.display =\n",
              "          google.colab.kernel.accessAllowed ? 'block' : 'none';\n",
              "\n",
              "        async function convertToInteractive(key) {\n",
              "          const element = document.querySelector('#df-3308156a-2f8a-4ebe-b229-6c119e9e214f');\n",
              "          const dataTable =\n",
              "            await google.colab.kernel.invokeFunction('convertToInteractive',\n",
              "                                                     [key], {});\n",
              "          if (!dataTable) return;\n",
              "\n",
              "          const docLinkHtml = 'Like what you see? Visit the ' +\n",
              "            '<a target=\"_blank\" href=https://colab.research.google.com/notebooks/data_table.ipynb>data table notebook</a>'\n",
              "            + ' to learn more about interactive tables.';\n",
              "          element.innerHTML = '';\n",
              "          dataTable['output_type'] = 'display_data';\n",
              "          await google.colab.output.renderOutput(dataTable, element);\n",
              "          const docLink = document.createElement('div');\n",
              "          docLink.innerHTML = docLinkHtml;\n",
              "          element.appendChild(docLink);\n",
              "        }\n",
              "      </script>\n",
              "    </div>\n",
              "  </div>\n",
              "  "
            ]
          },
          "metadata": {},
          "execution_count": 18
        }
      ]
    },
    {
      "cell_type": "code",
      "source": [
        "x=df.drop(['Vital Status','TARGET USI','Event Free Survival Time in Days'],axis=1)\n",
        "x"
      ],
      "metadata": {
        "colab": {
          "base_uri": "https://localhost:8080/",
          "height": 424
        },
        "id": "4-w-yIapjp-S",
        "outputId": "cd48f001-6fc3-4108-9fda-07b059eb5883"
      },
      "execution_count": 42,
      "outputs": [
        {
          "output_type": "execute_result",
          "data": {
            "text/plain": [
              "     Gender  Age at Diagnosis in Days  Overall Survival Time in Days  \\\n",
              "0         1                        96                           3701   \n",
              "1         1                       964                           1516   \n",
              "2         0                       538                           3928   \n",
              "3         1                       287                           3995   \n",
              "4         1                        67                           3625   \n",
              "..      ...                       ...                            ...   \n",
              "733       1                       824                            306   \n",
              "734       1                      1037                            822   \n",
              "735       1                      3446                           1549   \n",
              "736       0                       328                            481   \n",
              "737       1                       361                           2569   \n",
              "\n",
              "     INSS Stage  MYCN status  Ploidy Value  Histology  MKI  COG Risk Group  \n",
              "0             4            0          1.48          0    0               1  \n",
              "1             4            0          1.00          1    1               2  \n",
              "2             4            0          1.99          0    0               1  \n",
              "3             1            0          1.58          0    0               0  \n",
              "4             0            0          2.13          0    0               0  \n",
              "..          ...          ...           ...        ...  ...             ...  \n",
              "733           4            0          1.00          1    2               2  \n",
              "734           4            0          1.00          1    2               2  \n",
              "735           4            0          1.47          1    2               2  \n",
              "736           4            0          1.00          0    2               1  \n",
              "737           3            0          1.33          0    0               1  \n",
              "\n",
              "[738 rows x 9 columns]"
            ],
            "text/html": [
              "\n",
              "  <div id=\"df-91522eba-4d92-4197-af7e-c06d7ed9c05e\">\n",
              "    <div class=\"colab-df-container\">\n",
              "      <div>\n",
              "<style scoped>\n",
              "    .dataframe tbody tr th:only-of-type {\n",
              "        vertical-align: middle;\n",
              "    }\n",
              "\n",
              "    .dataframe tbody tr th {\n",
              "        vertical-align: top;\n",
              "    }\n",
              "\n",
              "    .dataframe thead th {\n",
              "        text-align: right;\n",
              "    }\n",
              "</style>\n",
              "<table border=\"1\" class=\"dataframe\">\n",
              "  <thead>\n",
              "    <tr style=\"text-align: right;\">\n",
              "      <th></th>\n",
              "      <th>Gender</th>\n",
              "      <th>Age at Diagnosis in Days</th>\n",
              "      <th>Overall Survival Time in Days</th>\n",
              "      <th>INSS Stage</th>\n",
              "      <th>MYCN status</th>\n",
              "      <th>Ploidy Value</th>\n",
              "      <th>Histology</th>\n",
              "      <th>MKI</th>\n",
              "      <th>COG Risk Group</th>\n",
              "    </tr>\n",
              "  </thead>\n",
              "  <tbody>\n",
              "    <tr>\n",
              "      <th>0</th>\n",
              "      <td>1</td>\n",
              "      <td>96</td>\n",
              "      <td>3701</td>\n",
              "      <td>4</td>\n",
              "      <td>0</td>\n",
              "      <td>1.48</td>\n",
              "      <td>0</td>\n",
              "      <td>0</td>\n",
              "      <td>1</td>\n",
              "    </tr>\n",
              "    <tr>\n",
              "      <th>1</th>\n",
              "      <td>1</td>\n",
              "      <td>964</td>\n",
              "      <td>1516</td>\n",
              "      <td>4</td>\n",
              "      <td>0</td>\n",
              "      <td>1.00</td>\n",
              "      <td>1</td>\n",
              "      <td>1</td>\n",
              "      <td>2</td>\n",
              "    </tr>\n",
              "    <tr>\n",
              "      <th>2</th>\n",
              "      <td>0</td>\n",
              "      <td>538</td>\n",
              "      <td>3928</td>\n",
              "      <td>4</td>\n",
              "      <td>0</td>\n",
              "      <td>1.99</td>\n",
              "      <td>0</td>\n",
              "      <td>0</td>\n",
              "      <td>1</td>\n",
              "    </tr>\n",
              "    <tr>\n",
              "      <th>3</th>\n",
              "      <td>1</td>\n",
              "      <td>287</td>\n",
              "      <td>3995</td>\n",
              "      <td>1</td>\n",
              "      <td>0</td>\n",
              "      <td>1.58</td>\n",
              "      <td>0</td>\n",
              "      <td>0</td>\n",
              "      <td>0</td>\n",
              "    </tr>\n",
              "    <tr>\n",
              "      <th>4</th>\n",
              "      <td>1</td>\n",
              "      <td>67</td>\n",
              "      <td>3625</td>\n",
              "      <td>0</td>\n",
              "      <td>0</td>\n",
              "      <td>2.13</td>\n",
              "      <td>0</td>\n",
              "      <td>0</td>\n",
              "      <td>0</td>\n",
              "    </tr>\n",
              "    <tr>\n",
              "      <th>...</th>\n",
              "      <td>...</td>\n",
              "      <td>...</td>\n",
              "      <td>...</td>\n",
              "      <td>...</td>\n",
              "      <td>...</td>\n",
              "      <td>...</td>\n",
              "      <td>...</td>\n",
              "      <td>...</td>\n",
              "      <td>...</td>\n",
              "    </tr>\n",
              "    <tr>\n",
              "      <th>733</th>\n",
              "      <td>1</td>\n",
              "      <td>824</td>\n",
              "      <td>306</td>\n",
              "      <td>4</td>\n",
              "      <td>0</td>\n",
              "      <td>1.00</td>\n",
              "      <td>1</td>\n",
              "      <td>2</td>\n",
              "      <td>2</td>\n",
              "    </tr>\n",
              "    <tr>\n",
              "      <th>734</th>\n",
              "      <td>1</td>\n",
              "      <td>1037</td>\n",
              "      <td>822</td>\n",
              "      <td>4</td>\n",
              "      <td>0</td>\n",
              "      <td>1.00</td>\n",
              "      <td>1</td>\n",
              "      <td>2</td>\n",
              "      <td>2</td>\n",
              "    </tr>\n",
              "    <tr>\n",
              "      <th>735</th>\n",
              "      <td>1</td>\n",
              "      <td>3446</td>\n",
              "      <td>1549</td>\n",
              "      <td>4</td>\n",
              "      <td>0</td>\n",
              "      <td>1.47</td>\n",
              "      <td>1</td>\n",
              "      <td>2</td>\n",
              "      <td>2</td>\n",
              "    </tr>\n",
              "    <tr>\n",
              "      <th>736</th>\n",
              "      <td>0</td>\n",
              "      <td>328</td>\n",
              "      <td>481</td>\n",
              "      <td>4</td>\n",
              "      <td>0</td>\n",
              "      <td>1.00</td>\n",
              "      <td>0</td>\n",
              "      <td>2</td>\n",
              "      <td>1</td>\n",
              "    </tr>\n",
              "    <tr>\n",
              "      <th>737</th>\n",
              "      <td>1</td>\n",
              "      <td>361</td>\n",
              "      <td>2569</td>\n",
              "      <td>3</td>\n",
              "      <td>0</td>\n",
              "      <td>1.33</td>\n",
              "      <td>0</td>\n",
              "      <td>0</td>\n",
              "      <td>1</td>\n",
              "    </tr>\n",
              "  </tbody>\n",
              "</table>\n",
              "<p>738 rows × 9 columns</p>\n",
              "</div>\n",
              "      <button class=\"colab-df-convert\" onclick=\"convertToInteractive('df-91522eba-4d92-4197-af7e-c06d7ed9c05e')\"\n",
              "              title=\"Convert this dataframe to an interactive table.\"\n",
              "              style=\"display:none;\">\n",
              "        \n",
              "  <svg xmlns=\"http://www.w3.org/2000/svg\" height=\"24px\"viewBox=\"0 0 24 24\"\n",
              "       width=\"24px\">\n",
              "    <path d=\"M0 0h24v24H0V0z\" fill=\"none\"/>\n",
              "    <path d=\"M18.56 5.44l.94 2.06.94-2.06 2.06-.94-2.06-.94-.94-2.06-.94 2.06-2.06.94zm-11 1L8.5 8.5l.94-2.06 2.06-.94-2.06-.94L8.5 2.5l-.94 2.06-2.06.94zm10 10l.94 2.06.94-2.06 2.06-.94-2.06-.94-.94-2.06-.94 2.06-2.06.94z\"/><path d=\"M17.41 7.96l-1.37-1.37c-.4-.4-.92-.59-1.43-.59-.52 0-1.04.2-1.43.59L10.3 9.45l-7.72 7.72c-.78.78-.78 2.05 0 2.83L4 21.41c.39.39.9.59 1.41.59.51 0 1.02-.2 1.41-.59l7.78-7.78 2.81-2.81c.8-.78.8-2.07 0-2.86zM5.41 20L4 18.59l7.72-7.72 1.47 1.35L5.41 20z\"/>\n",
              "  </svg>\n",
              "      </button>\n",
              "      \n",
              "  <style>\n",
              "    .colab-df-container {\n",
              "      display:flex;\n",
              "      flex-wrap:wrap;\n",
              "      gap: 12px;\n",
              "    }\n",
              "\n",
              "    .colab-df-convert {\n",
              "      background-color: #E8F0FE;\n",
              "      border: none;\n",
              "      border-radius: 50%;\n",
              "      cursor: pointer;\n",
              "      display: none;\n",
              "      fill: #1967D2;\n",
              "      height: 32px;\n",
              "      padding: 0 0 0 0;\n",
              "      width: 32px;\n",
              "    }\n",
              "\n",
              "    .colab-df-convert:hover {\n",
              "      background-color: #E2EBFA;\n",
              "      box-shadow: 0px 1px 2px rgba(60, 64, 67, 0.3), 0px 1px 3px 1px rgba(60, 64, 67, 0.15);\n",
              "      fill: #174EA6;\n",
              "    }\n",
              "\n",
              "    [theme=dark] .colab-df-convert {\n",
              "      background-color: #3B4455;\n",
              "      fill: #D2E3FC;\n",
              "    }\n",
              "\n",
              "    [theme=dark] .colab-df-convert:hover {\n",
              "      background-color: #434B5C;\n",
              "      box-shadow: 0px 1px 3px 1px rgba(0, 0, 0, 0.15);\n",
              "      filter: drop-shadow(0px 1px 2px rgba(0, 0, 0, 0.3));\n",
              "      fill: #FFFFFF;\n",
              "    }\n",
              "  </style>\n",
              "\n",
              "      <script>\n",
              "        const buttonEl =\n",
              "          document.querySelector('#df-91522eba-4d92-4197-af7e-c06d7ed9c05e button.colab-df-convert');\n",
              "        buttonEl.style.display =\n",
              "          google.colab.kernel.accessAllowed ? 'block' : 'none';\n",
              "\n",
              "        async function convertToInteractive(key) {\n",
              "          const element = document.querySelector('#df-91522eba-4d92-4197-af7e-c06d7ed9c05e');\n",
              "          const dataTable =\n",
              "            await google.colab.kernel.invokeFunction('convertToInteractive',\n",
              "                                                     [key], {});\n",
              "          if (!dataTable) return;\n",
              "\n",
              "          const docLinkHtml = 'Like what you see? Visit the ' +\n",
              "            '<a target=\"_blank\" href=https://colab.research.google.com/notebooks/data_table.ipynb>data table notebook</a>'\n",
              "            + ' to learn more about interactive tables.';\n",
              "          element.innerHTML = '';\n",
              "          dataTable['output_type'] = 'display_data';\n",
              "          await google.colab.output.renderOutput(dataTable, element);\n",
              "          const docLink = document.createElement('div');\n",
              "          docLink.innerHTML = docLinkHtml;\n",
              "          element.appendChild(docLink);\n",
              "        }\n",
              "      </script>\n",
              "    </div>\n",
              "  </div>\n",
              "  "
            ]
          },
          "metadata": {},
          "execution_count": 42
        }
      ]
    },
    {
      "cell_type": "code",
      "source": [
        "#x_train=x.iloc[0:590]\n",
        "#x_test=x.iloc[590:738]"
      ],
      "metadata": {
        "id": "8GA9v7tLwo72"
      },
      "execution_count": 20,
      "outputs": []
    },
    {
      "cell_type": "code",
      "source": [
        "#x_train"
      ],
      "metadata": {
        "id": "v_50oA1VwrWS"
      },
      "execution_count": 21,
      "outputs": []
    },
    {
      "cell_type": "code",
      "source": [
        "#x_test"
      ],
      "metadata": {
        "id": "dVQoLCWQwv-4"
      },
      "execution_count": 22,
      "outputs": []
    },
    {
      "cell_type": "code",
      "source": [
        "y=df['Vital Status']\n",
        "y"
      ],
      "metadata": {
        "colab": {
          "base_uri": "https://localhost:8080/"
        },
        "id": "faNr0qPLu_Fg",
        "outputId": "0fb52f8d-1d38-4b3d-9870-c97754b450fc"
      },
      "execution_count": 43,
      "outputs": [
        {
          "output_type": "execute_result",
          "data": {
            "text/plain": [
              "0      1\n",
              "1      0\n",
              "2      1\n",
              "3      1\n",
              "4      1\n",
              "      ..\n",
              "733    0\n",
              "734    0\n",
              "735    0\n",
              "736    0\n",
              "737    1\n",
              "Name: Vital Status, Length: 738, dtype: int64"
            ]
          },
          "metadata": {},
          "execution_count": 43
        }
      ]
    },
    {
      "cell_type": "code",
      "source": [
        "#y_train=y.iloc[0:590]\n",
        "#y_test=y.iloc[590:738]"
      ],
      "metadata": {
        "id": "2FNFAmRKw2iq"
      },
      "execution_count": 24,
      "outputs": []
    },
    {
      "cell_type": "code",
      "source": [
        "#y_train"
      ],
      "metadata": {
        "id": "ycTLX7ngw-dD"
      },
      "execution_count": 25,
      "outputs": []
    },
    {
      "cell_type": "code",
      "source": [
        "#y_test"
      ],
      "metadata": {
        "id": "vZGpOVcCxAnf"
      },
      "execution_count": 26,
      "outputs": []
    },
    {
      "cell_type": "code",
      "source": [
        "from sklearn.preprocessing import StandardScaler\n",
        "\n",
        "scaler = StandardScaler()\n",
        "\n",
        "train_scaled = scaler.fit_transform(x)\n",
        "#test_scaled = scaler.transform(x_test)"
      ],
      "metadata": {
        "id": "07OPMyRIvJBe"
      },
      "execution_count": 44,
      "outputs": []
    },
    {
      "cell_type": "code",
      "source": [
        "train_scaled"
      ],
      "metadata": {
        "colab": {
          "base_uri": "https://localhost:8080/"
        },
        "id": "3lHKA5E6yUTM",
        "outputId": "e8934543-f98b-4262-d08b-8a82588f3381"
      },
      "execution_count": 45,
      "outputs": [
        {
          "output_type": "execute_result",
          "data": {
            "text/plain": [
              "array([[ 0.86056147, -0.91185913,  1.07371466, ..., -1.42288094,\n",
              "        -1.09669375, -0.6098716 ],\n",
              "       [ 0.86056147,  0.02359578, -0.5556822 , ...,  0.70279949,\n",
              "         0.11130623,  0.65087137],\n",
              "       [-1.16203204, -0.43550997,  1.24299296, ..., -1.42288094,\n",
              "        -1.09669375, -0.6098716 ],\n",
              "       ...,\n",
              "       [ 0.86056147,  2.69847954, -0.53107346, ...,  0.70279949,\n",
              "         1.31930621,  0.65087137],\n",
              "       [-1.16203204, -0.66182971, -1.32750176, ..., -1.42288094,\n",
              "         1.31930621, -0.6098716 ],\n",
              "       [ 0.86056147, -0.62626518,  0.22956032, ..., -1.42288094,\n",
              "        -1.09669375, -0.6098716 ]])"
            ]
          },
          "metadata": {},
          "execution_count": 45
        }
      ]
    },
    {
      "cell_type": "code",
      "source": [
        "from tensorflow.keras.models import Sequential\n",
        "from tensorflow.keras.layers import Dense, Activation\n",
        "import numpy as np\n",
        "\n",
        "model = Sequential()\n",
        "model.add(Dense(32, input_shape=(9,)))\n",
        "model.add(Activation('relu'))\n",
        "model.add(Dense(16))\n",
        "model.add(Activation('relu'))\n",
        "model.add(Dense(1))\n",
        "model.add(Activation('sigmoid'))\n",
        "\n",
        "model.compile(loss='mean_squared_error', optimizer='sgd', metrics=['accuracy']) \n",
        "model.summary()"
      ],
      "metadata": {
        "colab": {
          "base_uri": "https://localhost:8080/"
        },
        "id": "mViwu1YZxTj2",
        "outputId": "40f69788-682b-4dd5-9fda-05d0b01ba844"
      },
      "execution_count": 72,
      "outputs": [
        {
          "output_type": "stream",
          "name": "stdout",
          "text": [
            "Model: \"sequential_15\"\n",
            "_________________________________________________________________\n",
            " Layer (type)                Output Shape              Param #   \n",
            "=================================================================\n",
            " dense_57 (Dense)            (None, 32)                320       \n",
            "                                                                 \n",
            " activation_57 (Activation)  (None, 32)                0         \n",
            "                                                                 \n",
            " dense_58 (Dense)            (None, 16)                528       \n",
            "                                                                 \n",
            " activation_58 (Activation)  (None, 16)                0         \n",
            "                                                                 \n",
            " dense_59 (Dense)            (None, 1)                 17        \n",
            "                                                                 \n",
            " activation_59 (Activation)  (None, 1)                 0         \n",
            "                                                                 \n",
            "=================================================================\n",
            "Total params: 865\n",
            "Trainable params: 865\n",
            "Non-trainable params: 0\n",
            "_________________________________________________________________\n"
          ]
        }
      ]
    },
    {
      "cell_type": "code",
      "source": [
        "trained_model=model.fit(train_scaled, y,validation_split=0.2,epochs=15,batch_size=2)"
      ],
      "metadata": {
        "colab": {
          "base_uri": "https://localhost:8080/"
        },
        "id": "LrkezKhFxyIE",
        "outputId": "905c90cc-c7a8-476d-8779-927cc2a8bd28"
      },
      "execution_count": 73,
      "outputs": [
        {
          "output_type": "stream",
          "name": "stdout",
          "text": [
            "Epoch 1/15\n",
            "295/295 [==============================] - 1s 2ms/step - loss: 0.2066 - accuracy: 0.6458 - val_loss: 0.2134 - val_accuracy: 0.6486\n",
            "Epoch 2/15\n",
            "295/295 [==============================] - 1s 2ms/step - loss: 0.1462 - accuracy: 0.8051 - val_loss: 0.1802 - val_accuracy: 0.7838\n",
            "Epoch 3/15\n",
            "295/295 [==============================] - 1s 2ms/step - loss: 0.1190 - accuracy: 0.8763 - val_loss: 0.1503 - val_accuracy: 0.8311\n",
            "Epoch 4/15\n",
            "295/295 [==============================] - 1s 2ms/step - loss: 0.0981 - accuracy: 0.9085 - val_loss: 0.1288 - val_accuracy: 0.8446\n",
            "Epoch 5/15\n",
            "295/295 [==============================] - 1s 2ms/step - loss: 0.0835 - accuracy: 0.9136 - val_loss: 0.1112 - val_accuracy: 0.8784\n",
            "Epoch 6/15\n",
            "295/295 [==============================] - 1s 2ms/step - loss: 0.0736 - accuracy: 0.9237 - val_loss: 0.1021 - val_accuracy: 0.8784\n",
            "Epoch 7/15\n",
            "295/295 [==============================] - 1s 2ms/step - loss: 0.0671 - accuracy: 0.9220 - val_loss: 0.0998 - val_accuracy: 0.8716\n",
            "Epoch 8/15\n",
            "295/295 [==============================] - 1s 2ms/step - loss: 0.0630 - accuracy: 0.9254 - val_loss: 0.0946 - val_accuracy: 0.8649\n",
            "Epoch 9/15\n",
            "295/295 [==============================] - 1s 2ms/step - loss: 0.0602 - accuracy: 0.9305 - val_loss: 0.0929 - val_accuracy: 0.8716\n",
            "Epoch 10/15\n",
            "295/295 [==============================] - 1s 2ms/step - loss: 0.0580 - accuracy: 0.9305 - val_loss: 0.0920 - val_accuracy: 0.8716\n",
            "Epoch 11/15\n",
            "295/295 [==============================] - 1s 2ms/step - loss: 0.0562 - accuracy: 0.9305 - val_loss: 0.0954 - val_accuracy: 0.8716\n",
            "Epoch 12/15\n",
            "295/295 [==============================] - 1s 2ms/step - loss: 0.0550 - accuracy: 0.9339 - val_loss: 0.0946 - val_accuracy: 0.8649\n",
            "Epoch 13/15\n",
            "295/295 [==============================] - 1s 2ms/step - loss: 0.0538 - accuracy: 0.9373 - val_loss: 0.0944 - val_accuracy: 0.8649\n",
            "Epoch 14/15\n",
            "295/295 [==============================] - 1s 2ms/step - loss: 0.0528 - accuracy: 0.9390 - val_loss: 0.0919 - val_accuracy: 0.8716\n",
            "Epoch 15/15\n",
            "295/295 [==============================] - 1s 2ms/step - loss: 0.0519 - accuracy: 0.9407 - val_loss: 0.0959 - val_accuracy: 0.8514\n"
          ]
        }
      ]
    },
    {
      "cell_type": "code",
      "source": [
        "import matplotlib.pyplot as plt\n",
        "# summarize history for accuracy\n",
        "plt.plot(trained_model.history['accuracy'])\n",
        "plt.plot(trained_model.history['val_accuracy'])\n",
        "plt.title('model accuracy')\n",
        "plt.ylabel('accuracy')\n",
        "plt.xlabel('epoch')\n",
        "plt.legend(['train', 'test'], loc='upper right')\n",
        "plt.show()\n",
        "# summarize history for loss\n",
        "plt.plot(trained_model.history['loss'])\n",
        "plt.plot(trained_model.history['val_loss'])\n",
        "plt.title('model loss')\n",
        "plt.ylabel('loss')\n",
        "plt.xlabel('epoch')\n",
        "plt.legend(['train', 'test'], loc='upper right')\n",
        "plt.show()"
      ],
      "metadata": {
        "colab": {
          "base_uri": "https://localhost:8080/",
          "height": 573
        },
        "id": "ReuR8AmPyBZl",
        "outputId": "254d5eea-4f20-4a2a-defc-f5c70b9b5930"
      },
      "execution_count": 74,
      "outputs": [
        {
          "output_type": "display_data",
          "data": {
            "text/plain": [
              "<Figure size 432x288 with 1 Axes>"
            ],
            "image/png": "[encoded data removed]"
          },
          "metadata": {
            "needs_background": "light"
          }
        },
        {
          "output_type": "display_data",
          "data": {
            "text/plain": [
              "<Figure size 432x288 with 1 Axes>"
            ],
            "image/png": "[encoded data removed]"
          },
          "metadata": {
            "needs_background": "light"
          }
        }
      ]
    },
    {
      "cell_type": "code",
      "source": [],
      "metadata": {
        "id": "wBGDtD5l65_a"
      },
      "execution_count": 31,
      "outputs": []
    }
  ]
}