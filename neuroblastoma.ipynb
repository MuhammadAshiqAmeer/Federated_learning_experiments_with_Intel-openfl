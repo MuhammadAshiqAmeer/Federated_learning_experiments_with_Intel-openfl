{
  "nbformat": 4,
  "nbformat_minor": 0,
  "metadata": {
    "colab": {
      "provenance": [],
      "authorship_tag": "ABX9TyO2WOq8s5v5Z1Y5BJL6RTTG",
      "include_colab_link": true
    },
    "kernelspec": {
      "name": "python3",
      "display_name": "Python 3"
    },
    "language_info": {
      "name": "python"
    }
  },
  "cells": [
    {
      "cell_type": "markdown",
      "metadata": {
        "id": "view-in-github",
        "colab_type": "text"
      },
      "source": [
        "<a href=\"https://colab.research.google.com/github/MuhammadAshiqAmeer/Federated_learning_experiments_with_Intel-openfl/blob/colab/neuroblastoma.ipynb\" target=\"_parent\"><img src=\"https://colab.research.google.com/assets/colab-badge.svg\" alt=\"Open In Colab\"/></a>"
      ]
    },
    {
      "cell_type": "code",
      "execution_count": 1,
      "metadata": {
        "colab": {
          "base_uri": "https://localhost:8080/"
        },
        "id": "NvpbasCgY05K",
        "outputId": "a0e0bab0-410f-41e4-88b9-f2b7eb66f81b"
      },
      "outputs": [
        {
          "output_type": "stream",
          "name": "stdout",
          "text": [
            "Drive already mounted at /content/drive; to attempt to forcibly remount, call drive.mount(\"/content/drive\", force_remount=True).\n"
          ]
        }
      ],
      "source": [
        "from google.colab import drive\n",
        "drive.mount('/content/drive')"
      ]
    },
    {
      "cell_type": "code",
      "source": [
        "cd /content/drive/MyDrive/federated"
      ],
      "metadata": {
        "colab": {
          "base_uri": "https://localhost:8080/"
        },
        "id": "8-LGguvKZY6G",
        "outputId": "360cbaf7-ba35-409a-9ea3-6958a6fb2937"
      },
      "execution_count": 2,
      "outputs": [
        {
          "output_type": "stream",
          "name": "stdout",
          "text": [
            "/content/drive/MyDrive/federated\n"
          ]
        }
      ]
    },
    {
      "cell_type": "code",
      "source": [
        "!ls"
      ],
      "metadata": {
        "colab": {
          "base_uri": "https://localhost:8080/"
        },
        "id": "FHRusAh-bNGV",
        "outputId": "5203187a-8c03-42bb-cc20-2cae1546286b"
      },
      "execution_count": 3,
      "outputs": [
        {
          "output_type": "stream",
          "name": "stdout",
          "text": [
            "'Federated lemon-melon CNN classifier'\t neuroblastoma.xlsx\n"
          ]
        }
      ]
    },
    {
      "cell_type": "code",
      "source": [
        "import pandas as pd\n",
        "\n",
        "df = pd.read_excel(\"neuroblastoma.xlsx\")"
      ],
      "metadata": {
        "id": "PR3i3gCzam1y"
      },
      "execution_count": 4,
      "outputs": []
    },
    {
      "cell_type": "code",
      "source": [
        "df"
      ],
      "metadata": {
        "colab": {
          "base_uri": "https://localhost:8080/",
          "height": 468
        },
        "id": "zCov07bqcRYq",
        "outputId": "473f16a7-f658-4585-8779-905e02b6a771"
      },
      "execution_count": 5,
      "outputs": [
        {
          "output_type": "execute_result",
          "data": {
            "text/plain": [
              "           TARGET USI  Gender  Age at Diagnosis in Days  \\\n",
              "0    TARGET-30-PARPUF    Male                        96   \n",
              "1    TARGET-30-PARSVF    Male                       964   \n",
              "2    TARGET-30-PARSXI  Female                       538   \n",
              "3    TARGET-30-PARSZV    Male                       287   \n",
              "4    TARGET-30-PARTCE    Male                        67   \n",
              "..                ...     ...                       ...   \n",
              "733  TARGET-30-PATILE    Male                       824   \n",
              "734  TARGET-30-PATINJ    Male                      1037   \n",
              "735  TARGET-30-PATNKP    Male                      3446   \n",
              "736  TARGET-30-PATYIL  Female                       328   \n",
              "737  TARGET-30-PAUDDK    Male                       361   \n",
              "\n",
              "     Event Free Survival Time in Days Vital Status  \\\n",
              "0                                3701        Alive   \n",
              "1                                 997         Dead   \n",
              "2                                3928        Alive   \n",
              "3                                2675        Alive   \n",
              "4                                3625        Alive   \n",
              "..                                ...          ...   \n",
              "733                               306         Dead   \n",
              "734                               736         Dead   \n",
              "735                               616         Dead   \n",
              "736                               239         Dead   \n",
              "737                               344        Alive   \n",
              "\n",
              "     Overall Survival Time in Days INSS Stage    MYCN status  Ploidy Value  \\\n",
              "0                             3701    Stage 4  Not Amplified          1.48   \n",
              "1                             1516    Stage 4  Not Amplified          1.00   \n",
              "2                             3928    Stage 4  Not Amplified          1.99   \n",
              "3                             3995   Stage 2a  Not Amplified          1.58   \n",
              "4                             3625    Stage 1  Not Amplified          2.13   \n",
              "..                             ...        ...            ...           ...   \n",
              "733                            306    Stage 4  Not Amplified          1.00   \n",
              "734                            822    Stage 4  Not Amplified          1.00   \n",
              "735                           1549    Stage 4  Not Amplified          1.47   \n",
              "736                            481    Stage 4  Not Amplified          1.00   \n",
              "737                           2569    Stage 3  Not Amplified          1.33   \n",
              "\n",
              "       Histology           MKI     COG Risk Group  \n",
              "0      Favorable           Low  Intermediate Risk  \n",
              "1    Unfavorable          High          High Risk  \n",
              "2      Favorable           Low  Intermediate Risk  \n",
              "3      Favorable           Low           Low Risk  \n",
              "4      Favorable           Low           Low Risk  \n",
              "..           ...           ...                ...  \n",
              "733  Unfavorable  Intermediate          High Risk  \n",
              "734  Unfavorable  Intermediate          High Risk  \n",
              "735  Unfavorable  Intermediate          High Risk  \n",
              "736    Favorable  Intermediate  Intermediate Risk  \n",
              "737    Favorable           Low  Intermediate Risk  \n",
              "\n",
              "[738 rows x 12 columns]"
            ],
            "text/html": [
              "\n",
              "  <div id=\"df-7e329b06-207e-4aec-b533-08322ef80e9e\">\n",
              "    <div class=\"colab-df-container\">\n",
              "      <div>\n",
              "<style scoped>\n",
              "    .dataframe tbody tr th:only-of-type {\n",
              "        vertical-align: middle;\n",
              "    }\n",
              "\n",
              "    .dataframe tbody tr th {\n",
              "        vertical-align: top;\n",
              "    }\n",
              "\n",
              "    .dataframe thead th {\n",
              "        text-align: right;\n",
              "    }\n",
              "</style>\n",
              "<table border=\"1\" class=\"dataframe\">\n",
              "  <thead>\n",
              "    <tr style=\"text-align: right;\">\n",
              "      <th></th>\n",
              "      <th>TARGET USI</th>\n",
              "      <th>Gender</th>\n",
              "      <th>Age at Diagnosis in Days</th>\n",
              "      <th>Event Free Survival Time in Days</th>\n",
              "      <th>Vital Status</th>\n",
              "      <th>Overall Survival Time in Days</th>\n",
              "      <th>INSS Stage</th>\n",
              "      <th>MYCN status</th>\n",
              "      <th>Ploidy Value</th>\n",
              "      <th>Histology</th>\n",
              "      <th>MKI</th>\n",
              "      <th>COG Risk Group</th>\n",
              "    </tr>\n",
              "  </thead>\n",
              "  <tbody>\n",
              "    <tr>\n",
              "      <th>0</th>\n",
              "      <td>TARGET-30-PARPUF</td>\n",
              "      <td>Male</td>\n",
              "      <td>96</td>\n",
              "      <td>3701</td>\n",
              "      <td>Alive</td>\n",
              "      <td>3701</td>\n",
              "      <td>Stage 4</td>\n",
              "      <td>Not Amplified</td>\n",
              "      <td>1.48</td>\n",
              "      <td>Favorable</td>\n",
              "      <td>Low</td>\n",
              "      <td>Intermediate Risk</td>\n",
              "    </tr>\n",
              "    <tr>\n",
              "      <th>1</th>\n",
              "      <td>TARGET-30-PARSVF</td>\n",
              "      <td>Male</td>\n",
              "      <td>964</td>\n",
              "      <td>997</td>\n",
              "      <td>Dead</td>\n",
              "      <td>1516</td>\n",
              "      <td>Stage 4</td>\n",
              "      <td>Not Amplified</td>\n",
              "      <td>1.00</td>\n",
              "      <td>Unfavorable</td>\n",
              "      <td>High</td>\n",
              "      <td>High Risk</td>\n",
              "    </tr>\n",
              "    <tr>\n",
              "      <th>2</th>\n",
              "      <td>TARGET-30-PARSXI</td>\n",
              "      <td>Female</td>\n",
              "      <td>538</td>\n",
              "      <td>3928</td>\n",
              "      <td>Alive</td>\n",
              "      <td>3928</td>\n",
              "      <td>Stage 4</td>\n",
              "      <td>Not Amplified</td>\n",
              "      <td>1.99</td>\n",
              "      <td>Favorable</td>\n",
              "      <td>Low</td>\n",
              "      <td>Intermediate Risk</td>\n",
              "    </tr>\n",
              "    <tr>\n",
              "      <th>3</th>\n",
              "      <td>TARGET-30-PARSZV</td>\n",
              "      <td>Male</td>\n",
              "      <td>287</td>\n",
              "      <td>2675</td>\n",
              "      <td>Alive</td>\n",
              "      <td>3995</td>\n",
              "      <td>Stage 2a</td>\n",
              "      <td>Not Amplified</td>\n",
              "      <td>1.58</td>\n",
              "      <td>Favorable</td>\n",
              "      <td>Low</td>\n",
              "      <td>Low Risk</td>\n",
              "    </tr>\n",
              "    <tr>\n",
              "      <th>4</th>\n",
              "      <td>TARGET-30-PARTCE</td>\n",
              "      <td>Male</td>\n",
              "      <td>67</td>\n",
              "      <td>3625</td>\n",
              "      <td>Alive</td>\n",
              "      <td>3625</td>\n",
              "      <td>Stage 1</td>\n",
              "      <td>Not Amplified</td>\n",
              "      <td>2.13</td>\n",
              "      <td>Favorable</td>\n",
              "      <td>Low</td>\n",
              "      <td>Low Risk</td>\n",
              "    </tr>\n",
              "    <tr>\n",
              "      <th>...</th>\n",
              "      <td>...</td>\n",
              "      <td>...</td>\n",
              "      <td>...</td>\n",
              "      <td>...</td>\n",
              "      <td>...</td>\n",
              "      <td>...</td>\n",
              "      <td>...</td>\n",
              "      <td>...</td>\n",
              "      <td>...</td>\n",
              "      <td>...</td>\n",
              "      <td>...</td>\n",
              "      <td>...</td>\n",
              "    </tr>\n",
              "    <tr>\n",
              "      <th>733</th>\n",
              "      <td>TARGET-30-PATILE</td>\n",
              "      <td>Male</td>\n",
              "      <td>824</td>\n",
              "      <td>306</td>\n",
              "      <td>Dead</td>\n",
              "      <td>306</td>\n",
              "      <td>Stage 4</td>\n",
              "      <td>Not Amplified</td>\n",
              "      <td>1.00</td>\n",
              "      <td>Unfavorable</td>\n",
              "      <td>Intermediate</td>\n",
              "      <td>High Risk</td>\n",
              "    </tr>\n",
              "    <tr>\n",
              "      <th>734</th>\n",
              "      <td>TARGET-30-PATINJ</td>\n",
              "      <td>Male</td>\n",
              "      <td>1037</td>\n",
              "      <td>736</td>\n",
              "      <td>Dead</td>\n",
              "      <td>822</td>\n",
              "      <td>Stage 4</td>\n",
              "      <td>Not Amplified</td>\n",
              "      <td>1.00</td>\n",
              "      <td>Unfavorable</td>\n",
              "      <td>Intermediate</td>\n",
              "      <td>High Risk</td>\n",
              "    </tr>\n",
              "    <tr>\n",
              "      <th>735</th>\n",
              "      <td>TARGET-30-PATNKP</td>\n",
              "      <td>Male</td>\n",
              "      <td>3446</td>\n",
              "      <td>616</td>\n",
              "      <td>Dead</td>\n",
              "      <td>1549</td>\n",
              "      <td>Stage 4</td>\n",
              "      <td>Not Amplified</td>\n",
              "      <td>1.47</td>\n",
              "      <td>Unfavorable</td>\n",
              "      <td>Intermediate</td>\n",
              "      <td>High Risk</td>\n",
              "    </tr>\n",
              "    <tr>\n",
              "      <th>736</th>\n",
              "      <td>TARGET-30-PATYIL</td>\n",
              "      <td>Female</td>\n",
              "      <td>328</td>\n",
              "      <td>239</td>\n",
              "      <td>Dead</td>\n",
              "      <td>481</td>\n",
              "      <td>Stage 4</td>\n",
              "      <td>Not Amplified</td>\n",
              "      <td>1.00</td>\n",
              "      <td>Favorable</td>\n",
              "      <td>Intermediate</td>\n",
              "      <td>Intermediate Risk</td>\n",
              "    </tr>\n",
              "    <tr>\n",
              "      <th>737</th>\n",
              "      <td>TARGET-30-PAUDDK</td>\n",
              "      <td>Male</td>\n",
              "      <td>361</td>\n",
              "      <td>344</td>\n",
              "      <td>Alive</td>\n",
              "      <td>2569</td>\n",
              "      <td>Stage 3</td>\n",
              "      <td>Not Amplified</td>\n",
              "      <td>1.33</td>\n",
              "      <td>Favorable</td>\n",
              "      <td>Low</td>\n",
              "      <td>Intermediate Risk</td>\n",
              "    </tr>\n",
              "  </tbody>\n",
              "</table>\n",
              "<p>738 rows × 12 columns</p>\n",
              "</div>\n",
              "      <button class=\"colab-df-convert\" onclick=\"convertToInteractive('df-7e329b06-207e-4aec-b533-08322ef80e9e')\"\n",
              "              title=\"Convert this dataframe to an interactive table.\"\n",
              "              style=\"display:none;\">\n",
              "        \n",
              "  <svg xmlns=\"http://www.w3.org/2000/svg\" height=\"24px\"viewBox=\"0 0 24 24\"\n",
              "       width=\"24px\">\n",
              "    <path d=\"M0 0h24v24H0V0z\" fill=\"none\"/>\n",
              "    <path d=\"M18.56 5.44l.94 2.06.94-2.06 2.06-.94-2.06-.94-.94-2.06-.94 2.06-2.06.94zm-11 1L8.5 8.5l.94-2.06 2.06-.94-2.06-.94L8.5 2.5l-.94 2.06-2.06.94zm10 10l.94 2.06.94-2.06 2.06-.94-2.06-.94-.94-2.06-.94 2.06-2.06.94z\"/><path d=\"M17.41 7.96l-1.37-1.37c-.4-.4-.92-.59-1.43-.59-.52 0-1.04.2-1.43.59L10.3 9.45l-7.72 7.72c-.78.78-.78 2.05 0 2.83L4 21.41c.39.39.9.59 1.41.59.51 0 1.02-.2 1.41-.59l7.78-7.78 2.81-2.81c.8-.78.8-2.07 0-2.86zM5.41 20L4 18.59l7.72-7.72 1.47 1.35L5.41 20z\"/>\n",
              "  </svg>\n",
              "      </button>\n",
              "      \n",
              "  <style>\n",
              "    .colab-df-container {\n",
              "      display:flex;\n",
              "      flex-wrap:wrap;\n",
              "      gap: 12px;\n",
              "    }\n",
              "\n",
              "    .colab-df-convert {\n",
              "      background-color: #E8F0FE;\n",
              "      border: none;\n",
              "      border-radius: 50%;\n",
              "      cursor: pointer;\n",
              "      display: none;\n",
              "      fill: #1967D2;\n",
              "      height: 32px;\n",
              "      padding: 0 0 0 0;\n",
              "      width: 32px;\n",
              "    }\n",
              "\n",
              "    .colab-df-convert:hover {\n",
              "      background-color: #E2EBFA;\n",
              "      box-shadow: 0px 1px 2px rgba(60, 64, 67, 0.3), 0px 1px 3px 1px rgba(60, 64, 67, 0.15);\n",
              "      fill: #174EA6;\n",
              "    }\n",
              "\n",
              "    [theme=dark] .colab-df-convert {\n",
              "      background-color: #3B4455;\n",
              "      fill: #D2E3FC;\n",
              "    }\n",
              "\n",
              "    [theme=dark] .colab-df-convert:hover {\n",
              "      background-color: #434B5C;\n",
              "      box-shadow: 0px 1px 3px 1px rgba(0, 0, 0, 0.15);\n",
              "      filter: drop-shadow(0px 1px 2px rgba(0, 0, 0, 0.3));\n",
              "      fill: #FFFFFF;\n",
              "    }\n",
              "  </style>\n",
              "\n",
              "      <script>\n",
              "        const buttonEl =\n",
              "          document.querySelector('#df-7e329b06-207e-4aec-b533-08322ef80e9e button.colab-df-convert');\n",
              "        buttonEl.style.display =\n",
              "          google.colab.kernel.accessAllowed ? 'block' : 'none';\n",
              "\n",
              "        async function convertToInteractive(key) {\n",
              "          const element = document.querySelector('#df-7e329b06-207e-4aec-b533-08322ef80e9e');\n",
              "          const dataTable =\n",
              "            await google.colab.kernel.invokeFunction('convertToInteractive',\n",
              "                                                     [key], {});\n",
              "          if (!dataTable) return;\n",
              "\n",
              "          const docLinkHtml = 'Like what you see? Visit the ' +\n",
              "            '<a target=\"_blank\" href=https://colab.research.google.com/notebooks/data_table.ipynb>data table notebook</a>'\n",
              "            + ' to learn more about interactive tables.';\n",
              "          element.innerHTML = '';\n",
              "          dataTable['output_type'] = 'display_data';\n",
              "          await google.colab.output.renderOutput(dataTable, element);\n",
              "          const docLink = document.createElement('div');\n",
              "          docLink.innerHTML = docLinkHtml;\n",
              "          element.appendChild(docLink);\n",
              "        }\n",
              "      </script>\n",
              "    </div>\n",
              "  </div>\n",
              "  "
            ]
          },
          "metadata": {},
          "execution_count": 5
        }
      ]
    },
    {
      "cell_type": "code",
      "source": [
        "df.describe()"
      ],
      "metadata": {
        "colab": {
          "base_uri": "https://localhost:8080/",
          "height": 300
        },
        "id": "JV_S7wvNbzC3",
        "outputId": "1c81294a-1400-402b-b874-836b1354d574"
      },
      "execution_count": 6,
      "outputs": [
        {
          "output_type": "execute_result",
          "data": {
            "text/plain": [
              "       Age at Diagnosis in Days  Event Free Survival Time in Days  \\\n",
              "count                738.000000                        738.000000   \n",
              "mean                 942.105691                       1907.228997   \n",
              "std                  928.520081                       1466.809684   \n",
              "min                    1.000000                         10.000000   \n",
              "25%                  315.250000                        491.500000   \n",
              "50%                  740.500000                       1762.500000   \n",
              "75%                 1264.500000                       3198.000000   \n",
              "max                 7613.000000                       6170.000000   \n",
              "\n",
              "       Overall Survival Time in Days  Ploidy Value  \n",
              "count                     738.000000    738.000000  \n",
              "mean                     2261.162602      1.322967  \n",
              "std                      1341.896447      0.353940  \n",
              "min                        10.000000      0.960000  \n",
              "25%                       960.750000      1.000000  \n",
              "50%                      2428.500000      1.220000  \n",
              "75%                      3351.750000      1.530000  \n",
              "max                      6170.000000      3.000000  "
            ],
            "text/html": [
              "\n",
              "  <div id=\"df-45fd7d45-f1a8-4dae-b56c-f83bd48c7b77\">\n",
              "    <div class=\"colab-df-container\">\n",
              "      <div>\n",
              "<style scoped>\n",
              "    .dataframe tbody tr th:only-of-type {\n",
              "        vertical-align: middle;\n",
              "    }\n",
              "\n",
              "    .dataframe tbody tr th {\n",
              "        vertical-align: top;\n",
              "    }\n",
              "\n",
              "    .dataframe thead th {\n",
              "        text-align: right;\n",
              "    }\n",
              "</style>\n",
              "<table border=\"1\" class=\"dataframe\">\n",
              "  <thead>\n",
              "    <tr style=\"text-align: right;\">\n",
              "      <th></th>\n",
              "      <th>Age at Diagnosis in Days</th>\n",
              "      <th>Event Free Survival Time in Days</th>\n",
              "      <th>Overall Survival Time in Days</th>\n",
              "      <th>Ploidy Value</th>\n",
              "    </tr>\n",
              "  </thead>\n",
              "  <tbody>\n",
              "    <tr>\n",
              "      <th>count</th>\n",
              "      <td>738.000000</td>\n",
              "      <td>738.000000</td>\n",
              "      <td>738.000000</td>\n",
              "      <td>738.000000</td>\n",
              "    </tr>\n",
              "    <tr>\n",
              "      <th>mean</th>\n",
              "      <td>942.105691</td>\n",
              "      <td>1907.228997</td>\n",
              "      <td>2261.162602</td>\n",
              "      <td>1.322967</td>\n",
              "    </tr>\n",
              "    <tr>\n",
              "      <th>std</th>\n",
              "      <td>928.520081</td>\n",
              "      <td>1466.809684</td>\n",
              "      <td>1341.896447</td>\n",
              "      <td>0.353940</td>\n",
              "    </tr>\n",
              "    <tr>\n",
              "      <th>min</th>\n",
              "      <td>1.000000</td>\n",
              "      <td>10.000000</td>\n",
              "      <td>10.000000</td>\n",
              "      <td>0.960000</td>\n",
              "    </tr>\n",
              "    <tr>\n",
              "      <th>25%</th>\n",
              "      <td>315.250000</td>\n",
              "      <td>491.500000</td>\n",
              "      <td>960.750000</td>\n",
              "      <td>1.000000</td>\n",
              "    </tr>\n",
              "    <tr>\n",
              "      <th>50%</th>\n",
              "      <td>740.500000</td>\n",
              "      <td>1762.500000</td>\n",
              "      <td>2428.500000</td>\n",
              "      <td>1.220000</td>\n",
              "    </tr>\n",
              "    <tr>\n",
              "      <th>75%</th>\n",
              "      <td>1264.500000</td>\n",
              "      <td>3198.000000</td>\n",
              "      <td>3351.750000</td>\n",
              "      <td>1.530000</td>\n",
              "    </tr>\n",
              "    <tr>\n",
              "      <th>max</th>\n",
              "      <td>7613.000000</td>\n",
              "      <td>6170.000000</td>\n",
              "      <td>6170.000000</td>\n",
              "      <td>3.000000</td>\n",
              "    </tr>\n",
              "  </tbody>\n",
              "</table>\n",
              "</div>\n",
              "      <button class=\"colab-df-convert\" onclick=\"convertToInteractive('df-45fd7d45-f1a8-4dae-b56c-f83bd48c7b77')\"\n",
              "              title=\"Convert this dataframe to an interactive table.\"\n",
              "              style=\"display:none;\">\n",
              "        \n",
              "  <svg xmlns=\"http://www.w3.org/2000/svg\" height=\"24px\"viewBox=\"0 0 24 24\"\n",
              "       width=\"24px\">\n",
              "    <path d=\"M0 0h24v24H0V0z\" fill=\"none\"/>\n",
              "    <path d=\"M18.56 5.44l.94 2.06.94-2.06 2.06-.94-2.06-.94-.94-2.06-.94 2.06-2.06.94zm-11 1L8.5 8.5l.94-2.06 2.06-.94-2.06-.94L8.5 2.5l-.94 2.06-2.06.94zm10 10l.94 2.06.94-2.06 2.06-.94-2.06-.94-.94-2.06-.94 2.06-2.06.94z\"/><path d=\"M17.41 7.96l-1.37-1.37c-.4-.4-.92-.59-1.43-.59-.52 0-1.04.2-1.43.59L10.3 9.45l-7.72 7.72c-.78.78-.78 2.05 0 2.83L4 21.41c.39.39.9.59 1.41.59.51 0 1.02-.2 1.41-.59l7.78-7.78 2.81-2.81c.8-.78.8-2.07 0-2.86zM5.41 20L4 18.59l7.72-7.72 1.47 1.35L5.41 20z\"/>\n",
              "  </svg>\n",
              "      </button>\n",
              "      \n",
              "  <style>\n",
              "    .colab-df-container {\n",
              "      display:flex;\n",
              "      flex-wrap:wrap;\n",
              "      gap: 12px;\n",
              "    }\n",
              "\n",
              "    .colab-df-convert {\n",
              "      background-color: #E8F0FE;\n",
              "      border: none;\n",
              "      border-radius: 50%;\n",
              "      cursor: pointer;\n",
              "      display: none;\n",
              "      fill: #1967D2;\n",
              "      height: 32px;\n",
              "      padding: 0 0 0 0;\n",
              "      width: 32px;\n",
              "    }\n",
              "\n",
              "    .colab-df-convert:hover {\n",
              "      background-color: #E2EBFA;\n",
              "      box-shadow: 0px 1px 2px rgba(60, 64, 67, 0.3), 0px 1px 3px 1px rgba(60, 64, 67, 0.15);\n",
              "      fill: #174EA6;\n",
              "    }\n",
              "\n",
              "    [theme=dark] .colab-df-convert {\n",
              "      background-color: #3B4455;\n",
              "      fill: #D2E3FC;\n",
              "    }\n",
              "\n",
              "    [theme=dark] .colab-df-convert:hover {\n",
              "      background-color: #434B5C;\n",
              "      box-shadow: 0px 1px 3px 1px rgba(0, 0, 0, 0.15);\n",
              "      filter: drop-shadow(0px 1px 2px rgba(0, 0, 0, 0.3));\n",
              "      fill: #FFFFFF;\n",
              "    }\n",
              "  </style>\n",
              "\n",
              "      <script>\n",
              "        const buttonEl =\n",
              "          document.querySelector('#df-45fd7d45-f1a8-4dae-b56c-f83bd48c7b77 button.colab-df-convert');\n",
              "        buttonEl.style.display =\n",
              "          google.colab.kernel.accessAllowed ? 'block' : 'none';\n",
              "\n",
              "        async function convertToInteractive(key) {\n",
              "          const element = document.querySelector('#df-45fd7d45-f1a8-4dae-b56c-f83bd48c7b77');\n",
              "          const dataTable =\n",
              "            await google.colab.kernel.invokeFunction('convertToInteractive',\n",
              "                                                     [key], {});\n",
              "          if (!dataTable) return;\n",
              "\n",
              "          const docLinkHtml = 'Like what you see? Visit the ' +\n",
              "            '<a target=\"_blank\" href=https://colab.research.google.com/notebooks/data_table.ipynb>data table notebook</a>'\n",
              "            + ' to learn more about interactive tables.';\n",
              "          element.innerHTML = '';\n",
              "          dataTable['output_type'] = 'display_data';\n",
              "          await google.colab.output.renderOutput(dataTable, element);\n",
              "          const docLink = document.createElement('div');\n",
              "          docLink.innerHTML = docLinkHtml;\n",
              "          element.appendChild(docLink);\n",
              "        }\n",
              "      </script>\n",
              "    </div>\n",
              "  </div>\n",
              "  "
            ]
          },
          "metadata": {},
          "execution_count": 6
        }
      ]
    },
    {
      "cell_type": "code",
      "source": [
        "df[\"Gender\"]=df[\"Gender\"].replace({\"Male\":1,\"Female\":0})\n",
        "df['Gender']"
      ],
      "metadata": {
        "colab": {
          "base_uri": "https://localhost:8080/"
        },
        "id": "o5oT7TWvcjdC",
        "outputId": "8e45a83f-d420-4d05-e559-2896b6357c15"
      },
      "execution_count": 7,
      "outputs": [
        {
          "output_type": "execute_result",
          "data": {
            "text/plain": [
              "0      1\n",
              "1      1\n",
              "2      0\n",
              "3      1\n",
              "4      1\n",
              "      ..\n",
              "733    1\n",
              "734    1\n",
              "735    1\n",
              "736    0\n",
              "737    1\n",
              "Name: Gender, Length: 738, dtype: int64"
            ]
          },
          "metadata": {},
          "execution_count": 7
        }
      ]
    },
    {
      "cell_type": "code",
      "source": [
        "df[\"Vital Status\"]=df[\"Vital Status\"].replace({\"Dead\":0,\"Alive\":1})\n",
        "df[\"Vital Status\"]"
      ],
      "metadata": {
        "colab": {
          "base_uri": "https://localhost:8080/"
        },
        "id": "WjtaslexTZar",
        "outputId": "5fc88e65-f428-4780-bc54-9a260f975c4b"
      },
      "execution_count": 8,
      "outputs": [
        {
          "output_type": "execute_result",
          "data": {
            "text/plain": [
              "0      1\n",
              "1      0\n",
              "2      1\n",
              "3      1\n",
              "4      1\n",
              "      ..\n",
              "733    0\n",
              "734    0\n",
              "735    0\n",
              "736    0\n",
              "737    1\n",
              "Name: Vital Status, Length: 738, dtype: int64"
            ]
          },
          "metadata": {},
          "execution_count": 8
        }
      ]
    },
    {
      "cell_type": "code",
      "source": [
        "df[\"INSS Stage\"].unique()"
      ],
      "metadata": {
        "colab": {
          "base_uri": "https://localhost:8080/"
        },
        "id": "H-I-7_5rUKrE",
        "outputId": "d871c808-600b-4adb-ec9f-00d8569a2c51"
      },
      "execution_count": 9,
      "outputs": [
        {
          "output_type": "execute_result",
          "data": {
            "text/plain": [
              "array(['Stage 4', 'Stage 2a', 'Stage 1', 'Stage 3', 'Stage 4s',\n",
              "       'Stage 2b'], dtype=object)"
            ]
          },
          "metadata": {},
          "execution_count": 9
        }
      ]
    },
    {
      "cell_type": "code",
      "source": [
        "df[\"INSS Stage\"]=df[\"INSS Stage\"].replace({\"Stage 1\":0,\"Stage 2a\":1,\"Stage 2b\":2,\"Stage 3\":3,\"Stage 4\":4,\"Stage 4s\":5,})\n",
        "df[\"INSS Stage\"]"
      ],
      "metadata": {
        "colab": {
          "base_uri": "https://localhost:8080/"
        },
        "id": "ir8hdeh6VfdD",
        "outputId": "e0ec9bd3-7271-41cd-9dd4-79cdbfb67b9d"
      },
      "execution_count": 10,
      "outputs": [
        {
          "output_type": "execute_result",
          "data": {
            "text/plain": [
              "0      4\n",
              "1      4\n",
              "2      4\n",
              "3      1\n",
              "4      0\n",
              "      ..\n",
              "733    4\n",
              "734    4\n",
              "735    4\n",
              "736    4\n",
              "737    3\n",
              "Name: INSS Stage, Length: 738, dtype: int64"
            ]
          },
          "metadata": {},
          "execution_count": 10
        }
      ]
    },
    {
      "cell_type": "code",
      "source": [
        "df[\"MYCN status\"].unique()"
      ],
      "metadata": {
        "colab": {
          "base_uri": "https://localhost:8080/"
        },
        "id": "ZyWMVHpnWRS5",
        "outputId": "0c12b422-3623-46ea-8685-54ecf7ff37bb"
      },
      "execution_count": 11,
      "outputs": [
        {
          "output_type": "execute_result",
          "data": {
            "text/plain": [
              "array(['Not Amplified', 'Amplified'], dtype=object)"
            ]
          },
          "metadata": {},
          "execution_count": 11
        }
      ]
    },
    {
      "cell_type": "code",
      "source": [
        "df[\"MYCN status\"]=df[\"MYCN status\"].replace({\"Not Amplified\":0,\"Amplified\":1})\n",
        "df[\"MYCN status\"]"
      ],
      "metadata": {
        "colab": {
          "base_uri": "https://localhost:8080/"
        },
        "id": "PzgvLGnmWfV7",
        "outputId": "801f66cb-48e2-49c5-9a5e-3abd5e4b4ea1"
      },
      "execution_count": 12,
      "outputs": [
        {
          "output_type": "execute_result",
          "data": {
            "text/plain": [
              "0      0\n",
              "1      0\n",
              "2      0\n",
              "3      0\n",
              "4      0\n",
              "      ..\n",
              "733    0\n",
              "734    0\n",
              "735    0\n",
              "736    0\n",
              "737    0\n",
              "Name: MYCN status, Length: 738, dtype: int64"
            ]
          },
          "metadata": {},
          "execution_count": 12
        }
      ]
    },
    {
      "cell_type": "code",
      "source": [
        "df[\"Histology\"].unique()"
      ],
      "metadata": {
        "colab": {
          "base_uri": "https://localhost:8080/"
        },
        "id": "L3E1lPGpWzt1",
        "outputId": "445bc051-4514-4e94-dbb2-398c86e34856"
      },
      "execution_count": 13,
      "outputs": [
        {
          "output_type": "execute_result",
          "data": {
            "text/plain": [
              "array(['Favorable', 'Unfavorable'], dtype=object)"
            ]
          },
          "metadata": {},
          "execution_count": 13
        }
      ]
    },
    {
      "cell_type": "code",
      "source": [
        "df[\"MKI\"].unique()"
      ],
      "metadata": {
        "colab": {
          "base_uri": "https://localhost:8080/"
        },
        "id": "RWiDujENXCac",
        "outputId": "9e02511e-09a5-4aab-816c-d6ac8ee44e0c"
      },
      "execution_count": 14,
      "outputs": [
        {
          "output_type": "execute_result",
          "data": {
            "text/plain": [
              "array(['Low', 'High', 'Intermediate'], dtype=object)"
            ]
          },
          "metadata": {},
          "execution_count": 14
        }
      ]
    },
    {
      "cell_type": "code",
      "source": [
        "df[\"COG Risk Group\"].unique()"
      ],
      "metadata": {
        "colab": {
          "base_uri": "https://localhost:8080/"
        },
        "id": "l8lyPu2dXFrl",
        "outputId": "36ed34b9-a242-4ae2-a5be-fcedbc7fca5e"
      },
      "execution_count": 15,
      "outputs": [
        {
          "output_type": "execute_result",
          "data": {
            "text/plain": [
              "array(['Intermediate Risk', 'High Risk', 'Low Risk'], dtype=object)"
            ]
          },
          "metadata": {},
          "execution_count": 15
        }
      ]
    },
    {
      "cell_type": "code",
      "source": [
        "df[\"Histology\"]=df[\"Histology\"].replace({\"Favorable\":0,\"Unfavorable\":1})\n",
        "df[\"MKI\"]=df[\"MKI\"].replace({\"Low\":0,\"High\":1,\"Intermediate\":2})\n",
        "df[\"COG Risk Group\"]=df[\"COG Risk Group\"].replace({\"Low Risk\":0,\"Intermediate Risk\":1,\"High Risk\":2})"
      ],
      "metadata": {
        "id": "5nEIIO2rXOgT"
      },
      "execution_count": 16,
      "outputs": []
    },
    {
      "cell_type": "code",
      "source": [
        "print(df[\"Histology\"])\n",
        "print(df[\"MKI\"])\n",
        "print(df[\"COG Risk Group\"])"
      ],
      "metadata": {
        "colab": {
          "base_uri": "https://localhost:8080/"
        },
        "id": "Ovy2Ld_SYd2I",
        "outputId": "4b0df4e7-e6ac-4763-85c8-2a10b3a41e20"
      },
      "execution_count": 17,
      "outputs": [
        {
          "output_type": "stream",
          "name": "stdout",
          "text": [
            "0      0\n",
            "1      1\n",
            "2      0\n",
            "3      0\n",
            "4      0\n",
            "      ..\n",
            "733    1\n",
            "734    1\n",
            "735    1\n",
            "736    0\n",
            "737    0\n",
            "Name: Histology, Length: 738, dtype: int64\n",
            "0      0\n",
            "1      1\n",
            "2      0\n",
            "3      0\n",
            "4      0\n",
            "      ..\n",
            "733    2\n",
            "734    2\n",
            "735    2\n",
            "736    2\n",
            "737    0\n",
            "Name: MKI, Length: 738, dtype: int64\n",
            "0      1\n",
            "1      2\n",
            "2      1\n",
            "3      0\n",
            "4      0\n",
            "      ..\n",
            "733    2\n",
            "734    2\n",
            "735    2\n",
            "736    1\n",
            "737    1\n",
            "Name: COG Risk Group, Length: 738, dtype: int64\n"
          ]
        }
      ]
    },
    {
      "cell_type": "code",
      "source": [
        "import seaborn as sns\n",
        "import matplotlib.pyplot as plt\n",
        "\n",
        "corr = df.corr()\n",
        "\n",
        "fig, ax = plt.subplots(figsize=(10,10))\n",
        "sns.heatmap(corr, \n",
        "         xticklabels=corr.columns, \n",
        "         yticklabels=corr.columns,\n",
        "         annot=True)"
      ],
      "metadata": {
        "colab": {
          "base_uri": "https://localhost:8080/",
          "height": 767
        },
        "id": "4RTTBm5jfMz2",
        "outputId": "d5273977-f8c9-4100-c31c-e01a17710683"
      },
      "execution_count": 18,
      "outputs": [
        {
          "output_type": "execute_result",
          "data": {
            "text/plain": [
              "<matplotlib.axes._subplots.AxesSubplot at 0x7f8a34ede5b0>"
            ]
          },
          "metadata": {},
          "execution_count": 18
        },
        {
          "output_type": "display_data",
          "data": {
            "text/plain": [
              "<Figure size 720x720 with 2 Axes>"
            ],
            "image/png": "[encoded data removed]"
          },
          "metadata": {
            "needs_background": "light"
          }
        }
      ]
    },
    {
      "cell_type": "code",
      "source": [
        "df[\"Overall Survival Time in Years\"] = round(df[\"Overall Survival Time in Days\"]/365,0)\n",
        "df[\"Overall Survival Time in Years\"]\n",
        "df[\"Overall Survival Time in Years\"].unique()"
      ],
      "metadata": {
        "colab": {
          "base_uri": "https://localhost:8080/"
        },
        "id": "eeyZlkZXZ75W",
        "outputId": "1c224bb5-f942-4179-d71e-53307f1fc68a"
      },
      "execution_count": 19,
      "outputs": [
        {
          "output_type": "execute_result",
          "data": {
            "text/plain": [
              "array([10.,  4., 11.,  6.,  0.,  9.,  3.,  5.,  7.,  2.,  8.,  1., 14.,\n",
              "       12., 17., 13., 15.])"
            ]
          },
          "metadata": {},
          "execution_count": 19
        }
      ]
    },
    {
      "cell_type": "code",
      "source": [
        "df"
      ],
      "metadata": {
        "colab": {
          "base_uri": "https://localhost:8080/",
          "height": 641
        },
        "id": "i8l4i7XrY_FN",
        "outputId": "0b0dd498-9af3-4157-d950-c96e7f69f33c"
      },
      "execution_count": 20,
      "outputs": [
        {
          "output_type": "execute_result",
          "data": {
            "text/plain": [
              "           TARGET USI  Gender  Age at Diagnosis in Days  \\\n",
              "0    TARGET-30-PARPUF       1                        96   \n",
              "1    TARGET-30-PARSVF       1                       964   \n",
              "2    TARGET-30-PARSXI       0                       538   \n",
              "3    TARGET-30-PARSZV       1                       287   \n",
              "4    TARGET-30-PARTCE       1                        67   \n",
              "..                ...     ...                       ...   \n",
              "733  TARGET-30-PATILE       1                       824   \n",
              "734  TARGET-30-PATINJ       1                      1037   \n",
              "735  TARGET-30-PATNKP       1                      3446   \n",
              "736  TARGET-30-PATYIL       0                       328   \n",
              "737  TARGET-30-PAUDDK       1                       361   \n",
              "\n",
              "     Event Free Survival Time in Days  Vital Status  \\\n",
              "0                                3701             1   \n",
              "1                                 997             0   \n",
              "2                                3928             1   \n",
              "3                                2675             1   \n",
              "4                                3625             1   \n",
              "..                                ...           ...   \n",
              "733                               306             0   \n",
              "734                               736             0   \n",
              "735                               616             0   \n",
              "736                               239             0   \n",
              "737                               344             1   \n",
              "\n",
              "     Overall Survival Time in Days  INSS Stage  MYCN status  Ploidy Value  \\\n",
              "0                             3701           4            0          1.48   \n",
              "1                             1516           4            0          1.00   \n",
              "2                             3928           4            0          1.99   \n",
              "3                             3995           1            0          1.58   \n",
              "4                             3625           0            0          2.13   \n",
              "..                             ...         ...          ...           ...   \n",
              "733                            306           4            0          1.00   \n",
              "734                            822           4            0          1.00   \n",
              "735                           1549           4            0          1.47   \n",
              "736                            481           4            0          1.00   \n",
              "737                           2569           3            0          1.33   \n",
              "\n",
              "     Histology  MKI  COG Risk Group  Overall Survival Time in Years  \n",
              "0            0    0               1                            10.0  \n",
              "1            1    1               2                             4.0  \n",
              "2            0    0               1                            11.0  \n",
              "3            0    0               0                            11.0  \n",
              "4            0    0               0                            10.0  \n",
              "..         ...  ...             ...                             ...  \n",
              "733          1    2               2                             1.0  \n",
              "734          1    2               2                             2.0  \n",
              "735          1    2               2                             4.0  \n",
              "736          0    2               1                             1.0  \n",
              "737          0    0               1                             7.0  \n",
              "\n",
              "[738 rows x 13 columns]"
            ],
            "text/html": [
              "\n",
              "  <div id=\"df-9493aed8-13c8-4d5a-ac16-68c92ed6dc7d\">\n",
              "    <div class=\"colab-df-container\">\n",
              "      <div>\n",
              "<style scoped>\n",
              "    .dataframe tbody tr th:only-of-type {\n",
              "        vertical-align: middle;\n",
              "    }\n",
              "\n",
              "    .dataframe tbody tr th {\n",
              "        vertical-align: top;\n",
              "    }\n",
              "\n",
              "    .dataframe thead th {\n",
              "        text-align: right;\n",
              "    }\n",
              "</style>\n",
              "<table border=\"1\" class=\"dataframe\">\n",
              "  <thead>\n",
              "    <tr style=\"text-align: right;\">\n",
              "      <th></th>\n",
              "      <th>TARGET USI</th>\n",
              "      <th>Gender</th>\n",
              "      <th>Age at Diagnosis in Days</th>\n",
              "      <th>Event Free Survival Time in Days</th>\n",
              "      <th>Vital Status</th>\n",
              "      <th>Overall Survival Time in Days</th>\n",
              "      <th>INSS Stage</th>\n",
              "      <th>MYCN status</th>\n",
              "      <th>Ploidy Value</th>\n",
              "      <th>Histology</th>\n",
              "      <th>MKI</th>\n",
              "      <th>COG Risk Group</th>\n",
              "      <th>Overall Survival Time in Years</th>\n",
              "    </tr>\n",
              "  </thead>\n",
              "  <tbody>\n",
              "    <tr>\n",
              "      <th>0</th>\n",
              "      <td>TARGET-30-PARPUF</td>\n",
              "      <td>1</td>\n",
              "      <td>96</td>\n",
              "      <td>3701</td>\n",
              "      <td>1</td>\n",
              "      <td>3701</td>\n",
              "      <td>4</td>\n",
              "      <td>0</td>\n",
              "      <td>1.48</td>\n",
              "      <td>0</td>\n",
              "      <td>0</td>\n",
              "      <td>1</td>\n",
              "      <td>10.0</td>\n",
              "    </tr>\n",
              "    <tr>\n",
              "      <th>1</th>\n",
              "      <td>TARGET-30-PARSVF</td>\n",
              "      <td>1</td>\n",
              "      <td>964</td>\n",
              "      <td>997</td>\n",
              "      <td>0</td>\n",
              "      <td>1516</td>\n",
              "      <td>4</td>\n",
              "      <td>0</td>\n",
              "      <td>1.00</td>\n",
              "      <td>1</td>\n",
              "      <td>1</td>\n",
              "      <td>2</td>\n",
              "      <td>4.0</td>\n",
              "    </tr>\n",
              "    <tr>\n",
              "      <th>2</th>\n",
              "      <td>TARGET-30-PARSXI</td>\n",
              "      <td>0</td>\n",
              "      <td>538</td>\n",
              "      <td>3928</td>\n",
              "      <td>1</td>\n",
              "      <td>3928</td>\n",
              "      <td>4</td>\n",
              "      <td>0</td>\n",
              "      <td>1.99</td>\n",
              "      <td>0</td>\n",
              "      <td>0</td>\n",
              "      <td>1</td>\n",
              "      <td>11.0</td>\n",
              "    </tr>\n",
              "    <tr>\n",
              "      <th>3</th>\n",
              "      <td>TARGET-30-PARSZV</td>\n",
              "      <td>1</td>\n",
              "      <td>287</td>\n",
              "      <td>2675</td>\n",
              "      <td>1</td>\n",
              "      <td>3995</td>\n",
              "      <td>1</td>\n",
              "      <td>0</td>\n",
              "      <td>1.58</td>\n",
              "      <td>0</td>\n",
              "      <td>0</td>\n",
              "      <td>0</td>\n",
              "      <td>11.0</td>\n",
              "    </tr>\n",
              "    <tr>\n",
              "      <th>4</th>\n",
              "      <td>TARGET-30-PARTCE</td>\n",
              "      <td>1</td>\n",
              "      <td>67</td>\n",
              "      <td>3625</td>\n",
              "      <td>1</td>\n",
              "      <td>3625</td>\n",
              "      <td>0</td>\n",
              "      <td>0</td>\n",
              "      <td>2.13</td>\n",
              "      <td>0</td>\n",
              "      <td>0</td>\n",
              "      <td>0</td>\n",
              "      <td>10.0</td>\n",
              "    </tr>\n",
              "    <tr>\n",
              "      <th>...</th>\n",
              "      <td>...</td>\n",
              "      <td>...</td>\n",
              "      <td>...</td>\n",
              "      <td>...</td>\n",
              "      <td>...</td>\n",
              "      <td>...</td>\n",
              "      <td>...</td>\n",
              "      <td>...</td>\n",
              "      <td>...</td>\n",
              "      <td>...</td>\n",
              "      <td>...</td>\n",
              "      <td>...</td>\n",
              "      <td>...</td>\n",
              "    </tr>\n",
              "    <tr>\n",
              "      <th>733</th>\n",
              "      <td>TARGET-30-PATILE</td>\n",
              "      <td>1</td>\n",
              "      <td>824</td>\n",
              "      <td>306</td>\n",
              "      <td>0</td>\n",
              "      <td>306</td>\n",
              "      <td>4</td>\n",
              "      <td>0</td>\n",
              "      <td>1.00</td>\n",
              "      <td>1</td>\n",
              "      <td>2</td>\n",
              "      <td>2</td>\n",
              "      <td>1.0</td>\n",
              "    </tr>\n",
              "    <tr>\n",
              "      <th>734</th>\n",
              "      <td>TARGET-30-PATINJ</td>\n",
              "      <td>1</td>\n",
              "      <td>1037</td>\n",
              "      <td>736</td>\n",
              "      <td>0</td>\n",
              "      <td>822</td>\n",
              "      <td>4</td>\n",
              "      <td>0</td>\n",
              "      <td>1.00</td>\n",
              "      <td>1</td>\n",
              "      <td>2</td>\n",
              "      <td>2</td>\n",
              "      <td>2.0</td>\n",
              "    </tr>\n",
              "    <tr>\n",
              "      <th>735</th>\n",
              "      <td>TARGET-30-PATNKP</td>\n",
              "      <td>1</td>\n",
              "      <td>3446</td>\n",
              "      <td>616</td>\n",
              "      <td>0</td>\n",
              "      <td>1549</td>\n",
              "      <td>4</td>\n",
              "      <td>0</td>\n",
              "      <td>1.47</td>\n",
              "      <td>1</td>\n",
              "      <td>2</td>\n",
              "      <td>2</td>\n",
              "      <td>4.0</td>\n",
              "    </tr>\n",
              "    <tr>\n",
              "      <th>736</th>\n",
              "      <td>TARGET-30-PATYIL</td>\n",
              "      <td>0</td>\n",
              "      <td>328</td>\n",
              "      <td>239</td>\n",
              "      <td>0</td>\n",
              "      <td>481</td>\n",
              "      <td>4</td>\n",
              "      <td>0</td>\n",
              "      <td>1.00</td>\n",
              "      <td>0</td>\n",
              "      <td>2</td>\n",
              "      <td>1</td>\n",
              "      <td>1.0</td>\n",
              "    </tr>\n",
              "    <tr>\n",
              "      <th>737</th>\n",
              "      <td>TARGET-30-PAUDDK</td>\n",
              "      <td>1</td>\n",
              "      <td>361</td>\n",
              "      <td>344</td>\n",
              "      <td>1</td>\n",
              "      <td>2569</td>\n",
              "      <td>3</td>\n",
              "      <td>0</td>\n",
              "      <td>1.33</td>\n",
              "      <td>0</td>\n",
              "      <td>0</td>\n",
              "      <td>1</td>\n",
              "      <td>7.0</td>\n",
              "    </tr>\n",
              "  </tbody>\n",
              "</table>\n",
              "<p>738 rows × 13 columns</p>\n",
              "</div>\n",
              "      <button class=\"colab-df-convert\" onclick=\"convertToInteractive('df-9493aed8-13c8-4d5a-ac16-68c92ed6dc7d')\"\n",
              "              title=\"Convert this dataframe to an interactive table.\"\n",
              "              style=\"display:none;\">\n",
              "        \n",
              "  <svg xmlns=\"http://www.w3.org/2000/svg\" height=\"24px\"viewBox=\"0 0 24 24\"\n",
              "       width=\"24px\">\n",
              "    <path d=\"M0 0h24v24H0V0z\" fill=\"none\"/>\n",
              "    <path d=\"M18.56 5.44l.94 2.06.94-2.06 2.06-.94-2.06-.94-.94-2.06-.94 2.06-2.06.94zm-11 1L8.5 8.5l.94-2.06 2.06-.94-2.06-.94L8.5 2.5l-.94 2.06-2.06.94zm10 10l.94 2.06.94-2.06 2.06-.94-2.06-.94-.94-2.06-.94 2.06-2.06.94z\"/><path d=\"M17.41 7.96l-1.37-1.37c-.4-.4-.92-.59-1.43-.59-.52 0-1.04.2-1.43.59L10.3 9.45l-7.72 7.72c-.78.78-.78 2.05 0 2.83L4 21.41c.39.39.9.59 1.41.59.51 0 1.02-.2 1.41-.59l7.78-7.78 2.81-2.81c.8-.78.8-2.07 0-2.86zM5.41 20L4 18.59l7.72-7.72 1.47 1.35L5.41 20z\"/>\n",
              "  </svg>\n",
              "      </button>\n",
              "      \n",
              "  <style>\n",
              "    .colab-df-container {\n",
              "      display:flex;\n",
              "      flex-wrap:wrap;\n",
              "      gap: 12px;\n",
              "    }\n",
              "\n",
              "    .colab-df-convert {\n",
              "      background-color: #E8F0FE;\n",
              "      border: none;\n",
              "      border-radius: 50%;\n",
              "      cursor: pointer;\n",
              "      display: none;\n",
              "      fill: #1967D2;\n",
              "      height: 32px;\n",
              "      padding: 0 0 0 0;\n",
              "      width: 32px;\n",
              "    }\n",
              "\n",
              "    .colab-df-convert:hover {\n",
              "      background-color: #E2EBFA;\n",
              "      box-shadow: 0px 1px 2px rgba(60, 64, 67, 0.3), 0px 1px 3px 1px rgba(60, 64, 67, 0.15);\n",
              "      fill: #174EA6;\n",
              "    }\n",
              "\n",
              "    [theme=dark] .colab-df-convert {\n",
              "      background-color: #3B4455;\n",
              "      fill: #D2E3FC;\n",
              "    }\n",
              "\n",
              "    [theme=dark] .colab-df-convert:hover {\n",
              "      background-color: #434B5C;\n",
              "      box-shadow: 0px 1px 3px 1px rgba(0, 0, 0, 0.15);\n",
              "      filter: drop-shadow(0px 1px 2px rgba(0, 0, 0, 0.3));\n",
              "      fill: #FFFFFF;\n",
              "    }\n",
              "  </style>\n",
              "\n",
              "      <script>\n",
              "        const buttonEl =\n",
              "          document.querySelector('#df-9493aed8-13c8-4d5a-ac16-68c92ed6dc7d button.colab-df-convert');\n",
              "        buttonEl.style.display =\n",
              "          google.colab.kernel.accessAllowed ? 'block' : 'none';\n",
              "\n",
              "        async function convertToInteractive(key) {\n",
              "          const element = document.querySelector('#df-9493aed8-13c8-4d5a-ac16-68c92ed6dc7d');\n",
              "          const dataTable =\n",
              "            await google.colab.kernel.invokeFunction('convertToInteractive',\n",
              "                                                     [key], {});\n",
              "          if (!dataTable) return;\n",
              "\n",
              "          const docLinkHtml = 'Like what you see? Visit the ' +\n",
              "            '<a target=\"_blank\" href=https://colab.research.google.com/notebooks/data_table.ipynb>data table notebook</a>'\n",
              "            + ' to learn more about interactive tables.';\n",
              "          element.innerHTML = '';\n",
              "          dataTable['output_type'] = 'display_data';\n",
              "          await google.colab.output.renderOutput(dataTable, element);\n",
              "          const docLink = document.createElement('div');\n",
              "          docLink.innerHTML = docLinkHtml;\n",
              "          element.appendChild(docLink);\n",
              "        }\n",
              "      </script>\n",
              "    </div>\n",
              "  </div>\n",
              "  "
            ]
          },
          "metadata": {},
          "execution_count": 20
        }
      ]
    },
    {
      "cell_type": "code",
      "source": [
        "x=df.drop(['Vital Status','TARGET USI','Event Free Survival Time in Days','Overall Survival Time in Days'],axis=1)\n",
        "x"
      ],
      "metadata": {
        "colab": {
          "base_uri": "https://localhost:8080/",
          "height": 424
        },
        "id": "4-w-yIapjp-S",
        "outputId": "d10c6bb6-5f49-4be8-d3eb-99da3536786e"
      },
      "execution_count": 21,
      "outputs": [
        {
          "output_type": "execute_result",
          "data": {
            "text/plain": [
              "     Gender  Age at Diagnosis in Days  INSS Stage  MYCN status  Ploidy Value  \\\n",
              "0         1                        96           4            0          1.48   \n",
              "1         1                       964           4            0          1.00   \n",
              "2         0                       538           4            0          1.99   \n",
              "3         1                       287           1            0          1.58   \n",
              "4         1                        67           0            0          2.13   \n",
              "..      ...                       ...         ...          ...           ...   \n",
              "733       1                       824           4            0          1.00   \n",
              "734       1                      1037           4            0          1.00   \n",
              "735       1                      3446           4            0          1.47   \n",
              "736       0                       328           4            0          1.00   \n",
              "737       1                       361           3            0          1.33   \n",
              "\n",
              "     Histology  MKI  COG Risk Group  Overall Survival Time in Years  \n",
              "0            0    0               1                            10.0  \n",
              "1            1    1               2                             4.0  \n",
              "2            0    0               1                            11.0  \n",
              "3            0    0               0                            11.0  \n",
              "4            0    0               0                            10.0  \n",
              "..         ...  ...             ...                             ...  \n",
              "733          1    2               2                             1.0  \n",
              "734          1    2               2                             2.0  \n",
              "735          1    2               2                             4.0  \n",
              "736          0    2               1                             1.0  \n",
              "737          0    0               1                             7.0  \n",
              "\n",
              "[738 rows x 9 columns]"
            ],
            "text/html": [
              "\n",
              "  <div id=\"df-2d22178c-5b9a-4c61-b41e-aa069c606873\">\n",
              "    <div class=\"colab-df-container\">\n",
              "      <div>\n",
              "<style scoped>\n",
              "    .dataframe tbody tr th:only-of-type {\n",
              "        vertical-align: middle;\n",
              "    }\n",
              "\n",
              "    .dataframe tbody tr th {\n",
              "        vertical-align: top;\n",
              "    }\n",
              "\n",
              "    .dataframe thead th {\n",
              "        text-align: right;\n",
              "    }\n",
              "</style>\n",
              "<table border=\"1\" class=\"dataframe\">\n",
              "  <thead>\n",
              "    <tr style=\"text-align: right;\">\n",
              "      <th></th>\n",
              "      <th>Gender</th>\n",
              "      <th>Age at Diagnosis in Days</th>\n",
              "      <th>INSS Stage</th>\n",
              "      <th>MYCN status</th>\n",
              "      <th>Ploidy Value</th>\n",
              "      <th>Histology</th>\n",
              "      <th>MKI</th>\n",
              "      <th>COG Risk Group</th>\n",
              "      <th>Overall Survival Time in Years</th>\n",
              "    </tr>\n",
              "  </thead>\n",
              "  <tbody>\n",
              "    <tr>\n",
              "      <th>0</th>\n",
              "      <td>1</td>\n",
              "      <td>96</td>\n",
              "      <td>4</td>\n",
              "      <td>0</td>\n",
              "      <td>1.48</td>\n",
              "      <td>0</td>\n",
              "      <td>0</td>\n",
              "      <td>1</td>\n",
              "      <td>10.0</td>\n",
              "    </tr>\n",
              "    <tr>\n",
              "      <th>1</th>\n",
              "      <td>1</td>\n",
              "      <td>964</td>\n",
              "      <td>4</td>\n",
              "      <td>0</td>\n",
              "      <td>1.00</td>\n",
              "      <td>1</td>\n",
              "      <td>1</td>\n",
              "      <td>2</td>\n",
              "      <td>4.0</td>\n",
              "    </tr>\n",
              "    <tr>\n",
              "      <th>2</th>\n",
              "      <td>0</td>\n",
              "      <td>538</td>\n",
              "      <td>4</td>\n",
              "      <td>0</td>\n",
              "      <td>1.99</td>\n",
              "      <td>0</td>\n",
              "      <td>0</td>\n",
              "      <td>1</td>\n",
              "      <td>11.0</td>\n",
              "    </tr>\n",
              "    <tr>\n",
              "      <th>3</th>\n",
              "      <td>1</td>\n",
              "      <td>287</td>\n",
              "      <td>1</td>\n",
              "      <td>0</td>\n",
              "      <td>1.58</td>\n",
              "      <td>0</td>\n",
              "      <td>0</td>\n",
              "      <td>0</td>\n",
              "      <td>11.0</td>\n",
              "    </tr>\n",
              "    <tr>\n",
              "      <th>4</th>\n",
              "      <td>1</td>\n",
              "      <td>67</td>\n",
              "      <td>0</td>\n",
              "      <td>0</td>\n",
              "      <td>2.13</td>\n",
              "      <td>0</td>\n",
              "      <td>0</td>\n",
              "      <td>0</td>\n",
              "      <td>10.0</td>\n",
              "    </tr>\n",
              "    <tr>\n",
              "      <th>...</th>\n",
              "      <td>...</td>\n",
              "      <td>...</td>\n",
              "      <td>...</td>\n",
              "      <td>...</td>\n",
              "      <td>...</td>\n",
              "      <td>...</td>\n",
              "      <td>...</td>\n",
              "      <td>...</td>\n",
              "      <td>...</td>\n",
              "    </tr>\n",
              "    <tr>\n",
              "      <th>733</th>\n",
              "      <td>1</td>\n",
              "      <td>824</td>\n",
              "      <td>4</td>\n",
              "      <td>0</td>\n",
              "      <td>1.00</td>\n",
              "      <td>1</td>\n",
              "      <td>2</td>\n",
              "      <td>2</td>\n",
              "      <td>1.0</td>\n",
              "    </tr>\n",
              "    <tr>\n",
              "      <th>734</th>\n",
              "      <td>1</td>\n",
              "      <td>1037</td>\n",
              "      <td>4</td>\n",
              "      <td>0</td>\n",
              "      <td>1.00</td>\n",
              "      <td>1</td>\n",
              "      <td>2</td>\n",
              "      <td>2</td>\n",
              "      <td>2.0</td>\n",
              "    </tr>\n",
              "    <tr>\n",
              "      <th>735</th>\n",
              "      <td>1</td>\n",
              "      <td>3446</td>\n",
              "      <td>4</td>\n",
              "      <td>0</td>\n",
              "      <td>1.47</td>\n",
              "      <td>1</td>\n",
              "      <td>2</td>\n",
              "      <td>2</td>\n",
              "      <td>4.0</td>\n",
              "    </tr>\n",
              "    <tr>\n",
              "      <th>736</th>\n",
              "      <td>0</td>\n",
              "      <td>328</td>\n",
              "      <td>4</td>\n",
              "      <td>0</td>\n",
              "      <td>1.00</td>\n",
              "      <td>0</td>\n",
              "      <td>2</td>\n",
              "      <td>1</td>\n",
              "      <td>1.0</td>\n",
              "    </tr>\n",
              "    <tr>\n",
              "      <th>737</th>\n",
              "      <td>1</td>\n",
              "      <td>361</td>\n",
              "      <td>3</td>\n",
              "      <td>0</td>\n",
              "      <td>1.33</td>\n",
              "      <td>0</td>\n",
              "      <td>0</td>\n",
              "      <td>1</td>\n",
              "      <td>7.0</td>\n",
              "    </tr>\n",
              "  </tbody>\n",
              "</table>\n",
              "<p>738 rows × 9 columns</p>\n",
              "</div>\n",
              "      <button class=\"colab-df-convert\" onclick=\"convertToInteractive('df-2d22178c-5b9a-4c61-b41e-aa069c606873')\"\n",
              "              title=\"Convert this dataframe to an interactive table.\"\n",
              "              style=\"display:none;\">\n",
              "        \n",
              "  <svg xmlns=\"http://www.w3.org/2000/svg\" height=\"24px\"viewBox=\"0 0 24 24\"\n",
              "       width=\"24px\">\n",
              "    <path d=\"M0 0h24v24H0V0z\" fill=\"none\"/>\n",
              "    <path d=\"M18.56 5.44l.94 2.06.94-2.06 2.06-.94-2.06-.94-.94-2.06-.94 2.06-2.06.94zm-11 1L8.5 8.5l.94-2.06 2.06-.94-2.06-.94L8.5 2.5l-.94 2.06-2.06.94zm10 10l.94 2.06.94-2.06 2.06-.94-2.06-.94-.94-2.06-.94 2.06-2.06.94z\"/><path d=\"M17.41 7.96l-1.37-1.37c-.4-.4-.92-.59-1.43-.59-.52 0-1.04.2-1.43.59L10.3 9.45l-7.72 7.72c-.78.78-.78 2.05 0 2.83L4 21.41c.39.39.9.59 1.41.59.51 0 1.02-.2 1.41-.59l7.78-7.78 2.81-2.81c.8-.78.8-2.07 0-2.86zM5.41 20L4 18.59l7.72-7.72 1.47 1.35L5.41 20z\"/>\n",
              "  </svg>\n",
              "      </button>\n",
              "      \n",
              "  <style>\n",
              "    .colab-df-container {\n",
              "      display:flex;\n",
              "      flex-wrap:wrap;\n",
              "      gap: 12px;\n",
              "    }\n",
              "\n",
              "    .colab-df-convert {\n",
              "      background-color: #E8F0FE;\n",
              "      border: none;\n",
              "      border-radius: 50%;\n",
              "      cursor: pointer;\n",
              "      display: none;\n",
              "      fill: #1967D2;\n",
              "      height: 32px;\n",
              "      padding: 0 0 0 0;\n",
              "      width: 32px;\n",
              "    }\n",
              "\n",
              "    .colab-df-convert:hover {\n",
              "      background-color: #E2EBFA;\n",
              "      box-shadow: 0px 1px 2px rgba(60, 64, 67, 0.3), 0px 1px 3px 1px rgba(60, 64, 67, 0.15);\n",
              "      fill: #174EA6;\n",
              "    }\n",
              "\n",
              "    [theme=dark] .colab-df-convert {\n",
              "      background-color: #3B4455;\n",
              "      fill: #D2E3FC;\n",
              "    }\n",
              "\n",
              "    [theme=dark] .colab-df-convert:hover {\n",
              "      background-color: #434B5C;\n",
              "      box-shadow: 0px 1px 3px 1px rgba(0, 0, 0, 0.15);\n",
              "      filter: drop-shadow(0px 1px 2px rgba(0, 0, 0, 0.3));\n",
              "      fill: #FFFFFF;\n",
              "    }\n",
              "  </style>\n",
              "\n",
              "      <script>\n",
              "        const buttonEl =\n",
              "          document.querySelector('#df-2d22178c-5b9a-4c61-b41e-aa069c606873 button.colab-df-convert');\n",
              "        buttonEl.style.display =\n",
              "          google.colab.kernel.accessAllowed ? 'block' : 'none';\n",
              "\n",
              "        async function convertToInteractive(key) {\n",
              "          const element = document.querySelector('#df-2d22178c-5b9a-4c61-b41e-aa069c606873');\n",
              "          const dataTable =\n",
              "            await google.colab.kernel.invokeFunction('convertToInteractive',\n",
              "                                                     [key], {});\n",
              "          if (!dataTable) return;\n",
              "\n",
              "          const docLinkHtml = 'Like what you see? Visit the ' +\n",
              "            '<a target=\"_blank\" href=https://colab.research.google.com/notebooks/data_table.ipynb>data table notebook</a>'\n",
              "            + ' to learn more about interactive tables.';\n",
              "          element.innerHTML = '';\n",
              "          dataTable['output_type'] = 'display_data';\n",
              "          await google.colab.output.renderOutput(dataTable, element);\n",
              "          const docLink = document.createElement('div');\n",
              "          docLink.innerHTML = docLinkHtml;\n",
              "          element.appendChild(docLink);\n",
              "        }\n",
              "      </script>\n",
              "    </div>\n",
              "  </div>\n",
              "  "
            ]
          },
          "metadata": {},
          "execution_count": 21
        }
      ]
    },
    {
      "cell_type": "code",
      "source": [
        "#x_train=x.iloc[0:590]\n",
        "#x_test=x.iloc[590:738]"
      ],
      "metadata": {
        "id": "8GA9v7tLwo72"
      },
      "execution_count": 22,
      "outputs": []
    },
    {
      "cell_type": "code",
      "source": [
        "#x_train"
      ],
      "metadata": {
        "id": "v_50oA1VwrWS"
      },
      "execution_count": 23,
      "outputs": []
    },
    {
      "cell_type": "code",
      "source": [
        "#x_test"
      ],
      "metadata": {
        "id": "dVQoLCWQwv-4"
      },
      "execution_count": 24,
      "outputs": []
    },
    {
      "cell_type": "code",
      "source": [
        "y=df['Vital Status']\n",
        "y"
      ],
      "metadata": {
        "colab": {
          "base_uri": "https://localhost:8080/"
        },
        "id": "faNr0qPLu_Fg",
        "outputId": "19823132-3c44-4011-cd52-6c7ba6fa6a54"
      },
      "execution_count": 25,
      "outputs": [
        {
          "output_type": "execute_result",
          "data": {
            "text/plain": [
              "0      1\n",
              "1      0\n",
              "2      1\n",
              "3      1\n",
              "4      1\n",
              "      ..\n",
              "733    0\n",
              "734    0\n",
              "735    0\n",
              "736    0\n",
              "737    1\n",
              "Name: Vital Status, Length: 738, dtype: int64"
            ]
          },
          "metadata": {},
          "execution_count": 25
        }
      ]
    },
    {
      "cell_type": "code",
      "source": [
        "#y_train=y.iloc[0:590]\n",
        "#y_test=y.iloc[590:738]"
      ],
      "metadata": {
        "id": "2FNFAmRKw2iq"
      },
      "execution_count": 26,
      "outputs": []
    },
    {
      "cell_type": "code",
      "source": [
        "#y_train"
      ],
      "metadata": {
        "id": "ycTLX7ngw-dD"
      },
      "execution_count": 27,
      "outputs": []
    },
    {
      "cell_type": "code",
      "source": [
        "#y_test"
      ],
      "metadata": {
        "id": "vZGpOVcCxAnf"
      },
      "execution_count": 28,
      "outputs": []
    },
    {
      "cell_type": "code",
      "source": [
        "from sklearn.preprocessing import StandardScaler\n",
        "\n",
        "scaler = StandardScaler()\n",
        "\n",
        "train_scaled = scaler.fit_transform(x)\n",
        "#test_scaled = scaler.transform(x_test)"
      ],
      "metadata": {
        "id": "07OPMyRIvJBe"
      },
      "execution_count": 29,
      "outputs": []
    },
    {
      "cell_type": "code",
      "source": [
        "train_scaled"
      ],
      "metadata": {
        "colab": {
          "base_uri": "https://localhost:8080/"
        },
        "id": "3lHKA5E6yUTM",
        "outputId": "249e7e20-7f80-4e37-d2e6-9a22ffbdd743"
      },
      "execution_count": 30,
      "outputs": [
        {
          "output_type": "execute_result",
          "data": {
            "text/plain": [
              "array([[ 0.86056147, -0.91185913,  0.45284274, ..., -1.09669375,\n",
              "        -0.6098716 ,  1.0368464 ],\n",
              "       [ 0.86056147,  0.02359578,  0.45284274, ...,  0.11130623,\n",
              "         0.65087137, -0.59353565],\n",
              "       [-1.16203204, -0.43550997,  0.45284274, ..., -1.09669375,\n",
              "        -0.6098716 ,  1.30857674],\n",
              "       ...,\n",
              "       [ 0.86056147,  2.69847954,  0.45284274, ...,  1.31930621,\n",
              "         0.65087137, -0.59353565],\n",
              "       [-1.16203204, -0.66182971,  0.45284274, ...,  1.31930621,\n",
              "        -0.6098716 , -1.40872668],\n",
              "       [ 0.86056147, -0.62626518, -0.27844379, ..., -1.09669375,\n",
              "        -0.6098716 ,  0.22165537]])"
            ]
          },
          "metadata": {},
          "execution_count": 30
        }
      ]
    },
    {
      "cell_type": "markdown",
      "source": [
        "# Vital status"
      ],
      "metadata": {
        "id": "q2HbKlnDZufw"
      }
    },
    {
      "cell_type": "code",
      "source": [
        "from tensorflow.keras.models import Sequential\n",
        "from tensorflow.keras.layers import Dense, Activation\n",
        "import numpy as np\n",
        "\n",
        "model = Sequential()\n",
        "model.add(Dense(32, input_shape=(9,)))\n",
        "model.add(Activation('relu'))\n",
        "model.add(Dense(16))\n",
        "model.add(Activation('relu'))\n",
        "model.add(Dense(1))\n",
        "model.add(Activation('sigmoid'))\n",
        "\n",
        "model.compile(loss='binary_crossentropy', optimizer='sgd', metrics=['accuracy']) \n",
        "model.summary()"
      ],
      "metadata": {
        "colab": {
          "base_uri": "https://localhost:8080/"
        },
        "id": "mViwu1YZxTj2",
        "outputId": "59664c89-039c-4137-f0db-57b0cd40d887"
      },
      "execution_count": 65,
      "outputs": [
        {
          "output_type": "stream",
          "name": "stdout",
          "text": [
            "Model: \"sequential_10\"\n",
            "_________________________________________________________________\n",
            " Layer (type)                Output Shape              Param #   \n",
            "=================================================================\n",
            " dense_30 (Dense)            (None, 32)                320       \n",
            "                                                                 \n",
            " activation_30 (Activation)  (None, 32)                0         \n",
            "                                                                 \n",
            " dense_31 (Dense)            (None, 16)                528       \n",
            "                                                                 \n",
            " activation_31 (Activation)  (None, 16)                0         \n",
            "                                                                 \n",
            " dense_32 (Dense)            (None, 1)                 17        \n",
            "                                                                 \n",
            " activation_32 (Activation)  (None, 1)                 0         \n",
            "                                                                 \n",
            "=================================================================\n",
            "Total params: 865\n",
            "Trainable params: 865\n",
            "Non-trainable params: 0\n",
            "_________________________________________________________________\n"
          ]
        }
      ]
    },
    {
      "cell_type": "code",
      "source": [
        "trained_model=model.fit(train_scaled, y,validation_split=0.3,epochs=100,batch_size=20)"
      ],
      "metadata": {
        "colab": {
          "base_uri": "https://localhost:8080/"
        },
        "id": "LrkezKhFxyIE",
        "outputId": "2bfce008-411b-4be6-f762-30c7c9981878"
      },
      "execution_count": 66,
      "outputs": [
        {
          "output_type": "stream",
          "name": "stdout",
          "text": [
            "Epoch 1/100\n",
            "26/26 [==============================] - 1s 9ms/step - loss: 0.6275 - accuracy: 0.7112 - val_loss: 0.7126 - val_accuracy: 0.5000\n",
            "Epoch 2/100\n",
            "26/26 [==============================] - 0s 3ms/step - loss: 0.5889 - accuracy: 0.7151 - val_loss: 0.6846 - val_accuracy: 0.5000\n",
            "Epoch 3/100\n",
            "26/26 [==============================] - 0s 3ms/step - loss: 0.5543 - accuracy: 0.7171 - val_loss: 0.6583 - val_accuracy: 0.5045\n",
            "Epoch 4/100\n",
            "26/26 [==============================] - 0s 4ms/step - loss: 0.5242 - accuracy: 0.7190 - val_loss: 0.6335 - val_accuracy: 0.5045\n",
            "Epoch 5/100\n",
            "26/26 [==============================] - 0s 3ms/step - loss: 0.4978 - accuracy: 0.7171 - val_loss: 0.6100 - val_accuracy: 0.5045\n",
            "Epoch 6/100\n",
            "26/26 [==============================] - 0s 5ms/step - loss: 0.4743 - accuracy: 0.7248 - val_loss: 0.5866 - val_accuracy: 0.5315\n",
            "Epoch 7/100\n",
            "26/26 [==============================] - 0s 4ms/step - loss: 0.4532 - accuracy: 0.7306 - val_loss: 0.5647 - val_accuracy: 0.6081\n",
            "Epoch 8/100\n",
            "26/26 [==============================] - 0s 3ms/step - loss: 0.4343 - accuracy: 0.7926 - val_loss: 0.5433 - val_accuracy: 0.6757\n",
            "Epoch 9/100\n",
            "26/26 [==============================] - 0s 3ms/step - loss: 0.4167 - accuracy: 0.8159 - val_loss: 0.5218 - val_accuracy: 0.7477\n",
            "Epoch 10/100\n",
            "26/26 [==============================] - 0s 3ms/step - loss: 0.4004 - accuracy: 0.8527 - val_loss: 0.5023 - val_accuracy: 0.7793\n",
            "Epoch 11/100\n",
            "26/26 [==============================] - 0s 4ms/step - loss: 0.3850 - accuracy: 0.8663 - val_loss: 0.4827 - val_accuracy: 0.8198\n",
            "Epoch 12/100\n",
            "26/26 [==============================] - 0s 3ms/step - loss: 0.3707 - accuracy: 0.8779 - val_loss: 0.4639 - val_accuracy: 0.8333\n",
            "Epoch 13/100\n",
            "26/26 [==============================] - 0s 3ms/step - loss: 0.3573 - accuracy: 0.8837 - val_loss: 0.4460 - val_accuracy: 0.8333\n",
            "Epoch 14/100\n",
            "26/26 [==============================] - 0s 3ms/step - loss: 0.3445 - accuracy: 0.8953 - val_loss: 0.4291 - val_accuracy: 0.8378\n",
            "Epoch 15/100\n",
            "26/26 [==============================] - 0s 3ms/step - loss: 0.3323 - accuracy: 0.8992 - val_loss: 0.4129 - val_accuracy: 0.8559\n",
            "Epoch 16/100\n",
            "26/26 [==============================] - 0s 4ms/step - loss: 0.3209 - accuracy: 0.9109 - val_loss: 0.3978 - val_accuracy: 0.8649\n",
            "Epoch 17/100\n",
            "26/26 [==============================] - 0s 3ms/step - loss: 0.3102 - accuracy: 0.9128 - val_loss: 0.3834 - val_accuracy: 0.8694\n",
            "Epoch 18/100\n",
            "26/26 [==============================] - 0s 3ms/step - loss: 0.2999 - accuracy: 0.9167 - val_loss: 0.3693 - val_accuracy: 0.8829\n",
            "Epoch 19/100\n",
            "26/26 [==============================] - 0s 4ms/step - loss: 0.2903 - accuracy: 0.9225 - val_loss: 0.3575 - val_accuracy: 0.8874\n",
            "Epoch 20/100\n",
            "26/26 [==============================] - 0s 4ms/step - loss: 0.2813 - accuracy: 0.9225 - val_loss: 0.3459 - val_accuracy: 0.8919\n",
            "Epoch 21/100\n",
            "26/26 [==============================] - 0s 4ms/step - loss: 0.2731 - accuracy: 0.9205 - val_loss: 0.3355 - val_accuracy: 0.8919\n",
            "Epoch 22/100\n",
            "26/26 [==============================] - 0s 4ms/step - loss: 0.2654 - accuracy: 0.9244 - val_loss: 0.3262 - val_accuracy: 0.8919\n",
            "Epoch 23/100\n",
            "26/26 [==============================] - 0s 3ms/step - loss: 0.2586 - accuracy: 0.9244 - val_loss: 0.3179 - val_accuracy: 0.8964\n",
            "Epoch 24/100\n",
            "26/26 [==============================] - 0s 3ms/step - loss: 0.2522 - accuracy: 0.9244 - val_loss: 0.3098 - val_accuracy: 0.9009\n",
            "Epoch 25/100\n",
            "26/26 [==============================] - 0s 3ms/step - loss: 0.2463 - accuracy: 0.9264 - val_loss: 0.3031 - val_accuracy: 0.9009\n",
            "Epoch 26/100\n",
            "26/26 [==============================] - 0s 4ms/step - loss: 0.2409 - accuracy: 0.9264 - val_loss: 0.2973 - val_accuracy: 0.9054\n",
            "Epoch 27/100\n",
            "26/26 [==============================] - 0s 4ms/step - loss: 0.2362 - accuracy: 0.9244 - val_loss: 0.2922 - val_accuracy: 0.9009\n",
            "Epoch 28/100\n",
            "26/26 [==============================] - 0s 3ms/step - loss: 0.2317 - accuracy: 0.9264 - val_loss: 0.2876 - val_accuracy: 0.9009\n",
            "Epoch 29/100\n",
            "26/26 [==============================] - 0s 3ms/step - loss: 0.2275 - accuracy: 0.9264 - val_loss: 0.2841 - val_accuracy: 0.9054\n",
            "Epoch 30/100\n",
            "26/26 [==============================] - 0s 3ms/step - loss: 0.2236 - accuracy: 0.9283 - val_loss: 0.2803 - val_accuracy: 0.9054\n",
            "Epoch 31/100\n",
            "26/26 [==============================] - 0s 5ms/step - loss: 0.2202 - accuracy: 0.9283 - val_loss: 0.2772 - val_accuracy: 0.9009\n",
            "Epoch 32/100\n",
            "26/26 [==============================] - 0s 3ms/step - loss: 0.2173 - accuracy: 0.9283 - val_loss: 0.2745 - val_accuracy: 0.9054\n",
            "Epoch 33/100\n",
            "26/26 [==============================] - 0s 4ms/step - loss: 0.2142 - accuracy: 0.9283 - val_loss: 0.2719 - val_accuracy: 0.9054\n",
            "Epoch 34/100\n",
            "26/26 [==============================] - 0s 3ms/step - loss: 0.2118 - accuracy: 0.9283 - val_loss: 0.2705 - val_accuracy: 0.9054\n",
            "Epoch 35/100\n",
            "26/26 [==============================] - 0s 3ms/step - loss: 0.2093 - accuracy: 0.9264 - val_loss: 0.2687 - val_accuracy: 0.8964\n",
            "Epoch 36/100\n",
            "26/26 [==============================] - 0s 4ms/step - loss: 0.2069 - accuracy: 0.9283 - val_loss: 0.2671 - val_accuracy: 0.8964\n",
            "Epoch 37/100\n",
            "26/26 [==============================] - 0s 4ms/step - loss: 0.2048 - accuracy: 0.9283 - val_loss: 0.2661 - val_accuracy: 0.8964\n",
            "Epoch 38/100\n",
            "26/26 [==============================] - 0s 3ms/step - loss: 0.2029 - accuracy: 0.9283 - val_loss: 0.2652 - val_accuracy: 0.8964\n",
            "Epoch 39/100\n",
            "26/26 [==============================] - 0s 3ms/step - loss: 0.2011 - accuracy: 0.9283 - val_loss: 0.2644 - val_accuracy: 0.8919\n",
            "Epoch 40/100\n",
            "26/26 [==============================] - 0s 3ms/step - loss: 0.1994 - accuracy: 0.9283 - val_loss: 0.2637 - val_accuracy: 0.8964\n",
            "Epoch 41/100\n",
            "26/26 [==============================] - 0s 3ms/step - loss: 0.1981 - accuracy: 0.9283 - val_loss: 0.2630 - val_accuracy: 0.8964\n",
            "Epoch 42/100\n",
            "26/26 [==============================] - 0s 3ms/step - loss: 0.1966 - accuracy: 0.9283 - val_loss: 0.2620 - val_accuracy: 0.8964\n",
            "Epoch 43/100\n",
            "26/26 [==============================] - 0s 3ms/step - loss: 0.1950 - accuracy: 0.9302 - val_loss: 0.2614 - val_accuracy: 0.8964\n",
            "Epoch 44/100\n",
            "26/26 [==============================] - 0s 3ms/step - loss: 0.1939 - accuracy: 0.9302 - val_loss: 0.2614 - val_accuracy: 0.8964\n",
            "Epoch 45/100\n",
            "26/26 [==============================] - 0s 3ms/step - loss: 0.1928 - accuracy: 0.9322 - val_loss: 0.2616 - val_accuracy: 0.8964\n",
            "Epoch 46/100\n",
            "26/26 [==============================] - 0s 3ms/step - loss: 0.1919 - accuracy: 0.9302 - val_loss: 0.2613 - val_accuracy: 0.8964\n",
            "Epoch 47/100\n",
            "26/26 [==============================] - 0s 3ms/step - loss: 0.1906 - accuracy: 0.9283 - val_loss: 0.2615 - val_accuracy: 0.8964\n",
            "Epoch 48/100\n",
            "26/26 [==============================] - 0s 4ms/step - loss: 0.1900 - accuracy: 0.9283 - val_loss: 0.2612 - val_accuracy: 0.8964\n",
            "Epoch 49/100\n",
            "26/26 [==============================] - 0s 3ms/step - loss: 0.1887 - accuracy: 0.9302 - val_loss: 0.2609 - val_accuracy: 0.8964\n",
            "Epoch 50/100\n",
            "26/26 [==============================] - 0s 3ms/step - loss: 0.1881 - accuracy: 0.9283 - val_loss: 0.2605 - val_accuracy: 0.8964\n",
            "Epoch 51/100\n",
            "26/26 [==============================] - 0s 4ms/step - loss: 0.1871 - accuracy: 0.9283 - val_loss: 0.2603 - val_accuracy: 0.9009\n",
            "Epoch 52/100\n",
            "26/26 [==============================] - 0s 4ms/step - loss: 0.1863 - accuracy: 0.9302 - val_loss: 0.2613 - val_accuracy: 0.8964\n",
            "Epoch 53/100\n",
            "26/26 [==============================] - 0s 3ms/step - loss: 0.1854 - accuracy: 0.9283 - val_loss: 0.2617 - val_accuracy: 0.8964\n",
            "Epoch 54/100\n",
            "26/26 [==============================] - 0s 4ms/step - loss: 0.1847 - accuracy: 0.9283 - val_loss: 0.2617 - val_accuracy: 0.8964\n",
            "Epoch 55/100\n",
            "26/26 [==============================] - 0s 3ms/step - loss: 0.1840 - accuracy: 0.9283 - val_loss: 0.2622 - val_accuracy: 0.8964\n",
            "Epoch 56/100\n",
            "26/26 [==============================] - 0s 4ms/step - loss: 0.1835 - accuracy: 0.9283 - val_loss: 0.2620 - val_accuracy: 0.9009\n",
            "Epoch 57/100\n",
            "26/26 [==============================] - 0s 3ms/step - loss: 0.1827 - accuracy: 0.9283 - val_loss: 0.2621 - val_accuracy: 0.9009\n",
            "Epoch 58/100\n",
            "26/26 [==============================] - 0s 3ms/step - loss: 0.1820 - accuracy: 0.9283 - val_loss: 0.2620 - val_accuracy: 0.9009\n",
            "Epoch 59/100\n",
            "26/26 [==============================] - 0s 3ms/step - loss: 0.1814 - accuracy: 0.9283 - val_loss: 0.2623 - val_accuracy: 0.9054\n",
            "Epoch 60/100\n",
            "26/26 [==============================] - 0s 3ms/step - loss: 0.1807 - accuracy: 0.9302 - val_loss: 0.2623 - val_accuracy: 0.9054\n",
            "Epoch 61/100\n",
            "26/26 [==============================] - 0s 3ms/step - loss: 0.1802 - accuracy: 0.9302 - val_loss: 0.2638 - val_accuracy: 0.9009\n",
            "Epoch 62/100\n",
            "26/26 [==============================] - 0s 3ms/step - loss: 0.1797 - accuracy: 0.9302 - val_loss: 0.2643 - val_accuracy: 0.9009\n",
            "Epoch 63/100\n",
            "26/26 [==============================] - 0s 3ms/step - loss: 0.1790 - accuracy: 0.9302 - val_loss: 0.2644 - val_accuracy: 0.9009\n",
            "Epoch 64/100\n",
            "26/26 [==============================] - 0s 5ms/step - loss: 0.1786 - accuracy: 0.9322 - val_loss: 0.2647 - val_accuracy: 0.9054\n",
            "Epoch 65/100\n",
            "26/26 [==============================] - 0s 3ms/step - loss: 0.1779 - accuracy: 0.9341 - val_loss: 0.2646 - val_accuracy: 0.9054\n",
            "Epoch 66/100\n",
            "26/26 [==============================] - 0s 3ms/step - loss: 0.1775 - accuracy: 0.9360 - val_loss: 0.2653 - val_accuracy: 0.9054\n",
            "Epoch 67/100\n",
            "26/26 [==============================] - 0s 4ms/step - loss: 0.1769 - accuracy: 0.9341 - val_loss: 0.2656 - val_accuracy: 0.9054\n",
            "Epoch 68/100\n",
            "26/26 [==============================] - 0s 3ms/step - loss: 0.1765 - accuracy: 0.9380 - val_loss: 0.2656 - val_accuracy: 0.9054\n",
            "Epoch 69/100\n",
            "26/26 [==============================] - 0s 4ms/step - loss: 0.1758 - accuracy: 0.9360 - val_loss: 0.2646 - val_accuracy: 0.9054\n",
            "Epoch 70/100\n",
            "26/26 [==============================] - 0s 3ms/step - loss: 0.1753 - accuracy: 0.9380 - val_loss: 0.2661 - val_accuracy: 0.9054\n",
            "Epoch 71/100\n",
            "26/26 [==============================] - 0s 3ms/step - loss: 0.1750 - accuracy: 0.9360 - val_loss: 0.2663 - val_accuracy: 0.9054\n",
            "Epoch 72/100\n",
            "26/26 [==============================] - 0s 3ms/step - loss: 0.1745 - accuracy: 0.9360 - val_loss: 0.2671 - val_accuracy: 0.9054\n",
            "Epoch 73/100\n",
            "26/26 [==============================] - 0s 4ms/step - loss: 0.1740 - accuracy: 0.9380 - val_loss: 0.2671 - val_accuracy: 0.9054\n",
            "Epoch 74/100\n",
            "26/26 [==============================] - 0s 3ms/step - loss: 0.1734 - accuracy: 0.9360 - val_loss: 0.2669 - val_accuracy: 0.9054\n",
            "Epoch 75/100\n",
            "26/26 [==============================] - 0s 3ms/step - loss: 0.1729 - accuracy: 0.9380 - val_loss: 0.2686 - val_accuracy: 0.9054\n",
            "Epoch 76/100\n",
            "26/26 [==============================] - 0s 4ms/step - loss: 0.1724 - accuracy: 0.9380 - val_loss: 0.2693 - val_accuracy: 0.9054\n",
            "Epoch 77/100\n",
            "26/26 [==============================] - 0s 3ms/step - loss: 0.1720 - accuracy: 0.9360 - val_loss: 0.2685 - val_accuracy: 0.9054\n",
            "Epoch 78/100\n",
            "26/26 [==============================] - 0s 3ms/step - loss: 0.1714 - accuracy: 0.9380 - val_loss: 0.2686 - val_accuracy: 0.9054\n",
            "Epoch 79/100\n",
            "26/26 [==============================] - 0s 5ms/step - loss: 0.1710 - accuracy: 0.9360 - val_loss: 0.2681 - val_accuracy: 0.9054\n",
            "Epoch 80/100\n",
            "26/26 [==============================] - 0s 5ms/step - loss: 0.1706 - accuracy: 0.9380 - val_loss: 0.2687 - val_accuracy: 0.9054\n",
            "Epoch 81/100\n",
            "26/26 [==============================] - 0s 5ms/step - loss: 0.1702 - accuracy: 0.9360 - val_loss: 0.2698 - val_accuracy: 0.9054\n",
            "Epoch 82/100\n",
            "26/26 [==============================] - 0s 7ms/step - loss: 0.1695 - accuracy: 0.9360 - val_loss: 0.2703 - val_accuracy: 0.9054\n",
            "Epoch 83/100\n",
            "26/26 [==============================] - 0s 5ms/step - loss: 0.1692 - accuracy: 0.9380 - val_loss: 0.2705 - val_accuracy: 0.9054\n",
            "Epoch 84/100\n",
            "26/26 [==============================] - 0s 5ms/step - loss: 0.1689 - accuracy: 0.9380 - val_loss: 0.2714 - val_accuracy: 0.9054\n",
            "Epoch 85/100\n",
            "26/26 [==============================] - 0s 7ms/step - loss: 0.1685 - accuracy: 0.9360 - val_loss: 0.2707 - val_accuracy: 0.9054\n",
            "Epoch 86/100\n",
            "26/26 [==============================] - 0s 7ms/step - loss: 0.1681 - accuracy: 0.9360 - val_loss: 0.2719 - val_accuracy: 0.9054\n",
            "Epoch 87/100\n",
            "26/26 [==============================] - 0s 5ms/step - loss: 0.1676 - accuracy: 0.9360 - val_loss: 0.2723 - val_accuracy: 0.9054\n",
            "Epoch 88/100\n",
            "26/26 [==============================] - 0s 6ms/step - loss: 0.1674 - accuracy: 0.9380 - val_loss: 0.2736 - val_accuracy: 0.9054\n",
            "Epoch 89/100\n",
            "26/26 [==============================] - 0s 7ms/step - loss: 0.1671 - accuracy: 0.9380 - val_loss: 0.2733 - val_accuracy: 0.9054\n",
            "Epoch 90/100\n",
            "26/26 [==============================] - 0s 7ms/step - loss: 0.1665 - accuracy: 0.9380 - val_loss: 0.2728 - val_accuracy: 0.9054\n",
            "Epoch 91/100\n",
            "26/26 [==============================] - 0s 7ms/step - loss: 0.1663 - accuracy: 0.9380 - val_loss: 0.2738 - val_accuracy: 0.9054\n",
            "Epoch 92/100\n",
            "26/26 [==============================] - 0s 6ms/step - loss: 0.1662 - accuracy: 0.9360 - val_loss: 0.2743 - val_accuracy: 0.9054\n",
            "Epoch 93/100\n",
            "26/26 [==============================] - 0s 6ms/step - loss: 0.1655 - accuracy: 0.9360 - val_loss: 0.2742 - val_accuracy: 0.9054\n",
            "Epoch 94/100\n",
            "26/26 [==============================] - 0s 7ms/step - loss: 0.1653 - accuracy: 0.9360 - val_loss: 0.2746 - val_accuracy: 0.9054\n",
            "Epoch 95/100\n",
            "26/26 [==============================] - 0s 8ms/step - loss: 0.1649 - accuracy: 0.9360 - val_loss: 0.2754 - val_accuracy: 0.9009\n",
            "Epoch 96/100\n",
            "26/26 [==============================] - 0s 5ms/step - loss: 0.1646 - accuracy: 0.9399 - val_loss: 0.2757 - val_accuracy: 0.9009\n",
            "Epoch 97/100\n",
            "26/26 [==============================] - 0s 6ms/step - loss: 0.1641 - accuracy: 0.9380 - val_loss: 0.2745 - val_accuracy: 0.9054\n",
            "Epoch 98/100\n",
            "26/26 [==============================] - 0s 6ms/step - loss: 0.1637 - accuracy: 0.9380 - val_loss: 0.2748 - val_accuracy: 0.9009\n",
            "Epoch 99/100\n",
            "26/26 [==============================] - 0s 6ms/step - loss: 0.1636 - accuracy: 0.9380 - val_loss: 0.2759 - val_accuracy: 0.9009\n",
            "Epoch 100/100\n",
            "26/26 [==============================] - 0s 5ms/step - loss: 0.1631 - accuracy: 0.9360 - val_loss: 0.2751 - val_accuracy: 0.9054\n"
          ]
        }
      ]
    },
    {
      "cell_type": "code",
      "source": [
        "import matplotlib.pyplot as plt\n",
        "# summarize history for accuracy\n",
        "plt.plot(trained_model.history['accuracy'])\n",
        "plt.plot(trained_model.history['val_accuracy'])\n",
        "plt.title('model accuracy')\n",
        "plt.ylabel('accuracy')\n",
        "plt.xlabel('epoch')\n",
        "plt.legend(['train', 'test'], loc='lower right')\n",
        "plt.show()\n",
        "# summarize history for loss\n",
        "plt.plot(trained_model.history['loss'])\n",
        "plt.plot(trained_model.history['val_loss'])\n",
        "plt.title('model loss')\n",
        "plt.ylabel('loss')\n",
        "plt.xlabel('epoch')\n",
        "plt.legend(['train', 'test'], loc='upper right')\n",
        "plt.show()"
      ],
      "metadata": {
        "colab": {
          "base_uri": "https://localhost:8080/",
          "height": 573
        },
        "id": "ReuR8AmPyBZl",
        "outputId": "0a0a45da-9b64-45b6-faeb-9d2282de2be9"
      },
      "execution_count": 67,
      "outputs": [
        {
          "output_type": "display_data",
          "data": {
            "text/plain": [
              "<Figure size 432x288 with 1 Axes>"
            ],
            "image/png": "[encoded data removed]"
          },
          "metadata": {
            "needs_background": "light"
          }
        },
        {
          "output_type": "display_data",
          "data": {
            "text/plain": [
              "<Figure size 432x288 with 1 Axes>"
            ],
            "image/png": "[encoded data removed]"
          },
          "metadata": {
            "needs_background": "light"
          }
        }
      ]
    },
    {
      "cell_type": "markdown",
      "source": [
        "# Split data into 3\n"
      ],
      "metadata": {
        "id": "JxF7eHohZfaI"
      }
    },
    {
      "cell_type": "code",
      "source": [],
      "metadata": {
        "id": "xPPeMkS8ZpgM"
      },
      "execution_count": 33,
      "outputs": []
    }
  ]
}