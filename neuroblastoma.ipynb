{
  "nbformat": 4,
  "nbformat_minor": 0,
  "metadata": {
    "colab": {
      "provenance": [],
      "authorship_tag": "ABX9TyPdW4c71ybuT+rKdvwiiDR4",
      "include_colab_link": true
    },
    "kernelspec": {
      "name": "python3",
      "display_name": "Python 3"
    },
    "language_info": {
      "name": "python"
    }
  },
  "cells": [
    {
      "cell_type": "markdown",
      "metadata": {
        "id": "view-in-github",
        "colab_type": "text"
      },
      "source": [
        "<a href=\"https://colab.research.google.com/github/MuhammadAshiqAmeer/Federated_learning_experiments_with_Intel-openfl/blob/colab/neuroblastoma.ipynb\" target=\"_parent\"><img src=\"https://colab.research.google.com/assets/colab-badge.svg\" alt=\"Open In Colab\"/></a>"
      ]
    },
    {
      "cell_type": "code",
      "execution_count": 1,
      "metadata": {
        "colab": {
          "base_uri": "https://localhost:8080/"
        },
        "id": "NvpbasCgY05K",
        "outputId": "9e324043-255d-4586-e326-d6e595b545ae"
      },
      "outputs": [
        {
          "output_type": "stream",
          "name": "stdout",
          "text": [
            "Drive already mounted at /content/drive; to attempt to forcibly remount, call drive.mount(\"/content/drive\", force_remount=True).\n"
          ]
        }
      ],
      "source": [
        "from google.colab import drive\n",
        "drive.mount('/content/drive')"
      ]
    },
    {
      "cell_type": "code",
      "source": [
        "cd /content/drive/MyDrive/federated"
      ],
      "metadata": {
        "colab": {
          "base_uri": "https://localhost:8080/"
        },
        "id": "8-LGguvKZY6G",
        "outputId": "d4ac30ce-aee9-4a81-c8dc-6b077e7285f0"
      },
      "execution_count": 2,
      "outputs": [
        {
          "output_type": "stream",
          "name": "stdout",
          "text": [
            "/content/drive/MyDrive/federated\n"
          ]
        }
      ]
    },
    {
      "cell_type": "code",
      "source": [
        "!ls"
      ],
      "metadata": {
        "colab": {
          "base_uri": "https://localhost:8080/"
        },
        "id": "FHRusAh-bNGV",
        "outputId": "31325483-0260-46c0-f88d-9c74d57f89be"
      },
      "execution_count": 3,
      "outputs": [
        {
          "output_type": "stream",
          "name": "stdout",
          "text": [
            "'Federated lemon-melon CNN classifier'\t neuroblastoma.xlsx\n"
          ]
        }
      ]
    },
    {
      "cell_type": "code",
      "source": [
        "import pandas as pd\n",
        "\n",
        "df = pd.read_excel(\"neuroblastoma.xlsx\")\n",
        "#df = df.sample(frac=1).reset_index(drop=True)\n"
      ],
      "metadata": {
        "id": "PR3i3gCzam1y"
      },
      "execution_count": 4,
      "outputs": []
    },
    {
      "cell_type": "code",
      "source": [
        "df"
      ],
      "metadata": {
        "colab": {
          "base_uri": "https://localhost:8080/",
          "height": 468
        },
        "id": "zCov07bqcRYq",
        "outputId": "c0b0a60e-6628-47d7-b425-30968c66489f"
      },
      "execution_count": 5,
      "outputs": [
        {
          "output_type": "execute_result",
          "data": {
            "text/plain": [
              "           TARGET USI  Gender  Age at Diagnosis in Days  \\\n",
              "0    TARGET-30-PARPUF    Male                        96   \n",
              "1    TARGET-30-PARSVF    Male                       964   \n",
              "2    TARGET-30-PARSXI  Female                       538   \n",
              "3    TARGET-30-PARSZV    Male                       287   \n",
              "4    TARGET-30-PARTCE    Male                        67   \n",
              "..                ...     ...                       ...   \n",
              "733  TARGET-30-PATILE    Male                       824   \n",
              "734  TARGET-30-PATINJ    Male                      1037   \n",
              "735  TARGET-30-PATNKP    Male                      3446   \n",
              "736  TARGET-30-PATYIL  Female                       328   \n",
              "737  TARGET-30-PAUDDK    Male                       361   \n",
              "\n",
              "     Event Free Survival Time in Days Vital Status  \\\n",
              "0                                3701        Alive   \n",
              "1                                 997         Dead   \n",
              "2                                3928        Alive   \n",
              "3                                2675        Alive   \n",
              "4                                3625        Alive   \n",
              "..                                ...          ...   \n",
              "733                               306         Dead   \n",
              "734                               736         Dead   \n",
              "735                               616         Dead   \n",
              "736                               239         Dead   \n",
              "737                               344        Alive   \n",
              "\n",
              "     Overall Survival Time in Days INSS Stage    MYCN status  Ploidy Value  \\\n",
              "0                             3701    Stage 4  Not Amplified          1.48   \n",
              "1                             1516    Stage 4  Not Amplified          1.00   \n",
              "2                             3928    Stage 4  Not Amplified          1.99   \n",
              "3                             3995   Stage 2a  Not Amplified          1.58   \n",
              "4                             3625    Stage 1  Not Amplified          2.13   \n",
              "..                             ...        ...            ...           ...   \n",
              "733                            306    Stage 4  Not Amplified          1.00   \n",
              "734                            822    Stage 4  Not Amplified          1.00   \n",
              "735                           1549    Stage 4  Not Amplified          1.47   \n",
              "736                            481    Stage 4  Not Amplified          1.00   \n",
              "737                           2569    Stage 3  Not Amplified          1.33   \n",
              "\n",
              "       Histology           MKI     COG Risk Group  \n",
              "0      Favorable           Low  Intermediate Risk  \n",
              "1    Unfavorable          High          High Risk  \n",
              "2      Favorable           Low  Intermediate Risk  \n",
              "3      Favorable           Low           Low Risk  \n",
              "4      Favorable           Low           Low Risk  \n",
              "..           ...           ...                ...  \n",
              "733  Unfavorable  Intermediate          High Risk  \n",
              "734  Unfavorable  Intermediate          High Risk  \n",
              "735  Unfavorable  Intermediate          High Risk  \n",
              "736    Favorable  Intermediate  Intermediate Risk  \n",
              "737    Favorable           Low  Intermediate Risk  \n",
              "\n",
              "[738 rows x 12 columns]"
            ],
            "text/html": [
              "\n",
              "  <div id=\"df-aa2cd7e1-8bb0-40b0-b756-87ebd79b7ce0\">\n",
              "    <div class=\"colab-df-container\">\n",
              "      <div>\n",
              "<style scoped>\n",
              "    .dataframe tbody tr th:only-of-type {\n",
              "        vertical-align: middle;\n",
              "    }\n",
              "\n",
              "    .dataframe tbody tr th {\n",
              "        vertical-align: top;\n",
              "    }\n",
              "\n",
              "    .dataframe thead th {\n",
              "        text-align: right;\n",
              "    }\n",
              "</style>\n",
              "<table border=\"1\" class=\"dataframe\">\n",
              "  <thead>\n",
              "    <tr style=\"text-align: right;\">\n",
              "      <th></th>\n",
              "      <th>TARGET USI</th>\n",
              "      <th>Gender</th>\n",
              "      <th>Age at Diagnosis in Days</th>\n",
              "      <th>Event Free Survival Time in Days</th>\n",
              "      <th>Vital Status</th>\n",
              "      <th>Overall Survival Time in Days</th>\n",
              "      <th>INSS Stage</th>\n",
              "      <th>MYCN status</th>\n",
              "      <th>Ploidy Value</th>\n",
              "      <th>Histology</th>\n",
              "      <th>MKI</th>\n",
              "      <th>COG Risk Group</th>\n",
              "    </tr>\n",
              "  </thead>\n",
              "  <tbody>\n",
              "    <tr>\n",
              "      <th>0</th>\n",
              "      <td>TARGET-30-PARPUF</td>\n",
              "      <td>Male</td>\n",
              "      <td>96</td>\n",
              "      <td>3701</td>\n",
              "      <td>Alive</td>\n",
              "      <td>3701</td>\n",
              "      <td>Stage 4</td>\n",
              "      <td>Not Amplified</td>\n",
              "      <td>1.48</td>\n",
              "      <td>Favorable</td>\n",
              "      <td>Low</td>\n",
              "      <td>Intermediate Risk</td>\n",
              "    </tr>\n",
              "    <tr>\n",
              "      <th>1</th>\n",
              "      <td>TARGET-30-PARSVF</td>\n",
              "      <td>Male</td>\n",
              "      <td>964</td>\n",
              "      <td>997</td>\n",
              "      <td>Dead</td>\n",
              "      <td>1516</td>\n",
              "      <td>Stage 4</td>\n",
              "      <td>Not Amplified</td>\n",
              "      <td>1.00</td>\n",
              "      <td>Unfavorable</td>\n",
              "      <td>High</td>\n",
              "      <td>High Risk</td>\n",
              "    </tr>\n",
              "    <tr>\n",
              "      <th>2</th>\n",
              "      <td>TARGET-30-PARSXI</td>\n",
              "      <td>Female</td>\n",
              "      <td>538</td>\n",
              "      <td>3928</td>\n",
              "      <td>Alive</td>\n",
              "      <td>3928</td>\n",
              "      <td>Stage 4</td>\n",
              "      <td>Not Amplified</td>\n",
              "      <td>1.99</td>\n",
              "      <td>Favorable</td>\n",
              "      <td>Low</td>\n",
              "      <td>Intermediate Risk</td>\n",
              "    </tr>\n",
              "    <tr>\n",
              "      <th>3</th>\n",
              "      <td>TARGET-30-PARSZV</td>\n",
              "      <td>Male</td>\n",
              "      <td>287</td>\n",
              "      <td>2675</td>\n",
              "      <td>Alive</td>\n",
              "      <td>3995</td>\n",
              "      <td>Stage 2a</td>\n",
              "      <td>Not Amplified</td>\n",
              "      <td>1.58</td>\n",
              "      <td>Favorable</td>\n",
              "      <td>Low</td>\n",
              "      <td>Low Risk</td>\n",
              "    </tr>\n",
              "    <tr>\n",
              "      <th>4</th>\n",
              "      <td>TARGET-30-PARTCE</td>\n",
              "      <td>Male</td>\n",
              "      <td>67</td>\n",
              "      <td>3625</td>\n",
              "      <td>Alive</td>\n",
              "      <td>3625</td>\n",
              "      <td>Stage 1</td>\n",
              "      <td>Not Amplified</td>\n",
              "      <td>2.13</td>\n",
              "      <td>Favorable</td>\n",
              "      <td>Low</td>\n",
              "      <td>Low Risk</td>\n",
              "    </tr>\n",
              "    <tr>\n",
              "      <th>...</th>\n",
              "      <td>...</td>\n",
              "      <td>...</td>\n",
              "      <td>...</td>\n",
              "      <td>...</td>\n",
              "      <td>...</td>\n",
              "      <td>...</td>\n",
              "      <td>...</td>\n",
              "      <td>...</td>\n",
              "      <td>...</td>\n",
              "      <td>...</td>\n",
              "      <td>...</td>\n",
              "      <td>...</td>\n",
              "    </tr>\n",
              "    <tr>\n",
              "      <th>733</th>\n",
              "      <td>TARGET-30-PATILE</td>\n",
              "      <td>Male</td>\n",
              "      <td>824</td>\n",
              "      <td>306</td>\n",
              "      <td>Dead</td>\n",
              "      <td>306</td>\n",
              "      <td>Stage 4</td>\n",
              "      <td>Not Amplified</td>\n",
              "      <td>1.00</td>\n",
              "      <td>Unfavorable</td>\n",
              "      <td>Intermediate</td>\n",
              "      <td>High Risk</td>\n",
              "    </tr>\n",
              "    <tr>\n",
              "      <th>734</th>\n",
              "      <td>TARGET-30-PATINJ</td>\n",
              "      <td>Male</td>\n",
              "      <td>1037</td>\n",
              "      <td>736</td>\n",
              "      <td>Dead</td>\n",
              "      <td>822</td>\n",
              "      <td>Stage 4</td>\n",
              "      <td>Not Amplified</td>\n",
              "      <td>1.00</td>\n",
              "      <td>Unfavorable</td>\n",
              "      <td>Intermediate</td>\n",
              "      <td>High Risk</td>\n",
              "    </tr>\n",
              "    <tr>\n",
              "      <th>735</th>\n",
              "      <td>TARGET-30-PATNKP</td>\n",
              "      <td>Male</td>\n",
              "      <td>3446</td>\n",
              "      <td>616</td>\n",
              "      <td>Dead</td>\n",
              "      <td>1549</td>\n",
              "      <td>Stage 4</td>\n",
              "      <td>Not Amplified</td>\n",
              "      <td>1.47</td>\n",
              "      <td>Unfavorable</td>\n",
              "      <td>Intermediate</td>\n",
              "      <td>High Risk</td>\n",
              "    </tr>\n",
              "    <tr>\n",
              "      <th>736</th>\n",
              "      <td>TARGET-30-PATYIL</td>\n",
              "      <td>Female</td>\n",
              "      <td>328</td>\n",
              "      <td>239</td>\n",
              "      <td>Dead</td>\n",
              "      <td>481</td>\n",
              "      <td>Stage 4</td>\n",
              "      <td>Not Amplified</td>\n",
              "      <td>1.00</td>\n",
              "      <td>Favorable</td>\n",
              "      <td>Intermediate</td>\n",
              "      <td>Intermediate Risk</td>\n",
              "    </tr>\n",
              "    <tr>\n",
              "      <th>737</th>\n",
              "      <td>TARGET-30-PAUDDK</td>\n",
              "      <td>Male</td>\n",
              "      <td>361</td>\n",
              "      <td>344</td>\n",
              "      <td>Alive</td>\n",
              "      <td>2569</td>\n",
              "      <td>Stage 3</td>\n",
              "      <td>Not Amplified</td>\n",
              "      <td>1.33</td>\n",
              "      <td>Favorable</td>\n",
              "      <td>Low</td>\n",
              "      <td>Intermediate Risk</td>\n",
              "    </tr>\n",
              "  </tbody>\n",
              "</table>\n",
              "<p>738 rows × 12 columns</p>\n",
              "</div>\n",
              "      <button class=\"colab-df-convert\" onclick=\"convertToInteractive('df-aa2cd7e1-8bb0-40b0-b756-87ebd79b7ce0')\"\n",
              "              title=\"Convert this dataframe to an interactive table.\"\n",
              "              style=\"display:none;\">\n",
              "        \n",
              "  <svg xmlns=\"http://www.w3.org/2000/svg\" height=\"24px\"viewBox=\"0 0 24 24\"\n",
              "       width=\"24px\">\n",
              "    <path d=\"M0 0h24v24H0V0z\" fill=\"none\"/>\n",
              "    <path d=\"M18.56 5.44l.94 2.06.94-2.06 2.06-.94-2.06-.94-.94-2.06-.94 2.06-2.06.94zm-11 1L8.5 8.5l.94-2.06 2.06-.94-2.06-.94L8.5 2.5l-.94 2.06-2.06.94zm10 10l.94 2.06.94-2.06 2.06-.94-2.06-.94-.94-2.06-.94 2.06-2.06.94z\"/><path d=\"M17.41 7.96l-1.37-1.37c-.4-.4-.92-.59-1.43-.59-.52 0-1.04.2-1.43.59L10.3 9.45l-7.72 7.72c-.78.78-.78 2.05 0 2.83L4 21.41c.39.39.9.59 1.41.59.51 0 1.02-.2 1.41-.59l7.78-7.78 2.81-2.81c.8-.78.8-2.07 0-2.86zM5.41 20L4 18.59l7.72-7.72 1.47 1.35L5.41 20z\"/>\n",
              "  </svg>\n",
              "      </button>\n",
              "      \n",
              "  <style>\n",
              "    .colab-df-container {\n",
              "      display:flex;\n",
              "      flex-wrap:wrap;\n",
              "      gap: 12px;\n",
              "    }\n",
              "\n",
              "    .colab-df-convert {\n",
              "      background-color: #E8F0FE;\n",
              "      border: none;\n",
              "      border-radius: 50%;\n",
              "      cursor: pointer;\n",
              "      display: none;\n",
              "      fill: #1967D2;\n",
              "      height: 32px;\n",
              "      padding: 0 0 0 0;\n",
              "      width: 32px;\n",
              "    }\n",
              "\n",
              "    .colab-df-convert:hover {\n",
              "      background-color: #E2EBFA;\n",
              "      box-shadow: 0px 1px 2px rgba(60, 64, 67, 0.3), 0px 1px 3px 1px rgba(60, 64, 67, 0.15);\n",
              "      fill: #174EA6;\n",
              "    }\n",
              "\n",
              "    [theme=dark] .colab-df-convert {\n",
              "      background-color: #3B4455;\n",
              "      fill: #D2E3FC;\n",
              "    }\n",
              "\n",
              "    [theme=dark] .colab-df-convert:hover {\n",
              "      background-color: #434B5C;\n",
              "      box-shadow: 0px 1px 3px 1px rgba(0, 0, 0, 0.15);\n",
              "      filter: drop-shadow(0px 1px 2px rgba(0, 0, 0, 0.3));\n",
              "      fill: #FFFFFF;\n",
              "    }\n",
              "  </style>\n",
              "\n",
              "      <script>\n",
              "        const buttonEl =\n",
              "          document.querySelector('#df-aa2cd7e1-8bb0-40b0-b756-87ebd79b7ce0 button.colab-df-convert');\n",
              "        buttonEl.style.display =\n",
              "          google.colab.kernel.accessAllowed ? 'block' : 'none';\n",
              "\n",
              "        async function convertToInteractive(key) {\n",
              "          const element = document.querySelector('#df-aa2cd7e1-8bb0-40b0-b756-87ebd79b7ce0');\n",
              "          const dataTable =\n",
              "            await google.colab.kernel.invokeFunction('convertToInteractive',\n",
              "                                                     [key], {});\n",
              "          if (!dataTable) return;\n",
              "\n",
              "          const docLinkHtml = 'Like what you see? Visit the ' +\n",
              "            '<a target=\"_blank\" href=https://colab.research.google.com/notebooks/data_table.ipynb>data table notebook</a>'\n",
              "            + ' to learn more about interactive tables.';\n",
              "          element.innerHTML = '';\n",
              "          dataTable['output_type'] = 'display_data';\n",
              "          await google.colab.output.renderOutput(dataTable, element);\n",
              "          const docLink = document.createElement('div');\n",
              "          docLink.innerHTML = docLinkHtml;\n",
              "          element.appendChild(docLink);\n",
              "        }\n",
              "      </script>\n",
              "    </div>\n",
              "  </div>\n",
              "  "
            ]
          },
          "metadata": {},
          "execution_count": 5
        }
      ]
    },
    {
      "cell_type": "code",
      "source": [
        "df.describe()"
      ],
      "metadata": {
        "colab": {
          "base_uri": "https://localhost:8080/",
          "height": 300
        },
        "id": "JV_S7wvNbzC3",
        "outputId": "814e68c3-a8f9-4297-b787-3a784a2aa089"
      },
      "execution_count": 6,
      "outputs": [
        {
          "output_type": "execute_result",
          "data": {
            "text/plain": [
              "       Age at Diagnosis in Days  Event Free Survival Time in Days  \\\n",
              "count                738.000000                        738.000000   \n",
              "mean                 942.105691                       1907.228997   \n",
              "std                  928.520081                       1466.809684   \n",
              "min                    1.000000                         10.000000   \n",
              "25%                  315.250000                        491.500000   \n",
              "50%                  740.500000                       1762.500000   \n",
              "75%                 1264.500000                       3198.000000   \n",
              "max                 7613.000000                       6170.000000   \n",
              "\n",
              "       Overall Survival Time in Days  Ploidy Value  \n",
              "count                     738.000000    738.000000  \n",
              "mean                     2261.162602      1.322967  \n",
              "std                      1341.896447      0.353940  \n",
              "min                        10.000000      0.960000  \n",
              "25%                       960.750000      1.000000  \n",
              "50%                      2428.500000      1.220000  \n",
              "75%                      3351.750000      1.530000  \n",
              "max                      6170.000000      3.000000  "
            ],
            "text/html": [
              "\n",
              "  <div id=\"df-e9b15bbf-d775-4005-b419-0e63bda3acc3\">\n",
              "    <div class=\"colab-df-container\">\n",
              "      <div>\n",
              "<style scoped>\n",
              "    .dataframe tbody tr th:only-of-type {\n",
              "        vertical-align: middle;\n",
              "    }\n",
              "\n",
              "    .dataframe tbody tr th {\n",
              "        vertical-align: top;\n",
              "    }\n",
              "\n",
              "    .dataframe thead th {\n",
              "        text-align: right;\n",
              "    }\n",
              "</style>\n",
              "<table border=\"1\" class=\"dataframe\">\n",
              "  <thead>\n",
              "    <tr style=\"text-align: right;\">\n",
              "      <th></th>\n",
              "      <th>Age at Diagnosis in Days</th>\n",
              "      <th>Event Free Survival Time in Days</th>\n",
              "      <th>Overall Survival Time in Days</th>\n",
              "      <th>Ploidy Value</th>\n",
              "    </tr>\n",
              "  </thead>\n",
              "  <tbody>\n",
              "    <tr>\n",
              "      <th>count</th>\n",
              "      <td>738.000000</td>\n",
              "      <td>738.000000</td>\n",
              "      <td>738.000000</td>\n",
              "      <td>738.000000</td>\n",
              "    </tr>\n",
              "    <tr>\n",
              "      <th>mean</th>\n",
              "      <td>942.105691</td>\n",
              "      <td>1907.228997</td>\n",
              "      <td>2261.162602</td>\n",
              "      <td>1.322967</td>\n",
              "    </tr>\n",
              "    <tr>\n",
              "      <th>std</th>\n",
              "      <td>928.520081</td>\n",
              "      <td>1466.809684</td>\n",
              "      <td>1341.896447</td>\n",
              "      <td>0.353940</td>\n",
              "    </tr>\n",
              "    <tr>\n",
              "      <th>min</th>\n",
              "      <td>1.000000</td>\n",
              "      <td>10.000000</td>\n",
              "      <td>10.000000</td>\n",
              "      <td>0.960000</td>\n",
              "    </tr>\n",
              "    <tr>\n",
              "      <th>25%</th>\n",
              "      <td>315.250000</td>\n",
              "      <td>491.500000</td>\n",
              "      <td>960.750000</td>\n",
              "      <td>1.000000</td>\n",
              "    </tr>\n",
              "    <tr>\n",
              "      <th>50%</th>\n",
              "      <td>740.500000</td>\n",
              "      <td>1762.500000</td>\n",
              "      <td>2428.500000</td>\n",
              "      <td>1.220000</td>\n",
              "    </tr>\n",
              "    <tr>\n",
              "      <th>75%</th>\n",
              "      <td>1264.500000</td>\n",
              "      <td>3198.000000</td>\n",
              "      <td>3351.750000</td>\n",
              "      <td>1.530000</td>\n",
              "    </tr>\n",
              "    <tr>\n",
              "      <th>max</th>\n",
              "      <td>7613.000000</td>\n",
              "      <td>6170.000000</td>\n",
              "      <td>6170.000000</td>\n",
              "      <td>3.000000</td>\n",
              "    </tr>\n",
              "  </tbody>\n",
              "</table>\n",
              "</div>\n",
              "      <button class=\"colab-df-convert\" onclick=\"convertToInteractive('df-e9b15bbf-d775-4005-b419-0e63bda3acc3')\"\n",
              "              title=\"Convert this dataframe to an interactive table.\"\n",
              "              style=\"display:none;\">\n",
              "        \n",
              "  <svg xmlns=\"http://www.w3.org/2000/svg\" height=\"24px\"viewBox=\"0 0 24 24\"\n",
              "       width=\"24px\">\n",
              "    <path d=\"M0 0h24v24H0V0z\" fill=\"none\"/>\n",
              "    <path d=\"M18.56 5.44l.94 2.06.94-2.06 2.06-.94-2.06-.94-.94-2.06-.94 2.06-2.06.94zm-11 1L8.5 8.5l.94-2.06 2.06-.94-2.06-.94L8.5 2.5l-.94 2.06-2.06.94zm10 10l.94 2.06.94-2.06 2.06-.94-2.06-.94-.94-2.06-.94 2.06-2.06.94z\"/><path d=\"M17.41 7.96l-1.37-1.37c-.4-.4-.92-.59-1.43-.59-.52 0-1.04.2-1.43.59L10.3 9.45l-7.72 7.72c-.78.78-.78 2.05 0 2.83L4 21.41c.39.39.9.59 1.41.59.51 0 1.02-.2 1.41-.59l7.78-7.78 2.81-2.81c.8-.78.8-2.07 0-2.86zM5.41 20L4 18.59l7.72-7.72 1.47 1.35L5.41 20z\"/>\n",
              "  </svg>\n",
              "      </button>\n",
              "      \n",
              "  <style>\n",
              "    .colab-df-container {\n",
              "      display:flex;\n",
              "      flex-wrap:wrap;\n",
              "      gap: 12px;\n",
              "    }\n",
              "\n",
              "    .colab-df-convert {\n",
              "      background-color: #E8F0FE;\n",
              "      border: none;\n",
              "      border-radius: 50%;\n",
              "      cursor: pointer;\n",
              "      display: none;\n",
              "      fill: #1967D2;\n",
              "      height: 32px;\n",
              "      padding: 0 0 0 0;\n",
              "      width: 32px;\n",
              "    }\n",
              "\n",
              "    .colab-df-convert:hover {\n",
              "      background-color: #E2EBFA;\n",
              "      box-shadow: 0px 1px 2px rgba(60, 64, 67, 0.3), 0px 1px 3px 1px rgba(60, 64, 67, 0.15);\n",
              "      fill: #174EA6;\n",
              "    }\n",
              "\n",
              "    [theme=dark] .colab-df-convert {\n",
              "      background-color: #3B4455;\n",
              "      fill: #D2E3FC;\n",
              "    }\n",
              "\n",
              "    [theme=dark] .colab-df-convert:hover {\n",
              "      background-color: #434B5C;\n",
              "      box-shadow: 0px 1px 3px 1px rgba(0, 0, 0, 0.15);\n",
              "      filter: drop-shadow(0px 1px 2px rgba(0, 0, 0, 0.3));\n",
              "      fill: #FFFFFF;\n",
              "    }\n",
              "  </style>\n",
              "\n",
              "      <script>\n",
              "        const buttonEl =\n",
              "          document.querySelector('#df-e9b15bbf-d775-4005-b419-0e63bda3acc3 button.colab-df-convert');\n",
              "        buttonEl.style.display =\n",
              "          google.colab.kernel.accessAllowed ? 'block' : 'none';\n",
              "\n",
              "        async function convertToInteractive(key) {\n",
              "          const element = document.querySelector('#df-e9b15bbf-d775-4005-b419-0e63bda3acc3');\n",
              "          const dataTable =\n",
              "            await google.colab.kernel.invokeFunction('convertToInteractive',\n",
              "                                                     [key], {});\n",
              "          if (!dataTable) return;\n",
              "\n",
              "          const docLinkHtml = 'Like what you see? Visit the ' +\n",
              "            '<a target=\"_blank\" href=https://colab.research.google.com/notebooks/data_table.ipynb>data table notebook</a>'\n",
              "            + ' to learn more about interactive tables.';\n",
              "          element.innerHTML = '';\n",
              "          dataTable['output_type'] = 'display_data';\n",
              "          await google.colab.output.renderOutput(dataTable, element);\n",
              "          const docLink = document.createElement('div');\n",
              "          docLink.innerHTML = docLinkHtml;\n",
              "          element.appendChild(docLink);\n",
              "        }\n",
              "      </script>\n",
              "    </div>\n",
              "  </div>\n",
              "  "
            ]
          },
          "metadata": {},
          "execution_count": 6
        }
      ]
    },
    {
      "cell_type": "code",
      "source": [
        "df[\"Gender\"]=df[\"Gender\"].replace({\"Male\":1,\"Female\":0})\n",
        "df['Gender']"
      ],
      "metadata": {
        "colab": {
          "base_uri": "https://localhost:8080/"
        },
        "id": "o5oT7TWvcjdC",
        "outputId": "86f43f70-8bc6-4f6a-c0ae-16dbe0023e37"
      },
      "execution_count": 7,
      "outputs": [
        {
          "output_type": "execute_result",
          "data": {
            "text/plain": [
              "0      1\n",
              "1      1\n",
              "2      0\n",
              "3      1\n",
              "4      1\n",
              "      ..\n",
              "733    1\n",
              "734    1\n",
              "735    1\n",
              "736    0\n",
              "737    1\n",
              "Name: Gender, Length: 738, dtype: int64"
            ]
          },
          "metadata": {},
          "execution_count": 7
        }
      ]
    },
    {
      "cell_type": "code",
      "source": [
        "df[\"Vital Status\"]=df[\"Vital Status\"].replace({\"Dead\":0,\"Alive\":1})\n",
        "df[\"Vital Status\"]"
      ],
      "metadata": {
        "colab": {
          "base_uri": "https://localhost:8080/"
        },
        "id": "WjtaslexTZar",
        "outputId": "8c1bf030-81da-425f-fa19-4e1fe13fa837"
      },
      "execution_count": 8,
      "outputs": [
        {
          "output_type": "execute_result",
          "data": {
            "text/plain": [
              "0      1\n",
              "1      0\n",
              "2      1\n",
              "3      1\n",
              "4      1\n",
              "      ..\n",
              "733    0\n",
              "734    0\n",
              "735    0\n",
              "736    0\n",
              "737    1\n",
              "Name: Vital Status, Length: 738, dtype: int64"
            ]
          },
          "metadata": {},
          "execution_count": 8
        }
      ]
    },
    {
      "cell_type": "code",
      "source": [
        "df[\"INSS Stage\"].unique()"
      ],
      "metadata": {
        "colab": {
          "base_uri": "https://localhost:8080/"
        },
        "id": "H-I-7_5rUKrE",
        "outputId": "530b9c57-c25d-4a8a-eda1-8cee08638272"
      },
      "execution_count": 9,
      "outputs": [
        {
          "output_type": "execute_result",
          "data": {
            "text/plain": [
              "array(['Stage 4', 'Stage 2a', 'Stage 1', 'Stage 3', 'Stage 4s',\n",
              "       'Stage 2b'], dtype=object)"
            ]
          },
          "metadata": {},
          "execution_count": 9
        }
      ]
    },
    {
      "cell_type": "code",
      "source": [
        "df[\"INSS Stage\"]=df[\"INSS Stage\"].replace({\"Stage 1\":0,\"Stage 2a\":1,\"Stage 2b\":2,\"Stage 3\":3,\"Stage 4\":4,\"Stage 4s\":5,})\n",
        "df[\"INSS Stage\"]"
      ],
      "metadata": {
        "colab": {
          "base_uri": "https://localhost:8080/"
        },
        "id": "ir8hdeh6VfdD",
        "outputId": "2b4d5c4a-3c52-466e-c87b-9d87c6bf7b89"
      },
      "execution_count": 10,
      "outputs": [
        {
          "output_type": "execute_result",
          "data": {
            "text/plain": [
              "0      4\n",
              "1      4\n",
              "2      4\n",
              "3      1\n",
              "4      0\n",
              "      ..\n",
              "733    4\n",
              "734    4\n",
              "735    4\n",
              "736    4\n",
              "737    3\n",
              "Name: INSS Stage, Length: 738, dtype: int64"
            ]
          },
          "metadata": {},
          "execution_count": 10
        }
      ]
    },
    {
      "cell_type": "code",
      "source": [
        "df[\"MYCN status\"].unique()"
      ],
      "metadata": {
        "colab": {
          "base_uri": "https://localhost:8080/"
        },
        "id": "ZyWMVHpnWRS5",
        "outputId": "0b1d4f24-3e17-425d-f9d4-7f191b16c645"
      },
      "execution_count": 11,
      "outputs": [
        {
          "output_type": "execute_result",
          "data": {
            "text/plain": [
              "array(['Not Amplified', 'Amplified'], dtype=object)"
            ]
          },
          "metadata": {},
          "execution_count": 11
        }
      ]
    },
    {
      "cell_type": "code",
      "source": [
        "df[\"MYCN status\"]=df[\"MYCN status\"].replace({\"Not Amplified\":0,\"Amplified\":1})\n",
        "df[\"MYCN status\"]"
      ],
      "metadata": {
        "colab": {
          "base_uri": "https://localhost:8080/"
        },
        "id": "PzgvLGnmWfV7",
        "outputId": "f8cbace5-8549-4ec4-9b1b-9ba7be59f73d"
      },
      "execution_count": 12,
      "outputs": [
        {
          "output_type": "execute_result",
          "data": {
            "text/plain": [
              "0      0\n",
              "1      0\n",
              "2      0\n",
              "3      0\n",
              "4      0\n",
              "      ..\n",
              "733    0\n",
              "734    0\n",
              "735    0\n",
              "736    0\n",
              "737    0\n",
              "Name: MYCN status, Length: 738, dtype: int64"
            ]
          },
          "metadata": {},
          "execution_count": 12
        }
      ]
    },
    {
      "cell_type": "code",
      "source": [
        "df[\"Histology\"].unique()"
      ],
      "metadata": {
        "colab": {
          "base_uri": "https://localhost:8080/"
        },
        "id": "L3E1lPGpWzt1",
        "outputId": "4f31c2f2-e989-4bf2-c2da-c3fbd47ef733"
      },
      "execution_count": 13,
      "outputs": [
        {
          "output_type": "execute_result",
          "data": {
            "text/plain": [
              "array(['Favorable', 'Unfavorable'], dtype=object)"
            ]
          },
          "metadata": {},
          "execution_count": 13
        }
      ]
    },
    {
      "cell_type": "code",
      "source": [
        "df[\"MKI\"].unique()"
      ],
      "metadata": {
        "colab": {
          "base_uri": "https://localhost:8080/"
        },
        "id": "RWiDujENXCac",
        "outputId": "ed1b8be7-018c-40d1-bc8e-cb17bfdc9fa3"
      },
      "execution_count": 14,
      "outputs": [
        {
          "output_type": "execute_result",
          "data": {
            "text/plain": [
              "array(['Low', 'High', 'Intermediate'], dtype=object)"
            ]
          },
          "metadata": {},
          "execution_count": 14
        }
      ]
    },
    {
      "cell_type": "code",
      "source": [
        "df[\"COG Risk Group\"].unique()"
      ],
      "metadata": {
        "colab": {
          "base_uri": "https://localhost:8080/"
        },
        "id": "l8lyPu2dXFrl",
        "outputId": "fea27765-59f4-41ae-f728-11f4c4e5c4b7"
      },
      "execution_count": 15,
      "outputs": [
        {
          "output_type": "execute_result",
          "data": {
            "text/plain": [
              "array(['Intermediate Risk', 'High Risk', 'Low Risk'], dtype=object)"
            ]
          },
          "metadata": {},
          "execution_count": 15
        }
      ]
    },
    {
      "cell_type": "code",
      "source": [
        "df[\"Histology\"]=df[\"Histology\"].replace({\"Favorable\":0,\"Unfavorable\":1})\n",
        "df[\"MKI\"]=df[\"MKI\"].replace({\"Low\":0,\"High\":1,\"Intermediate\":2})\n",
        "df[\"COG Risk Group\"]=df[\"COG Risk Group\"].replace({\"Low Risk\":0,\"Intermediate Risk\":1,\"High Risk\":2})"
      ],
      "metadata": {
        "id": "5nEIIO2rXOgT"
      },
      "execution_count": 16,
      "outputs": []
    },
    {
      "cell_type": "code",
      "source": [
        "print(df[\"Histology\"])\n",
        "print(df[\"MKI\"])\n",
        "print(df[\"COG Risk Group\"])"
      ],
      "metadata": {
        "colab": {
          "base_uri": "https://localhost:8080/"
        },
        "id": "Ovy2Ld_SYd2I",
        "outputId": "4ea8fc1e-73b2-4ec0-b0dc-9b8c50c936ce"
      },
      "execution_count": 17,
      "outputs": [
        {
          "output_type": "stream",
          "name": "stdout",
          "text": [
            "0      0\n",
            "1      1\n",
            "2      0\n",
            "3      0\n",
            "4      0\n",
            "      ..\n",
            "733    1\n",
            "734    1\n",
            "735    1\n",
            "736    0\n",
            "737    0\n",
            "Name: Histology, Length: 738, dtype: int64\n",
            "0      0\n",
            "1      1\n",
            "2      0\n",
            "3      0\n",
            "4      0\n",
            "      ..\n",
            "733    2\n",
            "734    2\n",
            "735    2\n",
            "736    2\n",
            "737    0\n",
            "Name: MKI, Length: 738, dtype: int64\n",
            "0      1\n",
            "1      2\n",
            "2      1\n",
            "3      0\n",
            "4      0\n",
            "      ..\n",
            "733    2\n",
            "734    2\n",
            "735    2\n",
            "736    1\n",
            "737    1\n",
            "Name: COG Risk Group, Length: 738, dtype: int64\n"
          ]
        }
      ]
    },
    {
      "cell_type": "code",
      "source": [
        "import seaborn as sns\n",
        "import matplotlib.pyplot as plt\n",
        "\n",
        "corr = df.corr()\n",
        "\n",
        "fig, ax = plt.subplots(figsize=(10,10))\n",
        "sns.heatmap(corr, \n",
        "         xticklabels=corr.columns, \n",
        "         yticklabels=corr.columns,\n",
        "         annot=True)"
      ],
      "metadata": {
        "colab": {
          "base_uri": "https://localhost:8080/",
          "height": 767
        },
        "id": "4RTTBm5jfMz2",
        "outputId": "f35a5642-52d6-4355-93c6-d5211cfa097c"
      },
      "execution_count": 18,
      "outputs": [
        {
          "output_type": "execute_result",
          "data": {
            "text/plain": [
              "<matplotlib.axes._subplots.AxesSubplot at 0x7ff85c599d60>"
            ]
          },
          "metadata": {},
          "execution_count": 18
        },
        {
          "output_type": "display_data",
          "data": {
            "text/plain": [
              "<Figure size 720x720 with 2 Axes>"
            ],
            "image/png": "[encoded data removed]"
          },
          "metadata": {
            "needs_background": "light"
          }
        }
      ]
    },
    {
      "cell_type": "code",
      "source": [],
      "metadata": {
        "id": "FCDKuU94B8fI"
      },
      "execution_count": 18,
      "outputs": []
    },
    {
      "cell_type": "code",
      "source": [
        "df[\"Overall Survival Time in Years\"] = round(df[\"Overall Survival Time in Days\"]/365,0)\n",
        "df[\"Overall Survival Time in Years\"]\n",
        "df[\"Overall Survival Time in Years\"].unique()"
      ],
      "metadata": {
        "colab": {
          "base_uri": "https://localhost:8080/"
        },
        "id": "eeyZlkZXZ75W",
        "outputId": "020af5a7-cdde-4c9d-ab8e-789ee9acf92f"
      },
      "execution_count": 19,
      "outputs": [
        {
          "output_type": "execute_result",
          "data": {
            "text/plain": [
              "array([10.,  4., 11.,  6.,  0.,  9.,  3.,  5.,  7.,  2.,  8.,  1., 14.,\n",
              "       12., 17., 13., 15.])"
            ]
          },
          "metadata": {},
          "execution_count": 19
        }
      ]
    },
    {
      "cell_type": "code",
      "source": [
        "df"
      ],
      "metadata": {
        "colab": {
          "base_uri": "https://localhost:8080/",
          "height": 641
        },
        "id": "i8l4i7XrY_FN",
        "outputId": "56b69dde-2265-4e4c-c6c7-c88511503834"
      },
      "execution_count": 20,
      "outputs": [
        {
          "output_type": "execute_result",
          "data": {
            "text/plain": [
              "           TARGET USI  Gender  Age at Diagnosis in Days  \\\n",
              "0    TARGET-30-PARPUF       1                        96   \n",
              "1    TARGET-30-PARSVF       1                       964   \n",
              "2    TARGET-30-PARSXI       0                       538   \n",
              "3    TARGET-30-PARSZV       1                       287   \n",
              "4    TARGET-30-PARTCE       1                        67   \n",
              "..                ...     ...                       ...   \n",
              "733  TARGET-30-PATILE       1                       824   \n",
              "734  TARGET-30-PATINJ       1                      1037   \n",
              "735  TARGET-30-PATNKP       1                      3446   \n",
              "736  TARGET-30-PATYIL       0                       328   \n",
              "737  TARGET-30-PAUDDK       1                       361   \n",
              "\n",
              "     Event Free Survival Time in Days  Vital Status  \\\n",
              "0                                3701             1   \n",
              "1                                 997             0   \n",
              "2                                3928             1   \n",
              "3                                2675             1   \n",
              "4                                3625             1   \n",
              "..                                ...           ...   \n",
              "733                               306             0   \n",
              "734                               736             0   \n",
              "735                               616             0   \n",
              "736                               239             0   \n",
              "737                               344             1   \n",
              "\n",
              "     Overall Survival Time in Days  INSS Stage  MYCN status  Ploidy Value  \\\n",
              "0                             3701           4            0          1.48   \n",
              "1                             1516           4            0          1.00   \n",
              "2                             3928           4            0          1.99   \n",
              "3                             3995           1            0          1.58   \n",
              "4                             3625           0            0          2.13   \n",
              "..                             ...         ...          ...           ...   \n",
              "733                            306           4            0          1.00   \n",
              "734                            822           4            0          1.00   \n",
              "735                           1549           4            0          1.47   \n",
              "736                            481           4            0          1.00   \n",
              "737                           2569           3            0          1.33   \n",
              "\n",
              "     Histology  MKI  COG Risk Group  Overall Survival Time in Years  \n",
              "0            0    0               1                            10.0  \n",
              "1            1    1               2                             4.0  \n",
              "2            0    0               1                            11.0  \n",
              "3            0    0               0                            11.0  \n",
              "4            0    0               0                            10.0  \n",
              "..         ...  ...             ...                             ...  \n",
              "733          1    2               2                             1.0  \n",
              "734          1    2               2                             2.0  \n",
              "735          1    2               2                             4.0  \n",
              "736          0    2               1                             1.0  \n",
              "737          0    0               1                             7.0  \n",
              "\n",
              "[738 rows x 13 columns]"
            ],
            "text/html": [
              "\n",
              "  <div id=\"df-7f4f892f-7444-46a8-9b5f-6914edbb3973\">\n",
              "    <div class=\"colab-df-container\">\n",
              "      <div>\n",
              "<style scoped>\n",
              "    .dataframe tbody tr th:only-of-type {\n",
              "        vertical-align: middle;\n",
              "    }\n",
              "\n",
              "    .dataframe tbody tr th {\n",
              "        vertical-align: top;\n",
              "    }\n",
              "\n",
              "    .dataframe thead th {\n",
              "        text-align: right;\n",
              "    }\n",
              "</style>\n",
              "<table border=\"1\" class=\"dataframe\">\n",
              "  <thead>\n",
              "    <tr style=\"text-align: right;\">\n",
              "      <th></th>\n",
              "      <th>TARGET USI</th>\n",
              "      <th>Gender</th>\n",
              "      <th>Age at Diagnosis in Days</th>\n",
              "      <th>Event Free Survival Time in Days</th>\n",
              "      <th>Vital Status</th>\n",
              "      <th>Overall Survival Time in Days</th>\n",
              "      <th>INSS Stage</th>\n",
              "      <th>MYCN status</th>\n",
              "      <th>Ploidy Value</th>\n",
              "      <th>Histology</th>\n",
              "      <th>MKI</th>\n",
              "      <th>COG Risk Group</th>\n",
              "      <th>Overall Survival Time in Years</th>\n",
              "    </tr>\n",
              "  </thead>\n",
              "  <tbody>\n",
              "    <tr>\n",
              "      <th>0</th>\n",
              "      <td>TARGET-30-PARPUF</td>\n",
              "      <td>1</td>\n",
              "      <td>96</td>\n",
              "      <td>3701</td>\n",
              "      <td>1</td>\n",
              "      <td>3701</td>\n",
              "      <td>4</td>\n",
              "      <td>0</td>\n",
              "      <td>1.48</td>\n",
              "      <td>0</td>\n",
              "      <td>0</td>\n",
              "      <td>1</td>\n",
              "      <td>10.0</td>\n",
              "    </tr>\n",
              "    <tr>\n",
              "      <th>1</th>\n",
              "      <td>TARGET-30-PARSVF</td>\n",
              "      <td>1</td>\n",
              "      <td>964</td>\n",
              "      <td>997</td>\n",
              "      <td>0</td>\n",
              "      <td>1516</td>\n",
              "      <td>4</td>\n",
              "      <td>0</td>\n",
              "      <td>1.00</td>\n",
              "      <td>1</td>\n",
              "      <td>1</td>\n",
              "      <td>2</td>\n",
              "      <td>4.0</td>\n",
              "    </tr>\n",
              "    <tr>\n",
              "      <th>2</th>\n",
              "      <td>TARGET-30-PARSXI</td>\n",
              "      <td>0</td>\n",
              "      <td>538</td>\n",
              "      <td>3928</td>\n",
              "      <td>1</td>\n",
              "      <td>3928</td>\n",
              "      <td>4</td>\n",
              "      <td>0</td>\n",
              "      <td>1.99</td>\n",
              "      <td>0</td>\n",
              "      <td>0</td>\n",
              "      <td>1</td>\n",
              "      <td>11.0</td>\n",
              "    </tr>\n",
              "    <tr>\n",
              "      <th>3</th>\n",
              "      <td>TARGET-30-PARSZV</td>\n",
              "      <td>1</td>\n",
              "      <td>287</td>\n",
              "      <td>2675</td>\n",
              "      <td>1</td>\n",
              "      <td>3995</td>\n",
              "      <td>1</td>\n",
              "      <td>0</td>\n",
              "      <td>1.58</td>\n",
              "      <td>0</td>\n",
              "      <td>0</td>\n",
              "      <td>0</td>\n",
              "      <td>11.0</td>\n",
              "    </tr>\n",
              "    <tr>\n",
              "      <th>4</th>\n",
              "      <td>TARGET-30-PARTCE</td>\n",
              "      <td>1</td>\n",
              "      <td>67</td>\n",
              "      <td>3625</td>\n",
              "      <td>1</td>\n",
              "      <td>3625</td>\n",
              "      <td>0</td>\n",
              "      <td>0</td>\n",
              "      <td>2.13</td>\n",
              "      <td>0</td>\n",
              "      <td>0</td>\n",
              "      <td>0</td>\n",
              "      <td>10.0</td>\n",
              "    </tr>\n",
              "    <tr>\n",
              "      <th>...</th>\n",
              "      <td>...</td>\n",
              "      <td>...</td>\n",
              "      <td>...</td>\n",
              "      <td>...</td>\n",
              "      <td>...</td>\n",
              "      <td>...</td>\n",
              "      <td>...</td>\n",
              "      <td>...</td>\n",
              "      <td>...</td>\n",
              "      <td>...</td>\n",
              "      <td>...</td>\n",
              "      <td>...</td>\n",
              "      <td>...</td>\n",
              "    </tr>\n",
              "    <tr>\n",
              "      <th>733</th>\n",
              "      <td>TARGET-30-PATILE</td>\n",
              "      <td>1</td>\n",
              "      <td>824</td>\n",
              "      <td>306</td>\n",
              "      <td>0</td>\n",
              "      <td>306</td>\n",
              "      <td>4</td>\n",
              "      <td>0</td>\n",
              "      <td>1.00</td>\n",
              "      <td>1</td>\n",
              "      <td>2</td>\n",
              "      <td>2</td>\n",
              "      <td>1.0</td>\n",
              "    </tr>\n",
              "    <tr>\n",
              "      <th>734</th>\n",
              "      <td>TARGET-30-PATINJ</td>\n",
              "      <td>1</td>\n",
              "      <td>1037</td>\n",
              "      <td>736</td>\n",
              "      <td>0</td>\n",
              "      <td>822</td>\n",
              "      <td>4</td>\n",
              "      <td>0</td>\n",
              "      <td>1.00</td>\n",
              "      <td>1</td>\n",
              "      <td>2</td>\n",
              "      <td>2</td>\n",
              "      <td>2.0</td>\n",
              "    </tr>\n",
              "    <tr>\n",
              "      <th>735</th>\n",
              "      <td>TARGET-30-PATNKP</td>\n",
              "      <td>1</td>\n",
              "      <td>3446</td>\n",
              "      <td>616</td>\n",
              "      <td>0</td>\n",
              "      <td>1549</td>\n",
              "      <td>4</td>\n",
              "      <td>0</td>\n",
              "      <td>1.47</td>\n",
              "      <td>1</td>\n",
              "      <td>2</td>\n",
              "      <td>2</td>\n",
              "      <td>4.0</td>\n",
              "    </tr>\n",
              "    <tr>\n",
              "      <th>736</th>\n",
              "      <td>TARGET-30-PATYIL</td>\n",
              "      <td>0</td>\n",
              "      <td>328</td>\n",
              "      <td>239</td>\n",
              "      <td>0</td>\n",
              "      <td>481</td>\n",
              "      <td>4</td>\n",
              "      <td>0</td>\n",
              "      <td>1.00</td>\n",
              "      <td>0</td>\n",
              "      <td>2</td>\n",
              "      <td>1</td>\n",
              "      <td>1.0</td>\n",
              "    </tr>\n",
              "    <tr>\n",
              "      <th>737</th>\n",
              "      <td>TARGET-30-PAUDDK</td>\n",
              "      <td>1</td>\n",
              "      <td>361</td>\n",
              "      <td>344</td>\n",
              "      <td>1</td>\n",
              "      <td>2569</td>\n",
              "      <td>3</td>\n",
              "      <td>0</td>\n",
              "      <td>1.33</td>\n",
              "      <td>0</td>\n",
              "      <td>0</td>\n",
              "      <td>1</td>\n",
              "      <td>7.0</td>\n",
              "    </tr>\n",
              "  </tbody>\n",
              "</table>\n",
              "<p>738 rows × 13 columns</p>\n",
              "</div>\n",
              "      <button class=\"colab-df-convert\" onclick=\"convertToInteractive('df-7f4f892f-7444-46a8-9b5f-6914edbb3973')\"\n",
              "              title=\"Convert this dataframe to an interactive table.\"\n",
              "              style=\"display:none;\">\n",
              "        \n",
              "  <svg xmlns=\"http://www.w3.org/2000/svg\" height=\"24px\"viewBox=\"0 0 24 24\"\n",
              "       width=\"24px\">\n",
              "    <path d=\"M0 0h24v24H0V0z\" fill=\"none\"/>\n",
              "    <path d=\"M18.56 5.44l.94 2.06.94-2.06 2.06-.94-2.06-.94-.94-2.06-.94 2.06-2.06.94zm-11 1L8.5 8.5l.94-2.06 2.06-.94-2.06-.94L8.5 2.5l-.94 2.06-2.06.94zm10 10l.94 2.06.94-2.06 2.06-.94-2.06-.94-.94-2.06-.94 2.06-2.06.94z\"/><path d=\"M17.41 7.96l-1.37-1.37c-.4-.4-.92-.59-1.43-.59-.52 0-1.04.2-1.43.59L10.3 9.45l-7.72 7.72c-.78.78-.78 2.05 0 2.83L4 21.41c.39.39.9.59 1.41.59.51 0 1.02-.2 1.41-.59l7.78-7.78 2.81-2.81c.8-.78.8-2.07 0-2.86zM5.41 20L4 18.59l7.72-7.72 1.47 1.35L5.41 20z\"/>\n",
              "  </svg>\n",
              "      </button>\n",
              "      \n",
              "  <style>\n",
              "    .colab-df-container {\n",
              "      display:flex;\n",
              "      flex-wrap:wrap;\n",
              "      gap: 12px;\n",
              "    }\n",
              "\n",
              "    .colab-df-convert {\n",
              "      background-color: #E8F0FE;\n",
              "      border: none;\n",
              "      border-radius: 50%;\n",
              "      cursor: pointer;\n",
              "      display: none;\n",
              "      fill: #1967D2;\n",
              "      height: 32px;\n",
              "      padding: 0 0 0 0;\n",
              "      width: 32px;\n",
              "    }\n",
              "\n",
              "    .colab-df-convert:hover {\n",
              "      background-color: #E2EBFA;\n",
              "      box-shadow: 0px 1px 2px rgba(60, 64, 67, 0.3), 0px 1px 3px 1px rgba(60, 64, 67, 0.15);\n",
              "      fill: #174EA6;\n",
              "    }\n",
              "\n",
              "    [theme=dark] .colab-df-convert {\n",
              "      background-color: #3B4455;\n",
              "      fill: #D2E3FC;\n",
              "    }\n",
              "\n",
              "    [theme=dark] .colab-df-convert:hover {\n",
              "      background-color: #434B5C;\n",
              "      box-shadow: 0px 1px 3px 1px rgba(0, 0, 0, 0.15);\n",
              "      filter: drop-shadow(0px 1px 2px rgba(0, 0, 0, 0.3));\n",
              "      fill: #FFFFFF;\n",
              "    }\n",
              "  </style>\n",
              "\n",
              "      <script>\n",
              "        const buttonEl =\n",
              "          document.querySelector('#df-7f4f892f-7444-46a8-9b5f-6914edbb3973 button.colab-df-convert');\n",
              "        buttonEl.style.display =\n",
              "          google.colab.kernel.accessAllowed ? 'block' : 'none';\n",
              "\n",
              "        async function convertToInteractive(key) {\n",
              "          const element = document.querySelector('#df-7f4f892f-7444-46a8-9b5f-6914edbb3973');\n",
              "          const dataTable =\n",
              "            await google.colab.kernel.invokeFunction('convertToInteractive',\n",
              "                                                     [key], {});\n",
              "          if (!dataTable) return;\n",
              "\n",
              "          const docLinkHtml = 'Like what you see? Visit the ' +\n",
              "            '<a target=\"_blank\" href=https://colab.research.google.com/notebooks/data_table.ipynb>data table notebook</a>'\n",
              "            + ' to learn more about interactive tables.';\n",
              "          element.innerHTML = '';\n",
              "          dataTable['output_type'] = 'display_data';\n",
              "          await google.colab.output.renderOutput(dataTable, element);\n",
              "          const docLink = document.createElement('div');\n",
              "          docLink.innerHTML = docLinkHtml;\n",
              "          element.appendChild(docLink);\n",
              "        }\n",
              "      </script>\n",
              "    </div>\n",
              "  </div>\n",
              "  "
            ]
          },
          "metadata": {},
          "execution_count": 20
        }
      ]
    },
    {
      "cell_type": "code",
      "source": [
        "x=df.drop(['Vital Status','TARGET USI','Overall Survival Time in Days','Gender'],axis=1)\n",
        "x"
      ],
      "metadata": {
        "colab": {
          "base_uri": "https://localhost:8080/",
          "height": 424
        },
        "id": "4-w-yIapjp-S",
        "outputId": "a0c8c0b1-408e-49ce-bef7-2ab8448a5fc4"
      },
      "execution_count": 21,
      "outputs": [
        {
          "output_type": "execute_result",
          "data": {
            "text/plain": [
              "     Age at Diagnosis in Days  Event Free Survival Time in Days  INSS Stage  \\\n",
              "0                          96                              3701           4   \n",
              "1                         964                               997           4   \n",
              "2                         538                              3928           4   \n",
              "3                         287                              2675           1   \n",
              "4                          67                              3625           0   \n",
              "..                        ...                               ...         ...   \n",
              "733                       824                               306           4   \n",
              "734                      1037                               736           4   \n",
              "735                      3446                               616           4   \n",
              "736                       328                               239           4   \n",
              "737                       361                               344           3   \n",
              "\n",
              "     MYCN status  Ploidy Value  Histology  MKI  COG Risk Group  \\\n",
              "0              0          1.48          0    0               1   \n",
              "1              0          1.00          1    1               2   \n",
              "2              0          1.99          0    0               1   \n",
              "3              0          1.58          0    0               0   \n",
              "4              0          2.13          0    0               0   \n",
              "..           ...           ...        ...  ...             ...   \n",
              "733            0          1.00          1    2               2   \n",
              "734            0          1.00          1    2               2   \n",
              "735            0          1.47          1    2               2   \n",
              "736            0          1.00          0    2               1   \n",
              "737            0          1.33          0    0               1   \n",
              "\n",
              "     Overall Survival Time in Years  \n",
              "0                              10.0  \n",
              "1                               4.0  \n",
              "2                              11.0  \n",
              "3                              11.0  \n",
              "4                              10.0  \n",
              "..                              ...  \n",
              "733                             1.0  \n",
              "734                             2.0  \n",
              "735                             4.0  \n",
              "736                             1.0  \n",
              "737                             7.0  \n",
              "\n",
              "[738 rows x 9 columns]"
            ],
            "text/html": [
              "\n",
              "  <div id=\"df-8a1d8c98-611a-4d6c-9869-d17e77ed24e5\">\n",
              "    <div class=\"colab-df-container\">\n",
              "      <div>\n",
              "<style scoped>\n",
              "    .dataframe tbody tr th:only-of-type {\n",
              "        vertical-align: middle;\n",
              "    }\n",
              "\n",
              "    .dataframe tbody tr th {\n",
              "        vertical-align: top;\n",
              "    }\n",
              "\n",
              "    .dataframe thead th {\n",
              "        text-align: right;\n",
              "    }\n",
              "</style>\n",
              "<table border=\"1\" class=\"dataframe\">\n",
              "  <thead>\n",
              "    <tr style=\"text-align: right;\">\n",
              "      <th></th>\n",
              "      <th>Age at Diagnosis in Days</th>\n",
              "      <th>Event Free Survival Time in Days</th>\n",
              "      <th>INSS Stage</th>\n",
              "      <th>MYCN status</th>\n",
              "      <th>Ploidy Value</th>\n",
              "      <th>Histology</th>\n",
              "      <th>MKI</th>\n",
              "      <th>COG Risk Group</th>\n",
              "      <th>Overall Survival Time in Years</th>\n",
              "    </tr>\n",
              "  </thead>\n",
              "  <tbody>\n",
              "    <tr>\n",
              "      <th>0</th>\n",
              "      <td>96</td>\n",
              "      <td>3701</td>\n",
              "      <td>4</td>\n",
              "      <td>0</td>\n",
              "      <td>1.48</td>\n",
              "      <td>0</td>\n",
              "      <td>0</td>\n",
              "      <td>1</td>\n",
              "      <td>10.0</td>\n",
              "    </tr>\n",
              "    <tr>\n",
              "      <th>1</th>\n",
              "      <td>964</td>\n",
              "      <td>997</td>\n",
              "      <td>4</td>\n",
              "      <td>0</td>\n",
              "      <td>1.00</td>\n",
              "      <td>1</td>\n",
              "      <td>1</td>\n",
              "      <td>2</td>\n",
              "      <td>4.0</td>\n",
              "    </tr>\n",
              "    <tr>\n",
              "      <th>2</th>\n",
              "      <td>538</td>\n",
              "      <td>3928</td>\n",
              "      <td>4</td>\n",
              "      <td>0</td>\n",
              "      <td>1.99</td>\n",
              "      <td>0</td>\n",
              "      <td>0</td>\n",
              "      <td>1</td>\n",
              "      <td>11.0</td>\n",
              "    </tr>\n",
              "    <tr>\n",
              "      <th>3</th>\n",
              "      <td>287</td>\n",
              "      <td>2675</td>\n",
              "      <td>1</td>\n",
              "      <td>0</td>\n",
              "      <td>1.58</td>\n",
              "      <td>0</td>\n",
              "      <td>0</td>\n",
              "      <td>0</td>\n",
              "      <td>11.0</td>\n",
              "    </tr>\n",
              "    <tr>\n",
              "      <th>4</th>\n",
              "      <td>67</td>\n",
              "      <td>3625</td>\n",
              "      <td>0</td>\n",
              "      <td>0</td>\n",
              "      <td>2.13</td>\n",
              "      <td>0</td>\n",
              "      <td>0</td>\n",
              "      <td>0</td>\n",
              "      <td>10.0</td>\n",
              "    </tr>\n",
              "    <tr>\n",
              "      <th>...</th>\n",
              "      <td>...</td>\n",
              "      <td>...</td>\n",
              "      <td>...</td>\n",
              "      <td>...</td>\n",
              "      <td>...</td>\n",
              "      <td>...</td>\n",
              "      <td>...</td>\n",
              "      <td>...</td>\n",
              "      <td>...</td>\n",
              "    </tr>\n",
              "    <tr>\n",
              "      <th>733</th>\n",
              "      <td>824</td>\n",
              "      <td>306</td>\n",
              "      <td>4</td>\n",
              "      <td>0</td>\n",
              "      <td>1.00</td>\n",
              "      <td>1</td>\n",
              "      <td>2</td>\n",
              "      <td>2</td>\n",
              "      <td>1.0</td>\n",
              "    </tr>\n",
              "    <tr>\n",
              "      <th>734</th>\n",
              "      <td>1037</td>\n",
              "      <td>736</td>\n",
              "      <td>4</td>\n",
              "      <td>0</td>\n",
              "      <td>1.00</td>\n",
              "      <td>1</td>\n",
              "      <td>2</td>\n",
              "      <td>2</td>\n",
              "      <td>2.0</td>\n",
              "    </tr>\n",
              "    <tr>\n",
              "      <th>735</th>\n",
              "      <td>3446</td>\n",
              "      <td>616</td>\n",
              "      <td>4</td>\n",
              "      <td>0</td>\n",
              "      <td>1.47</td>\n",
              "      <td>1</td>\n",
              "      <td>2</td>\n",
              "      <td>2</td>\n",
              "      <td>4.0</td>\n",
              "    </tr>\n",
              "    <tr>\n",
              "      <th>736</th>\n",
              "      <td>328</td>\n",
              "      <td>239</td>\n",
              "      <td>4</td>\n",
              "      <td>0</td>\n",
              "      <td>1.00</td>\n",
              "      <td>0</td>\n",
              "      <td>2</td>\n",
              "      <td>1</td>\n",
              "      <td>1.0</td>\n",
              "    </tr>\n",
              "    <tr>\n",
              "      <th>737</th>\n",
              "      <td>361</td>\n",
              "      <td>344</td>\n",
              "      <td>3</td>\n",
              "      <td>0</td>\n",
              "      <td>1.33</td>\n",
              "      <td>0</td>\n",
              "      <td>0</td>\n",
              "      <td>1</td>\n",
              "      <td>7.0</td>\n",
              "    </tr>\n",
              "  </tbody>\n",
              "</table>\n",
              "<p>738 rows × 9 columns</p>\n",
              "</div>\n",
              "      <button class=\"colab-df-convert\" onclick=\"convertToInteractive('df-8a1d8c98-611a-4d6c-9869-d17e77ed24e5')\"\n",
              "              title=\"Convert this dataframe to an interactive table.\"\n",
              "              style=\"display:none;\">\n",
              "        \n",
              "  <svg xmlns=\"http://www.w3.org/2000/svg\" height=\"24px\"viewBox=\"0 0 24 24\"\n",
              "       width=\"24px\">\n",
              "    <path d=\"M0 0h24v24H0V0z\" fill=\"none\"/>\n",
              "    <path d=\"M18.56 5.44l.94 2.06.94-2.06 2.06-.94-2.06-.94-.94-2.06-.94 2.06-2.06.94zm-11 1L8.5 8.5l.94-2.06 2.06-.94-2.06-.94L8.5 2.5l-.94 2.06-2.06.94zm10 10l.94 2.06.94-2.06 2.06-.94-2.06-.94-.94-2.06-.94 2.06-2.06.94z\"/><path d=\"M17.41 7.96l-1.37-1.37c-.4-.4-.92-.59-1.43-.59-.52 0-1.04.2-1.43.59L10.3 9.45l-7.72 7.72c-.78.78-.78 2.05 0 2.83L4 21.41c.39.39.9.59 1.41.59.51 0 1.02-.2 1.41-.59l7.78-7.78 2.81-2.81c.8-.78.8-2.07 0-2.86zM5.41 20L4 18.59l7.72-7.72 1.47 1.35L5.41 20z\"/>\n",
              "  </svg>\n",
              "      </button>\n",
              "      \n",
              "  <style>\n",
              "    .colab-df-container {\n",
              "      display:flex;\n",
              "      flex-wrap:wrap;\n",
              "      gap: 12px;\n",
              "    }\n",
              "\n",
              "    .colab-df-convert {\n",
              "      background-color: #E8F0FE;\n",
              "      border: none;\n",
              "      border-radius: 50%;\n",
              "      cursor: pointer;\n",
              "      display: none;\n",
              "      fill: #1967D2;\n",
              "      height: 32px;\n",
              "      padding: 0 0 0 0;\n",
              "      width: 32px;\n",
              "    }\n",
              "\n",
              "    .colab-df-convert:hover {\n",
              "      background-color: #E2EBFA;\n",
              "      box-shadow: 0px 1px 2px rgba(60, 64, 67, 0.3), 0px 1px 3px 1px rgba(60, 64, 67, 0.15);\n",
              "      fill: #174EA6;\n",
              "    }\n",
              "\n",
              "    [theme=dark] .colab-df-convert {\n",
              "      background-color: #3B4455;\n",
              "      fill: #D2E3FC;\n",
              "    }\n",
              "\n",
              "    [theme=dark] .colab-df-convert:hover {\n",
              "      background-color: #434B5C;\n",
              "      box-shadow: 0px 1px 3px 1px rgba(0, 0, 0, 0.15);\n",
              "      filter: drop-shadow(0px 1px 2px rgba(0, 0, 0, 0.3));\n",
              "      fill: #FFFFFF;\n",
              "    }\n",
              "  </style>\n",
              "\n",
              "      <script>\n",
              "        const buttonEl =\n",
              "          document.querySelector('#df-8a1d8c98-611a-4d6c-9869-d17e77ed24e5 button.colab-df-convert');\n",
              "        buttonEl.style.display =\n",
              "          google.colab.kernel.accessAllowed ? 'block' : 'none';\n",
              "\n",
              "        async function convertToInteractive(key) {\n",
              "          const element = document.querySelector('#df-8a1d8c98-611a-4d6c-9869-d17e77ed24e5');\n",
              "          const dataTable =\n",
              "            await google.colab.kernel.invokeFunction('convertToInteractive',\n",
              "                                                     [key], {});\n",
              "          if (!dataTable) return;\n",
              "\n",
              "          const docLinkHtml = 'Like what you see? Visit the ' +\n",
              "            '<a target=\"_blank\" href=https://colab.research.google.com/notebooks/data_table.ipynb>data table notebook</a>'\n",
              "            + ' to learn more about interactive tables.';\n",
              "          element.innerHTML = '';\n",
              "          dataTable['output_type'] = 'display_data';\n",
              "          await google.colab.output.renderOutput(dataTable, element);\n",
              "          const docLink = document.createElement('div');\n",
              "          docLink.innerHTML = docLinkHtml;\n",
              "          element.appendChild(docLink);\n",
              "        }\n",
              "      </script>\n",
              "    </div>\n",
              "  </div>\n",
              "  "
            ]
          },
          "metadata": {},
          "execution_count": 21
        }
      ]
    },
    {
      "cell_type": "code",
      "source": [
        "#x_train=x.iloc[0:590]\n",
        "#x_test=x.iloc[590:738]"
      ],
      "metadata": {
        "id": "8GA9v7tLwo72"
      },
      "execution_count": 22,
      "outputs": []
    },
    {
      "cell_type": "code",
      "source": [
        "#x_train"
      ],
      "metadata": {
        "id": "v_50oA1VwrWS"
      },
      "execution_count": 23,
      "outputs": []
    },
    {
      "cell_type": "code",
      "source": [
        "#x_test"
      ],
      "metadata": {
        "id": "dVQoLCWQwv-4"
      },
      "execution_count": 24,
      "outputs": []
    },
    {
      "cell_type": "code",
      "source": [
        "y=df['Vital Status']\n",
        "y"
      ],
      "metadata": {
        "colab": {
          "base_uri": "https://localhost:8080/"
        },
        "id": "faNr0qPLu_Fg",
        "outputId": "f850587b-979a-4944-b049-84591d8d1149"
      },
      "execution_count": 25,
      "outputs": [
        {
          "output_type": "execute_result",
          "data": {
            "text/plain": [
              "0      1\n",
              "1      0\n",
              "2      1\n",
              "3      1\n",
              "4      1\n",
              "      ..\n",
              "733    0\n",
              "734    0\n",
              "735    0\n",
              "736    0\n",
              "737    1\n",
              "Name: Vital Status, Length: 738, dtype: int64"
            ]
          },
          "metadata": {},
          "execution_count": 25
        }
      ]
    },
    {
      "cell_type": "code",
      "source": [
        "#y_train=y.iloc[0:590]\n",
        "#y_test=y.iloc[590:738]"
      ],
      "metadata": {
        "id": "2FNFAmRKw2iq"
      },
      "execution_count": 26,
      "outputs": []
    },
    {
      "cell_type": "code",
      "source": [
        "#y_train"
      ],
      "metadata": {
        "id": "ycTLX7ngw-dD"
      },
      "execution_count": 27,
      "outputs": []
    },
    {
      "cell_type": "code",
      "source": [
        "#y_test"
      ],
      "metadata": {
        "id": "vZGpOVcCxAnf"
      },
      "execution_count": 28,
      "outputs": []
    },
    {
      "cell_type": "code",
      "source": [
        "from sklearn.preprocessing import StandardScaler\n",
        "\n",
        "scaler = StandardScaler()\n",
        "\n",
        "train_scaled = scaler.fit_transform(x)\n",
        "#test_scaled = scaler.transform(x_test)"
      ],
      "metadata": {
        "id": "07OPMyRIvJBe"
      },
      "execution_count": 29,
      "outputs": []
    },
    {
      "cell_type": "code",
      "source": [
        "train_scaled"
      ],
      "metadata": {
        "colab": {
          "base_uri": "https://localhost:8080/"
        },
        "id": "3lHKA5E6yUTM",
        "outputId": "d37da9b4-4db7-40c8-cc71-851be0b5dda9"
      },
      "execution_count": 30,
      "outputs": [
        {
          "output_type": "execute_result",
          "data": {
            "text/plain": [
              "array([[-0.91185913,  1.22373581,  0.45284274, ..., -1.09669375,\n",
              "        -0.6098716 ,  1.0368464 ],\n",
              "       [ 0.02359578, -0.62097102,  0.45284274, ...,  0.11130623,\n",
              "         0.65087137, -0.59353565],\n",
              "       [-0.43550997,  1.3785984 ,  0.45284274, ..., -1.09669375,\n",
              "        -0.6098716 ,  1.30857674],\n",
              "       ...,\n",
              "       [ 2.69847954, -0.88089458,  0.45284274, ...,  1.31930621,\n",
              "         0.65087137, -0.59353565],\n",
              "       [-0.66182971, -1.13808928,  0.45284274, ...,  1.31930621,\n",
              "        -0.6098716 , -1.40872668],\n",
              "       [-0.62626518, -1.06645681, -0.27844379, ..., -1.09669375,\n",
              "        -0.6098716 ,  0.22165537]])"
            ]
          },
          "metadata": {},
          "execution_count": 30
        }
      ]
    },
    {
      "cell_type": "markdown",
      "source": [
        "# Vital status"
      ],
      "metadata": {
        "id": "q2HbKlnDZufw"
      }
    },
    {
      "cell_type": "code",
      "source": [
        "import tensorflow as tf\n",
        "from tensorflow.python.keras.models import Sequential\n",
        "from tensorflow.python.keras.layers import Dense, Activation\n",
        "import numpy as np\n",
        "import random\n",
        "\n",
        "random.seed(42)\n",
        "np.random.seed(42)\n",
        "tf.random.set_seed(42)\n",
        "\n",
        "model = Sequential()\n",
        "model.add(Dense(32, input_shape=(9,)))\n",
        "model.add(Activation('relu'))\n",
        "model.add(Dense(16))\n",
        "model.add(Activation('relu'))\n",
        "model.add(Dense(1))\n",
        "model.add(Activation('sigmoid'))\n",
        "\n",
        "model.compile(loss='binary_crossentropy', optimizer='sgd', metrics=['accuracy']) \n",
        "model.summary()"
      ],
      "metadata": {
        "colab": {
          "base_uri": "https://localhost:8080/"
        },
        "id": "mViwu1YZxTj2",
        "outputId": "c4f7173e-c19c-4cee-b96e-11f4e44845af"
      },
      "execution_count": 31,
      "outputs": [
        {
          "output_type": "stream",
          "name": "stdout",
          "text": [
            "Model: \"sequential\"\n",
            "_________________________________________________________________\n",
            "Layer (type)                 Output Shape              Param #   \n",
            "=================================================================\n",
            "dense (Dense)                (None, 32)                320       \n",
            "_________________________________________________________________\n",
            "activation (Activation)      (None, 32)                0         \n",
            "_________________________________________________________________\n",
            "dense_1 (Dense)              (None, 16)                528       \n",
            "_________________________________________________________________\n",
            "activation_1 (Activation)    (None, 16)                0         \n",
            "_________________________________________________________________\n",
            "dense_2 (Dense)              (None, 1)                 17        \n",
            "_________________________________________________________________\n",
            "activation_2 (Activation)    (None, 1)                 0         \n",
            "=================================================================\n",
            "Total params: 865\n",
            "Trainable params: 865\n",
            "Non-trainable params: 0\n",
            "_________________________________________________________________\n"
          ]
        }
      ]
    },
    {
      "cell_type": "code",
      "source": [
        "trained_model=model.fit(train_scaled, y,validation_split=0.3,epochs=50,batch_size=20)"
      ],
      "metadata": {
        "colab": {
          "base_uri": "https://localhost:8080/"
        },
        "id": "LrkezKhFxyIE",
        "outputId": "d14ace86-2b2b-400a-f97e-0907ef280556"
      },
      "execution_count": 32,
      "outputs": [
        {
          "output_type": "stream",
          "name": "stdout",
          "text": [
            "Epoch 1/50\n",
            "26/26 [==============================] - 1s 10ms/step - loss: 0.7102 - accuracy: 0.4942 - val_loss: 0.6576 - val_accuracy: 0.6216\n",
            "Epoch 2/50\n",
            "26/26 [==============================] - 0s 3ms/step - loss: 0.5863 - accuracy: 0.7442 - val_loss: 0.6040 - val_accuracy: 0.7838\n",
            "Epoch 3/50\n",
            "26/26 [==============================] - 0s 3ms/step - loss: 0.5173 - accuracy: 0.8430 - val_loss: 0.5654 - val_accuracy: 0.7973\n",
            "Epoch 4/50\n",
            "26/26 [==============================] - 0s 4ms/step - loss: 0.4696 - accuracy: 0.8450 - val_loss: 0.5341 - val_accuracy: 0.8243\n",
            "Epoch 5/50\n",
            "26/26 [==============================] - 0s 3ms/step - loss: 0.4341 - accuracy: 0.8605 - val_loss: 0.5061 - val_accuracy: 0.8468\n",
            "Epoch 6/50\n",
            "26/26 [==============================] - 0s 3ms/step - loss: 0.4057 - accuracy: 0.8721 - val_loss: 0.4804 - val_accuracy: 0.8559\n",
            "Epoch 7/50\n",
            "26/26 [==============================] - 0s 3ms/step - loss: 0.3818 - accuracy: 0.8779 - val_loss: 0.4564 - val_accuracy: 0.8649\n",
            "Epoch 8/50\n",
            "26/26 [==============================] - 0s 3ms/step - loss: 0.3612 - accuracy: 0.8895 - val_loss: 0.4338 - val_accuracy: 0.8739\n",
            "Epoch 9/50\n",
            "26/26 [==============================] - 0s 3ms/step - loss: 0.3429 - accuracy: 0.8973 - val_loss: 0.4122 - val_accuracy: 0.8784\n",
            "Epoch 10/50\n",
            "26/26 [==============================] - 0s 3ms/step - loss: 0.3264 - accuracy: 0.9031 - val_loss: 0.3917 - val_accuracy: 0.8919\n",
            "Epoch 11/50\n",
            "26/26 [==============================] - 0s 3ms/step - loss: 0.3113 - accuracy: 0.9031 - val_loss: 0.3724 - val_accuracy: 0.9054\n",
            "Epoch 12/50\n",
            "26/26 [==============================] - 0s 3ms/step - loss: 0.2974 - accuracy: 0.9012 - val_loss: 0.3543 - val_accuracy: 0.9144\n",
            "Epoch 13/50\n",
            "26/26 [==============================] - 0s 3ms/step - loss: 0.2843 - accuracy: 0.9089 - val_loss: 0.3379 - val_accuracy: 0.9234\n",
            "Epoch 14/50\n",
            "26/26 [==============================] - 0s 5ms/step - loss: 0.2726 - accuracy: 0.9089 - val_loss: 0.3234 - val_accuracy: 0.9144\n",
            "Epoch 15/50\n",
            "26/26 [==============================] - 0s 3ms/step - loss: 0.2621 - accuracy: 0.9109 - val_loss: 0.3107 - val_accuracy: 0.9144\n",
            "Epoch 16/50\n",
            "26/26 [==============================] - 0s 4ms/step - loss: 0.2524 - accuracy: 0.9147 - val_loss: 0.2992 - val_accuracy: 0.9189\n",
            "Epoch 17/50\n",
            "26/26 [==============================] - 0s 3ms/step - loss: 0.2439 - accuracy: 0.9147 - val_loss: 0.2893 - val_accuracy: 0.9279\n",
            "Epoch 18/50\n",
            "26/26 [==============================] - 0s 3ms/step - loss: 0.2362 - accuracy: 0.9167 - val_loss: 0.2808 - val_accuracy: 0.9279\n",
            "Epoch 19/50\n",
            "26/26 [==============================] - 0s 3ms/step - loss: 0.2293 - accuracy: 0.9186 - val_loss: 0.2733 - val_accuracy: 0.9324\n",
            "Epoch 20/50\n",
            "26/26 [==============================] - 0s 3ms/step - loss: 0.2233 - accuracy: 0.9244 - val_loss: 0.2661 - val_accuracy: 0.9324\n",
            "Epoch 21/50\n",
            "26/26 [==============================] - 0s 3ms/step - loss: 0.2176 - accuracy: 0.9264 - val_loss: 0.2601 - val_accuracy: 0.9324\n",
            "Epoch 22/50\n",
            "26/26 [==============================] - 0s 3ms/step - loss: 0.2126 - accuracy: 0.9302 - val_loss: 0.2551 - val_accuracy: 0.9324\n",
            "Epoch 23/50\n",
            "26/26 [==============================] - 0s 3ms/step - loss: 0.2082 - accuracy: 0.9302 - val_loss: 0.2500 - val_accuracy: 0.9324\n",
            "Epoch 24/50\n",
            "26/26 [==============================] - 0s 3ms/step - loss: 0.2040 - accuracy: 0.9302 - val_loss: 0.2458 - val_accuracy: 0.9324\n",
            "Epoch 25/50\n",
            "26/26 [==============================] - 0s 3ms/step - loss: 0.2002 - accuracy: 0.9302 - val_loss: 0.2422 - val_accuracy: 0.9369\n",
            "Epoch 26/50\n",
            "26/26 [==============================] - 0s 3ms/step - loss: 0.1969 - accuracy: 0.9302 - val_loss: 0.2391 - val_accuracy: 0.9369\n",
            "Epoch 27/50\n",
            "26/26 [==============================] - 0s 3ms/step - loss: 0.1940 - accuracy: 0.9322 - val_loss: 0.2361 - val_accuracy: 0.9414\n",
            "Epoch 28/50\n",
            "26/26 [==============================] - 0s 3ms/step - loss: 0.1911 - accuracy: 0.9341 - val_loss: 0.2334 - val_accuracy: 0.9414\n",
            "Epoch 29/50\n",
            "26/26 [==============================] - 0s 3ms/step - loss: 0.1888 - accuracy: 0.9341 - val_loss: 0.2315 - val_accuracy: 0.9414\n",
            "Epoch 30/50\n",
            "26/26 [==============================] - 0s 3ms/step - loss: 0.1864 - accuracy: 0.9360 - val_loss: 0.2295 - val_accuracy: 0.9414\n",
            "Epoch 31/50\n",
            "26/26 [==============================] - 0s 3ms/step - loss: 0.1847 - accuracy: 0.9322 - val_loss: 0.2278 - val_accuracy: 0.9414\n",
            "Epoch 32/50\n",
            "26/26 [==============================] - 0s 4ms/step - loss: 0.1826 - accuracy: 0.9360 - val_loss: 0.2263 - val_accuracy: 0.9414\n",
            "Epoch 33/50\n",
            "26/26 [==============================] - 0s 3ms/step - loss: 0.1809 - accuracy: 0.9341 - val_loss: 0.2253 - val_accuracy: 0.9369\n",
            "Epoch 34/50\n",
            "26/26 [==============================] - 0s 3ms/step - loss: 0.1793 - accuracy: 0.9341 - val_loss: 0.2242 - val_accuracy: 0.9369\n",
            "Epoch 35/50\n",
            "26/26 [==============================] - 0s 3ms/step - loss: 0.1779 - accuracy: 0.9341 - val_loss: 0.2239 - val_accuracy: 0.9369\n",
            "Epoch 36/50\n",
            "26/26 [==============================] - 0s 3ms/step - loss: 0.1767 - accuracy: 0.9360 - val_loss: 0.2230 - val_accuracy: 0.9369\n",
            "Epoch 37/50\n",
            "26/26 [==============================] - 0s 3ms/step - loss: 0.1755 - accuracy: 0.9360 - val_loss: 0.2223 - val_accuracy: 0.9369\n",
            "Epoch 38/50\n",
            "26/26 [==============================] - 0s 3ms/step - loss: 0.1744 - accuracy: 0.9360 - val_loss: 0.2221 - val_accuracy: 0.9369\n",
            "Epoch 39/50\n",
            "26/26 [==============================] - 0s 4ms/step - loss: 0.1734 - accuracy: 0.9360 - val_loss: 0.2218 - val_accuracy: 0.9369\n",
            "Epoch 40/50\n",
            "26/26 [==============================] - 0s 3ms/step - loss: 0.1725 - accuracy: 0.9360 - val_loss: 0.2216 - val_accuracy: 0.9414\n",
            "Epoch 41/50\n",
            "26/26 [==============================] - 0s 3ms/step - loss: 0.1716 - accuracy: 0.9360 - val_loss: 0.2212 - val_accuracy: 0.9414\n",
            "Epoch 42/50\n",
            "26/26 [==============================] - 0s 3ms/step - loss: 0.1708 - accuracy: 0.9360 - val_loss: 0.2214 - val_accuracy: 0.9414\n",
            "Epoch 43/50\n",
            "26/26 [==============================] - 0s 3ms/step - loss: 0.1700 - accuracy: 0.9360 - val_loss: 0.2217 - val_accuracy: 0.9414\n",
            "Epoch 44/50\n",
            "26/26 [==============================] - 0s 3ms/step - loss: 0.1694 - accuracy: 0.9360 - val_loss: 0.2215 - val_accuracy: 0.9414\n",
            "Epoch 45/50\n",
            "26/26 [==============================] - 0s 5ms/step - loss: 0.1686 - accuracy: 0.9380 - val_loss: 0.2213 - val_accuracy: 0.9414\n",
            "Epoch 46/50\n",
            "26/26 [==============================] - 0s 5ms/step - loss: 0.1679 - accuracy: 0.9380 - val_loss: 0.2217 - val_accuracy: 0.9414\n",
            "Epoch 47/50\n",
            "26/26 [==============================] - 0s 5ms/step - loss: 0.1672 - accuracy: 0.9399 - val_loss: 0.2208 - val_accuracy: 0.9414\n",
            "Epoch 48/50\n",
            "26/26 [==============================] - 0s 6ms/step - loss: 0.1666 - accuracy: 0.9380 - val_loss: 0.2214 - val_accuracy: 0.9414\n",
            "Epoch 49/50\n",
            "26/26 [==============================] - 0s 5ms/step - loss: 0.1661 - accuracy: 0.9380 - val_loss: 0.2211 - val_accuracy: 0.9414\n",
            "Epoch 50/50\n",
            "26/26 [==============================] - 0s 4ms/step - loss: 0.1653 - accuracy: 0.9380 - val_loss: 0.2213 - val_accuracy: 0.9414\n"
          ]
        }
      ]
    },
    {
      "cell_type": "code",
      "source": [
        "import matplotlib.pyplot as plt\n",
        "# summarize history for accuracy\n",
        "plt.plot(trained_model.history['accuracy'])\n",
        "plt.plot(trained_model.history['val_accuracy'])\n",
        "plt.title('model accuracy')\n",
        "plt.ylabel('accuracy')\n",
        "plt.xlabel('epoch')\n",
        "plt.legend(['train', 'test'], loc='lower right')\n",
        "plt.show()\n",
        "# summarize history for loss\n",
        "plt.plot(trained_model.history['loss'])\n",
        "plt.plot(trained_model.history['val_loss'])\n",
        "plt.title('model loss')\n",
        "plt.ylabel('loss')\n",
        "plt.xlabel('epoch')\n",
        "plt.legend(['train', 'test'], loc='upper right')\n",
        "plt.show()"
      ],
      "metadata": {
        "colab": {
          "base_uri": "https://localhost:8080/",
          "height": 573
        },
        "id": "ReuR8AmPyBZl",
        "outputId": "4f72ce61-da0f-4509-ccf1-df5fbd396e4f"
      },
      "execution_count": 33,
      "outputs": [
        {
          "output_type": "display_data",
          "data": {
            "text/plain": [
              "<Figure size 432x288 with 1 Axes>"
            ],
            "image/png": "[encoded data removed]"
          },
          "metadata": {
            "needs_background": "light"
          }
        },
        {
          "output_type": "display_data",
          "data": {
            "text/plain": [
              "<Figure size 432x288 with 1 Axes>"
            ],
            "image/png": "[encoded data removed]"
          },
          "metadata": {
            "needs_background": "light"
          }
        }
      ]
    },
    {
      "cell_type": "markdown",
      "source": [
        "# Split data into 3\n"
      ],
      "metadata": {
        "id": "JxF7eHohZfaI"
      }
    },
    {
      "cell_type": "code",
      "source": [
        "x_split1 = x.iloc[0:246]\n",
        "x_split2 = x.iloc[246:492]\n",
        "x_split3 = x.iloc[492:738]"
      ],
      "metadata": {
        "id": "xPPeMkS8ZpgM"
      },
      "execution_count": 34,
      "outputs": []
    },
    {
      "cell_type": "code",
      "source": [
        "y_split1 = y.iloc[0:246]\n",
        "y_split2 = y.iloc[246:492]\n",
        "y_split3 = y.iloc[492:738]"
      ],
      "metadata": {
        "id": "Z4NuxO027X5R"
      },
      "execution_count": 35,
      "outputs": []
    },
    {
      "cell_type": "code",
      "source": [
        "from sklearn.preprocessing import StandardScaler\n",
        "\n",
        "scaler = StandardScaler()\n",
        "train_scaled_s1 = scaler.fit_transform(x_split1)\n",
        "train_scaled_s2 = scaler.fit_transform(x_split2)\n",
        "train_scaled_s3 = scaler.fit_transform(x_split3)"
      ],
      "metadata": {
        "id": "B3L-S_xS8CC-"
      },
      "execution_count": 36,
      "outputs": []
    },
    {
      "cell_type": "code",
      "source": [
        "import tensorflow as tf\n",
        "from tensorflow.python.keras.models import Sequential\n",
        "from tensorflow.python.keras.layers import Dense, Activation\n",
        "import numpy as np\n",
        "import random\n",
        "\n",
        "random.seed(42)\n",
        "np.random.seed(42)\n",
        "tf.random.set_seed(42)\n",
        "\n",
        "model_s = Sequential()\n",
        "model_s.add(Dense(32, input_shape=(9,)))\n",
        "model_s.add(Activation('relu'))\n",
        "model_s.add(Dense(16))\n",
        "model_s.add(Activation('relu'))\n",
        "model_s.add(Dense(1))\n",
        "model_s.add(Activation('sigmoid'))\n",
        "\n",
        "model_s.compile(loss='binary_crossentropy', optimizer='sgd', metrics=['accuracy']) \n",
        "model_s.summary()"
      ],
      "metadata": {
        "colab": {
          "base_uri": "https://localhost:8080/"
        },
        "id": "I-aJXLwn7kjc",
        "outputId": "4d43bc12-3b8a-4211-d6d1-d5e02ef64a00"
      },
      "execution_count": 48,
      "outputs": [
        {
          "output_type": "stream",
          "name": "stdout",
          "text": [
            "Model: \"sequential_4\"\n",
            "_________________________________________________________________\n",
            "Layer (type)                 Output Shape              Param #   \n",
            "=================================================================\n",
            "dense_12 (Dense)             (None, 32)                320       \n",
            "_________________________________________________________________\n",
            "activation_12 (Activation)   (None, 32)                0         \n",
            "_________________________________________________________________\n",
            "dense_13 (Dense)             (None, 16)                528       \n",
            "_________________________________________________________________\n",
            "activation_13 (Activation)   (None, 16)                0         \n",
            "_________________________________________________________________\n",
            "dense_14 (Dense)             (None, 1)                 17        \n",
            "_________________________________________________________________\n",
            "activation_14 (Activation)   (None, 1)                 0         \n",
            "=================================================================\n",
            "Total params: 865\n",
            "Trainable params: 865\n",
            "Non-trainable params: 0\n",
            "_________________________________________________________________\n"
          ]
        }
      ]
    },
    {
      "cell_type": "code",
      "source": [
        "trained_model_s=model_s.fit(train_scaled_s1, y_split1,validation_split=0.3,epochs=100,batch_size=10)"
      ],
      "metadata": {
        "colab": {
          "base_uri": "https://localhost:8080/"
        },
        "id": "6me5xrzZ73Jr",
        "outputId": "7595a458-fba6-45e5-bdb6-8b85fdfae628"
      },
      "execution_count": 38,
      "outputs": [
        {
          "output_type": "stream",
          "name": "stdout",
          "text": [
            "Epoch 1/100\n",
            "18/18 [==============================] - 1s 26ms/step - loss: 0.7434 - accuracy: 0.4302 - val_loss: 0.7077 - val_accuracy: 0.5405\n",
            "Epoch 2/100\n",
            "18/18 [==============================] - 0s 4ms/step - loss: 0.6021 - accuracy: 0.7384 - val_loss: 0.6459 - val_accuracy: 0.6081\n",
            "Epoch 3/100\n",
            "18/18 [==============================] - 0s 3ms/step - loss: 0.5090 - accuracy: 0.8779 - val_loss: 0.6023 - val_accuracy: 0.6892\n",
            "Epoch 4/100\n",
            "18/18 [==============================] - 0s 3ms/step - loss: 0.4420 - accuracy: 0.9186 - val_loss: 0.5673 - val_accuracy: 0.7432\n",
            "Epoch 5/100\n",
            "18/18 [==============================] - 0s 4ms/step - loss: 0.3915 - accuracy: 0.9244 - val_loss: 0.5392 - val_accuracy: 0.7568\n",
            "Epoch 6/100\n",
            "18/18 [==============================] - 0s 4ms/step - loss: 0.3524 - accuracy: 0.9302 - val_loss: 0.5160 - val_accuracy: 0.7703\n",
            "Epoch 7/100\n",
            "18/18 [==============================] - 0s 4ms/step - loss: 0.3206 - accuracy: 0.9302 - val_loss: 0.4949 - val_accuracy: 0.7703\n",
            "Epoch 8/100\n",
            "18/18 [==============================] - 0s 5ms/step - loss: 0.2948 - accuracy: 0.9302 - val_loss: 0.4753 - val_accuracy: 0.7838\n",
            "Epoch 9/100\n",
            "18/18 [==============================] - 0s 3ms/step - loss: 0.2728 - accuracy: 0.9302 - val_loss: 0.4580 - val_accuracy: 0.7838\n",
            "Epoch 10/100\n",
            "18/18 [==============================] - 0s 4ms/step - loss: 0.2543 - accuracy: 0.9302 - val_loss: 0.4438 - val_accuracy: 0.7973\n",
            "Epoch 11/100\n",
            "18/18 [==============================] - 0s 3ms/step - loss: 0.2384 - accuracy: 0.9302 - val_loss: 0.4311 - val_accuracy: 0.7973\n",
            "Epoch 12/100\n",
            "18/18 [==============================] - 0s 4ms/step - loss: 0.2246 - accuracy: 0.9360 - val_loss: 0.4186 - val_accuracy: 0.7973\n",
            "Epoch 13/100\n",
            "18/18 [==============================] - 0s 3ms/step - loss: 0.2127 - accuracy: 0.9419 - val_loss: 0.4067 - val_accuracy: 0.8108\n",
            "Epoch 14/100\n",
            "18/18 [==============================] - 0s 3ms/step - loss: 0.2023 - accuracy: 0.9419 - val_loss: 0.3961 - val_accuracy: 0.8243\n",
            "Epoch 15/100\n",
            "18/18 [==============================] - 0s 3ms/step - loss: 0.1934 - accuracy: 0.9419 - val_loss: 0.3856 - val_accuracy: 0.8378\n",
            "Epoch 16/100\n",
            "18/18 [==============================] - 0s 4ms/step - loss: 0.1855 - accuracy: 0.9477 - val_loss: 0.3734 - val_accuracy: 0.8378\n",
            "Epoch 17/100\n",
            "18/18 [==============================] - 0s 4ms/step - loss: 0.1779 - accuracy: 0.9477 - val_loss: 0.3636 - val_accuracy: 0.8514\n",
            "Epoch 18/100\n",
            "18/18 [==============================] - 0s 4ms/step - loss: 0.1718 - accuracy: 0.9535 - val_loss: 0.3538 - val_accuracy: 0.8649\n",
            "Epoch 19/100\n",
            "18/18 [==============================] - 0s 4ms/step - loss: 0.1657 - accuracy: 0.9535 - val_loss: 0.3457 - val_accuracy: 0.8784\n",
            "Epoch 20/100\n",
            "18/18 [==============================] - 0s 4ms/step - loss: 0.1599 - accuracy: 0.9593 - val_loss: 0.3378 - val_accuracy: 0.8784\n",
            "Epoch 21/100\n",
            "18/18 [==============================] - 0s 3ms/step - loss: 0.1548 - accuracy: 0.9593 - val_loss: 0.3302 - val_accuracy: 0.8919\n",
            "Epoch 22/100\n",
            "18/18 [==============================] - 0s 4ms/step - loss: 0.1503 - accuracy: 0.9651 - val_loss: 0.3224 - val_accuracy: 0.9054\n",
            "Epoch 23/100\n",
            "18/18 [==============================] - 0s 4ms/step - loss: 0.1456 - accuracy: 0.9651 - val_loss: 0.3158 - val_accuracy: 0.9054\n",
            "Epoch 24/100\n",
            "18/18 [==============================] - 0s 4ms/step - loss: 0.1412 - accuracy: 0.9709 - val_loss: 0.3088 - val_accuracy: 0.9054\n",
            "Epoch 25/100\n",
            "18/18 [==============================] - 0s 4ms/step - loss: 0.1374 - accuracy: 0.9709 - val_loss: 0.2994 - val_accuracy: 0.9189\n",
            "Epoch 26/100\n",
            "18/18 [==============================] - 0s 6ms/step - loss: 0.1335 - accuracy: 0.9709 - val_loss: 0.2945 - val_accuracy: 0.9189\n",
            "Epoch 27/100\n",
            "18/18 [==============================] - 0s 6ms/step - loss: 0.1303 - accuracy: 0.9709 - val_loss: 0.2884 - val_accuracy: 0.9189\n",
            "Epoch 28/100\n",
            "18/18 [==============================] - 0s 7ms/step - loss: 0.1270 - accuracy: 0.9767 - val_loss: 0.2841 - val_accuracy: 0.9189\n",
            "Epoch 29/100\n",
            "18/18 [==============================] - 0s 5ms/step - loss: 0.1242 - accuracy: 0.9767 - val_loss: 0.2801 - val_accuracy: 0.9189\n",
            "Epoch 30/100\n",
            "18/18 [==============================] - 0s 5ms/step - loss: 0.1217 - accuracy: 0.9767 - val_loss: 0.2762 - val_accuracy: 0.9189\n",
            "Epoch 31/100\n",
            "18/18 [==============================] - 0s 5ms/step - loss: 0.1193 - accuracy: 0.9767 - val_loss: 0.2727 - val_accuracy: 0.9189\n",
            "Epoch 32/100\n",
            "18/18 [==============================] - 0s 5ms/step - loss: 0.1173 - accuracy: 0.9767 - val_loss: 0.2691 - val_accuracy: 0.9189\n",
            "Epoch 33/100\n",
            "18/18 [==============================] - 0s 7ms/step - loss: 0.1152 - accuracy: 0.9767 - val_loss: 0.2659 - val_accuracy: 0.9189\n",
            "Epoch 34/100\n",
            "18/18 [==============================] - 0s 7ms/step - loss: 0.1134 - accuracy: 0.9767 - val_loss: 0.2658 - val_accuracy: 0.9189\n",
            "Epoch 35/100\n",
            "18/18 [==============================] - 0s 5ms/step - loss: 0.1118 - accuracy: 0.9767 - val_loss: 0.2621 - val_accuracy: 0.9189\n",
            "Epoch 36/100\n",
            "18/18 [==============================] - 0s 5ms/step - loss: 0.1103 - accuracy: 0.9767 - val_loss: 0.2591 - val_accuracy: 0.9189\n",
            "Epoch 37/100\n",
            "18/18 [==============================] - 0s 5ms/step - loss: 0.1084 - accuracy: 0.9767 - val_loss: 0.2560 - val_accuracy: 0.9189\n",
            "Epoch 38/100\n",
            "18/18 [==============================] - 0s 5ms/step - loss: 0.1070 - accuracy: 0.9767 - val_loss: 0.2531 - val_accuracy: 0.9189\n",
            "Epoch 39/100\n",
            "18/18 [==============================] - 0s 5ms/step - loss: 0.1055 - accuracy: 0.9767 - val_loss: 0.2507 - val_accuracy: 0.9189\n",
            "Epoch 40/100\n",
            "18/18 [==============================] - 0s 6ms/step - loss: 0.1041 - accuracy: 0.9767 - val_loss: 0.2483 - val_accuracy: 0.9189\n",
            "Epoch 41/100\n",
            "18/18 [==============================] - 0s 5ms/step - loss: 0.1028 - accuracy: 0.9767 - val_loss: 0.2461 - val_accuracy: 0.9189\n",
            "Epoch 42/100\n",
            "18/18 [==============================] - 0s 5ms/step - loss: 0.1015 - accuracy: 0.9767 - val_loss: 0.2439 - val_accuracy: 0.9189\n",
            "Epoch 43/100\n",
            "18/18 [==============================] - 0s 5ms/step - loss: 0.1003 - accuracy: 0.9767 - val_loss: 0.2410 - val_accuracy: 0.9189\n",
            "Epoch 44/100\n",
            "18/18 [==============================] - 0s 5ms/step - loss: 0.0992 - accuracy: 0.9767 - val_loss: 0.2393 - val_accuracy: 0.9189\n",
            "Epoch 45/100\n",
            "18/18 [==============================] - 0s 5ms/step - loss: 0.0981 - accuracy: 0.9767 - val_loss: 0.2374 - val_accuracy: 0.9189\n",
            "Epoch 46/100\n",
            "18/18 [==============================] - 0s 5ms/step - loss: 0.0967 - accuracy: 0.9767 - val_loss: 0.2348 - val_accuracy: 0.9054\n",
            "Epoch 47/100\n",
            "18/18 [==============================] - 0s 5ms/step - loss: 0.0958 - accuracy: 0.9709 - val_loss: 0.2334 - val_accuracy: 0.9189\n",
            "Epoch 48/100\n",
            "18/18 [==============================] - 0s 6ms/step - loss: 0.0948 - accuracy: 0.9767 - val_loss: 0.2322 - val_accuracy: 0.9189\n",
            "Epoch 49/100\n",
            "18/18 [==============================] - 0s 6ms/step - loss: 0.0937 - accuracy: 0.9709 - val_loss: 0.2310 - val_accuracy: 0.9189\n",
            "Epoch 50/100\n",
            "18/18 [==============================] - 0s 5ms/step - loss: 0.0928 - accuracy: 0.9767 - val_loss: 0.2298 - val_accuracy: 0.9189\n",
            "Epoch 51/100\n",
            "18/18 [==============================] - 0s 6ms/step - loss: 0.0919 - accuracy: 0.9767 - val_loss: 0.2288 - val_accuracy: 0.9189\n",
            "Epoch 52/100\n",
            "18/18 [==============================] - 0s 5ms/step - loss: 0.0909 - accuracy: 0.9767 - val_loss: 0.2277 - val_accuracy: 0.9189\n",
            "Epoch 53/100\n",
            "18/18 [==============================] - 0s 5ms/step - loss: 0.0903 - accuracy: 0.9767 - val_loss: 0.2267 - val_accuracy: 0.9189\n",
            "Epoch 54/100\n",
            "18/18 [==============================] - 0s 6ms/step - loss: 0.0894 - accuracy: 0.9767 - val_loss: 0.2253 - val_accuracy: 0.9189\n",
            "Epoch 55/100\n",
            "18/18 [==============================] - 0s 5ms/step - loss: 0.0883 - accuracy: 0.9767 - val_loss: 0.2245 - val_accuracy: 0.9189\n",
            "Epoch 56/100\n",
            "18/18 [==============================] - 0s 5ms/step - loss: 0.0877 - accuracy: 0.9767 - val_loss: 0.2236 - val_accuracy: 0.9189\n",
            "Epoch 57/100\n",
            "18/18 [==============================] - 0s 4ms/step - loss: 0.0868 - accuracy: 0.9767 - val_loss: 0.2220 - val_accuracy: 0.9189\n",
            "Epoch 58/100\n",
            "18/18 [==============================] - 0s 5ms/step - loss: 0.0860 - accuracy: 0.9767 - val_loss: 0.2213 - val_accuracy: 0.9189\n",
            "Epoch 59/100\n",
            "18/18 [==============================] - 0s 5ms/step - loss: 0.0853 - accuracy: 0.9767 - val_loss: 0.2233 - val_accuracy: 0.9324\n",
            "Epoch 60/100\n",
            "18/18 [==============================] - 0s 5ms/step - loss: 0.0848 - accuracy: 0.9767 - val_loss: 0.2262 - val_accuracy: 0.9189\n",
            "Epoch 61/100\n",
            "18/18 [==============================] - 0s 5ms/step - loss: 0.0848 - accuracy: 0.9767 - val_loss: 0.2226 - val_accuracy: 0.9189\n",
            "Epoch 62/100\n",
            "18/18 [==============================] - 0s 5ms/step - loss: 0.0836 - accuracy: 0.9767 - val_loss: 0.2210 - val_accuracy: 0.9189\n",
            "Epoch 63/100\n",
            "18/18 [==============================] - 0s 5ms/step - loss: 0.0826 - accuracy: 0.9767 - val_loss: 0.2209 - val_accuracy: 0.9189\n",
            "Epoch 64/100\n",
            "18/18 [==============================] - 0s 5ms/step - loss: 0.0820 - accuracy: 0.9767 - val_loss: 0.2198 - val_accuracy: 0.9189\n",
            "Epoch 65/100\n",
            "18/18 [==============================] - 0s 6ms/step - loss: 0.0813 - accuracy: 0.9767 - val_loss: 0.2187 - val_accuracy: 0.9054\n",
            "Epoch 66/100\n",
            "18/18 [==============================] - 0s 6ms/step - loss: 0.0807 - accuracy: 0.9767 - val_loss: 0.2172 - val_accuracy: 0.9189\n",
            "Epoch 67/100\n",
            "18/18 [==============================] - 0s 6ms/step - loss: 0.0797 - accuracy: 0.9767 - val_loss: 0.2154 - val_accuracy: 0.9189\n",
            "Epoch 68/100\n",
            "18/18 [==============================] - 0s 5ms/step - loss: 0.0793 - accuracy: 0.9767 - val_loss: 0.2151 - val_accuracy: 0.9189\n",
            "Epoch 69/100\n",
            "18/18 [==============================] - 0s 5ms/step - loss: 0.0783 - accuracy: 0.9826 - val_loss: 0.2147 - val_accuracy: 0.9189\n",
            "Epoch 70/100\n",
            "18/18 [==============================] - 0s 4ms/step - loss: 0.0778 - accuracy: 0.9767 - val_loss: 0.2143 - val_accuracy: 0.9189\n",
            "Epoch 71/100\n",
            "18/18 [==============================] - 0s 4ms/step - loss: 0.0771 - accuracy: 0.9826 - val_loss: 0.2139 - val_accuracy: 0.9189\n",
            "Epoch 72/100\n",
            "18/18 [==============================] - 0s 4ms/step - loss: 0.0769 - accuracy: 0.9826 - val_loss: 0.2136 - val_accuracy: 0.9189\n",
            "Epoch 73/100\n",
            "18/18 [==============================] - 0s 4ms/step - loss: 0.0760 - accuracy: 0.9826 - val_loss: 0.2130 - val_accuracy: 0.9189\n",
            "Epoch 74/100\n",
            "18/18 [==============================] - 0s 3ms/step - loss: 0.0755 - accuracy: 0.9826 - val_loss: 0.2127 - val_accuracy: 0.9189\n",
            "Epoch 75/100\n",
            "18/18 [==============================] - 0s 4ms/step - loss: 0.0748 - accuracy: 0.9826 - val_loss: 0.2122 - val_accuracy: 0.9189\n",
            "Epoch 76/100\n",
            "18/18 [==============================] - 0s 4ms/step - loss: 0.0745 - accuracy: 0.9826 - val_loss: 0.2118 - val_accuracy: 0.9189\n",
            "Epoch 77/100\n",
            "18/18 [==============================] - 0s 3ms/step - loss: 0.0739 - accuracy: 0.9826 - val_loss: 0.2114 - val_accuracy: 0.9189\n",
            "Epoch 78/100\n",
            "18/18 [==============================] - 0s 4ms/step - loss: 0.0733 - accuracy: 0.9826 - val_loss: 0.2113 - val_accuracy: 0.9189\n",
            "Epoch 79/100\n",
            "18/18 [==============================] - 0s 4ms/step - loss: 0.0728 - accuracy: 0.9826 - val_loss: 0.2110 - val_accuracy: 0.9054\n",
            "Epoch 80/100\n",
            "18/18 [==============================] - 0s 4ms/step - loss: 0.0726 - accuracy: 0.9826 - val_loss: 0.2107 - val_accuracy: 0.9054\n",
            "Epoch 81/100\n",
            "18/18 [==============================] - 0s 4ms/step - loss: 0.0721 - accuracy: 0.9826 - val_loss: 0.2106 - val_accuracy: 0.9054\n",
            "Epoch 82/100\n",
            "18/18 [==============================] - 0s 4ms/step - loss: 0.0716 - accuracy: 0.9826 - val_loss: 0.2134 - val_accuracy: 0.9054\n",
            "Epoch 83/100\n",
            "18/18 [==============================] - 0s 3ms/step - loss: 0.0710 - accuracy: 0.9826 - val_loss: 0.2126 - val_accuracy: 0.9054\n",
            "Epoch 84/100\n",
            "18/18 [==============================] - 0s 3ms/step - loss: 0.0707 - accuracy: 0.9826 - val_loss: 0.2120 - val_accuracy: 0.9054\n",
            "Epoch 85/100\n",
            "18/18 [==============================] - 0s 3ms/step - loss: 0.0701 - accuracy: 0.9826 - val_loss: 0.2110 - val_accuracy: 0.9054\n",
            "Epoch 86/100\n",
            "18/18 [==============================] - 0s 4ms/step - loss: 0.0696 - accuracy: 0.9826 - val_loss: 0.2105 - val_accuracy: 0.9054\n",
            "Epoch 87/100\n",
            "18/18 [==============================] - 0s 4ms/step - loss: 0.0692 - accuracy: 0.9826 - val_loss: 0.2100 - val_accuracy: 0.9054\n",
            "Epoch 88/100\n",
            "18/18 [==============================] - 0s 3ms/step - loss: 0.0688 - accuracy: 0.9826 - val_loss: 0.2098 - val_accuracy: 0.9054\n",
            "Epoch 89/100\n",
            "18/18 [==============================] - 0s 4ms/step - loss: 0.0684 - accuracy: 0.9826 - val_loss: 0.2096 - val_accuracy: 0.9054\n",
            "Epoch 90/100\n",
            "18/18 [==============================] - 0s 4ms/step - loss: 0.0680 - accuracy: 0.9826 - val_loss: 0.2094 - val_accuracy: 0.9054\n",
            "Epoch 91/100\n",
            "18/18 [==============================] - 0s 3ms/step - loss: 0.0676 - accuracy: 0.9826 - val_loss: 0.2088 - val_accuracy: 0.9054\n",
            "Epoch 92/100\n",
            "18/18 [==============================] - 0s 3ms/step - loss: 0.0672 - accuracy: 0.9826 - val_loss: 0.2085 - val_accuracy: 0.9189\n",
            "Epoch 93/100\n",
            "18/18 [==============================] - 0s 3ms/step - loss: 0.0670 - accuracy: 0.9826 - val_loss: 0.2083 - val_accuracy: 0.9189\n",
            "Epoch 94/100\n",
            "18/18 [==============================] - 0s 4ms/step - loss: 0.0666 - accuracy: 0.9826 - val_loss: 0.2082 - val_accuracy: 0.9189\n",
            "Epoch 95/100\n",
            "18/18 [==============================] - 0s 4ms/step - loss: 0.0663 - accuracy: 0.9826 - val_loss: 0.2081 - val_accuracy: 0.9189\n",
            "Epoch 96/100\n",
            "18/18 [==============================] - 0s 3ms/step - loss: 0.0659 - accuracy: 0.9826 - val_loss: 0.2080 - val_accuracy: 0.9054\n",
            "Epoch 97/100\n",
            "18/18 [==============================] - 0s 4ms/step - loss: 0.0655 - accuracy: 0.9826 - val_loss: 0.2077 - val_accuracy: 0.9054\n",
            "Epoch 98/100\n",
            "18/18 [==============================] - 0s 4ms/step - loss: 0.0651 - accuracy: 0.9826 - val_loss: 0.2076 - val_accuracy: 0.9054\n",
            "Epoch 99/100\n",
            "18/18 [==============================] - 0s 3ms/step - loss: 0.0650 - accuracy: 0.9826 - val_loss: 0.2076 - val_accuracy: 0.9054\n",
            "Epoch 100/100\n",
            "18/18 [==============================] - 0s 4ms/step - loss: 0.0645 - accuracy: 0.9826 - val_loss: 0.2075 - val_accuracy: 0.9054\n"
          ]
        }
      ]
    },
    {
      "cell_type": "code",
      "source": [
        "import matplotlib.pyplot as plt\n",
        "# summarize history for accuracy\n",
        "plt.plot(trained_model_s.history['accuracy'])\n",
        "plt.plot(trained_model_s.history['val_accuracy'])\n",
        "plt.title('model accuracy')\n",
        "plt.ylabel('accuracy')\n",
        "plt.xlabel('epoch')\n",
        "plt.legend(['train', 'test'], loc='lower right')\n",
        "plt.show()\n",
        "# summarize history for loss\n",
        "plt.plot(trained_model_s.history['loss'])\n",
        "plt.plot(trained_model_s.history['val_loss'])\n",
        "plt.title('model loss')\n",
        "plt.ylabel('loss')\n",
        "plt.xlabel('epoch')\n",
        "plt.legend(['train', 'test'], loc='upper right')\n",
        "plt.show()"
      ],
      "metadata": {
        "colab": {
          "base_uri": "https://localhost:8080/",
          "height": 573
        },
        "id": "eARGge7l8vYb",
        "outputId": "206f2007-603a-4fc3-85e9-0e4c988dc578"
      },
      "execution_count": 39,
      "outputs": [
        {
          "output_type": "display_data",
          "data": {
            "text/plain": [
              "<Figure size 432x288 with 1 Axes>"
            ],
            "image/png": "[encoded data removed]"
          },
          "metadata": {
            "needs_background": "light"
          }
        },
        {
          "output_type": "display_data",
          "data": {
            "text/plain": [
              "<Figure size 432x288 with 1 Axes>"
            ],
            "image/png": "[encoded data removed]"
          },
          "metadata": {
            "needs_background": "light"
          }
        }
      ]
    },
    {
      "cell_type": "code",
      "source": [
        "trained_model_s=model_s.fit(train_scaled_s2, y_split2,validation_split=0.3,epochs=100,batch_size=10)"
      ],
      "metadata": {
        "colab": {
          "base_uri": "https://localhost:8080/"
        },
        "id": "GZ81XGKhMEy4",
        "outputId": "c30cb1cf-c360-4167-96ac-a4ddc2747a06"
      },
      "execution_count": 43,
      "outputs": [
        {
          "output_type": "stream",
          "name": "stdout",
          "text": [
            "Epoch 1/100\n",
            "18/18 [==============================] - 1s 16ms/step - loss: 0.7353 - accuracy: 0.4244 - val_loss: 0.7391 - val_accuracy: 0.4324\n",
            "Epoch 2/100\n",
            "18/18 [==============================] - 0s 5ms/step - loss: 0.6922 - accuracy: 0.5291 - val_loss: 0.6686 - val_accuracy: 0.5946\n",
            "Epoch 3/100\n",
            "18/18 [==============================] - 0s 5ms/step - loss: 0.6597 - accuracy: 0.6105 - val_loss: 0.6157 - val_accuracy: 0.7838\n",
            "Epoch 4/100\n",
            "18/18 [==============================] - 0s 5ms/step - loss: 0.6331 - accuracy: 0.7151 - val_loss: 0.5783 - val_accuracy: 0.8378\n",
            "Epoch 5/100\n",
            "18/18 [==============================] - 0s 5ms/step - loss: 0.6128 - accuracy: 0.7326 - val_loss: 0.5444 - val_accuracy: 0.8514\n",
            "Epoch 6/100\n",
            "18/18 [==============================] - 0s 6ms/step - loss: 0.5939 - accuracy: 0.7500 - val_loss: 0.5168 - val_accuracy: 0.8378\n",
            "Epoch 7/100\n",
            "18/18 [==============================] - 0s 5ms/step - loss: 0.5765 - accuracy: 0.7674 - val_loss: 0.4924 - val_accuracy: 0.8378\n",
            "Epoch 8/100\n",
            "18/18 [==============================] - 0s 5ms/step - loss: 0.5604 - accuracy: 0.7849 - val_loss: 0.4713 - val_accuracy: 0.8378\n",
            "Epoch 9/100\n",
            "18/18 [==============================] - 0s 7ms/step - loss: 0.5459 - accuracy: 0.7849 - val_loss: 0.4505 - val_accuracy: 0.8514\n",
            "Epoch 10/100\n",
            "18/18 [==============================] - 0s 5ms/step - loss: 0.5315 - accuracy: 0.7907 - val_loss: 0.4331 - val_accuracy: 0.8514\n",
            "Epoch 11/100\n",
            "18/18 [==============================] - 0s 5ms/step - loss: 0.5167 - accuracy: 0.8023 - val_loss: 0.4154 - val_accuracy: 0.8514\n",
            "Epoch 12/100\n",
            "18/18 [==============================] - 0s 5ms/step - loss: 0.5022 - accuracy: 0.8081 - val_loss: 0.3991 - val_accuracy: 0.8378\n",
            "Epoch 13/100\n",
            "18/18 [==============================] - 0s 5ms/step - loss: 0.4877 - accuracy: 0.8198 - val_loss: 0.3813 - val_accuracy: 0.8514\n",
            "Epoch 14/100\n",
            "18/18 [==============================] - 0s 6ms/step - loss: 0.4730 - accuracy: 0.8256 - val_loss: 0.3682 - val_accuracy: 0.8784\n",
            "Epoch 15/100\n",
            "18/18 [==============================] - 0s 5ms/step - loss: 0.4584 - accuracy: 0.8488 - val_loss: 0.3539 - val_accuracy: 0.8919\n",
            "Epoch 16/100\n",
            "18/18 [==============================] - 0s 5ms/step - loss: 0.4436 - accuracy: 0.8547 - val_loss: 0.3398 - val_accuracy: 0.9054\n",
            "Epoch 17/100\n",
            "18/18 [==============================] - 0s 5ms/step - loss: 0.4293 - accuracy: 0.8779 - val_loss: 0.3275 - val_accuracy: 0.9054\n",
            "Epoch 18/100\n",
            "18/18 [==============================] - 0s 5ms/step - loss: 0.4150 - accuracy: 0.8721 - val_loss: 0.3144 - val_accuracy: 0.9189\n",
            "Epoch 19/100\n",
            "18/18 [==============================] - 0s 8ms/step - loss: 0.4013 - accuracy: 0.8953 - val_loss: 0.3020 - val_accuracy: 0.9189\n",
            "Epoch 20/100\n",
            "18/18 [==============================] - 0s 5ms/step - loss: 0.3873 - accuracy: 0.9012 - val_loss: 0.2938 - val_accuracy: 0.9189\n",
            "Epoch 21/100\n",
            "18/18 [==============================] - 0s 5ms/step - loss: 0.3743 - accuracy: 0.9012 - val_loss: 0.2867 - val_accuracy: 0.9189\n",
            "Epoch 22/100\n",
            "18/18 [==============================] - 0s 5ms/step - loss: 0.3622 - accuracy: 0.9012 - val_loss: 0.2766 - val_accuracy: 0.9054\n",
            "Epoch 23/100\n",
            "18/18 [==============================] - 0s 5ms/step - loss: 0.3500 - accuracy: 0.9012 - val_loss: 0.2702 - val_accuracy: 0.9054\n",
            "Epoch 24/100\n",
            "18/18 [==============================] - 0s 5ms/step - loss: 0.3392 - accuracy: 0.9012 - val_loss: 0.2636 - val_accuracy: 0.9189\n",
            "Epoch 25/100\n",
            "18/18 [==============================] - 0s 6ms/step - loss: 0.3276 - accuracy: 0.9012 - val_loss: 0.2656 - val_accuracy: 0.9189\n",
            "Epoch 26/100\n",
            "18/18 [==============================] - 0s 6ms/step - loss: 0.3184 - accuracy: 0.9012 - val_loss: 0.2577 - val_accuracy: 0.9189\n",
            "Epoch 27/100\n",
            "18/18 [==============================] - 0s 4ms/step - loss: 0.3091 - accuracy: 0.9012 - val_loss: 0.2528 - val_accuracy: 0.9189\n",
            "Epoch 28/100\n",
            "18/18 [==============================] - 0s 4ms/step - loss: 0.3000 - accuracy: 0.9070 - val_loss: 0.2554 - val_accuracy: 0.9189\n",
            "Epoch 29/100\n",
            "18/18 [==============================] - 0s 3ms/step - loss: 0.2920 - accuracy: 0.9012 - val_loss: 0.2510 - val_accuracy: 0.9189\n",
            "Epoch 30/100\n",
            "18/18 [==============================] - 0s 4ms/step - loss: 0.2841 - accuracy: 0.9070 - val_loss: 0.2501 - val_accuracy: 0.9189\n",
            "Epoch 31/100\n",
            "18/18 [==============================] - 0s 3ms/step - loss: 0.2770 - accuracy: 0.9186 - val_loss: 0.2524 - val_accuracy: 0.9189\n",
            "Epoch 32/100\n",
            "18/18 [==============================] - 0s 3ms/step - loss: 0.2710 - accuracy: 0.9244 - val_loss: 0.2534 - val_accuracy: 0.9324\n",
            "Epoch 33/100\n",
            "18/18 [==============================] - 0s 4ms/step - loss: 0.2651 - accuracy: 0.9186 - val_loss: 0.2505 - val_accuracy: 0.9189\n",
            "Epoch 34/100\n",
            "18/18 [==============================] - 0s 3ms/step - loss: 0.2591 - accuracy: 0.9244 - val_loss: 0.2482 - val_accuracy: 0.9189\n",
            "Epoch 35/100\n",
            "18/18 [==============================] - 0s 4ms/step - loss: 0.2539 - accuracy: 0.9244 - val_loss: 0.2474 - val_accuracy: 0.9189\n",
            "Epoch 36/100\n",
            "18/18 [==============================] - 0s 3ms/step - loss: 0.2486 - accuracy: 0.9186 - val_loss: 0.2528 - val_accuracy: 0.9324\n",
            "Epoch 37/100\n",
            "18/18 [==============================] - 0s 4ms/step - loss: 0.2454 - accuracy: 0.9186 - val_loss: 0.2511 - val_accuracy: 0.9324\n",
            "Epoch 38/100\n",
            "18/18 [==============================] - 0s 4ms/step - loss: 0.2411 - accuracy: 0.9186 - val_loss: 0.2503 - val_accuracy: 0.9189\n",
            "Epoch 39/100\n",
            "18/18 [==============================] - 0s 4ms/step - loss: 0.2371 - accuracy: 0.9186 - val_loss: 0.2501 - val_accuracy: 0.9189\n",
            "Epoch 40/100\n",
            "18/18 [==============================] - 0s 4ms/step - loss: 0.2335 - accuracy: 0.9186 - val_loss: 0.2522 - val_accuracy: 0.9324\n",
            "Epoch 41/100\n",
            "18/18 [==============================] - 0s 3ms/step - loss: 0.2304 - accuracy: 0.9302 - val_loss: 0.2522 - val_accuracy: 0.9324\n",
            "Epoch 42/100\n",
            "18/18 [==============================] - 0s 3ms/step - loss: 0.2271 - accuracy: 0.9302 - val_loss: 0.2521 - val_accuracy: 0.9324\n",
            "Epoch 43/100\n",
            "18/18 [==============================] - 0s 3ms/step - loss: 0.2246 - accuracy: 0.9302 - val_loss: 0.2530 - val_accuracy: 0.9324\n",
            "Epoch 44/100\n",
            "18/18 [==============================] - 0s 5ms/step - loss: 0.2225 - accuracy: 0.9302 - val_loss: 0.2539 - val_accuracy: 0.9324\n",
            "Epoch 45/100\n",
            "18/18 [==============================] - 0s 4ms/step - loss: 0.2196 - accuracy: 0.9302 - val_loss: 0.2545 - val_accuracy: 0.9324\n",
            "Epoch 46/100\n",
            "18/18 [==============================] - 0s 3ms/step - loss: 0.2174 - accuracy: 0.9302 - val_loss: 0.2549 - val_accuracy: 0.9324\n",
            "Epoch 47/100\n",
            "18/18 [==============================] - 0s 4ms/step - loss: 0.2152 - accuracy: 0.9302 - val_loss: 0.2562 - val_accuracy: 0.9324\n",
            "Epoch 48/100\n",
            "18/18 [==============================] - 0s 3ms/step - loss: 0.2130 - accuracy: 0.9360 - val_loss: 0.2578 - val_accuracy: 0.9324\n",
            "Epoch 49/100\n",
            "18/18 [==============================] - 0s 4ms/step - loss: 0.2118 - accuracy: 0.9302 - val_loss: 0.2595 - val_accuracy: 0.9324\n",
            "Epoch 50/100\n",
            "18/18 [==============================] - 0s 4ms/step - loss: 0.2097 - accuracy: 0.9302 - val_loss: 0.2548 - val_accuracy: 0.9189\n",
            "Epoch 51/100\n",
            "18/18 [==============================] - 0s 4ms/step - loss: 0.2083 - accuracy: 0.9360 - val_loss: 0.2570 - val_accuracy: 0.9324\n",
            "Epoch 52/100\n",
            "18/18 [==============================] - 0s 3ms/step - loss: 0.2066 - accuracy: 0.9302 - val_loss: 0.2597 - val_accuracy: 0.9324\n",
            "Epoch 53/100\n",
            "18/18 [==============================] - 0s 3ms/step - loss: 0.2051 - accuracy: 0.9302 - val_loss: 0.2570 - val_accuracy: 0.9324\n",
            "Epoch 54/100\n",
            "18/18 [==============================] - 0s 3ms/step - loss: 0.2039 - accuracy: 0.9302 - val_loss: 0.2595 - val_accuracy: 0.9324\n",
            "Epoch 55/100\n",
            "18/18 [==============================] - 0s 3ms/step - loss: 0.2027 - accuracy: 0.9360 - val_loss: 0.2637 - val_accuracy: 0.9324\n",
            "Epoch 56/100\n",
            "18/18 [==============================] - 0s 3ms/step - loss: 0.2009 - accuracy: 0.9360 - val_loss: 0.2659 - val_accuracy: 0.9324\n",
            "Epoch 57/100\n",
            "18/18 [==============================] - 0s 4ms/step - loss: 0.1996 - accuracy: 0.9360 - val_loss: 0.2699 - val_accuracy: 0.9324\n",
            "Epoch 58/100\n",
            "18/18 [==============================] - 0s 4ms/step - loss: 0.1982 - accuracy: 0.9244 - val_loss: 0.2693 - val_accuracy: 0.9324\n",
            "Epoch 59/100\n",
            "18/18 [==============================] - 0s 3ms/step - loss: 0.1971 - accuracy: 0.9302 - val_loss: 0.2701 - val_accuracy: 0.9324\n",
            "Epoch 60/100\n",
            "18/18 [==============================] - 0s 3ms/step - loss: 0.1962 - accuracy: 0.9302 - val_loss: 0.2719 - val_accuracy: 0.9324\n",
            "Epoch 61/100\n",
            "18/18 [==============================] - 0s 4ms/step - loss: 0.1956 - accuracy: 0.9302 - val_loss: 0.2735 - val_accuracy: 0.9324\n",
            "Epoch 62/100\n",
            "18/18 [==============================] - 0s 3ms/step - loss: 0.1938 - accuracy: 0.9302 - val_loss: 0.2751 - val_accuracy: 0.9324\n",
            "Epoch 63/100\n",
            "18/18 [==============================] - 0s 3ms/step - loss: 0.1931 - accuracy: 0.9302 - val_loss: 0.2759 - val_accuracy: 0.9324\n",
            "Epoch 64/100\n",
            "18/18 [==============================] - 0s 3ms/step - loss: 0.1921 - accuracy: 0.9302 - val_loss: 0.2766 - val_accuracy: 0.9324\n",
            "Epoch 65/100\n",
            "18/18 [==============================] - 0s 4ms/step - loss: 0.1907 - accuracy: 0.9302 - val_loss: 0.2780 - val_accuracy: 0.9324\n",
            "Epoch 66/100\n",
            "18/18 [==============================] - 0s 3ms/step - loss: 0.1906 - accuracy: 0.9244 - val_loss: 0.2805 - val_accuracy: 0.9324\n",
            "Epoch 67/100\n",
            "18/18 [==============================] - 0s 3ms/step - loss: 0.1892 - accuracy: 0.9302 - val_loss: 0.2735 - val_accuracy: 0.9324\n",
            "Epoch 68/100\n",
            "18/18 [==============================] - 0s 4ms/step - loss: 0.1889 - accuracy: 0.9302 - val_loss: 0.2800 - val_accuracy: 0.9324\n",
            "Epoch 69/100\n",
            "18/18 [==============================] - 0s 3ms/step - loss: 0.1878 - accuracy: 0.9302 - val_loss: 0.2830 - val_accuracy: 0.9189\n",
            "Epoch 70/100\n",
            "18/18 [==============================] - 0s 4ms/step - loss: 0.1867 - accuracy: 0.9302 - val_loss: 0.2840 - val_accuracy: 0.9189\n",
            "Epoch 71/100\n",
            "18/18 [==============================] - 0s 3ms/step - loss: 0.1859 - accuracy: 0.9302 - val_loss: 0.2836 - val_accuracy: 0.9324\n",
            "Epoch 72/100\n",
            "18/18 [==============================] - 0s 4ms/step - loss: 0.1852 - accuracy: 0.9302 - val_loss: 0.2823 - val_accuracy: 0.9324\n",
            "Epoch 73/100\n",
            "18/18 [==============================] - 0s 4ms/step - loss: 0.1849 - accuracy: 0.9302 - val_loss: 0.2843 - val_accuracy: 0.9189\n",
            "Epoch 74/100\n",
            "18/18 [==============================] - 0s 3ms/step - loss: 0.1839 - accuracy: 0.9302 - val_loss: 0.2812 - val_accuracy: 0.9324\n",
            "Epoch 75/100\n",
            "18/18 [==============================] - 0s 3ms/step - loss: 0.1838 - accuracy: 0.9302 - val_loss: 0.2847 - val_accuracy: 0.9189\n",
            "Epoch 76/100\n",
            "18/18 [==============================] - 0s 3ms/step - loss: 0.1820 - accuracy: 0.9302 - val_loss: 0.2868 - val_accuracy: 0.9189\n",
            "Epoch 77/100\n",
            "18/18 [==============================] - 0s 3ms/step - loss: 0.1817 - accuracy: 0.9302 - val_loss: 0.2891 - val_accuracy: 0.9189\n",
            "Epoch 78/100\n",
            "18/18 [==============================] - 0s 3ms/step - loss: 0.1808 - accuracy: 0.9302 - val_loss: 0.2900 - val_accuracy: 0.9189\n",
            "Epoch 79/100\n",
            "18/18 [==============================] - 0s 3ms/step - loss: 0.1807 - accuracy: 0.9302 - val_loss: 0.2920 - val_accuracy: 0.9189\n",
            "Epoch 80/100\n",
            "18/18 [==============================] - 0s 4ms/step - loss: 0.1792 - accuracy: 0.9302 - val_loss: 0.2912 - val_accuracy: 0.9189\n",
            "Epoch 81/100\n",
            "18/18 [==============================] - 0s 3ms/step - loss: 0.1785 - accuracy: 0.9302 - val_loss: 0.2932 - val_accuracy: 0.9189\n",
            "Epoch 82/100\n",
            "18/18 [==============================] - 0s 5ms/step - loss: 0.1780 - accuracy: 0.9360 - val_loss: 0.2937 - val_accuracy: 0.9189\n",
            "Epoch 83/100\n",
            "18/18 [==============================] - 0s 4ms/step - loss: 0.1774 - accuracy: 0.9302 - val_loss: 0.2932 - val_accuracy: 0.9189\n",
            "Epoch 84/100\n",
            "18/18 [==============================] - 0s 3ms/step - loss: 0.1767 - accuracy: 0.9302 - val_loss: 0.2945 - val_accuracy: 0.9189\n",
            "Epoch 85/100\n",
            "18/18 [==============================] - 0s 3ms/step - loss: 0.1765 - accuracy: 0.9360 - val_loss: 0.2949 - val_accuracy: 0.9189\n",
            "Epoch 86/100\n",
            "18/18 [==============================] - 0s 4ms/step - loss: 0.1755 - accuracy: 0.9302 - val_loss: 0.2969 - val_accuracy: 0.9189\n",
            "Epoch 87/100\n",
            "18/18 [==============================] - 0s 5ms/step - loss: 0.1747 - accuracy: 0.9360 - val_loss: 0.2956 - val_accuracy: 0.9189\n",
            "Epoch 88/100\n",
            "18/18 [==============================] - 0s 4ms/step - loss: 0.1739 - accuracy: 0.9360 - val_loss: 0.2960 - val_accuracy: 0.9189\n",
            "Epoch 89/100\n",
            "18/18 [==============================] - 0s 4ms/step - loss: 0.1743 - accuracy: 0.9360 - val_loss: 0.2935 - val_accuracy: 0.9189\n",
            "Epoch 90/100\n",
            "18/18 [==============================] - 0s 4ms/step - loss: 0.1736 - accuracy: 0.9302 - val_loss: 0.2966 - val_accuracy: 0.9189\n",
            "Epoch 91/100\n",
            "18/18 [==============================] - 0s 3ms/step - loss: 0.1726 - accuracy: 0.9302 - val_loss: 0.3013 - val_accuracy: 0.9189\n",
            "Epoch 92/100\n",
            "18/18 [==============================] - 0s 3ms/step - loss: 0.1721 - accuracy: 0.9360 - val_loss: 0.3030 - val_accuracy: 0.9189\n",
            "Epoch 93/100\n",
            "18/18 [==============================] - 0s 4ms/step - loss: 0.1713 - accuracy: 0.9360 - val_loss: 0.3075 - val_accuracy: 0.9189\n",
            "Epoch 94/100\n",
            "18/18 [==============================] - 0s 4ms/step - loss: 0.1715 - accuracy: 0.9360 - val_loss: 0.3055 - val_accuracy: 0.9189\n",
            "Epoch 95/100\n",
            "18/18 [==============================] - 0s 4ms/step - loss: 0.1711 - accuracy: 0.9360 - val_loss: 0.3047 - val_accuracy: 0.9189\n",
            "Epoch 96/100\n",
            "18/18 [==============================] - 0s 4ms/step - loss: 0.1702 - accuracy: 0.9360 - val_loss: 0.3037 - val_accuracy: 0.9189\n",
            "Epoch 97/100\n",
            "18/18 [==============================] - 0s 4ms/step - loss: 0.1695 - accuracy: 0.9360 - val_loss: 0.3044 - val_accuracy: 0.9189\n",
            "Epoch 98/100\n",
            "18/18 [==============================] - 0s 3ms/step - loss: 0.1687 - accuracy: 0.9360 - val_loss: 0.3029 - val_accuracy: 0.9189\n",
            "Epoch 99/100\n",
            "18/18 [==============================] - 0s 3ms/step - loss: 0.1684 - accuracy: 0.9302 - val_loss: 0.3061 - val_accuracy: 0.9189\n",
            "Epoch 100/100\n",
            "18/18 [==============================] - 0s 3ms/step - loss: 0.1685 - accuracy: 0.9302 - val_loss: 0.3071 - val_accuracy: 0.9189\n"
          ]
        }
      ]
    },
    {
      "cell_type": "code",
      "source": [
        "import matplotlib.pyplot as plt\n",
        "# summarize history for accuracy\n",
        "plt.plot(trained_model_s.history['accuracy'])\n",
        "plt.plot(trained_model_s.history['val_accuracy'])\n",
        "plt.title('model accuracy')\n",
        "plt.ylabel('accuracy')\n",
        "plt.xlabel('epoch')\n",
        "plt.legend(['train', 'test'], loc='lower right')\n",
        "plt.show()\n",
        "# summarize history for loss\n",
        "plt.plot(trained_model_s.history['loss'])\n",
        "plt.plot(trained_model_s.history['val_loss'])\n",
        "plt.title('model loss')\n",
        "plt.ylabel('loss')\n",
        "plt.xlabel('epoch')\n",
        "plt.legend(['train', 'test'], loc='upper right')\n",
        "plt.show()"
      ],
      "metadata": {
        "colab": {
          "base_uri": "https://localhost:8080/",
          "height": 573
        },
        "id": "fQ4kM8HIMHW3",
        "outputId": "d1bd9aa6-55f5-45b2-ad34-9eb19c1c08bf"
      },
      "execution_count": 44,
      "outputs": [
        {
          "output_type": "display_data",
          "data": {
            "text/plain": [
              "<Figure size 432x288 with 1 Axes>"
            ],
            "image/png": "[encoded data removed]"
          },
          "metadata": {
            "needs_background": "light"
          }
        },
        {
          "output_type": "display_data",
          "data": {
            "text/plain": [
              "<Figure size 432x288 with 1 Axes>"
            ],
            "image/png": "[encoded data removed]"
          },
          "metadata": {
            "needs_background": "light"
          }
        }
      ]
    },
    {
      "cell_type": "code",
      "source": [
        "trained_model_s=model_s.fit(train_scaled_s3, y_split3,validation_split=0.3,epochs=100,batch_size=10)"
      ],
      "metadata": {
        "colab": {
          "base_uri": "https://localhost:8080/"
        },
        "id": "_p_mo4R6QIT8",
        "outputId": "31d53488-d6da-4432-c8e9-9654a8d37de3"
      },
      "execution_count": 49,
      "outputs": [
        {
          "output_type": "stream",
          "name": "stdout",
          "text": [
            "Epoch 1/100\n",
            "18/18 [==============================] - 1s 12ms/step - loss: 0.7284 - accuracy: 0.5291 - val_loss: 0.6802 - val_accuracy: 0.5676\n",
            "Epoch 2/100\n",
            "18/18 [==============================] - 0s 4ms/step - loss: 0.6210 - accuracy: 0.7558 - val_loss: 0.6422 - val_accuracy: 0.6892\n",
            "Epoch 3/100\n",
            "18/18 [==============================] - 0s 4ms/step - loss: 0.5603 - accuracy: 0.8488 - val_loss: 0.6104 - val_accuracy: 0.7027\n",
            "Epoch 4/100\n",
            "18/18 [==============================] - 0s 4ms/step - loss: 0.5114 - accuracy: 0.8895 - val_loss: 0.5835 - val_accuracy: 0.7297\n",
            "Epoch 5/100\n",
            "18/18 [==============================] - 0s 4ms/step - loss: 0.4727 - accuracy: 0.9186 - val_loss: 0.5579 - val_accuracy: 0.7838\n",
            "Epoch 6/100\n",
            "18/18 [==============================] - 0s 4ms/step - loss: 0.4389 - accuracy: 0.9302 - val_loss: 0.5376 - val_accuracy: 0.7973\n",
            "Epoch 7/100\n",
            "18/18 [==============================] - 0s 4ms/step - loss: 0.4098 - accuracy: 0.9302 - val_loss: 0.5193 - val_accuracy: 0.7973\n",
            "Epoch 8/100\n",
            "18/18 [==============================] - 0s 4ms/step - loss: 0.3831 - accuracy: 0.9360 - val_loss: 0.5028 - val_accuracy: 0.8108\n",
            "Epoch 9/100\n",
            "18/18 [==============================] - 0s 4ms/step - loss: 0.3605 - accuracy: 0.9302 - val_loss: 0.4872 - val_accuracy: 0.8108\n",
            "Epoch 10/100\n",
            "18/18 [==============================] - 0s 3ms/step - loss: 0.3374 - accuracy: 0.9302 - val_loss: 0.4726 - val_accuracy: 0.8108\n",
            "Epoch 11/100\n",
            "18/18 [==============================] - 0s 5ms/step - loss: 0.3167 - accuracy: 0.9302 - val_loss: 0.4581 - val_accuracy: 0.8108\n",
            "Epoch 12/100\n",
            "18/18 [==============================] - 0s 4ms/step - loss: 0.2984 - accuracy: 0.9360 - val_loss: 0.4459 - val_accuracy: 0.8108\n",
            "Epoch 13/100\n",
            "18/18 [==============================] - 0s 3ms/step - loss: 0.2828 - accuracy: 0.9419 - val_loss: 0.4350 - val_accuracy: 0.8108\n",
            "Epoch 14/100\n",
            "18/18 [==============================] - 0s 4ms/step - loss: 0.2688 - accuracy: 0.9360 - val_loss: 0.4274 - val_accuracy: 0.8108\n",
            "Epoch 15/100\n",
            "18/18 [==============================] - 0s 5ms/step - loss: 0.2566 - accuracy: 0.9360 - val_loss: 0.4190 - val_accuracy: 0.8108\n",
            "Epoch 16/100\n",
            "18/18 [==============================] - 0s 4ms/step - loss: 0.2451 - accuracy: 0.9477 - val_loss: 0.4115 - val_accuracy: 0.8108\n",
            "Epoch 17/100\n",
            "18/18 [==============================] - 0s 3ms/step - loss: 0.2352 - accuracy: 0.9419 - val_loss: 0.4037 - val_accuracy: 0.8108\n",
            "Epoch 18/100\n",
            "18/18 [==============================] - 0s 4ms/step - loss: 0.2267 - accuracy: 0.9477 - val_loss: 0.3966 - val_accuracy: 0.8378\n",
            "Epoch 19/100\n",
            "18/18 [==============================] - 0s 3ms/step - loss: 0.2186 - accuracy: 0.9419 - val_loss: 0.3912 - val_accuracy: 0.8378\n",
            "Epoch 20/100\n",
            "18/18 [==============================] - 0s 4ms/step - loss: 0.2118 - accuracy: 0.9419 - val_loss: 0.3861 - val_accuracy: 0.8378\n",
            "Epoch 21/100\n",
            "18/18 [==============================] - 0s 4ms/step - loss: 0.2053 - accuracy: 0.9419 - val_loss: 0.3824 - val_accuracy: 0.8378\n",
            "Epoch 22/100\n",
            "18/18 [==============================] - 0s 3ms/step - loss: 0.1997 - accuracy: 0.9419 - val_loss: 0.3778 - val_accuracy: 0.8378\n",
            "Epoch 23/100\n",
            "18/18 [==============================] - 0s 4ms/step - loss: 0.1944 - accuracy: 0.9419 - val_loss: 0.3740 - val_accuracy: 0.8378\n",
            "Epoch 24/100\n",
            "18/18 [==============================] - 0s 4ms/step - loss: 0.1901 - accuracy: 0.9419 - val_loss: 0.3711 - val_accuracy: 0.8378\n",
            "Epoch 25/100\n",
            "18/18 [==============================] - 0s 4ms/step - loss: 0.1857 - accuracy: 0.9419 - val_loss: 0.3656 - val_accuracy: 0.8378\n",
            "Epoch 26/100\n",
            "18/18 [==============================] - 0s 4ms/step - loss: 0.1824 - accuracy: 0.9419 - val_loss: 0.3625 - val_accuracy: 0.8378\n",
            "Epoch 27/100\n",
            "18/18 [==============================] - 0s 5ms/step - loss: 0.1790 - accuracy: 0.9419 - val_loss: 0.3614 - val_accuracy: 0.8514\n",
            "Epoch 28/100\n",
            "18/18 [==============================] - 0s 4ms/step - loss: 0.1757 - accuracy: 0.9419 - val_loss: 0.3588 - val_accuracy: 0.8514\n",
            "Epoch 29/100\n",
            "18/18 [==============================] - 0s 4ms/step - loss: 0.1728 - accuracy: 0.9419 - val_loss: 0.3561 - val_accuracy: 0.8514\n",
            "Epoch 30/100\n",
            "18/18 [==============================] - 0s 4ms/step - loss: 0.1700 - accuracy: 0.9419 - val_loss: 0.3536 - val_accuracy: 0.8514\n",
            "Epoch 31/100\n",
            "18/18 [==============================] - 0s 3ms/step - loss: 0.1675 - accuracy: 0.9419 - val_loss: 0.3519 - val_accuracy: 0.8514\n",
            "Epoch 32/100\n",
            "18/18 [==============================] - 0s 4ms/step - loss: 0.1650 - accuracy: 0.9419 - val_loss: 0.3514 - val_accuracy: 0.8514\n",
            "Epoch 33/100\n",
            "18/18 [==============================] - 0s 4ms/step - loss: 0.1629 - accuracy: 0.9419 - val_loss: 0.3494 - val_accuracy: 0.8649\n",
            "Epoch 34/100\n",
            "18/18 [==============================] - 0s 4ms/step - loss: 0.1607 - accuracy: 0.9419 - val_loss: 0.3489 - val_accuracy: 0.8649\n",
            "Epoch 35/100\n",
            "18/18 [==============================] - 0s 3ms/step - loss: 0.1588 - accuracy: 0.9419 - val_loss: 0.3479 - val_accuracy: 0.8784\n",
            "Epoch 36/100\n",
            "18/18 [==============================] - 0s 4ms/step - loss: 0.1569 - accuracy: 0.9419 - val_loss: 0.3466 - val_accuracy: 0.8784\n",
            "Epoch 37/100\n",
            "18/18 [==============================] - 0s 4ms/step - loss: 0.1551 - accuracy: 0.9419 - val_loss: 0.3453 - val_accuracy: 0.8784\n",
            "Epoch 38/100\n",
            "18/18 [==============================] - 0s 3ms/step - loss: 0.1539 - accuracy: 0.9419 - val_loss: 0.3437 - val_accuracy: 0.8784\n",
            "Epoch 39/100\n",
            "18/18 [==============================] - 0s 4ms/step - loss: 0.1519 - accuracy: 0.9419 - val_loss: 0.3419 - val_accuracy: 0.8919\n",
            "Epoch 40/100\n",
            "18/18 [==============================] - 0s 4ms/step - loss: 0.1503 - accuracy: 0.9419 - val_loss: 0.3410 - val_accuracy: 0.8919\n",
            "Epoch 41/100\n",
            "18/18 [==============================] - 0s 3ms/step - loss: 0.1489 - accuracy: 0.9419 - val_loss: 0.3402 - val_accuracy: 0.8919\n",
            "Epoch 42/100\n",
            "18/18 [==============================] - 0s 3ms/step - loss: 0.1478 - accuracy: 0.9419 - val_loss: 0.3398 - val_accuracy: 0.8919\n",
            "Epoch 43/100\n",
            "18/18 [==============================] - 0s 4ms/step - loss: 0.1466 - accuracy: 0.9419 - val_loss: 0.3395 - val_accuracy: 0.8919\n",
            "Epoch 44/100\n",
            "18/18 [==============================] - 0s 3ms/step - loss: 0.1456 - accuracy: 0.9419 - val_loss: 0.3389 - val_accuracy: 0.8919\n",
            "Epoch 45/100\n",
            "18/18 [==============================] - 0s 4ms/step - loss: 0.1443 - accuracy: 0.9419 - val_loss: 0.3384 - val_accuracy: 0.8919\n",
            "Epoch 46/100\n",
            "18/18 [==============================] - 0s 4ms/step - loss: 0.1435 - accuracy: 0.9419 - val_loss: 0.3382 - val_accuracy: 0.8919\n",
            "Epoch 47/100\n",
            "18/18 [==============================] - 0s 4ms/step - loss: 0.1424 - accuracy: 0.9419 - val_loss: 0.3376 - val_accuracy: 0.8919\n",
            "Epoch 48/100\n",
            "18/18 [==============================] - 0s 3ms/step - loss: 0.1414 - accuracy: 0.9419 - val_loss: 0.3344 - val_accuracy: 0.8919\n",
            "Epoch 49/100\n",
            "18/18 [==============================] - 0s 4ms/step - loss: 0.1408 - accuracy: 0.9419 - val_loss: 0.3341 - val_accuracy: 0.8919\n",
            "Epoch 50/100\n",
            "18/18 [==============================] - 0s 3ms/step - loss: 0.1400 - accuracy: 0.9419 - val_loss: 0.3341 - val_accuracy: 0.8919\n",
            "Epoch 51/100\n",
            "18/18 [==============================] - 0s 5ms/step - loss: 0.1390 - accuracy: 0.9419 - val_loss: 0.3337 - val_accuracy: 0.8919\n",
            "Epoch 52/100\n",
            "18/18 [==============================] - 0s 4ms/step - loss: 0.1384 - accuracy: 0.9419 - val_loss: 0.3339 - val_accuracy: 0.8919\n",
            "Epoch 53/100\n",
            "18/18 [==============================] - 0s 4ms/step - loss: 0.1373 - accuracy: 0.9419 - val_loss: 0.3336 - val_accuracy: 0.8919\n",
            "Epoch 54/100\n",
            "18/18 [==============================] - 0s 6ms/step - loss: 0.1369 - accuracy: 0.9419 - val_loss: 0.3313 - val_accuracy: 0.8919\n",
            "Epoch 55/100\n",
            "18/18 [==============================] - 0s 8ms/step - loss: 0.1358 - accuracy: 0.9477 - val_loss: 0.3313 - val_accuracy: 0.8919\n",
            "Epoch 56/100\n",
            "18/18 [==============================] - 0s 5ms/step - loss: 0.1352 - accuracy: 0.9477 - val_loss: 0.3308 - val_accuracy: 0.8919\n",
            "Epoch 57/100\n",
            "18/18 [==============================] - 0s 5ms/step - loss: 0.1345 - accuracy: 0.9477 - val_loss: 0.3309 - val_accuracy: 0.8919\n",
            "Epoch 58/100\n",
            "18/18 [==============================] - 0s 5ms/step - loss: 0.1339 - accuracy: 0.9477 - val_loss: 0.3310 - val_accuracy: 0.8919\n",
            "Epoch 59/100\n",
            "18/18 [==============================] - 0s 5ms/step - loss: 0.1331 - accuracy: 0.9477 - val_loss: 0.3326 - val_accuracy: 0.8919\n",
            "Epoch 60/100\n",
            "18/18 [==============================] - 0s 5ms/step - loss: 0.1326 - accuracy: 0.9477 - val_loss: 0.3336 - val_accuracy: 0.9054\n",
            "Epoch 61/100\n",
            "18/18 [==============================] - 0s 5ms/step - loss: 0.1324 - accuracy: 0.9419 - val_loss: 0.3328 - val_accuracy: 0.9054\n",
            "Epoch 62/100\n",
            "18/18 [==============================] - 0s 6ms/step - loss: 0.1314 - accuracy: 0.9477 - val_loss: 0.3317 - val_accuracy: 0.8784\n",
            "Epoch 63/100\n",
            "18/18 [==============================] - 0s 6ms/step - loss: 0.1309 - accuracy: 0.9477 - val_loss: 0.3318 - val_accuracy: 0.8919\n",
            "Epoch 64/100\n",
            "18/18 [==============================] - 0s 5ms/step - loss: 0.1303 - accuracy: 0.9477 - val_loss: 0.3318 - val_accuracy: 0.8919\n",
            "Epoch 65/100\n",
            "18/18 [==============================] - 0s 6ms/step - loss: 0.1298 - accuracy: 0.9535 - val_loss: 0.3316 - val_accuracy: 0.8919\n",
            "Epoch 66/100\n",
            "18/18 [==============================] - 0s 5ms/step - loss: 0.1292 - accuracy: 0.9535 - val_loss: 0.3288 - val_accuracy: 0.8919\n",
            "Epoch 67/100\n",
            "18/18 [==============================] - 0s 5ms/step - loss: 0.1289 - accuracy: 0.9593 - val_loss: 0.3293 - val_accuracy: 0.8919\n",
            "Epoch 68/100\n",
            "18/18 [==============================] - 0s 5ms/step - loss: 0.1283 - accuracy: 0.9593 - val_loss: 0.3295 - val_accuracy: 0.8919\n",
            "Epoch 69/100\n",
            "18/18 [==============================] - 0s 6ms/step - loss: 0.1278 - accuracy: 0.9593 - val_loss: 0.3269 - val_accuracy: 0.8919\n",
            "Epoch 70/100\n",
            "18/18 [==============================] - 0s 6ms/step - loss: 0.1273 - accuracy: 0.9593 - val_loss: 0.3275 - val_accuracy: 0.8919\n",
            "Epoch 71/100\n",
            "18/18 [==============================] - 0s 6ms/step - loss: 0.1269 - accuracy: 0.9593 - val_loss: 0.3288 - val_accuracy: 0.8919\n",
            "Epoch 72/100\n",
            "18/18 [==============================] - 0s 5ms/step - loss: 0.1264 - accuracy: 0.9593 - val_loss: 0.3293 - val_accuracy: 0.8919\n",
            "Epoch 73/100\n",
            "18/18 [==============================] - 0s 5ms/step - loss: 0.1261 - accuracy: 0.9593 - val_loss: 0.3292 - val_accuracy: 0.8919\n",
            "Epoch 74/100\n",
            "18/18 [==============================] - 0s 6ms/step - loss: 0.1259 - accuracy: 0.9593 - val_loss: 0.3295 - val_accuracy: 0.8919\n",
            "Epoch 75/100\n",
            "18/18 [==============================] - 0s 8ms/step - loss: 0.1251 - accuracy: 0.9593 - val_loss: 0.3301 - val_accuracy: 0.8919\n",
            "Epoch 76/100\n",
            "18/18 [==============================] - 0s 5ms/step - loss: 0.1247 - accuracy: 0.9593 - val_loss: 0.3306 - val_accuracy: 0.8919\n",
            "Epoch 77/100\n",
            "18/18 [==============================] - 0s 5ms/step - loss: 0.1244 - accuracy: 0.9593 - val_loss: 0.3307 - val_accuracy: 0.8919\n",
            "Epoch 78/100\n",
            "18/18 [==============================] - 0s 5ms/step - loss: 0.1238 - accuracy: 0.9593 - val_loss: 0.3321 - val_accuracy: 0.8919\n",
            "Epoch 79/100\n",
            "18/18 [==============================] - 0s 6ms/step - loss: 0.1237 - accuracy: 0.9593 - val_loss: 0.3321 - val_accuracy: 0.8919\n",
            "Epoch 80/100\n",
            "18/18 [==============================] - 0s 5ms/step - loss: 0.1231 - accuracy: 0.9593 - val_loss: 0.3321 - val_accuracy: 0.8919\n",
            "Epoch 81/100\n",
            "18/18 [==============================] - 0s 5ms/step - loss: 0.1228 - accuracy: 0.9593 - val_loss: 0.3323 - val_accuracy: 0.8919\n",
            "Epoch 82/100\n",
            "18/18 [==============================] - 0s 5ms/step - loss: 0.1226 - accuracy: 0.9593 - val_loss: 0.3323 - val_accuracy: 0.8919\n",
            "Epoch 83/100\n",
            "18/18 [==============================] - 0s 6ms/step - loss: 0.1220 - accuracy: 0.9593 - val_loss: 0.3326 - val_accuracy: 0.8919\n",
            "Epoch 84/100\n",
            "18/18 [==============================] - 0s 5ms/step - loss: 0.1217 - accuracy: 0.9593 - val_loss: 0.3327 - val_accuracy: 0.8919\n",
            "Epoch 85/100\n",
            "18/18 [==============================] - 0s 6ms/step - loss: 0.1214 - accuracy: 0.9593 - val_loss: 0.3331 - val_accuracy: 0.8919\n",
            "Epoch 86/100\n",
            "18/18 [==============================] - 0s 6ms/step - loss: 0.1210 - accuracy: 0.9593 - val_loss: 0.3333 - val_accuracy: 0.8919\n",
            "Epoch 87/100\n",
            "18/18 [==============================] - 0s 5ms/step - loss: 0.1206 - accuracy: 0.9593 - val_loss: 0.3331 - val_accuracy: 0.8919\n",
            "Epoch 88/100\n",
            "18/18 [==============================] - 0s 6ms/step - loss: 0.1202 - accuracy: 0.9593 - val_loss: 0.3289 - val_accuracy: 0.8919\n",
            "Epoch 89/100\n",
            "18/18 [==============================] - 0s 6ms/step - loss: 0.1197 - accuracy: 0.9593 - val_loss: 0.3296 - val_accuracy: 0.8919\n",
            "Epoch 90/100\n",
            "18/18 [==============================] - 0s 6ms/step - loss: 0.1194 - accuracy: 0.9593 - val_loss: 0.3298 - val_accuracy: 0.8919\n",
            "Epoch 91/100\n",
            "18/18 [==============================] - 0s 6ms/step - loss: 0.1188 - accuracy: 0.9593 - val_loss: 0.3275 - val_accuracy: 0.8919\n",
            "Epoch 92/100\n",
            "18/18 [==============================] - 0s 5ms/step - loss: 0.1187 - accuracy: 0.9593 - val_loss: 0.3259 - val_accuracy: 0.8919\n",
            "Epoch 93/100\n",
            "18/18 [==============================] - 0s 5ms/step - loss: 0.1187 - accuracy: 0.9593 - val_loss: 0.3257 - val_accuracy: 0.8919\n",
            "Epoch 94/100\n",
            "18/18 [==============================] - 0s 5ms/step - loss: 0.1183 - accuracy: 0.9593 - val_loss: 0.3278 - val_accuracy: 0.8919\n",
            "Epoch 95/100\n",
            "18/18 [==============================] - 0s 5ms/step - loss: 0.1176 - accuracy: 0.9593 - val_loss: 0.3298 - val_accuracy: 0.8919\n",
            "Epoch 96/100\n",
            "18/18 [==============================] - 0s 4ms/step - loss: 0.1174 - accuracy: 0.9593 - val_loss: 0.3313 - val_accuracy: 0.8919\n",
            "Epoch 97/100\n",
            "18/18 [==============================] - 0s 4ms/step - loss: 0.1169 - accuracy: 0.9593 - val_loss: 0.3321 - val_accuracy: 0.8919\n",
            "Epoch 98/100\n",
            "18/18 [==============================] - 0s 5ms/step - loss: 0.1165 - accuracy: 0.9593 - val_loss: 0.3329 - val_accuracy: 0.8919\n",
            "Epoch 99/100\n",
            "18/18 [==============================] - 0s 4ms/step - loss: 0.1162 - accuracy: 0.9593 - val_loss: 0.3336 - val_accuracy: 0.8919\n",
            "Epoch 100/100\n",
            "18/18 [==============================] - 0s 3ms/step - loss: 0.1160 - accuracy: 0.9593 - val_loss: 0.3343 - val_accuracy: 0.8919\n"
          ]
        }
      ]
    },
    {
      "cell_type": "code",
      "source": [
        "import matplotlib.pyplot as plt\n",
        "# summarize history for accuracy\n",
        "plt.plot(trained_model_s.history['accuracy'])\n",
        "plt.plot(trained_model_s.history['val_accuracy'])\n",
        "plt.title('model accuracy')\n",
        "plt.ylabel('accuracy')\n",
        "plt.xlabel('epoch')\n",
        "plt.legend(['train', 'test'], loc='lower right')\n",
        "plt.show()\n",
        "# summarize history for loss\n",
        "plt.plot(trained_model_s.history['loss'])\n",
        "plt.plot(trained_model_s.history['val_loss'])\n",
        "plt.title('model loss')\n",
        "plt.ylabel('loss')\n",
        "plt.xlabel('epoch')\n",
        "plt.legend(['train', 'test'], loc='upper right')\n",
        "plt.show()"
      ],
      "metadata": {
        "colab": {
          "base_uri": "https://localhost:8080/",
          "height": 573
        },
        "id": "vM9LYwPkQQsp",
        "outputId": "461ce295-591b-405e-d381-0c19ae24d1ae"
      },
      "execution_count": 50,
      "outputs": [
        {
          "output_type": "display_data",
          "data": {
            "text/plain": [
              "<Figure size 432x288 with 1 Axes>"
            ],
            "image/png": "[encoded data removed]"
          },
          "metadata": {
            "needs_background": "light"
          }
        },
        {
          "output_type": "display_data",
          "data": {
            "text/plain": [
              "<Figure size 432x288 with 1 Axes>"
            ],
            "image/png": "[encoded data removed]"
          },
          "metadata": {
            "needs_background": "light"
          }
        }
      ]
    }
  ]
}